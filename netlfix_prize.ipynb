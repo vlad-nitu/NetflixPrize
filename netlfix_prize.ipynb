{
 "cells": [
  {
   "cell_type": "code",
   "execution_count": 22,
   "outputs": [],
   "source": [
    "## Imports\n",
    "# Data processing\n",
    "import pandas as pd\n",
    "import numpy as np\n",
    "import scipy.stats\n",
    "from sklearn.metrics.pairwise import cosine_similarity"
   ],
   "metadata": {
    "collapsed": false
   }
  },
  {
   "cell_type": "code",
   "execution_count": 23,
   "outputs": [
    {
     "data": {
      "text/plain": "   userId  movieId  rating\n0    5494     2006       4\n1    3579     1143       3\n2    1251     2567       2\n3    5687      652       4\n4    3018     3440       4",
      "text/html": "<div>\n<style scoped>\n    .dataframe tbody tr th:only-of-type {\n        vertical-align: middle;\n    }\n\n    .dataframe tbody tr th {\n        vertical-align: top;\n    }\n\n    .dataframe thead th {\n        text-align: right;\n    }\n</style>\n<table border=\"1\" class=\"dataframe\">\n  <thead>\n    <tr style=\"text-align: right;\">\n      <th></th>\n      <th>userId</th>\n      <th>movieId</th>\n      <th>rating</th>\n    </tr>\n  </thead>\n  <tbody>\n    <tr>\n      <th>0</th>\n      <td>5494</td>\n      <td>2006</td>\n      <td>4</td>\n    </tr>\n    <tr>\n      <th>1</th>\n      <td>3579</td>\n      <td>1143</td>\n      <td>3</td>\n    </tr>\n    <tr>\n      <th>2</th>\n      <td>1251</td>\n      <td>2567</td>\n      <td>2</td>\n    </tr>\n    <tr>\n      <th>3</th>\n      <td>5687</td>\n      <td>652</td>\n      <td>4</td>\n    </tr>\n    <tr>\n      <th>4</th>\n      <td>3018</td>\n      <td>3440</td>\n      <td>4</td>\n    </tr>\n  </tbody>\n</table>\n</div>"
     },
     "execution_count": 23,
     "metadata": {},
     "output_type": "execute_result"
    }
   ],
   "source": [
    "# Read datasets\n",
    "\n",
    "users_colnames=['userId', 'gender', 'age', 'profession']\n",
    "movies_colnames=['movieId', 'year', 'title']\n",
    "ratings_colnames=['userId', 'movieId', 'rating']\n",
    "\n",
    "users = pd.read_csv('cse2525-reccommender-systems-challenge/users.csv', sep=';', names=users_colnames)\n",
    "movies = pd.read_csv('cse2525-reccommender-systems-challenge/movies_v2.csv', sep=';', names=movies_colnames) # changed line 3601 from dataset : ';' -> '_'\n",
    "ratings = pd.read_csv('cse2525-reccommender-systems-challenge/ratings.csv', sep=';', names=ratings_colnames)\n",
    "\n",
    "# Check\n",
    "users.head()\n",
    "movies.head()\n",
    "ratings.head()\n"
   ],
   "metadata": {
    "collapsed": false
   }
  },
  {
   "cell_type": "code",
   "execution_count": 24,
   "outputs": [
    {
     "data": {
      "text/plain": "   movieId  counts\n0        1    1896\n1        2     635\n2        3     443\n3        4     155\n4        5     270",
      "text/html": "<div>\n<style scoped>\n    .dataframe tbody tr th:only-of-type {\n        vertical-align: middle;\n    }\n\n    .dataframe tbody tr th {\n        vertical-align: top;\n    }\n\n    .dataframe thead th {\n        text-align: right;\n    }\n</style>\n<table border=\"1\" class=\"dataframe\">\n  <thead>\n    <tr style=\"text-align: right;\">\n      <th></th>\n      <th>movieId</th>\n      <th>counts</th>\n    </tr>\n  </thead>\n  <tbody>\n    <tr>\n      <th>0</th>\n      <td>1</td>\n      <td>1896</td>\n    </tr>\n    <tr>\n      <th>1</th>\n      <td>2</td>\n      <td>635</td>\n    </tr>\n    <tr>\n      <th>2</th>\n      <td>3</td>\n      <td>443</td>\n    </tr>\n    <tr>\n      <th>3</th>\n      <td>4</td>\n      <td>155</td>\n    </tr>\n    <tr>\n      <th>4</th>\n      <td>5</td>\n      <td>270</td>\n    </tr>\n  </tbody>\n</table>\n</div>"
     },
     "execution_count": 24,
     "metadata": {},
     "output_type": "execute_result"
    }
   ],
   "source": [
    "# Count the # of ratings per movie\n",
    "ratings_by_movie_id = ratings.groupby(['movieId'])['movieId']\\\n",
    "    .count()\\\n",
    "    .reset_index(name='counts')\n",
    "\n",
    "ratings_by_movie_id.head()\n"
   ],
   "metadata": {
    "collapsed": false
   }
  },
  {
   "cell_type": "code",
   "execution_count": 25,
   "outputs": [
    {
     "data": {
      "text/plain": "1940"
     },
     "execution_count": 25,
     "metadata": {},
     "output_type": "execute_result"
    }
   ],
   "source": [
    "# Number of rows remaining after saving only the ones that have `>= threshold` ratings\n",
    "movies_threshold = 100\n",
    "ratings_by_movie_id_processed = ratings_by_movie_id[ratings_by_movie_id['counts'] >= movies_threshold] # drop in another variable\n",
    "len(ratings_by_movie_id_processed)\n"
   ],
   "metadata": {
    "collapsed": false
   }
  },
  {
   "cell_type": "code",
   "execution_count": 26,
   "outputs": [
    {
     "data": {
      "text/plain": "      movieId  year                               title\n0           1  1995                    Toy_Story_(1995)\n1           2  1995                      Jumanji_(1995)\n2           3  1995             Grumpier_Old_Men_(1995)\n3           4  1995            Waiting_to_Exhale_(1995)\n4           5  1995  Father_of_the_Bride_Part_II_(1995)\n...       ...   ...                                 ...\n3701     3702  2000             Meet_the_Parents_(2000)\n3702     3703  2000          Requiem_for_a_Dream_(2000)\n3703     3704  2000                    Tigerland_(2000)\n3704     3705  2000             Two_Family_House_(2000)\n3705     3706  2000               Contender,_The_(2000)\n\n[3695 rows x 3 columns]",
      "text/html": "<div>\n<style scoped>\n    .dataframe tbody tr th:only-of-type {\n        vertical-align: middle;\n    }\n\n    .dataframe tbody tr th {\n        vertical-align: top;\n    }\n\n    .dataframe thead th {\n        text-align: right;\n    }\n</style>\n<table border=\"1\" class=\"dataframe\">\n  <thead>\n    <tr style=\"text-align: right;\">\n      <th></th>\n      <th>movieId</th>\n      <th>year</th>\n      <th>title</th>\n    </tr>\n  </thead>\n  <tbody>\n    <tr>\n      <th>0</th>\n      <td>1</td>\n      <td>1995</td>\n      <td>Toy_Story_(1995)</td>\n    </tr>\n    <tr>\n      <th>1</th>\n      <td>2</td>\n      <td>1995</td>\n      <td>Jumanji_(1995)</td>\n    </tr>\n    <tr>\n      <th>2</th>\n      <td>3</td>\n      <td>1995</td>\n      <td>Grumpier_Old_Men_(1995)</td>\n    </tr>\n    <tr>\n      <th>3</th>\n      <td>4</td>\n      <td>1995</td>\n      <td>Waiting_to_Exhale_(1995)</td>\n    </tr>\n    <tr>\n      <th>4</th>\n      <td>5</td>\n      <td>1995</td>\n      <td>Father_of_the_Bride_Part_II_(1995)</td>\n    </tr>\n    <tr>\n      <th>...</th>\n      <td>...</td>\n      <td>...</td>\n      <td>...</td>\n    </tr>\n    <tr>\n      <th>3701</th>\n      <td>3702</td>\n      <td>2000</td>\n      <td>Meet_the_Parents_(2000)</td>\n    </tr>\n    <tr>\n      <th>3702</th>\n      <td>3703</td>\n      <td>2000</td>\n      <td>Requiem_for_a_Dream_(2000)</td>\n    </tr>\n    <tr>\n      <th>3703</th>\n      <td>3704</td>\n      <td>2000</td>\n      <td>Tigerland_(2000)</td>\n    </tr>\n    <tr>\n      <th>3704</th>\n      <td>3705</td>\n      <td>2000</td>\n      <td>Two_Family_House_(2000)</td>\n    </tr>\n    <tr>\n      <th>3705</th>\n      <td>3706</td>\n      <td>2000</td>\n      <td>Contender,_The_(2000)</td>\n    </tr>\n  </tbody>\n</table>\n<p>3695 rows × 3 columns</p>\n</div>"
     },
     "execution_count": 26,
     "metadata": {},
     "output_type": "execute_result"
    }
   ],
   "source": [
    "# Titles of the most popular (in # of ratings) movies\n",
    "relevant_movie_ids = ratings_by_movie_id.sort_values(by='counts', ascending=False)['movieId'].array\n",
    "# relevant_movie_ids.array\n",
    "# type(relevant_movie_ids.array)\n",
    "joined_ids = list(set(movies['movieId']) & set(relevant_movie_ids))\n",
    "joined_ids = [x - 1 for x in joined_ids] # 0-indexed\n",
    "movies.loc[joined_ids]"
   ],
   "metadata": {
    "collapsed": false
   }
  },
  {
   "cell_type": "code",
   "execution_count": 27,
   "outputs": [
    {
     "name": "stdout",
     "output_type": "stream",
     "text": [
      "<class 'pandas.core.frame.DataFrame'>\n"
     ]
    },
    {
     "data": {
      "text/plain": "movieId  1     2     3     4     5     6     7     8     9     10    ...  \\\nuserId                                                               ...   \n1         5.0   NaN   NaN   NaN   NaN   NaN   NaN   NaN   NaN   NaN  ...   \n2         NaN   NaN   NaN   NaN   NaN   NaN   NaN   NaN   NaN   NaN  ...   \n3         NaN   NaN   NaN   NaN   NaN   NaN   NaN   NaN   NaN   NaN  ...   \n4         NaN   NaN   NaN   NaN   NaN   NaN   NaN   NaN   NaN   NaN  ...   \n5         NaN   NaN   NaN   NaN   NaN   NaN   NaN   NaN   NaN   NaN  ...   \n\nmovieId  3697  3698  3699  3700  3701  3702  3703  3704  3705  3706  \nuserId                                                               \n1         NaN   NaN   NaN   NaN   NaN   NaN   NaN   NaN   NaN   NaN  \n2         NaN   NaN   NaN   NaN   NaN   NaN   NaN   NaN   NaN   NaN  \n3         NaN   NaN   NaN   NaN   NaN   NaN   NaN   NaN   NaN   NaN  \n4         NaN   NaN   NaN   NaN   NaN   NaN   NaN   NaN   NaN   NaN  \n5         NaN   NaN   NaN   NaN   NaN   NaN   NaN   NaN   NaN   NaN  \n\n[5 rows x 3695 columns]",
      "text/html": "<div>\n<style scoped>\n    .dataframe tbody tr th:only-of-type {\n        vertical-align: middle;\n    }\n\n    .dataframe tbody tr th {\n        vertical-align: top;\n    }\n\n    .dataframe thead th {\n        text-align: right;\n    }\n</style>\n<table border=\"1\" class=\"dataframe\">\n  <thead>\n    <tr style=\"text-align: right;\">\n      <th>movieId</th>\n      <th>1</th>\n      <th>2</th>\n      <th>3</th>\n      <th>4</th>\n      <th>5</th>\n      <th>6</th>\n      <th>7</th>\n      <th>8</th>\n      <th>9</th>\n      <th>10</th>\n      <th>...</th>\n      <th>3697</th>\n      <th>3698</th>\n      <th>3699</th>\n      <th>3700</th>\n      <th>3701</th>\n      <th>3702</th>\n      <th>3703</th>\n      <th>3704</th>\n      <th>3705</th>\n      <th>3706</th>\n    </tr>\n    <tr>\n      <th>userId</th>\n      <th></th>\n      <th></th>\n      <th></th>\n      <th></th>\n      <th></th>\n      <th></th>\n      <th></th>\n      <th></th>\n      <th></th>\n      <th></th>\n      <th></th>\n      <th></th>\n      <th></th>\n      <th></th>\n      <th></th>\n      <th></th>\n      <th></th>\n      <th></th>\n      <th></th>\n      <th></th>\n      <th></th>\n    </tr>\n  </thead>\n  <tbody>\n    <tr>\n      <th>1</th>\n      <td>5.0</td>\n      <td>NaN</td>\n      <td>NaN</td>\n      <td>NaN</td>\n      <td>NaN</td>\n      <td>NaN</td>\n      <td>NaN</td>\n      <td>NaN</td>\n      <td>NaN</td>\n      <td>NaN</td>\n      <td>...</td>\n      <td>NaN</td>\n      <td>NaN</td>\n      <td>NaN</td>\n      <td>NaN</td>\n      <td>NaN</td>\n      <td>NaN</td>\n      <td>NaN</td>\n      <td>NaN</td>\n      <td>NaN</td>\n      <td>NaN</td>\n    </tr>\n    <tr>\n      <th>2</th>\n      <td>NaN</td>\n      <td>NaN</td>\n      <td>NaN</td>\n      <td>NaN</td>\n      <td>NaN</td>\n      <td>NaN</td>\n      <td>NaN</td>\n      <td>NaN</td>\n      <td>NaN</td>\n      <td>NaN</td>\n      <td>...</td>\n      <td>NaN</td>\n      <td>NaN</td>\n      <td>NaN</td>\n      <td>NaN</td>\n      <td>NaN</td>\n      <td>NaN</td>\n      <td>NaN</td>\n      <td>NaN</td>\n      <td>NaN</td>\n      <td>NaN</td>\n    </tr>\n    <tr>\n      <th>3</th>\n      <td>NaN</td>\n      <td>NaN</td>\n      <td>NaN</td>\n      <td>NaN</td>\n      <td>NaN</td>\n      <td>NaN</td>\n      <td>NaN</td>\n      <td>NaN</td>\n      <td>NaN</td>\n      <td>NaN</td>\n      <td>...</td>\n      <td>NaN</td>\n      <td>NaN</td>\n      <td>NaN</td>\n      <td>NaN</td>\n      <td>NaN</td>\n      <td>NaN</td>\n      <td>NaN</td>\n      <td>NaN</td>\n      <td>NaN</td>\n      <td>NaN</td>\n    </tr>\n    <tr>\n      <th>4</th>\n      <td>NaN</td>\n      <td>NaN</td>\n      <td>NaN</td>\n      <td>NaN</td>\n      <td>NaN</td>\n      <td>NaN</td>\n      <td>NaN</td>\n      <td>NaN</td>\n      <td>NaN</td>\n      <td>NaN</td>\n      <td>...</td>\n      <td>NaN</td>\n      <td>NaN</td>\n      <td>NaN</td>\n      <td>NaN</td>\n      <td>NaN</td>\n      <td>NaN</td>\n      <td>NaN</td>\n      <td>NaN</td>\n      <td>NaN</td>\n      <td>NaN</td>\n    </tr>\n    <tr>\n      <th>5</th>\n      <td>NaN</td>\n      <td>NaN</td>\n      <td>NaN</td>\n      <td>NaN</td>\n      <td>NaN</td>\n      <td>NaN</td>\n      <td>NaN</td>\n      <td>NaN</td>\n      <td>NaN</td>\n      <td>NaN</td>\n      <td>...</td>\n      <td>NaN</td>\n      <td>NaN</td>\n      <td>NaN</td>\n      <td>NaN</td>\n      <td>NaN</td>\n      <td>NaN</td>\n      <td>NaN</td>\n      <td>NaN</td>\n      <td>NaN</td>\n      <td>NaN</td>\n    </tr>\n  </tbody>\n</table>\n<p>5 rows × 3695 columns</p>\n</div>"
     },
     "execution_count": 27,
     "metadata": {},
     "output_type": "execute_result"
    }
   ],
   "source": [
    "# Create utility (user-movie) matrix\n",
    "# rows - users, cols - movies\n",
    "matrix = ratings.pivot_table(index='userId', columns='movieId', values='rating')\n",
    "print(type(matrix))\n",
    "matrix.head()"
   ],
   "metadata": {
    "collapsed": false
   }
  },
  {
   "cell_type": "code",
   "execution_count": 94,
   "outputs": [
    {
     "name": "stdout",
     "output_type": "stream",
     "text": [
      "The ratings dataset has 6040 unique users\n",
      "The ratings dataset has 3695 unique movies\n",
      "The ratings dataset has 5 unique ratings\n",
      "The unique ratings are [1, 2, 3, 4, 5]\n",
      "6040 3695\n"
     ]
    }
   ],
   "source": [
    "# Statistics on ratings values\n",
    "\n",
    "print('The ratings dataset has', ratings['userId'].nunique(), 'unique users')\n",
    "print('The ratings dataset has', ratings['movieId'].nunique(), 'unique movies')\n",
    "print('The ratings dataset has', ratings['rating'].nunique(), 'unique ratings')\n",
    "print('The unique ratings are', sorted(ratings['rating'].unique()))\n"
   ],
   "metadata": {
    "collapsed": false
   }
  },
  {
   "cell_type": "code",
   "execution_count": 96,
   "outputs": [
    {
     "name": "stdout",
     "output_type": "stream",
     "text": [
      "The users dataset has 6040 unique users\n",
      "The users dataset has 2 unique genders\n",
      "The users dataset has 7 unique age values\n",
      "The users dataset has 21 unique professions values\n"
     ]
    }
   ],
   "source": [
    "# Statistics on users values\n",
    "unique_users = users['userId'].nunique()\n",
    "print('The users dataset has', unique_users, 'unique users')\n",
    "print('The users dataset has',users['gender'].nunique(), 'unique genders')\n",
    "print('The users dataset has', users['age'].nunique(), 'unique age values')\n",
    "print('The users dataset has', users['profession'].nunique(), 'unique professions values')"
   ],
   "metadata": {
    "collapsed": false
   }
  },
  {
   "cell_type": "code",
   "execution_count": 97,
   "outputs": [
    {
     "name": "stdout",
     "output_type": "stream",
     "text": [
      "The movies dataset has 3706 unique ids\n",
      "The movies dataset has 82 unique year values\n",
      "The movies dataset has 3688 unique titles\n",
      "The movies dataset has year values in range 0  -  2000\n"
     ]
    }
   ],
   "source": [
    "# Statistics on movies values\n",
    "unique_movies = movies['movieId'].nunique()\n",
    "print('The movies dataset has', unique_movies, 'unique ids')\n",
    "print('The movies dataset has',movies['year'].nunique(), 'unique year values')\n",
    "print('The movies dataset has', movies['title'].nunique(), 'unique titles')\n",
    "print('The movies dataset has year values in range', movies['year'].min(), ' - ', movies['year'].max())"
   ],
   "metadata": {
    "collapsed": false
   }
  },
  {
   "cell_type": "code",
   "execution_count": 31,
   "outputs": [
    {
     "data": {
      "text/plain": "movieId      1     2     3     4     5     6     7     8     9     10    ...  \\\nuserId                                                                   ...   \n1        0.808511   NaN   NaN   NaN   NaN   NaN   NaN   NaN   NaN   NaN  ...   \n2             NaN   NaN   NaN   NaN   NaN   NaN   NaN   NaN   NaN   NaN  ...   \n3             NaN   NaN   NaN   NaN   NaN   NaN   NaN   NaN   NaN   NaN  ...   \n4             NaN   NaN   NaN   NaN   NaN   NaN   NaN   NaN   NaN   NaN  ...   \n5             NaN   NaN   NaN   NaN   NaN   NaN   NaN   NaN   NaN   NaN  ...   \n\nmovieId  3697  3698  3699  3700  3701  3702  3703  3704  3705  3706  \nuserId                                                               \n1         NaN   NaN   NaN   NaN   NaN   NaN   NaN   NaN   NaN   NaN  \n2         NaN   NaN   NaN   NaN   NaN   NaN   NaN   NaN   NaN   NaN  \n3         NaN   NaN   NaN   NaN   NaN   NaN   NaN   NaN   NaN   NaN  \n4         NaN   NaN   NaN   NaN   NaN   NaN   NaN   NaN   NaN   NaN  \n5         NaN   NaN   NaN   NaN   NaN   NaN   NaN   NaN   NaN   NaN  \n\n[5 rows x 3695 columns]",
      "text/html": "<div>\n<style scoped>\n    .dataframe tbody tr th:only-of-type {\n        vertical-align: middle;\n    }\n\n    .dataframe tbody tr th {\n        vertical-align: top;\n    }\n\n    .dataframe thead th {\n        text-align: right;\n    }\n</style>\n<table border=\"1\" class=\"dataframe\">\n  <thead>\n    <tr style=\"text-align: right;\">\n      <th>movieId</th>\n      <th>1</th>\n      <th>2</th>\n      <th>3</th>\n      <th>4</th>\n      <th>5</th>\n      <th>6</th>\n      <th>7</th>\n      <th>8</th>\n      <th>9</th>\n      <th>10</th>\n      <th>...</th>\n      <th>3697</th>\n      <th>3698</th>\n      <th>3699</th>\n      <th>3700</th>\n      <th>3701</th>\n      <th>3702</th>\n      <th>3703</th>\n      <th>3704</th>\n      <th>3705</th>\n      <th>3706</th>\n    </tr>\n    <tr>\n      <th>userId</th>\n      <th></th>\n      <th></th>\n      <th></th>\n      <th></th>\n      <th></th>\n      <th></th>\n      <th></th>\n      <th></th>\n      <th></th>\n      <th></th>\n      <th></th>\n      <th></th>\n      <th></th>\n      <th></th>\n      <th></th>\n      <th></th>\n      <th></th>\n      <th></th>\n      <th></th>\n      <th></th>\n      <th></th>\n    </tr>\n  </thead>\n  <tbody>\n    <tr>\n      <th>1</th>\n      <td>0.808511</td>\n      <td>NaN</td>\n      <td>NaN</td>\n      <td>NaN</td>\n      <td>NaN</td>\n      <td>NaN</td>\n      <td>NaN</td>\n      <td>NaN</td>\n      <td>NaN</td>\n      <td>NaN</td>\n      <td>...</td>\n      <td>NaN</td>\n      <td>NaN</td>\n      <td>NaN</td>\n      <td>NaN</td>\n      <td>NaN</td>\n      <td>NaN</td>\n      <td>NaN</td>\n      <td>NaN</td>\n      <td>NaN</td>\n      <td>NaN</td>\n    </tr>\n    <tr>\n      <th>2</th>\n      <td>NaN</td>\n      <td>NaN</td>\n      <td>NaN</td>\n      <td>NaN</td>\n      <td>NaN</td>\n      <td>NaN</td>\n      <td>NaN</td>\n      <td>NaN</td>\n      <td>NaN</td>\n      <td>NaN</td>\n      <td>...</td>\n      <td>NaN</td>\n      <td>NaN</td>\n      <td>NaN</td>\n      <td>NaN</td>\n      <td>NaN</td>\n      <td>NaN</td>\n      <td>NaN</td>\n      <td>NaN</td>\n      <td>NaN</td>\n      <td>NaN</td>\n    </tr>\n    <tr>\n      <th>3</th>\n      <td>NaN</td>\n      <td>NaN</td>\n      <td>NaN</td>\n      <td>NaN</td>\n      <td>NaN</td>\n      <td>NaN</td>\n      <td>NaN</td>\n      <td>NaN</td>\n      <td>NaN</td>\n      <td>NaN</td>\n      <td>...</td>\n      <td>NaN</td>\n      <td>NaN</td>\n      <td>NaN</td>\n      <td>NaN</td>\n      <td>NaN</td>\n      <td>NaN</td>\n      <td>NaN</td>\n      <td>NaN</td>\n      <td>NaN</td>\n      <td>NaN</td>\n    </tr>\n    <tr>\n      <th>4</th>\n      <td>NaN</td>\n      <td>NaN</td>\n      <td>NaN</td>\n      <td>NaN</td>\n      <td>NaN</td>\n      <td>NaN</td>\n      <td>NaN</td>\n      <td>NaN</td>\n      <td>NaN</td>\n      <td>NaN</td>\n      <td>...</td>\n      <td>NaN</td>\n      <td>NaN</td>\n      <td>NaN</td>\n      <td>NaN</td>\n      <td>NaN</td>\n      <td>NaN</td>\n      <td>NaN</td>\n      <td>NaN</td>\n      <td>NaN</td>\n      <td>NaN</td>\n    </tr>\n    <tr>\n      <th>5</th>\n      <td>NaN</td>\n      <td>NaN</td>\n      <td>NaN</td>\n      <td>NaN</td>\n      <td>NaN</td>\n      <td>NaN</td>\n      <td>NaN</td>\n      <td>NaN</td>\n      <td>NaN</td>\n      <td>NaN</td>\n      <td>...</td>\n      <td>NaN</td>\n      <td>NaN</td>\n      <td>NaN</td>\n      <td>NaN</td>\n      <td>NaN</td>\n      <td>NaN</td>\n      <td>NaN</td>\n      <td>NaN</td>\n      <td>NaN</td>\n      <td>NaN</td>\n    </tr>\n  </tbody>\n</table>\n<p>5 rows × 3695 columns</p>\n</div>"
     },
     "execution_count": 31,
     "metadata": {},
     "output_type": "execute_result"
    }
   ],
   "source": [
    "# Data normalization step\n",
    "# Rating > user_avg => positive value; otherwise negative value\n",
    "matrix_norm = matrix.subtract(matrix.mean(axis=1), axis = 'rows')\n",
    "matrix_norm.head()"
   ],
   "metadata": {
    "collapsed": false
   }
  },
  {
   "cell_type": "code",
   "execution_count": 48,
   "outputs": [
    {
     "data": {
      "text/plain": "userId      1         2         3         4         5             6     \\\nuserId                                                                   \n1       1.000000  0.642857 -0.562500  0.333333 -0.172516  1.139606e-01   \n2       0.642857  1.000000 -0.208013  0.220863 -0.102728  2.762638e-17   \n3      -0.562500 -0.208013  1.000000  0.774597 -0.437621 -3.492151e-01   \n4       0.333333  0.220863  0.774597  1.000000  0.000000           NaN   \n5      -0.172516 -0.102728 -0.437621  0.000000  1.000000 -7.211103e-01   \n\nuserId      7         8         9         10    ...      6031      6032  \\\nuserId                                          ...                       \n1            NaN -0.583333  0.644094  0.163446  ... -0.198030  0.852803   \n2       0.262600 -0.015445  0.135250 -0.105465  ... -0.750000  0.338062   \n3       0.790569 -0.528594  0.108465  0.016264  ... -0.500000 -0.342997   \n4      -0.207514  0.534522  0.866025 -0.371479  ... -0.645497       NaN   \n5      -0.216966  0.168732 -0.033128  0.021635  ...  0.073324  1.000000   \n\nuserId      6033  6034      6035      6036      6037  6038      6039  \\\nuserId                                                                 \n1       1.000000   NaN  0.381246 -0.150021 -0.394771   NaN  0.061199   \n2       0.326183   NaN  0.338558  0.381157  0.183019  -0.5  0.483046   \n3      -0.711556   NaN  0.559017  0.158237 -0.041345   1.0  0.315063   \n4      -0.038576   NaN -0.013558  0.489046  0.301511  -1.0  0.000000   \n5       0.116775   NaN  0.514356  0.142739 -0.074062  -1.0  1.000000   \n\nuserId          6040  \nuserId                \n1      -5.062003e-17  \n2       3.193962e-02  \n3      -4.678087e-01  \n4       5.358259e-01  \n5       3.254070e-01  \n\n[5 rows x 6040 columns]",
      "text/html": "<div>\n<style scoped>\n    .dataframe tbody tr th:only-of-type {\n        vertical-align: middle;\n    }\n\n    .dataframe tbody tr th {\n        vertical-align: top;\n    }\n\n    .dataframe thead th {\n        text-align: right;\n    }\n</style>\n<table border=\"1\" class=\"dataframe\">\n  <thead>\n    <tr style=\"text-align: right;\">\n      <th>userId</th>\n      <th>1</th>\n      <th>2</th>\n      <th>3</th>\n      <th>4</th>\n      <th>5</th>\n      <th>6</th>\n      <th>7</th>\n      <th>8</th>\n      <th>9</th>\n      <th>10</th>\n      <th>...</th>\n      <th>6031</th>\n      <th>6032</th>\n      <th>6033</th>\n      <th>6034</th>\n      <th>6035</th>\n      <th>6036</th>\n      <th>6037</th>\n      <th>6038</th>\n      <th>6039</th>\n      <th>6040</th>\n    </tr>\n    <tr>\n      <th>userId</th>\n      <th></th>\n      <th></th>\n      <th></th>\n      <th></th>\n      <th></th>\n      <th></th>\n      <th></th>\n      <th></th>\n      <th></th>\n      <th></th>\n      <th></th>\n      <th></th>\n      <th></th>\n      <th></th>\n      <th></th>\n      <th></th>\n      <th></th>\n      <th></th>\n      <th></th>\n      <th></th>\n      <th></th>\n    </tr>\n  </thead>\n  <tbody>\n    <tr>\n      <th>1</th>\n      <td>1.000000</td>\n      <td>0.642857</td>\n      <td>-0.562500</td>\n      <td>0.333333</td>\n      <td>-0.172516</td>\n      <td>1.139606e-01</td>\n      <td>NaN</td>\n      <td>-0.583333</td>\n      <td>0.644094</td>\n      <td>0.163446</td>\n      <td>...</td>\n      <td>-0.198030</td>\n      <td>0.852803</td>\n      <td>1.000000</td>\n      <td>NaN</td>\n      <td>0.381246</td>\n      <td>-0.150021</td>\n      <td>-0.394771</td>\n      <td>NaN</td>\n      <td>0.061199</td>\n      <td>-5.062003e-17</td>\n    </tr>\n    <tr>\n      <th>2</th>\n      <td>0.642857</td>\n      <td>1.000000</td>\n      <td>-0.208013</td>\n      <td>0.220863</td>\n      <td>-0.102728</td>\n      <td>2.762638e-17</td>\n      <td>0.262600</td>\n      <td>-0.015445</td>\n      <td>0.135250</td>\n      <td>-0.105465</td>\n      <td>...</td>\n      <td>-0.750000</td>\n      <td>0.338062</td>\n      <td>0.326183</td>\n      <td>NaN</td>\n      <td>0.338558</td>\n      <td>0.381157</td>\n      <td>0.183019</td>\n      <td>-0.5</td>\n      <td>0.483046</td>\n      <td>3.193962e-02</td>\n    </tr>\n    <tr>\n      <th>3</th>\n      <td>-0.562500</td>\n      <td>-0.208013</td>\n      <td>1.000000</td>\n      <td>0.774597</td>\n      <td>-0.437621</td>\n      <td>-3.492151e-01</td>\n      <td>0.790569</td>\n      <td>-0.528594</td>\n      <td>0.108465</td>\n      <td>0.016264</td>\n      <td>...</td>\n      <td>-0.500000</td>\n      <td>-0.342997</td>\n      <td>-0.711556</td>\n      <td>NaN</td>\n      <td>0.559017</td>\n      <td>0.158237</td>\n      <td>-0.041345</td>\n      <td>1.0</td>\n      <td>0.315063</td>\n      <td>-4.678087e-01</td>\n    </tr>\n    <tr>\n      <th>4</th>\n      <td>0.333333</td>\n      <td>0.220863</td>\n      <td>0.774597</td>\n      <td>1.000000</td>\n      <td>0.000000</td>\n      <td>NaN</td>\n      <td>-0.207514</td>\n      <td>0.534522</td>\n      <td>0.866025</td>\n      <td>-0.371479</td>\n      <td>...</td>\n      <td>-0.645497</td>\n      <td>NaN</td>\n      <td>-0.038576</td>\n      <td>NaN</td>\n      <td>-0.013558</td>\n      <td>0.489046</td>\n      <td>0.301511</td>\n      <td>-1.0</td>\n      <td>0.000000</td>\n      <td>5.358259e-01</td>\n    </tr>\n    <tr>\n      <th>5</th>\n      <td>-0.172516</td>\n      <td>-0.102728</td>\n      <td>-0.437621</td>\n      <td>0.000000</td>\n      <td>1.000000</td>\n      <td>-7.211103e-01</td>\n      <td>-0.216966</td>\n      <td>0.168732</td>\n      <td>-0.033128</td>\n      <td>0.021635</td>\n      <td>...</td>\n      <td>0.073324</td>\n      <td>1.000000</td>\n      <td>0.116775</td>\n      <td>NaN</td>\n      <td>0.514356</td>\n      <td>0.142739</td>\n      <td>-0.074062</td>\n      <td>-1.0</td>\n      <td>1.000000</td>\n      <td>3.254070e-01</td>\n    </tr>\n  </tbody>\n</table>\n<p>5 rows × 6040 columns</p>\n</div>"
     },
     "execution_count": 48,
     "metadata": {},
     "output_type": "execute_result"
    }
   ],
   "source": [
    "# User similarity matrix using alternative #1: Pearson correlation\n",
    "user_similarity = matrix_norm.T.corr()\n",
    "user_similarity.head()"
   ],
   "metadata": {
    "collapsed": false
   }
  },
  {
   "cell_type": "code",
   "execution_count": 33,
   "outputs": [
    {
     "name": "stdout",
     "output_type": "stream",
     "text": [
      "<class 'numpy.ndarray'>\n"
     ]
    },
    {
     "data": {
      "text/plain": "array([[ 1.        ,  0.03565432, -0.04347203, ...,  0.        ,\n         0.0138397 ,  0.00903407],\n       [ 0.03565432,  1.        , -0.01496278, ..., -0.01598902,\n         0.02835177, -0.00176974],\n       [-0.04347203, -0.01496278,  1.        , ...,  0.0414533 ,\n         0.05292534, -0.04647062],\n       ...,\n       [ 0.        , -0.01598902,  0.0414533 , ...,  1.        ,\n         0.04679397, -0.03514554],\n       [ 0.0138397 ,  0.02835177,  0.05292534, ...,  0.04679397,\n         1.        ,  0.05144363],\n       [ 0.00903407, -0.00176974, -0.04647062, ..., -0.03514554,\n         0.05144363,  1.        ]])"
     },
     "execution_count": 33,
     "metadata": {},
     "output_type": "execute_result"
    }
   ],
   "source": [
    "# User similarity matrix using alternative #2: cosine_similarity\n",
    "# values in [-1, 1]; -1 : opposite, 1: really close\n",
    "user_similarity_cosine = cosine_similarity(matrix_norm.fillna(0))\n",
    "print(type(user_similarity_cosine)) # ndarray\n",
    "user_similarity_cosine\n"
   ],
   "metadata": {
    "collapsed": false
   }
  },
  {
   "cell_type": "code",
   "execution_count": 34,
   "outputs": [
    {
     "name": "stdout",
     "output_type": "stream",
     "text": [
      "<class 'numpy.ndarray'>\n",
      "6039\n"
     ]
    },
    {
     "data": {
      "text/plain": "array([ 0.03565432, -0.01496278, -0.02398623, ..., -0.01598902,\n        0.02835177, -0.00176974])"
     },
     "execution_count": 34,
     "metadata": {},
     "output_type": "execute_result"
    }
   ],
   "source": [
    "# Try finding similar users to user w/ `userID`\n",
    "# Let's use `cosine_similarity` for this\n",
    "\n",
    "userId = 1\n",
    "print(type(user_similarity_cosine))\n",
    "user_similarity_cosine = user_similarity_cosine[:, userId]\n",
    "user_similarity_cosine = np.delete(user_similarity_cosine, userId, axis=0)\n",
    "print(len(user_similarity_cosine))\n",
    "user_similarity_cosine"
   ],
   "metadata": {
    "collapsed": false
   }
  },
  {
   "cell_type": "code",
   "execution_count": 35,
   "outputs": [
    {
     "data": {
      "text/plain": "userId      1             2         3         4         5             6     \\\nuserId                                                                       \n2       0.642857  1.000000e+00 -0.208013  0.220863 -0.102728  2.762638e-17   \n3      -0.562500 -2.080126e-01  1.000000  0.774597 -0.437621 -3.492151e-01   \n4       0.333333  2.208631e-01  0.774597  1.000000  0.000000           NaN   \n5      -0.172516 -1.027277e-01 -0.437621  0.000000  1.000000 -7.211103e-01   \n6       0.113961  2.762638e-17 -0.349215       NaN -0.721110  1.000000e+00   \n\nuserId      7         8         9         10    ...      6031      6032  \\\nuserId                                          ...                       \n2       0.262600 -0.015445  0.135250 -0.105465  ... -0.750000  0.338062   \n3       0.790569 -0.528594  0.108465  0.016264  ... -0.500000 -0.342997   \n4      -0.207514  0.534522  0.866025 -0.371479  ... -0.645497       NaN   \n5      -0.216966  0.168732 -0.033128  0.021635  ...  0.073324  1.000000   \n6       1.000000 -0.590932 -0.216007  0.333863  ... -1.000000  0.925820   \n\nuserId      6033  6034      6035      6036      6037      6038      6039  \\\nuserId                                                                     \n2       0.326183   NaN  0.338558  0.381157  0.183019 -0.500000  0.483046   \n3      -0.711556   NaN  0.559017  0.158237 -0.041345  1.000000  0.315063   \n4      -0.038576   NaN -0.013558  0.489046  0.301511 -1.000000  0.000000   \n5       0.116775   NaN  0.514356  0.142739 -0.074062 -1.000000  1.000000   \n6            NaN   NaN -0.419573 -0.165250 -0.272166 -0.866025 -0.693375   \n\nuserId      6040  \nuserId            \n2       0.031940  \n3      -0.467809  \n4       0.535826  \n5       0.325407  \n6       0.197545  \n\n[5 rows x 6040 columns]",
      "text/html": "<div>\n<style scoped>\n    .dataframe tbody tr th:only-of-type {\n        vertical-align: middle;\n    }\n\n    .dataframe tbody tr th {\n        vertical-align: top;\n    }\n\n    .dataframe thead th {\n        text-align: right;\n    }\n</style>\n<table border=\"1\" class=\"dataframe\">\n  <thead>\n    <tr style=\"text-align: right;\">\n      <th>userId</th>\n      <th>1</th>\n      <th>2</th>\n      <th>3</th>\n      <th>4</th>\n      <th>5</th>\n      <th>6</th>\n      <th>7</th>\n      <th>8</th>\n      <th>9</th>\n      <th>10</th>\n      <th>...</th>\n      <th>6031</th>\n      <th>6032</th>\n      <th>6033</th>\n      <th>6034</th>\n      <th>6035</th>\n      <th>6036</th>\n      <th>6037</th>\n      <th>6038</th>\n      <th>6039</th>\n      <th>6040</th>\n    </tr>\n    <tr>\n      <th>userId</th>\n      <th></th>\n      <th></th>\n      <th></th>\n      <th></th>\n      <th></th>\n      <th></th>\n      <th></th>\n      <th></th>\n      <th></th>\n      <th></th>\n      <th></th>\n      <th></th>\n      <th></th>\n      <th></th>\n      <th></th>\n      <th></th>\n      <th></th>\n      <th></th>\n      <th></th>\n      <th></th>\n      <th></th>\n    </tr>\n  </thead>\n  <tbody>\n    <tr>\n      <th>2</th>\n      <td>0.642857</td>\n      <td>1.000000e+00</td>\n      <td>-0.208013</td>\n      <td>0.220863</td>\n      <td>-0.102728</td>\n      <td>2.762638e-17</td>\n      <td>0.262600</td>\n      <td>-0.015445</td>\n      <td>0.135250</td>\n      <td>-0.105465</td>\n      <td>...</td>\n      <td>-0.750000</td>\n      <td>0.338062</td>\n      <td>0.326183</td>\n      <td>NaN</td>\n      <td>0.338558</td>\n      <td>0.381157</td>\n      <td>0.183019</td>\n      <td>-0.500000</td>\n      <td>0.483046</td>\n      <td>0.031940</td>\n    </tr>\n    <tr>\n      <th>3</th>\n      <td>-0.562500</td>\n      <td>-2.080126e-01</td>\n      <td>1.000000</td>\n      <td>0.774597</td>\n      <td>-0.437621</td>\n      <td>-3.492151e-01</td>\n      <td>0.790569</td>\n      <td>-0.528594</td>\n      <td>0.108465</td>\n      <td>0.016264</td>\n      <td>...</td>\n      <td>-0.500000</td>\n      <td>-0.342997</td>\n      <td>-0.711556</td>\n      <td>NaN</td>\n      <td>0.559017</td>\n      <td>0.158237</td>\n      <td>-0.041345</td>\n      <td>1.000000</td>\n      <td>0.315063</td>\n      <td>-0.467809</td>\n    </tr>\n    <tr>\n      <th>4</th>\n      <td>0.333333</td>\n      <td>2.208631e-01</td>\n      <td>0.774597</td>\n      <td>1.000000</td>\n      <td>0.000000</td>\n      <td>NaN</td>\n      <td>-0.207514</td>\n      <td>0.534522</td>\n      <td>0.866025</td>\n      <td>-0.371479</td>\n      <td>...</td>\n      <td>-0.645497</td>\n      <td>NaN</td>\n      <td>-0.038576</td>\n      <td>NaN</td>\n      <td>-0.013558</td>\n      <td>0.489046</td>\n      <td>0.301511</td>\n      <td>-1.000000</td>\n      <td>0.000000</td>\n      <td>0.535826</td>\n    </tr>\n    <tr>\n      <th>5</th>\n      <td>-0.172516</td>\n      <td>-1.027277e-01</td>\n      <td>-0.437621</td>\n      <td>0.000000</td>\n      <td>1.000000</td>\n      <td>-7.211103e-01</td>\n      <td>-0.216966</td>\n      <td>0.168732</td>\n      <td>-0.033128</td>\n      <td>0.021635</td>\n      <td>...</td>\n      <td>0.073324</td>\n      <td>1.000000</td>\n      <td>0.116775</td>\n      <td>NaN</td>\n      <td>0.514356</td>\n      <td>0.142739</td>\n      <td>-0.074062</td>\n      <td>-1.000000</td>\n      <td>1.000000</td>\n      <td>0.325407</td>\n    </tr>\n    <tr>\n      <th>6</th>\n      <td>0.113961</td>\n      <td>2.762638e-17</td>\n      <td>-0.349215</td>\n      <td>NaN</td>\n      <td>-0.721110</td>\n      <td>1.000000e+00</td>\n      <td>1.000000</td>\n      <td>-0.590932</td>\n      <td>-0.216007</td>\n      <td>0.333863</td>\n      <td>...</td>\n      <td>-1.000000</td>\n      <td>0.925820</td>\n      <td>NaN</td>\n      <td>NaN</td>\n      <td>-0.419573</td>\n      <td>-0.165250</td>\n      <td>-0.272166</td>\n      <td>-0.866025</td>\n      <td>-0.693375</td>\n      <td>0.197545</td>\n    </tr>\n  </tbody>\n</table>\n<p>5 rows × 6040 columns</p>\n</div>"
     },
     "execution_count": 35,
     "metadata": {},
     "output_type": "execute_result"
    }
   ],
   "source": [
    "# Try finding similar users to user w/ `userID`\n",
    "# Let's use `Pearson correlation` for this\n",
    "\n",
    "# Pick a user ID\n",
    "# picked_userid = 1\n",
    "# Remove picked user ID from the candidate list\n",
    "#user_similarity.drop(index=picked_userid, inplace=True)\n",
    "# Take a look at the data\n",
    "# user_similarity.head()"
   ],
   "metadata": {
    "collapsed": false
   }
  },
  {
   "cell_type": "code",
   "execution_count": 47,
   "outputs": [
    {
     "name": "stdout",
     "output_type": "stream",
     "text": [
      "<class 'pandas.core.series.Series'>\n",
      "1197\n",
      "337\n"
     ]
    }
   ],
   "source": [
    "# Tests to decide on tuning the parameters in next code cell `user_similarity_threshold` and `k`\n",
    "\n",
    "# Number of similar users - first 150 are 1.0, first 160 -> 0.94\n",
    "k = 200\n",
    "# User similarity threshold\n",
    "user_similarity_threshold = 0.3\n",
    "\n",
    "for_userId = user_similarity[user_similarity[userId] > user_similarity_threshold][userId]\n",
    "print(type(for_userId))\n",
    "print(len(for_userId))\n",
    "print(len(for_userId[for_userId >= .7]))\n"
   ],
   "metadata": {
    "collapsed": false
   }
  },
  {
   "cell_type": "code",
   "execution_count": 38,
   "outputs": [
    {
     "name": "stdout",
     "output_type": "stream",
     "text": [
      "(6039, 6040)\n",
      "The similar users for user 1 are userId\n",
      "4910    1.000000\n",
      "3222    1.000000\n",
      "3247    1.000000\n",
      "900     1.000000\n",
      "545     1.000000\n",
      "          ...   \n",
      "361     0.866025\n",
      "1760    0.866025\n",
      "2431    0.866025\n",
      "2509    0.866025\n",
      "3368    0.866025\n",
      "Name: 1, Length: 200, dtype: float64\n"
     ]
    },
    {
     "name": "stderr",
     "output_type": "stream",
     "text": [
      "/var/folders/w6/yvwdncbx7qbgk26cz6r2f7s00000gn/T/ipykernel_1451/1007100647.py:8: FutureWarning: The behavior of `series[i:j]` with an integer-dtype index is deprecated. In a future version, this will be treated as *label-based* indexing, consistent with e.g. `series[i]` lookups. To retain the old behavior, use `series.iloc[i:j]`. To get the future behavior, use `series.loc[i:j]`.\n",
      "  similar_users = user_similarity[user_similarity[userId] > user_similarity_threshold][userId].sort_values(ascending=False)[:k] # Print out top `k` similar users\n"
     ]
    }
   ],
   "source": [
    "# Choose `k` most similar users based on the cosine_similarity distance\n",
    "# Parameters to be tuned:\n",
    "# k - # of similar users\n",
    "# user_similarity_threshold\n",
    "\n",
    "# Get top `k` similar users\n",
    "print(user_similarity.shape)\n",
    "similar_users = user_similarity[user_similarity[userId] > user_similarity_threshold][userId].sort_values(ascending=False)[:k] # Print out top `k` similar users\n",
    "print(f'The similar users for user {userId} are', similar_users)"
   ],
   "metadata": {
    "collapsed": false
   }
  },
  {
   "cell_type": "code",
   "execution_count": 39,
   "outputs": [
    {
     "data": {
      "text/plain": "movieId      1         48        145       254       514       518       575   \\\nuserId                                                                          \n1        0.808511  0.808511  0.808511 -0.191489  0.808511 -0.191489 -0.191489   \n\nmovieId      581       582       594   ...      2489      2558      2587  \\\nuserId                                 ...                                 \n1       -0.191489  0.808511 -0.191489  ... -0.191489 -0.191489 -0.191489   \n\nmovieId      2593      2600      2711      2890      2899      2970      3178  \nuserId                                                                         \n1       -0.191489  0.808511 -0.191489  0.808511 -0.191489 -0.191489 -0.191489  \n\n[1 rows x 47 columns]",
      "text/html": "<div>\n<style scoped>\n    .dataframe tbody tr th:only-of-type {\n        vertical-align: middle;\n    }\n\n    .dataframe tbody tr th {\n        vertical-align: top;\n    }\n\n    .dataframe thead th {\n        text-align: right;\n    }\n</style>\n<table border=\"1\" class=\"dataframe\">\n  <thead>\n    <tr style=\"text-align: right;\">\n      <th>movieId</th>\n      <th>1</th>\n      <th>48</th>\n      <th>145</th>\n      <th>254</th>\n      <th>514</th>\n      <th>518</th>\n      <th>575</th>\n      <th>581</th>\n      <th>582</th>\n      <th>594</th>\n      <th>...</th>\n      <th>2489</th>\n      <th>2558</th>\n      <th>2587</th>\n      <th>2593</th>\n      <th>2600</th>\n      <th>2711</th>\n      <th>2890</th>\n      <th>2899</th>\n      <th>2970</th>\n      <th>3178</th>\n    </tr>\n    <tr>\n      <th>userId</th>\n      <th></th>\n      <th></th>\n      <th></th>\n      <th></th>\n      <th></th>\n      <th></th>\n      <th></th>\n      <th></th>\n      <th></th>\n      <th></th>\n      <th></th>\n      <th></th>\n      <th></th>\n      <th></th>\n      <th></th>\n      <th></th>\n      <th></th>\n      <th></th>\n      <th></th>\n      <th></th>\n      <th></th>\n    </tr>\n  </thead>\n  <tbody>\n    <tr>\n      <th>1</th>\n      <td>0.808511</td>\n      <td>0.808511</td>\n      <td>0.808511</td>\n      <td>-0.191489</td>\n      <td>0.808511</td>\n      <td>-0.191489</td>\n      <td>-0.191489</td>\n      <td>-0.191489</td>\n      <td>0.808511</td>\n      <td>-0.191489</td>\n      <td>...</td>\n      <td>-0.191489</td>\n      <td>-0.191489</td>\n      <td>-0.191489</td>\n      <td>-0.191489</td>\n      <td>0.808511</td>\n      <td>-0.191489</td>\n      <td>0.808511</td>\n      <td>-0.191489</td>\n      <td>-0.191489</td>\n      <td>-0.191489</td>\n    </tr>\n  </tbody>\n</table>\n<p>1 rows × 47 columns</p>\n</div>"
     },
     "execution_count": 39,
     "metadata": {},
     "output_type": "execute_result"
    }
   ],
   "source": [
    "# Narrow item pool in 2 steps\n",
    "# Step 1. Remove movies already watched by targeted `userId`\n",
    "\n",
    "# Movies that the target user has watched\n",
    "picked_userid_watched = matrix_norm[matrix_norm.index == picked_userid].dropna(axis=1, how='all')\n",
    "picked_userid_watched"
   ],
   "metadata": {
    "collapsed": false
   }
  },
  {
   "cell_type": "code",
   "execution_count": 40,
   "outputs": [
    {
     "data": {
      "text/plain": "movieId  1         2     3     4     5     6     7     9     10        11    \\\nuserId                                                                        \n40        NaN  1.595506   NaN   NaN   NaN   NaN   NaN   NaN   NaN       NaN   \n66        NaN       NaN   NaN   NaN   NaN   NaN   NaN   NaN   NaN       NaN   \n72        NaN       NaN   NaN   NaN   NaN   NaN   NaN   NaN   NaN  1.333333   \n113       NaN       NaN   NaN   NaN   NaN   NaN   NaN   NaN   NaN       NaN   \n179       NaN       NaN   NaN   NaN   NaN   NaN   NaN   NaN   NaN       NaN   \n...       ...       ...   ...   ...   ...   ...   ...   ...   ...       ...   \n5882      NaN       NaN   NaN   NaN   NaN   NaN   NaN   NaN   NaN       NaN   \n5910      NaN       NaN   NaN   NaN   NaN   NaN   NaN   NaN   NaN       NaN   \n5919      NaN       NaN   NaN   NaN   NaN   NaN   NaN   NaN   NaN       NaN   \n5940      NaN       NaN   NaN   NaN   NaN   NaN   NaN   NaN   NaN       NaN   \n6033      NaN       NaN   NaN   NaN   NaN   NaN   NaN   NaN   NaN       NaN   \n\nmovieId  ...  3690  3691  3694  3697  3700  3702  3703  3704  3705      3706  \nuserId   ...                                                                  \n40       ...   NaN   NaN   NaN   NaN   NaN   NaN   NaN   NaN   NaN       NaN  \n66       ...   NaN   NaN   NaN   NaN   NaN   NaN   NaN   NaN   NaN       NaN  \n72       ...   NaN   NaN   NaN   NaN   NaN   NaN   NaN   NaN   NaN  1.333333  \n113      ...   NaN   NaN   NaN   NaN   NaN   NaN   NaN   NaN   NaN       NaN  \n179      ...   NaN   NaN   NaN   NaN   NaN   NaN   NaN   NaN   NaN       NaN  \n...      ...   ...   ...   ...   ...   ...   ...   ...   ...   ...       ...  \n5882     ...   NaN   NaN   NaN   NaN   NaN   NaN   NaN   NaN   NaN       NaN  \n5910     ...   NaN   NaN   NaN   NaN   NaN   NaN   NaN   NaN   NaN       NaN  \n5919     ...   NaN   NaN   NaN   NaN   NaN   NaN   NaN   NaN   NaN       NaN  \n5940     ...   NaN   NaN   NaN   NaN   NaN   NaN   NaN   NaN   NaN       NaN  \n6033     ...   NaN   NaN   NaN   NaN   NaN   NaN   NaN   NaN   NaN       NaN  \n\n[200 rows x 2262 columns]",
      "text/html": "<div>\n<style scoped>\n    .dataframe tbody tr th:only-of-type {\n        vertical-align: middle;\n    }\n\n    .dataframe tbody tr th {\n        vertical-align: top;\n    }\n\n    .dataframe thead th {\n        text-align: right;\n    }\n</style>\n<table border=\"1\" class=\"dataframe\">\n  <thead>\n    <tr style=\"text-align: right;\">\n      <th>movieId</th>\n      <th>1</th>\n      <th>2</th>\n      <th>3</th>\n      <th>4</th>\n      <th>5</th>\n      <th>6</th>\n      <th>7</th>\n      <th>9</th>\n      <th>10</th>\n      <th>11</th>\n      <th>...</th>\n      <th>3690</th>\n      <th>3691</th>\n      <th>3694</th>\n      <th>3697</th>\n      <th>3700</th>\n      <th>3702</th>\n      <th>3703</th>\n      <th>3704</th>\n      <th>3705</th>\n      <th>3706</th>\n    </tr>\n    <tr>\n      <th>userId</th>\n      <th></th>\n      <th></th>\n      <th></th>\n      <th></th>\n      <th></th>\n      <th></th>\n      <th></th>\n      <th></th>\n      <th></th>\n      <th></th>\n      <th></th>\n      <th></th>\n      <th></th>\n      <th></th>\n      <th></th>\n      <th></th>\n      <th></th>\n      <th></th>\n      <th></th>\n      <th></th>\n      <th></th>\n    </tr>\n  </thead>\n  <tbody>\n    <tr>\n      <th>40</th>\n      <td>NaN</td>\n      <td>1.595506</td>\n      <td>NaN</td>\n      <td>NaN</td>\n      <td>NaN</td>\n      <td>NaN</td>\n      <td>NaN</td>\n      <td>NaN</td>\n      <td>NaN</td>\n      <td>NaN</td>\n      <td>...</td>\n      <td>NaN</td>\n      <td>NaN</td>\n      <td>NaN</td>\n      <td>NaN</td>\n      <td>NaN</td>\n      <td>NaN</td>\n      <td>NaN</td>\n      <td>NaN</td>\n      <td>NaN</td>\n      <td>NaN</td>\n    </tr>\n    <tr>\n      <th>66</th>\n      <td>NaN</td>\n      <td>NaN</td>\n      <td>NaN</td>\n      <td>NaN</td>\n      <td>NaN</td>\n      <td>NaN</td>\n      <td>NaN</td>\n      <td>NaN</td>\n      <td>NaN</td>\n      <td>NaN</td>\n      <td>...</td>\n      <td>NaN</td>\n      <td>NaN</td>\n      <td>NaN</td>\n      <td>NaN</td>\n      <td>NaN</td>\n      <td>NaN</td>\n      <td>NaN</td>\n      <td>NaN</td>\n      <td>NaN</td>\n      <td>NaN</td>\n    </tr>\n    <tr>\n      <th>72</th>\n      <td>NaN</td>\n      <td>NaN</td>\n      <td>NaN</td>\n      <td>NaN</td>\n      <td>NaN</td>\n      <td>NaN</td>\n      <td>NaN</td>\n      <td>NaN</td>\n      <td>NaN</td>\n      <td>1.333333</td>\n      <td>...</td>\n      <td>NaN</td>\n      <td>NaN</td>\n      <td>NaN</td>\n      <td>NaN</td>\n      <td>NaN</td>\n      <td>NaN</td>\n      <td>NaN</td>\n      <td>NaN</td>\n      <td>NaN</td>\n      <td>1.333333</td>\n    </tr>\n    <tr>\n      <th>113</th>\n      <td>NaN</td>\n      <td>NaN</td>\n      <td>NaN</td>\n      <td>NaN</td>\n      <td>NaN</td>\n      <td>NaN</td>\n      <td>NaN</td>\n      <td>NaN</td>\n      <td>NaN</td>\n      <td>NaN</td>\n      <td>...</td>\n      <td>NaN</td>\n      <td>NaN</td>\n      <td>NaN</td>\n      <td>NaN</td>\n      <td>NaN</td>\n      <td>NaN</td>\n      <td>NaN</td>\n      <td>NaN</td>\n      <td>NaN</td>\n      <td>NaN</td>\n    </tr>\n    <tr>\n      <th>179</th>\n      <td>NaN</td>\n      <td>NaN</td>\n      <td>NaN</td>\n      <td>NaN</td>\n      <td>NaN</td>\n      <td>NaN</td>\n      <td>NaN</td>\n      <td>NaN</td>\n      <td>NaN</td>\n      <td>NaN</td>\n      <td>...</td>\n      <td>NaN</td>\n      <td>NaN</td>\n      <td>NaN</td>\n      <td>NaN</td>\n      <td>NaN</td>\n      <td>NaN</td>\n      <td>NaN</td>\n      <td>NaN</td>\n      <td>NaN</td>\n      <td>NaN</td>\n    </tr>\n    <tr>\n      <th>...</th>\n      <td>...</td>\n      <td>...</td>\n      <td>...</td>\n      <td>...</td>\n      <td>...</td>\n      <td>...</td>\n      <td>...</td>\n      <td>...</td>\n      <td>...</td>\n      <td>...</td>\n      <td>...</td>\n      <td>...</td>\n      <td>...</td>\n      <td>...</td>\n      <td>...</td>\n      <td>...</td>\n      <td>...</td>\n      <td>...</td>\n      <td>...</td>\n      <td>...</td>\n      <td>...</td>\n    </tr>\n    <tr>\n      <th>5882</th>\n      <td>NaN</td>\n      <td>NaN</td>\n      <td>NaN</td>\n      <td>NaN</td>\n      <td>NaN</td>\n      <td>NaN</td>\n      <td>NaN</td>\n      <td>NaN</td>\n      <td>NaN</td>\n      <td>NaN</td>\n      <td>...</td>\n      <td>NaN</td>\n      <td>NaN</td>\n      <td>NaN</td>\n      <td>NaN</td>\n      <td>NaN</td>\n      <td>NaN</td>\n      <td>NaN</td>\n      <td>NaN</td>\n      <td>NaN</td>\n      <td>NaN</td>\n    </tr>\n    <tr>\n      <th>5910</th>\n      <td>NaN</td>\n      <td>NaN</td>\n      <td>NaN</td>\n      <td>NaN</td>\n      <td>NaN</td>\n      <td>NaN</td>\n      <td>NaN</td>\n      <td>NaN</td>\n      <td>NaN</td>\n      <td>NaN</td>\n      <td>...</td>\n      <td>NaN</td>\n      <td>NaN</td>\n      <td>NaN</td>\n      <td>NaN</td>\n      <td>NaN</td>\n      <td>NaN</td>\n      <td>NaN</td>\n      <td>NaN</td>\n      <td>NaN</td>\n      <td>NaN</td>\n    </tr>\n    <tr>\n      <th>5919</th>\n      <td>NaN</td>\n      <td>NaN</td>\n      <td>NaN</td>\n      <td>NaN</td>\n      <td>NaN</td>\n      <td>NaN</td>\n      <td>NaN</td>\n      <td>NaN</td>\n      <td>NaN</td>\n      <td>NaN</td>\n      <td>...</td>\n      <td>NaN</td>\n      <td>NaN</td>\n      <td>NaN</td>\n      <td>NaN</td>\n      <td>NaN</td>\n      <td>NaN</td>\n      <td>NaN</td>\n      <td>NaN</td>\n      <td>NaN</td>\n      <td>NaN</td>\n    </tr>\n    <tr>\n      <th>5940</th>\n      <td>NaN</td>\n      <td>NaN</td>\n      <td>NaN</td>\n      <td>NaN</td>\n      <td>NaN</td>\n      <td>NaN</td>\n      <td>NaN</td>\n      <td>NaN</td>\n      <td>NaN</td>\n      <td>NaN</td>\n      <td>...</td>\n      <td>NaN</td>\n      <td>NaN</td>\n      <td>NaN</td>\n      <td>NaN</td>\n      <td>NaN</td>\n      <td>NaN</td>\n      <td>NaN</td>\n      <td>NaN</td>\n      <td>NaN</td>\n      <td>NaN</td>\n    </tr>\n    <tr>\n      <th>6033</th>\n      <td>NaN</td>\n      <td>NaN</td>\n      <td>NaN</td>\n      <td>NaN</td>\n      <td>NaN</td>\n      <td>NaN</td>\n      <td>NaN</td>\n      <td>NaN</td>\n      <td>NaN</td>\n      <td>NaN</td>\n      <td>...</td>\n      <td>NaN</td>\n      <td>NaN</td>\n      <td>NaN</td>\n      <td>NaN</td>\n      <td>NaN</td>\n      <td>NaN</td>\n      <td>NaN</td>\n      <td>NaN</td>\n      <td>NaN</td>\n      <td>NaN</td>\n    </tr>\n  </tbody>\n</table>\n<p>200 rows × 2262 columns</p>\n</div>"
     },
     "execution_count": 40,
     "metadata": {},
     "output_type": "execute_result"
    }
   ],
   "source": [
    "# Step 2. Keep only the movies that similar users have watched\n",
    "\n",
    "# Remove movies that none of the similar users have watched\n",
    "similar_user_movies = matrix_norm[matrix_norm.index.isin(similar_users.index)].dropna(axis=1, how='all')\n",
    "similar_user_movies"
   ],
   "metadata": {
    "collapsed": false
   }
  },
  {
   "cell_type": "code",
   "execution_count": 41,
   "outputs": [
    {
     "data": {
      "text/plain": "movieId      2     3     4     5     6     7     9     10        11    12    \\\nuserId                                                                        \n40       1.595506   NaN   NaN   NaN   NaN   NaN   NaN   NaN       NaN   NaN   \n66            NaN   NaN   NaN   NaN   NaN   NaN   NaN   NaN       NaN   NaN   \n72            NaN   NaN   NaN   NaN   NaN   NaN   NaN   NaN  1.333333   NaN   \n113           NaN   NaN   NaN   NaN   NaN   NaN   NaN   NaN       NaN   NaN   \n179           NaN   NaN   NaN   NaN   NaN   NaN   NaN   NaN       NaN   NaN   \n...           ...   ...   ...   ...   ...   ...   ...   ...       ...   ...   \n5882          NaN   NaN   NaN   NaN   NaN   NaN   NaN   NaN       NaN   NaN   \n5910          NaN   NaN   NaN   NaN   NaN   NaN   NaN   NaN       NaN   NaN   \n5919          NaN   NaN   NaN   NaN   NaN   NaN   NaN   NaN       NaN   NaN   \n5940          NaN   NaN   NaN   NaN   NaN   NaN   NaN   NaN       NaN   NaN   \n6033          NaN   NaN   NaN   NaN   NaN   NaN   NaN   NaN       NaN   NaN   \n\nmovieId  ...  3690  3691  3694  3697  3700  3702  3703  3704  3705      3706  \nuserId   ...                                                                  \n40       ...   NaN   NaN   NaN   NaN   NaN   NaN   NaN   NaN   NaN       NaN  \n66       ...   NaN   NaN   NaN   NaN   NaN   NaN   NaN   NaN   NaN       NaN  \n72       ...   NaN   NaN   NaN   NaN   NaN   NaN   NaN   NaN   NaN  1.333333  \n113      ...   NaN   NaN   NaN   NaN   NaN   NaN   NaN   NaN   NaN       NaN  \n179      ...   NaN   NaN   NaN   NaN   NaN   NaN   NaN   NaN   NaN       NaN  \n...      ...   ...   ...   ...   ...   ...   ...   ...   ...   ...       ...  \n5882     ...   NaN   NaN   NaN   NaN   NaN   NaN   NaN   NaN   NaN       NaN  \n5910     ...   NaN   NaN   NaN   NaN   NaN   NaN   NaN   NaN   NaN       NaN  \n5919     ...   NaN   NaN   NaN   NaN   NaN   NaN   NaN   NaN   NaN       NaN  \n5940     ...   NaN   NaN   NaN   NaN   NaN   NaN   NaN   NaN   NaN       NaN  \n6033     ...   NaN   NaN   NaN   NaN   NaN   NaN   NaN   NaN   NaN       NaN  \n\n[200 rows x 2219 columns]",
      "text/html": "<div>\n<style scoped>\n    .dataframe tbody tr th:only-of-type {\n        vertical-align: middle;\n    }\n\n    .dataframe tbody tr th {\n        vertical-align: top;\n    }\n\n    .dataframe thead th {\n        text-align: right;\n    }\n</style>\n<table border=\"1\" class=\"dataframe\">\n  <thead>\n    <tr style=\"text-align: right;\">\n      <th>movieId</th>\n      <th>2</th>\n      <th>3</th>\n      <th>4</th>\n      <th>5</th>\n      <th>6</th>\n      <th>7</th>\n      <th>9</th>\n      <th>10</th>\n      <th>11</th>\n      <th>12</th>\n      <th>...</th>\n      <th>3690</th>\n      <th>3691</th>\n      <th>3694</th>\n      <th>3697</th>\n      <th>3700</th>\n      <th>3702</th>\n      <th>3703</th>\n      <th>3704</th>\n      <th>3705</th>\n      <th>3706</th>\n    </tr>\n    <tr>\n      <th>userId</th>\n      <th></th>\n      <th></th>\n      <th></th>\n      <th></th>\n      <th></th>\n      <th></th>\n      <th></th>\n      <th></th>\n      <th></th>\n      <th></th>\n      <th></th>\n      <th></th>\n      <th></th>\n      <th></th>\n      <th></th>\n      <th></th>\n      <th></th>\n      <th></th>\n      <th></th>\n      <th></th>\n      <th></th>\n    </tr>\n  </thead>\n  <tbody>\n    <tr>\n      <th>40</th>\n      <td>1.595506</td>\n      <td>NaN</td>\n      <td>NaN</td>\n      <td>NaN</td>\n      <td>NaN</td>\n      <td>NaN</td>\n      <td>NaN</td>\n      <td>NaN</td>\n      <td>NaN</td>\n      <td>NaN</td>\n      <td>...</td>\n      <td>NaN</td>\n      <td>NaN</td>\n      <td>NaN</td>\n      <td>NaN</td>\n      <td>NaN</td>\n      <td>NaN</td>\n      <td>NaN</td>\n      <td>NaN</td>\n      <td>NaN</td>\n      <td>NaN</td>\n    </tr>\n    <tr>\n      <th>66</th>\n      <td>NaN</td>\n      <td>NaN</td>\n      <td>NaN</td>\n      <td>NaN</td>\n      <td>NaN</td>\n      <td>NaN</td>\n      <td>NaN</td>\n      <td>NaN</td>\n      <td>NaN</td>\n      <td>NaN</td>\n      <td>...</td>\n      <td>NaN</td>\n      <td>NaN</td>\n      <td>NaN</td>\n      <td>NaN</td>\n      <td>NaN</td>\n      <td>NaN</td>\n      <td>NaN</td>\n      <td>NaN</td>\n      <td>NaN</td>\n      <td>NaN</td>\n    </tr>\n    <tr>\n      <th>72</th>\n      <td>NaN</td>\n      <td>NaN</td>\n      <td>NaN</td>\n      <td>NaN</td>\n      <td>NaN</td>\n      <td>NaN</td>\n      <td>NaN</td>\n      <td>NaN</td>\n      <td>1.333333</td>\n      <td>NaN</td>\n      <td>...</td>\n      <td>NaN</td>\n      <td>NaN</td>\n      <td>NaN</td>\n      <td>NaN</td>\n      <td>NaN</td>\n      <td>NaN</td>\n      <td>NaN</td>\n      <td>NaN</td>\n      <td>NaN</td>\n      <td>1.333333</td>\n    </tr>\n    <tr>\n      <th>113</th>\n      <td>NaN</td>\n      <td>NaN</td>\n      <td>NaN</td>\n      <td>NaN</td>\n      <td>NaN</td>\n      <td>NaN</td>\n      <td>NaN</td>\n      <td>NaN</td>\n      <td>NaN</td>\n      <td>NaN</td>\n      <td>...</td>\n      <td>NaN</td>\n      <td>NaN</td>\n      <td>NaN</td>\n      <td>NaN</td>\n      <td>NaN</td>\n      <td>NaN</td>\n      <td>NaN</td>\n      <td>NaN</td>\n      <td>NaN</td>\n      <td>NaN</td>\n    </tr>\n    <tr>\n      <th>179</th>\n      <td>NaN</td>\n      <td>NaN</td>\n      <td>NaN</td>\n      <td>NaN</td>\n      <td>NaN</td>\n      <td>NaN</td>\n      <td>NaN</td>\n      <td>NaN</td>\n      <td>NaN</td>\n      <td>NaN</td>\n      <td>...</td>\n      <td>NaN</td>\n      <td>NaN</td>\n      <td>NaN</td>\n      <td>NaN</td>\n      <td>NaN</td>\n      <td>NaN</td>\n      <td>NaN</td>\n      <td>NaN</td>\n      <td>NaN</td>\n      <td>NaN</td>\n    </tr>\n    <tr>\n      <th>...</th>\n      <td>...</td>\n      <td>...</td>\n      <td>...</td>\n      <td>...</td>\n      <td>...</td>\n      <td>...</td>\n      <td>...</td>\n      <td>...</td>\n      <td>...</td>\n      <td>...</td>\n      <td>...</td>\n      <td>...</td>\n      <td>...</td>\n      <td>...</td>\n      <td>...</td>\n      <td>...</td>\n      <td>...</td>\n      <td>...</td>\n      <td>...</td>\n      <td>...</td>\n      <td>...</td>\n    </tr>\n    <tr>\n      <th>5882</th>\n      <td>NaN</td>\n      <td>NaN</td>\n      <td>NaN</td>\n      <td>NaN</td>\n      <td>NaN</td>\n      <td>NaN</td>\n      <td>NaN</td>\n      <td>NaN</td>\n      <td>NaN</td>\n      <td>NaN</td>\n      <td>...</td>\n      <td>NaN</td>\n      <td>NaN</td>\n      <td>NaN</td>\n      <td>NaN</td>\n      <td>NaN</td>\n      <td>NaN</td>\n      <td>NaN</td>\n      <td>NaN</td>\n      <td>NaN</td>\n      <td>NaN</td>\n    </tr>\n    <tr>\n      <th>5910</th>\n      <td>NaN</td>\n      <td>NaN</td>\n      <td>NaN</td>\n      <td>NaN</td>\n      <td>NaN</td>\n      <td>NaN</td>\n      <td>NaN</td>\n      <td>NaN</td>\n      <td>NaN</td>\n      <td>NaN</td>\n      <td>...</td>\n      <td>NaN</td>\n      <td>NaN</td>\n      <td>NaN</td>\n      <td>NaN</td>\n      <td>NaN</td>\n      <td>NaN</td>\n      <td>NaN</td>\n      <td>NaN</td>\n      <td>NaN</td>\n      <td>NaN</td>\n    </tr>\n    <tr>\n      <th>5919</th>\n      <td>NaN</td>\n      <td>NaN</td>\n      <td>NaN</td>\n      <td>NaN</td>\n      <td>NaN</td>\n      <td>NaN</td>\n      <td>NaN</td>\n      <td>NaN</td>\n      <td>NaN</td>\n      <td>NaN</td>\n      <td>...</td>\n      <td>NaN</td>\n      <td>NaN</td>\n      <td>NaN</td>\n      <td>NaN</td>\n      <td>NaN</td>\n      <td>NaN</td>\n      <td>NaN</td>\n      <td>NaN</td>\n      <td>NaN</td>\n      <td>NaN</td>\n    </tr>\n    <tr>\n      <th>5940</th>\n      <td>NaN</td>\n      <td>NaN</td>\n      <td>NaN</td>\n      <td>NaN</td>\n      <td>NaN</td>\n      <td>NaN</td>\n      <td>NaN</td>\n      <td>NaN</td>\n      <td>NaN</td>\n      <td>NaN</td>\n      <td>...</td>\n      <td>NaN</td>\n      <td>NaN</td>\n      <td>NaN</td>\n      <td>NaN</td>\n      <td>NaN</td>\n      <td>NaN</td>\n      <td>NaN</td>\n      <td>NaN</td>\n      <td>NaN</td>\n      <td>NaN</td>\n    </tr>\n    <tr>\n      <th>6033</th>\n      <td>NaN</td>\n      <td>NaN</td>\n      <td>NaN</td>\n      <td>NaN</td>\n      <td>NaN</td>\n      <td>NaN</td>\n      <td>NaN</td>\n      <td>NaN</td>\n      <td>NaN</td>\n      <td>NaN</td>\n      <td>...</td>\n      <td>NaN</td>\n      <td>NaN</td>\n      <td>NaN</td>\n      <td>NaN</td>\n      <td>NaN</td>\n      <td>NaN</td>\n      <td>NaN</td>\n      <td>NaN</td>\n      <td>NaN</td>\n      <td>NaN</td>\n    </tr>\n  </tbody>\n</table>\n<p>200 rows × 2219 columns</p>\n</div>"
     },
     "execution_count": 41,
     "metadata": {},
     "output_type": "execute_result"
    }
   ],
   "source": [
    "# Remove already watched movies\n",
    "similar_user_movies.drop(picked_userid_watched.columns,axis=1, inplace=True, errors='ignore') # drop cols if exits without error msgs.\n",
    "similar_user_movies"
   ],
   "metadata": {
    "collapsed": false
   }
  },
  {
   "cell_type": "code",
   "execution_count": 52,
   "outputs": [
    {
     "data": {
      "text/plain": "       userId  movieId  predicts\n0        1635     1914         0\n1        2077     2124         0\n2        3507     1582         0\n3        1117     2857         0\n4        5298     3281         0\n...       ...      ...       ...\n90014    1396     1159         0\n90015    2022     1272         0\n90016    1109     2319         0\n90017    2941     1273         0\n90018    1681      803         0\n\n[90019 rows x 3 columns]",
      "text/html": "<div>\n<style scoped>\n    .dataframe tbody tr th:only-of-type {\n        vertical-align: middle;\n    }\n\n    .dataframe tbody tr th {\n        vertical-align: top;\n    }\n\n    .dataframe thead th {\n        text-align: right;\n    }\n</style>\n<table border=\"1\" class=\"dataframe\">\n  <thead>\n    <tr style=\"text-align: right;\">\n      <th></th>\n      <th>userId</th>\n      <th>movieId</th>\n      <th>predicts</th>\n    </tr>\n  </thead>\n  <tbody>\n    <tr>\n      <th>0</th>\n      <td>1635</td>\n      <td>1914</td>\n      <td>0</td>\n    </tr>\n    <tr>\n      <th>1</th>\n      <td>2077</td>\n      <td>2124</td>\n      <td>0</td>\n    </tr>\n    <tr>\n      <th>2</th>\n      <td>3507</td>\n      <td>1582</td>\n      <td>0</td>\n    </tr>\n    <tr>\n      <th>3</th>\n      <td>1117</td>\n      <td>2857</td>\n      <td>0</td>\n    </tr>\n    <tr>\n      <th>4</th>\n      <td>5298</td>\n      <td>3281</td>\n      <td>0</td>\n    </tr>\n    <tr>\n      <th>...</th>\n      <td>...</td>\n      <td>...</td>\n      <td>...</td>\n    </tr>\n    <tr>\n      <th>90014</th>\n      <td>1396</td>\n      <td>1159</td>\n      <td>0</td>\n    </tr>\n    <tr>\n      <th>90015</th>\n      <td>2022</td>\n      <td>1272</td>\n      <td>0</td>\n    </tr>\n    <tr>\n      <th>90016</th>\n      <td>1109</td>\n      <td>2319</td>\n      <td>0</td>\n    </tr>\n    <tr>\n      <th>90017</th>\n      <td>2941</td>\n      <td>1273</td>\n      <td>0</td>\n    </tr>\n    <tr>\n      <th>90018</th>\n      <td>1681</td>\n      <td>803</td>\n      <td>0</td>\n    </tr>\n  </tbody>\n</table>\n<p>90019 rows × 3 columns</p>\n</div>"
     },
     "execution_count": 52,
     "metadata": {},
     "output_type": "execute_result"
    }
   ],
   "source": [
    "# Read predictions.csv\n",
    "\n",
    "predictions_colnames=['userId', 'movieId']\n",
    "predictions = pd.read_csv('cse2525-reccommender-systems-challenge/predictions.csv', sep=';', names=predictions_colnames)\n",
    "predictions"
   ],
   "metadata": {
    "collapsed": false
   }
  },
  {
   "cell_type": "code",
   "execution_count": 99,
   "outputs": [
    {
     "name": "stdout",
     "output_type": "stream",
     "text": [
      "(6041, 3707)\n"
     ]
    }
   ],
   "source": [
    "# Create `ans` matrix\n",
    "#ans = ratings.pivot_table(index='userId', columns='movieId', fill_value=0)\n",
    "#ans\n",
    "ans =  np.zeros((unique_users + 1, unique_movies + 1), dtype=np.int32 )\n",
    "print(ans.shape)"
   ],
   "metadata": {
    "collapsed": false
   }
  },
  {
   "cell_type": "code",
   "execution_count": null,
   "outputs": [
    {
     "name": "stderr",
     "output_type": "stream",
     "text": [
      "/var/folders/w6/yvwdncbx7qbgk26cz6r2f7s00000gn/T/ipykernel_1451/241414590.py:8: FutureWarning: The behavior of `series[i:j]` with an integer-dtype index is deprecated. In a future version, this will be treated as *label-based* indexing, consistent with e.g. `series[i]` lookups. To retain the old behavior, use `series.iloc[i:j]`. To get the future behavior, use `series.loc[i:j]`.\n",
      "  similar_users = user_similarity[user_similarity[idd] > user_similarity_threshold][idd].sort_values(ascending=False)[:k] # Print out top `k` similar users\n"
     ]
    },
    {
     "name": "stdout",
     "output_type": "stream",
     "text": [
      "1\n"
     ]
    },
    {
     "name": "stderr",
     "output_type": "stream",
     "text": [
      "/var/folders/w6/yvwdncbx7qbgk26cz6r2f7s00000gn/T/ipykernel_1451/241414590.py:8: FutureWarning: The behavior of `series[i:j]` with an integer-dtype index is deprecated. In a future version, this will be treated as *label-based* indexing, consistent with e.g. `series[i]` lookups. To retain the old behavior, use `series.iloc[i:j]`. To get the future behavior, use `series.loc[i:j]`.\n",
      "  similar_users = user_similarity[user_similarity[idd] > user_similarity_threshold][idd].sort_values(ascending=False)[:k] # Print out top `k` similar users\n"
     ]
    },
    {
     "name": "stdout",
     "output_type": "stream",
     "text": [
      "2\n"
     ]
    },
    {
     "name": "stderr",
     "output_type": "stream",
     "text": [
      "/var/folders/w6/yvwdncbx7qbgk26cz6r2f7s00000gn/T/ipykernel_1451/241414590.py:8: FutureWarning: The behavior of `series[i:j]` with an integer-dtype index is deprecated. In a future version, this will be treated as *label-based* indexing, consistent with e.g. `series[i]` lookups. To retain the old behavior, use `series.iloc[i:j]`. To get the future behavior, use `series.loc[i:j]`.\n",
      "  similar_users = user_similarity[user_similarity[idd] > user_similarity_threshold][idd].sort_values(ascending=False)[:k] # Print out top `k` similar users\n"
     ]
    },
    {
     "name": "stdout",
     "output_type": "stream",
     "text": [
      "3\n"
     ]
    },
    {
     "name": "stderr",
     "output_type": "stream",
     "text": [
      "/var/folders/w6/yvwdncbx7qbgk26cz6r2f7s00000gn/T/ipykernel_1451/241414590.py:8: FutureWarning: The behavior of `series[i:j]` with an integer-dtype index is deprecated. In a future version, this will be treated as *label-based* indexing, consistent with e.g. `series[i]` lookups. To retain the old behavior, use `series.iloc[i:j]`. To get the future behavior, use `series.loc[i:j]`.\n",
      "  similar_users = user_similarity[user_similarity[idd] > user_similarity_threshold][idd].sort_values(ascending=False)[:k] # Print out top `k` similar users\n"
     ]
    },
    {
     "name": "stdout",
     "output_type": "stream",
     "text": [
      "4\n"
     ]
    },
    {
     "name": "stderr",
     "output_type": "stream",
     "text": [
      "/var/folders/w6/yvwdncbx7qbgk26cz6r2f7s00000gn/T/ipykernel_1451/241414590.py:8: FutureWarning: The behavior of `series[i:j]` with an integer-dtype index is deprecated. In a future version, this will be treated as *label-based* indexing, consistent with e.g. `series[i]` lookups. To retain the old behavior, use `series.iloc[i:j]`. To get the future behavior, use `series.loc[i:j]`.\n",
      "  similar_users = user_similarity[user_similarity[idd] > user_similarity_threshold][idd].sort_values(ascending=False)[:k] # Print out top `k` similar users\n"
     ]
    },
    {
     "name": "stdout",
     "output_type": "stream",
     "text": [
      "5\n"
     ]
    },
    {
     "name": "stderr",
     "output_type": "stream",
     "text": [
      "/var/folders/w6/yvwdncbx7qbgk26cz6r2f7s00000gn/T/ipykernel_1451/241414590.py:8: FutureWarning: The behavior of `series[i:j]` with an integer-dtype index is deprecated. In a future version, this will be treated as *label-based* indexing, consistent with e.g. `series[i]` lookups. To retain the old behavior, use `series.iloc[i:j]`. To get the future behavior, use `series.loc[i:j]`.\n",
      "  similar_users = user_similarity[user_similarity[idd] > user_similarity_threshold][idd].sort_values(ascending=False)[:k] # Print out top `k` similar users\n"
     ]
    },
    {
     "name": "stdout",
     "output_type": "stream",
     "text": [
      "6\n"
     ]
    },
    {
     "name": "stderr",
     "output_type": "stream",
     "text": [
      "/var/folders/w6/yvwdncbx7qbgk26cz6r2f7s00000gn/T/ipykernel_1451/241414590.py:8: FutureWarning: The behavior of `series[i:j]` with an integer-dtype index is deprecated. In a future version, this will be treated as *label-based* indexing, consistent with e.g. `series[i]` lookups. To retain the old behavior, use `series.iloc[i:j]`. To get the future behavior, use `series.loc[i:j]`.\n",
      "  similar_users = user_similarity[user_similarity[idd] > user_similarity_threshold][idd].sort_values(ascending=False)[:k] # Print out top `k` similar users\n"
     ]
    },
    {
     "name": "stdout",
     "output_type": "stream",
     "text": [
      "7\n"
     ]
    },
    {
     "name": "stderr",
     "output_type": "stream",
     "text": [
      "/var/folders/w6/yvwdncbx7qbgk26cz6r2f7s00000gn/T/ipykernel_1451/241414590.py:8: FutureWarning: The behavior of `series[i:j]` with an integer-dtype index is deprecated. In a future version, this will be treated as *label-based* indexing, consistent with e.g. `series[i]` lookups. To retain the old behavior, use `series.iloc[i:j]`. To get the future behavior, use `series.loc[i:j]`.\n",
      "  similar_users = user_similarity[user_similarity[idd] > user_similarity_threshold][idd].sort_values(ascending=False)[:k] # Print out top `k` similar users\n"
     ]
    },
    {
     "name": "stdout",
     "output_type": "stream",
     "text": [
      "8\n"
     ]
    },
    {
     "name": "stderr",
     "output_type": "stream",
     "text": [
      "/var/folders/w6/yvwdncbx7qbgk26cz6r2f7s00000gn/T/ipykernel_1451/241414590.py:8: FutureWarning: The behavior of `series[i:j]` with an integer-dtype index is deprecated. In a future version, this will be treated as *label-based* indexing, consistent with e.g. `series[i]` lookups. To retain the old behavior, use `series.iloc[i:j]`. To get the future behavior, use `series.loc[i:j]`.\n",
      "  similar_users = user_similarity[user_similarity[idd] > user_similarity_threshold][idd].sort_values(ascending=False)[:k] # Print out top `k` similar users\n"
     ]
    },
    {
     "name": "stdout",
     "output_type": "stream",
     "text": [
      "9\n"
     ]
    },
    {
     "name": "stderr",
     "output_type": "stream",
     "text": [
      "/var/folders/w6/yvwdncbx7qbgk26cz6r2f7s00000gn/T/ipykernel_1451/241414590.py:8: FutureWarning: The behavior of `series[i:j]` with an integer-dtype index is deprecated. In a future version, this will be treated as *label-based* indexing, consistent with e.g. `series[i]` lookups. To retain the old behavior, use `series.iloc[i:j]`. To get the future behavior, use `series.loc[i:j]`.\n",
      "  similar_users = user_similarity[user_similarity[idd] > user_similarity_threshold][idd].sort_values(ascending=False)[:k] # Print out top `k` similar users\n"
     ]
    },
    {
     "name": "stdout",
     "output_type": "stream",
     "text": [
      "10\n"
     ]
    },
    {
     "name": "stderr",
     "output_type": "stream",
     "text": [
      "/var/folders/w6/yvwdncbx7qbgk26cz6r2f7s00000gn/T/ipykernel_1451/241414590.py:8: FutureWarning: The behavior of `series[i:j]` with an integer-dtype index is deprecated. In a future version, this will be treated as *label-based* indexing, consistent with e.g. `series[i]` lookups. To retain the old behavior, use `series.iloc[i:j]`. To get the future behavior, use `series.loc[i:j]`.\n",
      "  similar_users = user_similarity[user_similarity[idd] > user_similarity_threshold][idd].sort_values(ascending=False)[:k] # Print out top `k` similar users\n"
     ]
    },
    {
     "name": "stdout",
     "output_type": "stream",
     "text": [
      "11\n"
     ]
    },
    {
     "name": "stderr",
     "output_type": "stream",
     "text": [
      "/var/folders/w6/yvwdncbx7qbgk26cz6r2f7s00000gn/T/ipykernel_1451/241414590.py:8: FutureWarning: The behavior of `series[i:j]` with an integer-dtype index is deprecated. In a future version, this will be treated as *label-based* indexing, consistent with e.g. `series[i]` lookups. To retain the old behavior, use `series.iloc[i:j]`. To get the future behavior, use `series.loc[i:j]`.\n",
      "  similar_users = user_similarity[user_similarity[idd] > user_similarity_threshold][idd].sort_values(ascending=False)[:k] # Print out top `k` similar users\n"
     ]
    },
    {
     "name": "stdout",
     "output_type": "stream",
     "text": [
      "12\n"
     ]
    },
    {
     "name": "stderr",
     "output_type": "stream",
     "text": [
      "/var/folders/w6/yvwdncbx7qbgk26cz6r2f7s00000gn/T/ipykernel_1451/241414590.py:8: FutureWarning: The behavior of `series[i:j]` with an integer-dtype index is deprecated. In a future version, this will be treated as *label-based* indexing, consistent with e.g. `series[i]` lookups. To retain the old behavior, use `series.iloc[i:j]`. To get the future behavior, use `series.loc[i:j]`.\n",
      "  similar_users = user_similarity[user_similarity[idd] > user_similarity_threshold][idd].sort_values(ascending=False)[:k] # Print out top `k` similar users\n"
     ]
    },
    {
     "name": "stdout",
     "output_type": "stream",
     "text": [
      "13\n"
     ]
    },
    {
     "name": "stderr",
     "output_type": "stream",
     "text": [
      "/var/folders/w6/yvwdncbx7qbgk26cz6r2f7s00000gn/T/ipykernel_1451/241414590.py:8: FutureWarning: The behavior of `series[i:j]` with an integer-dtype index is deprecated. In a future version, this will be treated as *label-based* indexing, consistent with e.g. `series[i]` lookups. To retain the old behavior, use `series.iloc[i:j]`. To get the future behavior, use `series.loc[i:j]`.\n",
      "  similar_users = user_similarity[user_similarity[idd] > user_similarity_threshold][idd].sort_values(ascending=False)[:k] # Print out top `k` similar users\n"
     ]
    },
    {
     "name": "stdout",
     "output_type": "stream",
     "text": [
      "14\n"
     ]
    },
    {
     "name": "stderr",
     "output_type": "stream",
     "text": [
      "/var/folders/w6/yvwdncbx7qbgk26cz6r2f7s00000gn/T/ipykernel_1451/241414590.py:8: FutureWarning: The behavior of `series[i:j]` with an integer-dtype index is deprecated. In a future version, this will be treated as *label-based* indexing, consistent with e.g. `series[i]` lookups. To retain the old behavior, use `series.iloc[i:j]`. To get the future behavior, use `series.loc[i:j]`.\n",
      "  similar_users = user_similarity[user_similarity[idd] > user_similarity_threshold][idd].sort_values(ascending=False)[:k] # Print out top `k` similar users\n"
     ]
    },
    {
     "name": "stdout",
     "output_type": "stream",
     "text": [
      "15\n"
     ]
    },
    {
     "name": "stderr",
     "output_type": "stream",
     "text": [
      "/var/folders/w6/yvwdncbx7qbgk26cz6r2f7s00000gn/T/ipykernel_1451/241414590.py:8: FutureWarning: The behavior of `series[i:j]` with an integer-dtype index is deprecated. In a future version, this will be treated as *label-based* indexing, consistent with e.g. `series[i]` lookups. To retain the old behavior, use `series.iloc[i:j]`. To get the future behavior, use `series.loc[i:j]`.\n",
      "  similar_users = user_similarity[user_similarity[idd] > user_similarity_threshold][idd].sort_values(ascending=False)[:k] # Print out top `k` similar users\n"
     ]
    },
    {
     "name": "stdout",
     "output_type": "stream",
     "text": [
      "16\n"
     ]
    },
    {
     "name": "stderr",
     "output_type": "stream",
     "text": [
      "/var/folders/w6/yvwdncbx7qbgk26cz6r2f7s00000gn/T/ipykernel_1451/241414590.py:8: FutureWarning: The behavior of `series[i:j]` with an integer-dtype index is deprecated. In a future version, this will be treated as *label-based* indexing, consistent with e.g. `series[i]` lookups. To retain the old behavior, use `series.iloc[i:j]`. To get the future behavior, use `series.loc[i:j]`.\n",
      "  similar_users = user_similarity[user_similarity[idd] > user_similarity_threshold][idd].sort_values(ascending=False)[:k] # Print out top `k` similar users\n"
     ]
    },
    {
     "name": "stdout",
     "output_type": "stream",
     "text": [
      "17\n"
     ]
    },
    {
     "name": "stderr",
     "output_type": "stream",
     "text": [
      "/var/folders/w6/yvwdncbx7qbgk26cz6r2f7s00000gn/T/ipykernel_1451/241414590.py:8: FutureWarning: The behavior of `series[i:j]` with an integer-dtype index is deprecated. In a future version, this will be treated as *label-based* indexing, consistent with e.g. `series[i]` lookups. To retain the old behavior, use `series.iloc[i:j]`. To get the future behavior, use `series.loc[i:j]`.\n",
      "  similar_users = user_similarity[user_similarity[idd] > user_similarity_threshold][idd].sort_values(ascending=False)[:k] # Print out top `k` similar users\n"
     ]
    },
    {
     "name": "stdout",
     "output_type": "stream",
     "text": [
      "18\n"
     ]
    },
    {
     "name": "stderr",
     "output_type": "stream",
     "text": [
      "/var/folders/w6/yvwdncbx7qbgk26cz6r2f7s00000gn/T/ipykernel_1451/241414590.py:8: FutureWarning: The behavior of `series[i:j]` with an integer-dtype index is deprecated. In a future version, this will be treated as *label-based* indexing, consistent with e.g. `series[i]` lookups. To retain the old behavior, use `series.iloc[i:j]`. To get the future behavior, use `series.loc[i:j]`.\n",
      "  similar_users = user_similarity[user_similarity[idd] > user_similarity_threshold][idd].sort_values(ascending=False)[:k] # Print out top `k` similar users\n"
     ]
    },
    {
     "name": "stdout",
     "output_type": "stream",
     "text": [
      "19\n"
     ]
    },
    {
     "name": "stderr",
     "output_type": "stream",
     "text": [
      "/var/folders/w6/yvwdncbx7qbgk26cz6r2f7s00000gn/T/ipykernel_1451/241414590.py:8: FutureWarning: The behavior of `series[i:j]` with an integer-dtype index is deprecated. In a future version, this will be treated as *label-based* indexing, consistent with e.g. `series[i]` lookups. To retain the old behavior, use `series.iloc[i:j]`. To get the future behavior, use `series.loc[i:j]`.\n",
      "  similar_users = user_similarity[user_similarity[idd] > user_similarity_threshold][idd].sort_values(ascending=False)[:k] # Print out top `k` similar users\n"
     ]
    },
    {
     "name": "stdout",
     "output_type": "stream",
     "text": [
      "20\n"
     ]
    },
    {
     "name": "stderr",
     "output_type": "stream",
     "text": [
      "/var/folders/w6/yvwdncbx7qbgk26cz6r2f7s00000gn/T/ipykernel_1451/241414590.py:8: FutureWarning: The behavior of `series[i:j]` with an integer-dtype index is deprecated. In a future version, this will be treated as *label-based* indexing, consistent with e.g. `series[i]` lookups. To retain the old behavior, use `series.iloc[i:j]`. To get the future behavior, use `series.loc[i:j]`.\n",
      "  similar_users = user_similarity[user_similarity[idd] > user_similarity_threshold][idd].sort_values(ascending=False)[:k] # Print out top `k` similar users\n"
     ]
    },
    {
     "name": "stdout",
     "output_type": "stream",
     "text": [
      "21\n"
     ]
    },
    {
     "name": "stderr",
     "output_type": "stream",
     "text": [
      "/var/folders/w6/yvwdncbx7qbgk26cz6r2f7s00000gn/T/ipykernel_1451/241414590.py:8: FutureWarning: The behavior of `series[i:j]` with an integer-dtype index is deprecated. In a future version, this will be treated as *label-based* indexing, consistent with e.g. `series[i]` lookups. To retain the old behavior, use `series.iloc[i:j]`. To get the future behavior, use `series.loc[i:j]`.\n",
      "  similar_users = user_similarity[user_similarity[idd] > user_similarity_threshold][idd].sort_values(ascending=False)[:k] # Print out top `k` similar users\n"
     ]
    },
    {
     "name": "stdout",
     "output_type": "stream",
     "text": [
      "22\n"
     ]
    },
    {
     "name": "stderr",
     "output_type": "stream",
     "text": [
      "/var/folders/w6/yvwdncbx7qbgk26cz6r2f7s00000gn/T/ipykernel_1451/241414590.py:8: FutureWarning: The behavior of `series[i:j]` with an integer-dtype index is deprecated. In a future version, this will be treated as *label-based* indexing, consistent with e.g. `series[i]` lookups. To retain the old behavior, use `series.iloc[i:j]`. To get the future behavior, use `series.loc[i:j]`.\n",
      "  similar_users = user_similarity[user_similarity[idd] > user_similarity_threshold][idd].sort_values(ascending=False)[:k] # Print out top `k` similar users\n"
     ]
    },
    {
     "name": "stdout",
     "output_type": "stream",
     "text": [
      "23\n"
     ]
    },
    {
     "name": "stderr",
     "output_type": "stream",
     "text": [
      "/var/folders/w6/yvwdncbx7qbgk26cz6r2f7s00000gn/T/ipykernel_1451/241414590.py:8: FutureWarning: The behavior of `series[i:j]` with an integer-dtype index is deprecated. In a future version, this will be treated as *label-based* indexing, consistent with e.g. `series[i]` lookups. To retain the old behavior, use `series.iloc[i:j]`. To get the future behavior, use `series.loc[i:j]`.\n",
      "  similar_users = user_similarity[user_similarity[idd] > user_similarity_threshold][idd].sort_values(ascending=False)[:k] # Print out top `k` similar users\n"
     ]
    },
    {
     "name": "stdout",
     "output_type": "stream",
     "text": [
      "24\n"
     ]
    },
    {
     "name": "stderr",
     "output_type": "stream",
     "text": [
      "/var/folders/w6/yvwdncbx7qbgk26cz6r2f7s00000gn/T/ipykernel_1451/241414590.py:8: FutureWarning: The behavior of `series[i:j]` with an integer-dtype index is deprecated. In a future version, this will be treated as *label-based* indexing, consistent with e.g. `series[i]` lookups. To retain the old behavior, use `series.iloc[i:j]`. To get the future behavior, use `series.loc[i:j]`.\n",
      "  similar_users = user_similarity[user_similarity[idd] > user_similarity_threshold][idd].sort_values(ascending=False)[:k] # Print out top `k` similar users\n"
     ]
    },
    {
     "name": "stdout",
     "output_type": "stream",
     "text": [
      "25\n"
     ]
    },
    {
     "name": "stderr",
     "output_type": "stream",
     "text": [
      "/var/folders/w6/yvwdncbx7qbgk26cz6r2f7s00000gn/T/ipykernel_1451/241414590.py:8: FutureWarning: The behavior of `series[i:j]` with an integer-dtype index is deprecated. In a future version, this will be treated as *label-based* indexing, consistent with e.g. `series[i]` lookups. To retain the old behavior, use `series.iloc[i:j]`. To get the future behavior, use `series.loc[i:j]`.\n",
      "  similar_users = user_similarity[user_similarity[idd] > user_similarity_threshold][idd].sort_values(ascending=False)[:k] # Print out top `k` similar users\n"
     ]
    },
    {
     "name": "stdout",
     "output_type": "stream",
     "text": [
      "26\n"
     ]
    },
    {
     "name": "stderr",
     "output_type": "stream",
     "text": [
      "/var/folders/w6/yvwdncbx7qbgk26cz6r2f7s00000gn/T/ipykernel_1451/241414590.py:8: FutureWarning: The behavior of `series[i:j]` with an integer-dtype index is deprecated. In a future version, this will be treated as *label-based* indexing, consistent with e.g. `series[i]` lookups. To retain the old behavior, use `series.iloc[i:j]`. To get the future behavior, use `series.loc[i:j]`.\n",
      "  similar_users = user_similarity[user_similarity[idd] > user_similarity_threshold][idd].sort_values(ascending=False)[:k] # Print out top `k` similar users\n"
     ]
    },
    {
     "name": "stdout",
     "output_type": "stream",
     "text": [
      "27\n"
     ]
    },
    {
     "name": "stderr",
     "output_type": "stream",
     "text": [
      "/var/folders/w6/yvwdncbx7qbgk26cz6r2f7s00000gn/T/ipykernel_1451/241414590.py:8: FutureWarning: The behavior of `series[i:j]` with an integer-dtype index is deprecated. In a future version, this will be treated as *label-based* indexing, consistent with e.g. `series[i]` lookups. To retain the old behavior, use `series.iloc[i:j]`. To get the future behavior, use `series.loc[i:j]`.\n",
      "  similar_users = user_similarity[user_similarity[idd] > user_similarity_threshold][idd].sort_values(ascending=False)[:k] # Print out top `k` similar users\n"
     ]
    },
    {
     "name": "stdout",
     "output_type": "stream",
     "text": [
      "28\n"
     ]
    },
    {
     "name": "stderr",
     "output_type": "stream",
     "text": [
      "/var/folders/w6/yvwdncbx7qbgk26cz6r2f7s00000gn/T/ipykernel_1451/241414590.py:8: FutureWarning: The behavior of `series[i:j]` with an integer-dtype index is deprecated. In a future version, this will be treated as *label-based* indexing, consistent with e.g. `series[i]` lookups. To retain the old behavior, use `series.iloc[i:j]`. To get the future behavior, use `series.loc[i:j]`.\n",
      "  similar_users = user_similarity[user_similarity[idd] > user_similarity_threshold][idd].sort_values(ascending=False)[:k] # Print out top `k` similar users\n"
     ]
    },
    {
     "name": "stdout",
     "output_type": "stream",
     "text": [
      "29\n"
     ]
    },
    {
     "name": "stderr",
     "output_type": "stream",
     "text": [
      "/var/folders/w6/yvwdncbx7qbgk26cz6r2f7s00000gn/T/ipykernel_1451/241414590.py:8: FutureWarning: The behavior of `series[i:j]` with an integer-dtype index is deprecated. In a future version, this will be treated as *label-based* indexing, consistent with e.g. `series[i]` lookups. To retain the old behavior, use `series.iloc[i:j]`. To get the future behavior, use `series.loc[i:j]`.\n",
      "  similar_users = user_similarity[user_similarity[idd] > user_similarity_threshold][idd].sort_values(ascending=False)[:k] # Print out top `k` similar users\n"
     ]
    },
    {
     "name": "stdout",
     "output_type": "stream",
     "text": [
      "30\n"
     ]
    },
    {
     "name": "stderr",
     "output_type": "stream",
     "text": [
      "/var/folders/w6/yvwdncbx7qbgk26cz6r2f7s00000gn/T/ipykernel_1451/241414590.py:8: FutureWarning: The behavior of `series[i:j]` with an integer-dtype index is deprecated. In a future version, this will be treated as *label-based* indexing, consistent with e.g. `series[i]` lookups. To retain the old behavior, use `series.iloc[i:j]`. To get the future behavior, use `series.loc[i:j]`.\n",
      "  similar_users = user_similarity[user_similarity[idd] > user_similarity_threshold][idd].sort_values(ascending=False)[:k] # Print out top `k` similar users\n"
     ]
    },
    {
     "name": "stdout",
     "output_type": "stream",
     "text": [
      "31\n"
     ]
    },
    {
     "name": "stderr",
     "output_type": "stream",
     "text": [
      "/var/folders/w6/yvwdncbx7qbgk26cz6r2f7s00000gn/T/ipykernel_1451/241414590.py:8: FutureWarning: The behavior of `series[i:j]` with an integer-dtype index is deprecated. In a future version, this will be treated as *label-based* indexing, consistent with e.g. `series[i]` lookups. To retain the old behavior, use `series.iloc[i:j]`. To get the future behavior, use `series.loc[i:j]`.\n",
      "  similar_users = user_similarity[user_similarity[idd] > user_similarity_threshold][idd].sort_values(ascending=False)[:k] # Print out top `k` similar users\n"
     ]
    },
    {
     "name": "stdout",
     "output_type": "stream",
     "text": [
      "32\n"
     ]
    },
    {
     "name": "stderr",
     "output_type": "stream",
     "text": [
      "/var/folders/w6/yvwdncbx7qbgk26cz6r2f7s00000gn/T/ipykernel_1451/241414590.py:8: FutureWarning: The behavior of `series[i:j]` with an integer-dtype index is deprecated. In a future version, this will be treated as *label-based* indexing, consistent with e.g. `series[i]` lookups. To retain the old behavior, use `series.iloc[i:j]`. To get the future behavior, use `series.loc[i:j]`.\n",
      "  similar_users = user_similarity[user_similarity[idd] > user_similarity_threshold][idd].sort_values(ascending=False)[:k] # Print out top `k` similar users\n"
     ]
    },
    {
     "name": "stdout",
     "output_type": "stream",
     "text": [
      "33\n"
     ]
    },
    {
     "name": "stderr",
     "output_type": "stream",
     "text": [
      "/var/folders/w6/yvwdncbx7qbgk26cz6r2f7s00000gn/T/ipykernel_1451/241414590.py:8: FutureWarning: The behavior of `series[i:j]` with an integer-dtype index is deprecated. In a future version, this will be treated as *label-based* indexing, consistent with e.g. `series[i]` lookups. To retain the old behavior, use `series.iloc[i:j]`. To get the future behavior, use `series.loc[i:j]`.\n",
      "  similar_users = user_similarity[user_similarity[idd] > user_similarity_threshold][idd].sort_values(ascending=False)[:k] # Print out top `k` similar users\n"
     ]
    },
    {
     "name": "stdout",
     "output_type": "stream",
     "text": [
      "34\n"
     ]
    },
    {
     "name": "stderr",
     "output_type": "stream",
     "text": [
      "/var/folders/w6/yvwdncbx7qbgk26cz6r2f7s00000gn/T/ipykernel_1451/241414590.py:8: FutureWarning: The behavior of `series[i:j]` with an integer-dtype index is deprecated. In a future version, this will be treated as *label-based* indexing, consistent with e.g. `series[i]` lookups. To retain the old behavior, use `series.iloc[i:j]`. To get the future behavior, use `series.loc[i:j]`.\n",
      "  similar_users = user_similarity[user_similarity[idd] > user_similarity_threshold][idd].sort_values(ascending=False)[:k] # Print out top `k` similar users\n"
     ]
    },
    {
     "name": "stdout",
     "output_type": "stream",
     "text": [
      "35\n"
     ]
    },
    {
     "name": "stderr",
     "output_type": "stream",
     "text": [
      "/var/folders/w6/yvwdncbx7qbgk26cz6r2f7s00000gn/T/ipykernel_1451/241414590.py:8: FutureWarning: The behavior of `series[i:j]` with an integer-dtype index is deprecated. In a future version, this will be treated as *label-based* indexing, consistent with e.g. `series[i]` lookups. To retain the old behavior, use `series.iloc[i:j]`. To get the future behavior, use `series.loc[i:j]`.\n",
      "  similar_users = user_similarity[user_similarity[idd] > user_similarity_threshold][idd].sort_values(ascending=False)[:k] # Print out top `k` similar users\n"
     ]
    },
    {
     "name": "stdout",
     "output_type": "stream",
     "text": [
      "36\n"
     ]
    },
    {
     "name": "stderr",
     "output_type": "stream",
     "text": [
      "/var/folders/w6/yvwdncbx7qbgk26cz6r2f7s00000gn/T/ipykernel_1451/241414590.py:8: FutureWarning: The behavior of `series[i:j]` with an integer-dtype index is deprecated. In a future version, this will be treated as *label-based* indexing, consistent with e.g. `series[i]` lookups. To retain the old behavior, use `series.iloc[i:j]`. To get the future behavior, use `series.loc[i:j]`.\n",
      "  similar_users = user_similarity[user_similarity[idd] > user_similarity_threshold][idd].sort_values(ascending=False)[:k] # Print out top `k` similar users\n"
     ]
    },
    {
     "name": "stdout",
     "output_type": "stream",
     "text": [
      "37\n"
     ]
    },
    {
     "name": "stderr",
     "output_type": "stream",
     "text": [
      "/var/folders/w6/yvwdncbx7qbgk26cz6r2f7s00000gn/T/ipykernel_1451/241414590.py:8: FutureWarning: The behavior of `series[i:j]` with an integer-dtype index is deprecated. In a future version, this will be treated as *label-based* indexing, consistent with e.g. `series[i]` lookups. To retain the old behavior, use `series.iloc[i:j]`. To get the future behavior, use `series.loc[i:j]`.\n",
      "  similar_users = user_similarity[user_similarity[idd] > user_similarity_threshold][idd].sort_values(ascending=False)[:k] # Print out top `k` similar users\n"
     ]
    },
    {
     "name": "stdout",
     "output_type": "stream",
     "text": [
      "38\n"
     ]
    },
    {
     "name": "stderr",
     "output_type": "stream",
     "text": [
      "/var/folders/w6/yvwdncbx7qbgk26cz6r2f7s00000gn/T/ipykernel_1451/241414590.py:8: FutureWarning: The behavior of `series[i:j]` with an integer-dtype index is deprecated. In a future version, this will be treated as *label-based* indexing, consistent with e.g. `series[i]` lookups. To retain the old behavior, use `series.iloc[i:j]`. To get the future behavior, use `series.loc[i:j]`.\n",
      "  similar_users = user_similarity[user_similarity[idd] > user_similarity_threshold][idd].sort_values(ascending=False)[:k] # Print out top `k` similar users\n"
     ]
    },
    {
     "name": "stdout",
     "output_type": "stream",
     "text": [
      "39\n"
     ]
    },
    {
     "name": "stderr",
     "output_type": "stream",
     "text": [
      "/var/folders/w6/yvwdncbx7qbgk26cz6r2f7s00000gn/T/ipykernel_1451/241414590.py:8: FutureWarning: The behavior of `series[i:j]` with an integer-dtype index is deprecated. In a future version, this will be treated as *label-based* indexing, consistent with e.g. `series[i]` lookups. To retain the old behavior, use `series.iloc[i:j]`. To get the future behavior, use `series.loc[i:j]`.\n",
      "  similar_users = user_similarity[user_similarity[idd] > user_similarity_threshold][idd].sort_values(ascending=False)[:k] # Print out top `k` similar users\n"
     ]
    },
    {
     "name": "stdout",
     "output_type": "stream",
     "text": [
      "40\n"
     ]
    },
    {
     "name": "stderr",
     "output_type": "stream",
     "text": [
      "/var/folders/w6/yvwdncbx7qbgk26cz6r2f7s00000gn/T/ipykernel_1451/241414590.py:8: FutureWarning: The behavior of `series[i:j]` with an integer-dtype index is deprecated. In a future version, this will be treated as *label-based* indexing, consistent with e.g. `series[i]` lookups. To retain the old behavior, use `series.iloc[i:j]`. To get the future behavior, use `series.loc[i:j]`.\n",
      "  similar_users = user_similarity[user_similarity[idd] > user_similarity_threshold][idd].sort_values(ascending=False)[:k] # Print out top `k` similar users\n"
     ]
    },
    {
     "name": "stdout",
     "output_type": "stream",
     "text": [
      "41\n"
     ]
    },
    {
     "name": "stderr",
     "output_type": "stream",
     "text": [
      "/var/folders/w6/yvwdncbx7qbgk26cz6r2f7s00000gn/T/ipykernel_1451/241414590.py:8: FutureWarning: The behavior of `series[i:j]` with an integer-dtype index is deprecated. In a future version, this will be treated as *label-based* indexing, consistent with e.g. `series[i]` lookups. To retain the old behavior, use `series.iloc[i:j]`. To get the future behavior, use `series.loc[i:j]`.\n",
      "  similar_users = user_similarity[user_similarity[idd] > user_similarity_threshold][idd].sort_values(ascending=False)[:k] # Print out top `k` similar users\n"
     ]
    },
    {
     "name": "stdout",
     "output_type": "stream",
     "text": [
      "42\n"
     ]
    },
    {
     "name": "stderr",
     "output_type": "stream",
     "text": [
      "/var/folders/w6/yvwdncbx7qbgk26cz6r2f7s00000gn/T/ipykernel_1451/241414590.py:8: FutureWarning: The behavior of `series[i:j]` with an integer-dtype index is deprecated. In a future version, this will be treated as *label-based* indexing, consistent with e.g. `series[i]` lookups. To retain the old behavior, use `series.iloc[i:j]`. To get the future behavior, use `series.loc[i:j]`.\n",
      "  similar_users = user_similarity[user_similarity[idd] > user_similarity_threshold][idd].sort_values(ascending=False)[:k] # Print out top `k` similar users\n"
     ]
    },
    {
     "name": "stdout",
     "output_type": "stream",
     "text": [
      "43\n"
     ]
    },
    {
     "name": "stderr",
     "output_type": "stream",
     "text": [
      "/var/folders/w6/yvwdncbx7qbgk26cz6r2f7s00000gn/T/ipykernel_1451/241414590.py:8: FutureWarning: The behavior of `series[i:j]` with an integer-dtype index is deprecated. In a future version, this will be treated as *label-based* indexing, consistent with e.g. `series[i]` lookups. To retain the old behavior, use `series.iloc[i:j]`. To get the future behavior, use `series.loc[i:j]`.\n",
      "  similar_users = user_similarity[user_similarity[idd] > user_similarity_threshold][idd].sort_values(ascending=False)[:k] # Print out top `k` similar users\n"
     ]
    },
    {
     "name": "stdout",
     "output_type": "stream",
     "text": [
      "44\n"
     ]
    },
    {
     "name": "stderr",
     "output_type": "stream",
     "text": [
      "/var/folders/w6/yvwdncbx7qbgk26cz6r2f7s00000gn/T/ipykernel_1451/241414590.py:8: FutureWarning: The behavior of `series[i:j]` with an integer-dtype index is deprecated. In a future version, this will be treated as *label-based* indexing, consistent with e.g. `series[i]` lookups. To retain the old behavior, use `series.iloc[i:j]`. To get the future behavior, use `series.loc[i:j]`.\n",
      "  similar_users = user_similarity[user_similarity[idd] > user_similarity_threshold][idd].sort_values(ascending=False)[:k] # Print out top `k` similar users\n"
     ]
    },
    {
     "name": "stdout",
     "output_type": "stream",
     "text": [
      "45\n"
     ]
    },
    {
     "name": "stderr",
     "output_type": "stream",
     "text": [
      "/var/folders/w6/yvwdncbx7qbgk26cz6r2f7s00000gn/T/ipykernel_1451/241414590.py:8: FutureWarning: The behavior of `series[i:j]` with an integer-dtype index is deprecated. In a future version, this will be treated as *label-based* indexing, consistent with e.g. `series[i]` lookups. To retain the old behavior, use `series.iloc[i:j]`. To get the future behavior, use `series.loc[i:j]`.\n",
      "  similar_users = user_similarity[user_similarity[idd] > user_similarity_threshold][idd].sort_values(ascending=False)[:k] # Print out top `k` similar users\n"
     ]
    },
    {
     "name": "stdout",
     "output_type": "stream",
     "text": [
      "46\n"
     ]
    },
    {
     "name": "stderr",
     "output_type": "stream",
     "text": [
      "/var/folders/w6/yvwdncbx7qbgk26cz6r2f7s00000gn/T/ipykernel_1451/241414590.py:8: FutureWarning: The behavior of `series[i:j]` with an integer-dtype index is deprecated. In a future version, this will be treated as *label-based* indexing, consistent with e.g. `series[i]` lookups. To retain the old behavior, use `series.iloc[i:j]`. To get the future behavior, use `series.loc[i:j]`.\n",
      "  similar_users = user_similarity[user_similarity[idd] > user_similarity_threshold][idd].sort_values(ascending=False)[:k] # Print out top `k` similar users\n"
     ]
    },
    {
     "name": "stdout",
     "output_type": "stream",
     "text": [
      "47\n"
     ]
    },
    {
     "name": "stderr",
     "output_type": "stream",
     "text": [
      "/var/folders/w6/yvwdncbx7qbgk26cz6r2f7s00000gn/T/ipykernel_1451/241414590.py:8: FutureWarning: The behavior of `series[i:j]` with an integer-dtype index is deprecated. In a future version, this will be treated as *label-based* indexing, consistent with e.g. `series[i]` lookups. To retain the old behavior, use `series.iloc[i:j]`. To get the future behavior, use `series.loc[i:j]`.\n",
      "  similar_users = user_similarity[user_similarity[idd] > user_similarity_threshold][idd].sort_values(ascending=False)[:k] # Print out top `k` similar users\n"
     ]
    },
    {
     "name": "stdout",
     "output_type": "stream",
     "text": [
      "48\n"
     ]
    },
    {
     "name": "stderr",
     "output_type": "stream",
     "text": [
      "/var/folders/w6/yvwdncbx7qbgk26cz6r2f7s00000gn/T/ipykernel_1451/241414590.py:8: FutureWarning: The behavior of `series[i:j]` with an integer-dtype index is deprecated. In a future version, this will be treated as *label-based* indexing, consistent with e.g. `series[i]` lookups. To retain the old behavior, use `series.iloc[i:j]`. To get the future behavior, use `series.loc[i:j]`.\n",
      "  similar_users = user_similarity[user_similarity[idd] > user_similarity_threshold][idd].sort_values(ascending=False)[:k] # Print out top `k` similar users\n"
     ]
    },
    {
     "name": "stdout",
     "output_type": "stream",
     "text": [
      "49\n"
     ]
    },
    {
     "name": "stderr",
     "output_type": "stream",
     "text": [
      "/var/folders/w6/yvwdncbx7qbgk26cz6r2f7s00000gn/T/ipykernel_1451/241414590.py:8: FutureWarning: The behavior of `series[i:j]` with an integer-dtype index is deprecated. In a future version, this will be treated as *label-based* indexing, consistent with e.g. `series[i]` lookups. To retain the old behavior, use `series.iloc[i:j]`. To get the future behavior, use `series.loc[i:j]`.\n",
      "  similar_users = user_similarity[user_similarity[idd] > user_similarity_threshold][idd].sort_values(ascending=False)[:k] # Print out top `k` similar users\n"
     ]
    },
    {
     "name": "stdout",
     "output_type": "stream",
     "text": [
      "50\n"
     ]
    },
    {
     "name": "stderr",
     "output_type": "stream",
     "text": [
      "/var/folders/w6/yvwdncbx7qbgk26cz6r2f7s00000gn/T/ipykernel_1451/241414590.py:8: FutureWarning: The behavior of `series[i:j]` with an integer-dtype index is deprecated. In a future version, this will be treated as *label-based* indexing, consistent with e.g. `series[i]` lookups. To retain the old behavior, use `series.iloc[i:j]`. To get the future behavior, use `series.loc[i:j]`.\n",
      "  similar_users = user_similarity[user_similarity[idd] > user_similarity_threshold][idd].sort_values(ascending=False)[:k] # Print out top `k` similar users\n"
     ]
    },
    {
     "name": "stdout",
     "output_type": "stream",
     "text": [
      "51\n"
     ]
    },
    {
     "name": "stderr",
     "output_type": "stream",
     "text": [
      "/var/folders/w6/yvwdncbx7qbgk26cz6r2f7s00000gn/T/ipykernel_1451/241414590.py:8: FutureWarning: The behavior of `series[i:j]` with an integer-dtype index is deprecated. In a future version, this will be treated as *label-based* indexing, consistent with e.g. `series[i]` lookups. To retain the old behavior, use `series.iloc[i:j]`. To get the future behavior, use `series.loc[i:j]`.\n",
      "  similar_users = user_similarity[user_similarity[idd] > user_similarity_threshold][idd].sort_values(ascending=False)[:k] # Print out top `k` similar users\n"
     ]
    },
    {
     "name": "stdout",
     "output_type": "stream",
     "text": [
      "52\n"
     ]
    },
    {
     "name": "stderr",
     "output_type": "stream",
     "text": [
      "/var/folders/w6/yvwdncbx7qbgk26cz6r2f7s00000gn/T/ipykernel_1451/241414590.py:8: FutureWarning: The behavior of `series[i:j]` with an integer-dtype index is deprecated. In a future version, this will be treated as *label-based* indexing, consistent with e.g. `series[i]` lookups. To retain the old behavior, use `series.iloc[i:j]`. To get the future behavior, use `series.loc[i:j]`.\n",
      "  similar_users = user_similarity[user_similarity[idd] > user_similarity_threshold][idd].sort_values(ascending=False)[:k] # Print out top `k` similar users\n"
     ]
    },
    {
     "name": "stdout",
     "output_type": "stream",
     "text": [
      "53\n"
     ]
    },
    {
     "name": "stderr",
     "output_type": "stream",
     "text": [
      "/var/folders/w6/yvwdncbx7qbgk26cz6r2f7s00000gn/T/ipykernel_1451/241414590.py:8: FutureWarning: The behavior of `series[i:j]` with an integer-dtype index is deprecated. In a future version, this will be treated as *label-based* indexing, consistent with e.g. `series[i]` lookups. To retain the old behavior, use `series.iloc[i:j]`. To get the future behavior, use `series.loc[i:j]`.\n",
      "  similar_users = user_similarity[user_similarity[idd] > user_similarity_threshold][idd].sort_values(ascending=False)[:k] # Print out top `k` similar users\n"
     ]
    },
    {
     "name": "stdout",
     "output_type": "stream",
     "text": [
      "54\n"
     ]
    },
    {
     "name": "stderr",
     "output_type": "stream",
     "text": [
      "/var/folders/w6/yvwdncbx7qbgk26cz6r2f7s00000gn/T/ipykernel_1451/241414590.py:8: FutureWarning: The behavior of `series[i:j]` with an integer-dtype index is deprecated. In a future version, this will be treated as *label-based* indexing, consistent with e.g. `series[i]` lookups. To retain the old behavior, use `series.iloc[i:j]`. To get the future behavior, use `series.loc[i:j]`.\n",
      "  similar_users = user_similarity[user_similarity[idd] > user_similarity_threshold][idd].sort_values(ascending=False)[:k] # Print out top `k` similar users\n"
     ]
    },
    {
     "name": "stdout",
     "output_type": "stream",
     "text": [
      "55\n"
     ]
    },
    {
     "name": "stderr",
     "output_type": "stream",
     "text": [
      "/var/folders/w6/yvwdncbx7qbgk26cz6r2f7s00000gn/T/ipykernel_1451/241414590.py:8: FutureWarning: The behavior of `series[i:j]` with an integer-dtype index is deprecated. In a future version, this will be treated as *label-based* indexing, consistent with e.g. `series[i]` lookups. To retain the old behavior, use `series.iloc[i:j]`. To get the future behavior, use `series.loc[i:j]`.\n",
      "  similar_users = user_similarity[user_similarity[idd] > user_similarity_threshold][idd].sort_values(ascending=False)[:k] # Print out top `k` similar users\n"
     ]
    },
    {
     "name": "stdout",
     "output_type": "stream",
     "text": [
      "56\n"
     ]
    },
    {
     "name": "stderr",
     "output_type": "stream",
     "text": [
      "/var/folders/w6/yvwdncbx7qbgk26cz6r2f7s00000gn/T/ipykernel_1451/241414590.py:8: FutureWarning: The behavior of `series[i:j]` with an integer-dtype index is deprecated. In a future version, this will be treated as *label-based* indexing, consistent with e.g. `series[i]` lookups. To retain the old behavior, use `series.iloc[i:j]`. To get the future behavior, use `series.loc[i:j]`.\n",
      "  similar_users = user_similarity[user_similarity[idd] > user_similarity_threshold][idd].sort_values(ascending=False)[:k] # Print out top `k` similar users\n"
     ]
    },
    {
     "name": "stdout",
     "output_type": "stream",
     "text": [
      "57\n"
     ]
    },
    {
     "name": "stderr",
     "output_type": "stream",
     "text": [
      "/var/folders/w6/yvwdncbx7qbgk26cz6r2f7s00000gn/T/ipykernel_1451/241414590.py:8: FutureWarning: The behavior of `series[i:j]` with an integer-dtype index is deprecated. In a future version, this will be treated as *label-based* indexing, consistent with e.g. `series[i]` lookups. To retain the old behavior, use `series.iloc[i:j]`. To get the future behavior, use `series.loc[i:j]`.\n",
      "  similar_users = user_similarity[user_similarity[idd] > user_similarity_threshold][idd].sort_values(ascending=False)[:k] # Print out top `k` similar users\n"
     ]
    },
    {
     "name": "stdout",
     "output_type": "stream",
     "text": [
      "58\n"
     ]
    },
    {
     "name": "stderr",
     "output_type": "stream",
     "text": [
      "/var/folders/w6/yvwdncbx7qbgk26cz6r2f7s00000gn/T/ipykernel_1451/241414590.py:8: FutureWarning: The behavior of `series[i:j]` with an integer-dtype index is deprecated. In a future version, this will be treated as *label-based* indexing, consistent with e.g. `series[i]` lookups. To retain the old behavior, use `series.iloc[i:j]`. To get the future behavior, use `series.loc[i:j]`.\n",
      "  similar_users = user_similarity[user_similarity[idd] > user_similarity_threshold][idd].sort_values(ascending=False)[:k] # Print out top `k` similar users\n"
     ]
    },
    {
     "name": "stdout",
     "output_type": "stream",
     "text": [
      "59\n"
     ]
    },
    {
     "name": "stderr",
     "output_type": "stream",
     "text": [
      "/var/folders/w6/yvwdncbx7qbgk26cz6r2f7s00000gn/T/ipykernel_1451/241414590.py:8: FutureWarning: The behavior of `series[i:j]` with an integer-dtype index is deprecated. In a future version, this will be treated as *label-based* indexing, consistent with e.g. `series[i]` lookups. To retain the old behavior, use `series.iloc[i:j]`. To get the future behavior, use `series.loc[i:j]`.\n",
      "  similar_users = user_similarity[user_similarity[idd] > user_similarity_threshold][idd].sort_values(ascending=False)[:k] # Print out top `k` similar users\n"
     ]
    },
    {
     "name": "stdout",
     "output_type": "stream",
     "text": [
      "60\n"
     ]
    },
    {
     "name": "stderr",
     "output_type": "stream",
     "text": [
      "/var/folders/w6/yvwdncbx7qbgk26cz6r2f7s00000gn/T/ipykernel_1451/241414590.py:8: FutureWarning: The behavior of `series[i:j]` with an integer-dtype index is deprecated. In a future version, this will be treated as *label-based* indexing, consistent with e.g. `series[i]` lookups. To retain the old behavior, use `series.iloc[i:j]`. To get the future behavior, use `series.loc[i:j]`.\n",
      "  similar_users = user_similarity[user_similarity[idd] > user_similarity_threshold][idd].sort_values(ascending=False)[:k] # Print out top `k` similar users\n"
     ]
    },
    {
     "name": "stdout",
     "output_type": "stream",
     "text": [
      "61\n"
     ]
    },
    {
     "name": "stderr",
     "output_type": "stream",
     "text": [
      "/var/folders/w6/yvwdncbx7qbgk26cz6r2f7s00000gn/T/ipykernel_1451/241414590.py:8: FutureWarning: The behavior of `series[i:j]` with an integer-dtype index is deprecated. In a future version, this will be treated as *label-based* indexing, consistent with e.g. `series[i]` lookups. To retain the old behavior, use `series.iloc[i:j]`. To get the future behavior, use `series.loc[i:j]`.\n",
      "  similar_users = user_similarity[user_similarity[idd] > user_similarity_threshold][idd].sort_values(ascending=False)[:k] # Print out top `k` similar users\n"
     ]
    },
    {
     "name": "stdout",
     "output_type": "stream",
     "text": [
      "62\n"
     ]
    },
    {
     "name": "stderr",
     "output_type": "stream",
     "text": [
      "/var/folders/w6/yvwdncbx7qbgk26cz6r2f7s00000gn/T/ipykernel_1451/241414590.py:8: FutureWarning: The behavior of `series[i:j]` with an integer-dtype index is deprecated. In a future version, this will be treated as *label-based* indexing, consistent with e.g. `series[i]` lookups. To retain the old behavior, use `series.iloc[i:j]`. To get the future behavior, use `series.loc[i:j]`.\n",
      "  similar_users = user_similarity[user_similarity[idd] > user_similarity_threshold][idd].sort_values(ascending=False)[:k] # Print out top `k` similar users\n"
     ]
    },
    {
     "name": "stdout",
     "output_type": "stream",
     "text": [
      "63\n"
     ]
    },
    {
     "name": "stderr",
     "output_type": "stream",
     "text": [
      "/var/folders/w6/yvwdncbx7qbgk26cz6r2f7s00000gn/T/ipykernel_1451/241414590.py:8: FutureWarning: The behavior of `series[i:j]` with an integer-dtype index is deprecated. In a future version, this will be treated as *label-based* indexing, consistent with e.g. `series[i]` lookups. To retain the old behavior, use `series.iloc[i:j]`. To get the future behavior, use `series.loc[i:j]`.\n",
      "  similar_users = user_similarity[user_similarity[idd] > user_similarity_threshold][idd].sort_values(ascending=False)[:k] # Print out top `k` similar users\n"
     ]
    },
    {
     "name": "stdout",
     "output_type": "stream",
     "text": [
      "64\n"
     ]
    },
    {
     "name": "stderr",
     "output_type": "stream",
     "text": [
      "/var/folders/w6/yvwdncbx7qbgk26cz6r2f7s00000gn/T/ipykernel_1451/241414590.py:8: FutureWarning: The behavior of `series[i:j]` with an integer-dtype index is deprecated. In a future version, this will be treated as *label-based* indexing, consistent with e.g. `series[i]` lookups. To retain the old behavior, use `series.iloc[i:j]`. To get the future behavior, use `series.loc[i:j]`.\n",
      "  similar_users = user_similarity[user_similarity[idd] > user_similarity_threshold][idd].sort_values(ascending=False)[:k] # Print out top `k` similar users\n"
     ]
    },
    {
     "name": "stdout",
     "output_type": "stream",
     "text": [
      "65\n"
     ]
    },
    {
     "name": "stderr",
     "output_type": "stream",
     "text": [
      "/var/folders/w6/yvwdncbx7qbgk26cz6r2f7s00000gn/T/ipykernel_1451/241414590.py:8: FutureWarning: The behavior of `series[i:j]` with an integer-dtype index is deprecated. In a future version, this will be treated as *label-based* indexing, consistent with e.g. `series[i]` lookups. To retain the old behavior, use `series.iloc[i:j]`. To get the future behavior, use `series.loc[i:j]`.\n",
      "  similar_users = user_similarity[user_similarity[idd] > user_similarity_threshold][idd].sort_values(ascending=False)[:k] # Print out top `k` similar users\n"
     ]
    },
    {
     "name": "stdout",
     "output_type": "stream",
     "text": [
      "66\n"
     ]
    },
    {
     "name": "stderr",
     "output_type": "stream",
     "text": [
      "/var/folders/w6/yvwdncbx7qbgk26cz6r2f7s00000gn/T/ipykernel_1451/241414590.py:8: FutureWarning: The behavior of `series[i:j]` with an integer-dtype index is deprecated. In a future version, this will be treated as *label-based* indexing, consistent with e.g. `series[i]` lookups. To retain the old behavior, use `series.iloc[i:j]`. To get the future behavior, use `series.loc[i:j]`.\n",
      "  similar_users = user_similarity[user_similarity[idd] > user_similarity_threshold][idd].sort_values(ascending=False)[:k] # Print out top `k` similar users\n"
     ]
    },
    {
     "name": "stdout",
     "output_type": "stream",
     "text": [
      "67\n"
     ]
    },
    {
     "name": "stderr",
     "output_type": "stream",
     "text": [
      "/var/folders/w6/yvwdncbx7qbgk26cz6r2f7s00000gn/T/ipykernel_1451/241414590.py:8: FutureWarning: The behavior of `series[i:j]` with an integer-dtype index is deprecated. In a future version, this will be treated as *label-based* indexing, consistent with e.g. `series[i]` lookups. To retain the old behavior, use `series.iloc[i:j]`. To get the future behavior, use `series.loc[i:j]`.\n",
      "  similar_users = user_similarity[user_similarity[idd] > user_similarity_threshold][idd].sort_values(ascending=False)[:k] # Print out top `k` similar users\n"
     ]
    },
    {
     "name": "stdout",
     "output_type": "stream",
     "text": [
      "68\n"
     ]
    },
    {
     "name": "stderr",
     "output_type": "stream",
     "text": [
      "/var/folders/w6/yvwdncbx7qbgk26cz6r2f7s00000gn/T/ipykernel_1451/241414590.py:8: FutureWarning: The behavior of `series[i:j]` with an integer-dtype index is deprecated. In a future version, this will be treated as *label-based* indexing, consistent with e.g. `series[i]` lookups. To retain the old behavior, use `series.iloc[i:j]`. To get the future behavior, use `series.loc[i:j]`.\n",
      "  similar_users = user_similarity[user_similarity[idd] > user_similarity_threshold][idd].sort_values(ascending=False)[:k] # Print out top `k` similar users\n"
     ]
    },
    {
     "name": "stdout",
     "output_type": "stream",
     "text": [
      "69\n"
     ]
    },
    {
     "name": "stderr",
     "output_type": "stream",
     "text": [
      "/var/folders/w6/yvwdncbx7qbgk26cz6r2f7s00000gn/T/ipykernel_1451/241414590.py:8: FutureWarning: The behavior of `series[i:j]` with an integer-dtype index is deprecated. In a future version, this will be treated as *label-based* indexing, consistent with e.g. `series[i]` lookups. To retain the old behavior, use `series.iloc[i:j]`. To get the future behavior, use `series.loc[i:j]`.\n",
      "  similar_users = user_similarity[user_similarity[idd] > user_similarity_threshold][idd].sort_values(ascending=False)[:k] # Print out top `k` similar users\n"
     ]
    },
    {
     "name": "stdout",
     "output_type": "stream",
     "text": [
      "70\n"
     ]
    },
    {
     "name": "stderr",
     "output_type": "stream",
     "text": [
      "/var/folders/w6/yvwdncbx7qbgk26cz6r2f7s00000gn/T/ipykernel_1451/241414590.py:8: FutureWarning: The behavior of `series[i:j]` with an integer-dtype index is deprecated. In a future version, this will be treated as *label-based* indexing, consistent with e.g. `series[i]` lookups. To retain the old behavior, use `series.iloc[i:j]`. To get the future behavior, use `series.loc[i:j]`.\n",
      "  similar_users = user_similarity[user_similarity[idd] > user_similarity_threshold][idd].sort_values(ascending=False)[:k] # Print out top `k` similar users\n"
     ]
    },
    {
     "name": "stdout",
     "output_type": "stream",
     "text": [
      "71\n"
     ]
    },
    {
     "name": "stderr",
     "output_type": "stream",
     "text": [
      "/var/folders/w6/yvwdncbx7qbgk26cz6r2f7s00000gn/T/ipykernel_1451/241414590.py:8: FutureWarning: The behavior of `series[i:j]` with an integer-dtype index is deprecated. In a future version, this will be treated as *label-based* indexing, consistent with e.g. `series[i]` lookups. To retain the old behavior, use `series.iloc[i:j]`. To get the future behavior, use `series.loc[i:j]`.\n",
      "  similar_users = user_similarity[user_similarity[idd] > user_similarity_threshold][idd].sort_values(ascending=False)[:k] # Print out top `k` similar users\n"
     ]
    },
    {
     "name": "stdout",
     "output_type": "stream",
     "text": [
      "72\n"
     ]
    },
    {
     "name": "stderr",
     "output_type": "stream",
     "text": [
      "/var/folders/w6/yvwdncbx7qbgk26cz6r2f7s00000gn/T/ipykernel_1451/241414590.py:8: FutureWarning: The behavior of `series[i:j]` with an integer-dtype index is deprecated. In a future version, this will be treated as *label-based* indexing, consistent with e.g. `series[i]` lookups. To retain the old behavior, use `series.iloc[i:j]`. To get the future behavior, use `series.loc[i:j]`.\n",
      "  similar_users = user_similarity[user_similarity[idd] > user_similarity_threshold][idd].sort_values(ascending=False)[:k] # Print out top `k` similar users\n"
     ]
    },
    {
     "name": "stdout",
     "output_type": "stream",
     "text": [
      "73\n"
     ]
    },
    {
     "name": "stderr",
     "output_type": "stream",
     "text": [
      "/var/folders/w6/yvwdncbx7qbgk26cz6r2f7s00000gn/T/ipykernel_1451/241414590.py:8: FutureWarning: The behavior of `series[i:j]` with an integer-dtype index is deprecated. In a future version, this will be treated as *label-based* indexing, consistent with e.g. `series[i]` lookups. To retain the old behavior, use `series.iloc[i:j]`. To get the future behavior, use `series.loc[i:j]`.\n",
      "  similar_users = user_similarity[user_similarity[idd] > user_similarity_threshold][idd].sort_values(ascending=False)[:k] # Print out top `k` similar users\n"
     ]
    },
    {
     "name": "stdout",
     "output_type": "stream",
     "text": [
      "74\n"
     ]
    },
    {
     "name": "stderr",
     "output_type": "stream",
     "text": [
      "/var/folders/w6/yvwdncbx7qbgk26cz6r2f7s00000gn/T/ipykernel_1451/241414590.py:8: FutureWarning: The behavior of `series[i:j]` with an integer-dtype index is deprecated. In a future version, this will be treated as *label-based* indexing, consistent with e.g. `series[i]` lookups. To retain the old behavior, use `series.iloc[i:j]`. To get the future behavior, use `series.loc[i:j]`.\n",
      "  similar_users = user_similarity[user_similarity[idd] > user_similarity_threshold][idd].sort_values(ascending=False)[:k] # Print out top `k` similar users\n"
     ]
    },
    {
     "name": "stdout",
     "output_type": "stream",
     "text": [
      "75\n"
     ]
    },
    {
     "name": "stderr",
     "output_type": "stream",
     "text": [
      "/var/folders/w6/yvwdncbx7qbgk26cz6r2f7s00000gn/T/ipykernel_1451/241414590.py:8: FutureWarning: The behavior of `series[i:j]` with an integer-dtype index is deprecated. In a future version, this will be treated as *label-based* indexing, consistent with e.g. `series[i]` lookups. To retain the old behavior, use `series.iloc[i:j]`. To get the future behavior, use `series.loc[i:j]`.\n",
      "  similar_users = user_similarity[user_similarity[idd] > user_similarity_threshold][idd].sort_values(ascending=False)[:k] # Print out top `k` similar users\n"
     ]
    },
    {
     "name": "stdout",
     "output_type": "stream",
     "text": [
      "76\n"
     ]
    },
    {
     "name": "stderr",
     "output_type": "stream",
     "text": [
      "/var/folders/w6/yvwdncbx7qbgk26cz6r2f7s00000gn/T/ipykernel_1451/241414590.py:8: FutureWarning: The behavior of `series[i:j]` with an integer-dtype index is deprecated. In a future version, this will be treated as *label-based* indexing, consistent with e.g. `series[i]` lookups. To retain the old behavior, use `series.iloc[i:j]`. To get the future behavior, use `series.loc[i:j]`.\n",
      "  similar_users = user_similarity[user_similarity[idd] > user_similarity_threshold][idd].sort_values(ascending=False)[:k] # Print out top `k` similar users\n"
     ]
    },
    {
     "name": "stdout",
     "output_type": "stream",
     "text": [
      "77\n"
     ]
    },
    {
     "name": "stderr",
     "output_type": "stream",
     "text": [
      "/var/folders/w6/yvwdncbx7qbgk26cz6r2f7s00000gn/T/ipykernel_1451/241414590.py:8: FutureWarning: The behavior of `series[i:j]` with an integer-dtype index is deprecated. In a future version, this will be treated as *label-based* indexing, consistent with e.g. `series[i]` lookups. To retain the old behavior, use `series.iloc[i:j]`. To get the future behavior, use `series.loc[i:j]`.\n",
      "  similar_users = user_similarity[user_similarity[idd] > user_similarity_threshold][idd].sort_values(ascending=False)[:k] # Print out top `k` similar users\n"
     ]
    },
    {
     "name": "stdout",
     "output_type": "stream",
     "text": [
      "78\n"
     ]
    },
    {
     "name": "stderr",
     "output_type": "stream",
     "text": [
      "/var/folders/w6/yvwdncbx7qbgk26cz6r2f7s00000gn/T/ipykernel_1451/241414590.py:8: FutureWarning: The behavior of `series[i:j]` with an integer-dtype index is deprecated. In a future version, this will be treated as *label-based* indexing, consistent with e.g. `series[i]` lookups. To retain the old behavior, use `series.iloc[i:j]`. To get the future behavior, use `series.loc[i:j]`.\n",
      "  similar_users = user_similarity[user_similarity[idd] > user_similarity_threshold][idd].sort_values(ascending=False)[:k] # Print out top `k` similar users\n"
     ]
    },
    {
     "name": "stdout",
     "output_type": "stream",
     "text": [
      "79\n"
     ]
    },
    {
     "name": "stderr",
     "output_type": "stream",
     "text": [
      "/var/folders/w6/yvwdncbx7qbgk26cz6r2f7s00000gn/T/ipykernel_1451/241414590.py:8: FutureWarning: The behavior of `series[i:j]` with an integer-dtype index is deprecated. In a future version, this will be treated as *label-based* indexing, consistent with e.g. `series[i]` lookups. To retain the old behavior, use `series.iloc[i:j]`. To get the future behavior, use `series.loc[i:j]`.\n",
      "  similar_users = user_similarity[user_similarity[idd] > user_similarity_threshold][idd].sort_values(ascending=False)[:k] # Print out top `k` similar users\n"
     ]
    },
    {
     "name": "stdout",
     "output_type": "stream",
     "text": [
      "80\n"
     ]
    },
    {
     "name": "stderr",
     "output_type": "stream",
     "text": [
      "/var/folders/w6/yvwdncbx7qbgk26cz6r2f7s00000gn/T/ipykernel_1451/241414590.py:8: FutureWarning: The behavior of `series[i:j]` with an integer-dtype index is deprecated. In a future version, this will be treated as *label-based* indexing, consistent with e.g. `series[i]` lookups. To retain the old behavior, use `series.iloc[i:j]`. To get the future behavior, use `series.loc[i:j]`.\n",
      "  similar_users = user_similarity[user_similarity[idd] > user_similarity_threshold][idd].sort_values(ascending=False)[:k] # Print out top `k` similar users\n"
     ]
    },
    {
     "name": "stdout",
     "output_type": "stream",
     "text": [
      "81\n"
     ]
    },
    {
     "name": "stderr",
     "output_type": "stream",
     "text": [
      "/var/folders/w6/yvwdncbx7qbgk26cz6r2f7s00000gn/T/ipykernel_1451/241414590.py:8: FutureWarning: The behavior of `series[i:j]` with an integer-dtype index is deprecated. In a future version, this will be treated as *label-based* indexing, consistent with e.g. `series[i]` lookups. To retain the old behavior, use `series.iloc[i:j]`. To get the future behavior, use `series.loc[i:j]`.\n",
      "  similar_users = user_similarity[user_similarity[idd] > user_similarity_threshold][idd].sort_values(ascending=False)[:k] # Print out top `k` similar users\n"
     ]
    },
    {
     "name": "stdout",
     "output_type": "stream",
     "text": [
      "82\n"
     ]
    },
    {
     "name": "stderr",
     "output_type": "stream",
     "text": [
      "/var/folders/w6/yvwdncbx7qbgk26cz6r2f7s00000gn/T/ipykernel_1451/241414590.py:8: FutureWarning: The behavior of `series[i:j]` with an integer-dtype index is deprecated. In a future version, this will be treated as *label-based* indexing, consistent with e.g. `series[i]` lookups. To retain the old behavior, use `series.iloc[i:j]`. To get the future behavior, use `series.loc[i:j]`.\n",
      "  similar_users = user_similarity[user_similarity[idd] > user_similarity_threshold][idd].sort_values(ascending=False)[:k] # Print out top `k` similar users\n"
     ]
    },
    {
     "name": "stdout",
     "output_type": "stream",
     "text": [
      "83\n"
     ]
    },
    {
     "name": "stderr",
     "output_type": "stream",
     "text": [
      "/var/folders/w6/yvwdncbx7qbgk26cz6r2f7s00000gn/T/ipykernel_1451/241414590.py:8: FutureWarning: The behavior of `series[i:j]` with an integer-dtype index is deprecated. In a future version, this will be treated as *label-based* indexing, consistent with e.g. `series[i]` lookups. To retain the old behavior, use `series.iloc[i:j]`. To get the future behavior, use `series.loc[i:j]`.\n",
      "  similar_users = user_similarity[user_similarity[idd] > user_similarity_threshold][idd].sort_values(ascending=False)[:k] # Print out top `k` similar users\n"
     ]
    },
    {
     "name": "stdout",
     "output_type": "stream",
     "text": [
      "84\n"
     ]
    },
    {
     "name": "stderr",
     "output_type": "stream",
     "text": [
      "/var/folders/w6/yvwdncbx7qbgk26cz6r2f7s00000gn/T/ipykernel_1451/241414590.py:8: FutureWarning: The behavior of `series[i:j]` with an integer-dtype index is deprecated. In a future version, this will be treated as *label-based* indexing, consistent with e.g. `series[i]` lookups. To retain the old behavior, use `series.iloc[i:j]`. To get the future behavior, use `series.loc[i:j]`.\n",
      "  similar_users = user_similarity[user_similarity[idd] > user_similarity_threshold][idd].sort_values(ascending=False)[:k] # Print out top `k` similar users\n"
     ]
    },
    {
     "name": "stdout",
     "output_type": "stream",
     "text": [
      "85\n"
     ]
    },
    {
     "name": "stderr",
     "output_type": "stream",
     "text": [
      "/var/folders/w6/yvwdncbx7qbgk26cz6r2f7s00000gn/T/ipykernel_1451/241414590.py:8: FutureWarning: The behavior of `series[i:j]` with an integer-dtype index is deprecated. In a future version, this will be treated as *label-based* indexing, consistent with e.g. `series[i]` lookups. To retain the old behavior, use `series.iloc[i:j]`. To get the future behavior, use `series.loc[i:j]`.\n",
      "  similar_users = user_similarity[user_similarity[idd] > user_similarity_threshold][idd].sort_values(ascending=False)[:k] # Print out top `k` similar users\n"
     ]
    },
    {
     "name": "stdout",
     "output_type": "stream",
     "text": [
      "86\n"
     ]
    },
    {
     "name": "stderr",
     "output_type": "stream",
     "text": [
      "/var/folders/w6/yvwdncbx7qbgk26cz6r2f7s00000gn/T/ipykernel_1451/241414590.py:8: FutureWarning: The behavior of `series[i:j]` with an integer-dtype index is deprecated. In a future version, this will be treated as *label-based* indexing, consistent with e.g. `series[i]` lookups. To retain the old behavior, use `series.iloc[i:j]`. To get the future behavior, use `series.loc[i:j]`.\n",
      "  similar_users = user_similarity[user_similarity[idd] > user_similarity_threshold][idd].sort_values(ascending=False)[:k] # Print out top `k` similar users\n"
     ]
    },
    {
     "name": "stdout",
     "output_type": "stream",
     "text": [
      "87\n"
     ]
    },
    {
     "name": "stderr",
     "output_type": "stream",
     "text": [
      "/var/folders/w6/yvwdncbx7qbgk26cz6r2f7s00000gn/T/ipykernel_1451/241414590.py:8: FutureWarning: The behavior of `series[i:j]` with an integer-dtype index is deprecated. In a future version, this will be treated as *label-based* indexing, consistent with e.g. `series[i]` lookups. To retain the old behavior, use `series.iloc[i:j]`. To get the future behavior, use `series.loc[i:j]`.\n",
      "  similar_users = user_similarity[user_similarity[idd] > user_similarity_threshold][idd].sort_values(ascending=False)[:k] # Print out top `k` similar users\n"
     ]
    },
    {
     "name": "stdout",
     "output_type": "stream",
     "text": [
      "88\n"
     ]
    },
    {
     "name": "stderr",
     "output_type": "stream",
     "text": [
      "/var/folders/w6/yvwdncbx7qbgk26cz6r2f7s00000gn/T/ipykernel_1451/241414590.py:8: FutureWarning: The behavior of `series[i:j]` with an integer-dtype index is deprecated. In a future version, this will be treated as *label-based* indexing, consistent with e.g. `series[i]` lookups. To retain the old behavior, use `series.iloc[i:j]`. To get the future behavior, use `series.loc[i:j]`.\n",
      "  similar_users = user_similarity[user_similarity[idd] > user_similarity_threshold][idd].sort_values(ascending=False)[:k] # Print out top `k` similar users\n"
     ]
    },
    {
     "name": "stdout",
     "output_type": "stream",
     "text": [
      "89\n"
     ]
    },
    {
     "name": "stderr",
     "output_type": "stream",
     "text": [
      "/var/folders/w6/yvwdncbx7qbgk26cz6r2f7s00000gn/T/ipykernel_1451/241414590.py:8: FutureWarning: The behavior of `series[i:j]` with an integer-dtype index is deprecated. In a future version, this will be treated as *label-based* indexing, consistent with e.g. `series[i]` lookups. To retain the old behavior, use `series.iloc[i:j]`. To get the future behavior, use `series.loc[i:j]`.\n",
      "  similar_users = user_similarity[user_similarity[idd] > user_similarity_threshold][idd].sort_values(ascending=False)[:k] # Print out top `k` similar users\n"
     ]
    },
    {
     "name": "stdout",
     "output_type": "stream",
     "text": [
      "90\n"
     ]
    },
    {
     "name": "stderr",
     "output_type": "stream",
     "text": [
      "/var/folders/w6/yvwdncbx7qbgk26cz6r2f7s00000gn/T/ipykernel_1451/241414590.py:8: FutureWarning: The behavior of `series[i:j]` with an integer-dtype index is deprecated. In a future version, this will be treated as *label-based* indexing, consistent with e.g. `series[i]` lookups. To retain the old behavior, use `series.iloc[i:j]`. To get the future behavior, use `series.loc[i:j]`.\n",
      "  similar_users = user_similarity[user_similarity[idd] > user_similarity_threshold][idd].sort_values(ascending=False)[:k] # Print out top `k` similar users\n"
     ]
    },
    {
     "name": "stdout",
     "output_type": "stream",
     "text": [
      "91\n"
     ]
    },
    {
     "name": "stderr",
     "output_type": "stream",
     "text": [
      "/var/folders/w6/yvwdncbx7qbgk26cz6r2f7s00000gn/T/ipykernel_1451/241414590.py:8: FutureWarning: The behavior of `series[i:j]` with an integer-dtype index is deprecated. In a future version, this will be treated as *label-based* indexing, consistent with e.g. `series[i]` lookups. To retain the old behavior, use `series.iloc[i:j]`. To get the future behavior, use `series.loc[i:j]`.\n",
      "  similar_users = user_similarity[user_similarity[idd] > user_similarity_threshold][idd].sort_values(ascending=False)[:k] # Print out top `k` similar users\n"
     ]
    },
    {
     "name": "stdout",
     "output_type": "stream",
     "text": [
      "92\n"
     ]
    },
    {
     "name": "stderr",
     "output_type": "stream",
     "text": [
      "/var/folders/w6/yvwdncbx7qbgk26cz6r2f7s00000gn/T/ipykernel_1451/241414590.py:8: FutureWarning: The behavior of `series[i:j]` with an integer-dtype index is deprecated. In a future version, this will be treated as *label-based* indexing, consistent with e.g. `series[i]` lookups. To retain the old behavior, use `series.iloc[i:j]`. To get the future behavior, use `series.loc[i:j]`.\n",
      "  similar_users = user_similarity[user_similarity[idd] > user_similarity_threshold][idd].sort_values(ascending=False)[:k] # Print out top `k` similar users\n"
     ]
    },
    {
     "name": "stdout",
     "output_type": "stream",
     "text": [
      "93\n"
     ]
    },
    {
     "name": "stderr",
     "output_type": "stream",
     "text": [
      "/var/folders/w6/yvwdncbx7qbgk26cz6r2f7s00000gn/T/ipykernel_1451/241414590.py:8: FutureWarning: The behavior of `series[i:j]` with an integer-dtype index is deprecated. In a future version, this will be treated as *label-based* indexing, consistent with e.g. `series[i]` lookups. To retain the old behavior, use `series.iloc[i:j]`. To get the future behavior, use `series.loc[i:j]`.\n",
      "  similar_users = user_similarity[user_similarity[idd] > user_similarity_threshold][idd].sort_values(ascending=False)[:k] # Print out top `k` similar users\n"
     ]
    },
    {
     "name": "stdout",
     "output_type": "stream",
     "text": [
      "94\n"
     ]
    },
    {
     "name": "stderr",
     "output_type": "stream",
     "text": [
      "/var/folders/w6/yvwdncbx7qbgk26cz6r2f7s00000gn/T/ipykernel_1451/241414590.py:8: FutureWarning: The behavior of `series[i:j]` with an integer-dtype index is deprecated. In a future version, this will be treated as *label-based* indexing, consistent with e.g. `series[i]` lookups. To retain the old behavior, use `series.iloc[i:j]`. To get the future behavior, use `series.loc[i:j]`.\n",
      "  similar_users = user_similarity[user_similarity[idd] > user_similarity_threshold][idd].sort_values(ascending=False)[:k] # Print out top `k` similar users\n"
     ]
    },
    {
     "name": "stdout",
     "output_type": "stream",
     "text": [
      "95\n"
     ]
    },
    {
     "name": "stderr",
     "output_type": "stream",
     "text": [
      "/var/folders/w6/yvwdncbx7qbgk26cz6r2f7s00000gn/T/ipykernel_1451/241414590.py:8: FutureWarning: The behavior of `series[i:j]` with an integer-dtype index is deprecated. In a future version, this will be treated as *label-based* indexing, consistent with e.g. `series[i]` lookups. To retain the old behavior, use `series.iloc[i:j]`. To get the future behavior, use `series.loc[i:j]`.\n",
      "  similar_users = user_similarity[user_similarity[idd] > user_similarity_threshold][idd].sort_values(ascending=False)[:k] # Print out top `k` similar users\n"
     ]
    },
    {
     "name": "stdout",
     "output_type": "stream",
     "text": [
      "96\n"
     ]
    },
    {
     "name": "stderr",
     "output_type": "stream",
     "text": [
      "/var/folders/w6/yvwdncbx7qbgk26cz6r2f7s00000gn/T/ipykernel_1451/241414590.py:8: FutureWarning: The behavior of `series[i:j]` with an integer-dtype index is deprecated. In a future version, this will be treated as *label-based* indexing, consistent with e.g. `series[i]` lookups. To retain the old behavior, use `series.iloc[i:j]`. To get the future behavior, use `series.loc[i:j]`.\n",
      "  similar_users = user_similarity[user_similarity[idd] > user_similarity_threshold][idd].sort_values(ascending=False)[:k] # Print out top `k` similar users\n"
     ]
    },
    {
     "name": "stdout",
     "output_type": "stream",
     "text": [
      "97\n"
     ]
    },
    {
     "name": "stderr",
     "output_type": "stream",
     "text": [
      "/var/folders/w6/yvwdncbx7qbgk26cz6r2f7s00000gn/T/ipykernel_1451/241414590.py:8: FutureWarning: The behavior of `series[i:j]` with an integer-dtype index is deprecated. In a future version, this will be treated as *label-based* indexing, consistent with e.g. `series[i]` lookups. To retain the old behavior, use `series.iloc[i:j]`. To get the future behavior, use `series.loc[i:j]`.\n",
      "  similar_users = user_similarity[user_similarity[idd] > user_similarity_threshold][idd].sort_values(ascending=False)[:k] # Print out top `k` similar users\n"
     ]
    },
    {
     "name": "stdout",
     "output_type": "stream",
     "text": [
      "98\n"
     ]
    },
    {
     "name": "stderr",
     "output_type": "stream",
     "text": [
      "/var/folders/w6/yvwdncbx7qbgk26cz6r2f7s00000gn/T/ipykernel_1451/241414590.py:8: FutureWarning: The behavior of `series[i:j]` with an integer-dtype index is deprecated. In a future version, this will be treated as *label-based* indexing, consistent with e.g. `series[i]` lookups. To retain the old behavior, use `series.iloc[i:j]`. To get the future behavior, use `series.loc[i:j]`.\n",
      "  similar_users = user_similarity[user_similarity[idd] > user_similarity_threshold][idd].sort_values(ascending=False)[:k] # Print out top `k` similar users\n"
     ]
    },
    {
     "name": "stdout",
     "output_type": "stream",
     "text": [
      "99\n"
     ]
    },
    {
     "name": "stderr",
     "output_type": "stream",
     "text": [
      "/var/folders/w6/yvwdncbx7qbgk26cz6r2f7s00000gn/T/ipykernel_1451/241414590.py:8: FutureWarning: The behavior of `series[i:j]` with an integer-dtype index is deprecated. In a future version, this will be treated as *label-based* indexing, consistent with e.g. `series[i]` lookups. To retain the old behavior, use `series.iloc[i:j]`. To get the future behavior, use `series.loc[i:j]`.\n",
      "  similar_users = user_similarity[user_similarity[idd] > user_similarity_threshold][idd].sort_values(ascending=False)[:k] # Print out top `k` similar users\n"
     ]
    },
    {
     "name": "stdout",
     "output_type": "stream",
     "text": [
      "100\n"
     ]
    },
    {
     "name": "stderr",
     "output_type": "stream",
     "text": [
      "/var/folders/w6/yvwdncbx7qbgk26cz6r2f7s00000gn/T/ipykernel_1451/241414590.py:8: FutureWarning: The behavior of `series[i:j]` with an integer-dtype index is deprecated. In a future version, this will be treated as *label-based* indexing, consistent with e.g. `series[i]` lookups. To retain the old behavior, use `series.iloc[i:j]`. To get the future behavior, use `series.loc[i:j]`.\n",
      "  similar_users = user_similarity[user_similarity[idd] > user_similarity_threshold][idd].sort_values(ascending=False)[:k] # Print out top `k` similar users\n"
     ]
    },
    {
     "name": "stdout",
     "output_type": "stream",
     "text": [
      "101\n"
     ]
    },
    {
     "name": "stderr",
     "output_type": "stream",
     "text": [
      "/var/folders/w6/yvwdncbx7qbgk26cz6r2f7s00000gn/T/ipykernel_1451/241414590.py:8: FutureWarning: The behavior of `series[i:j]` with an integer-dtype index is deprecated. In a future version, this will be treated as *label-based* indexing, consistent with e.g. `series[i]` lookups. To retain the old behavior, use `series.iloc[i:j]`. To get the future behavior, use `series.loc[i:j]`.\n",
      "  similar_users = user_similarity[user_similarity[idd] > user_similarity_threshold][idd].sort_values(ascending=False)[:k] # Print out top `k` similar users\n"
     ]
    },
    {
     "name": "stdout",
     "output_type": "stream",
     "text": [
      "102\n"
     ]
    },
    {
     "name": "stderr",
     "output_type": "stream",
     "text": [
      "/var/folders/w6/yvwdncbx7qbgk26cz6r2f7s00000gn/T/ipykernel_1451/241414590.py:8: FutureWarning: The behavior of `series[i:j]` with an integer-dtype index is deprecated. In a future version, this will be treated as *label-based* indexing, consistent with e.g. `series[i]` lookups. To retain the old behavior, use `series.iloc[i:j]`. To get the future behavior, use `series.loc[i:j]`.\n",
      "  similar_users = user_similarity[user_similarity[idd] > user_similarity_threshold][idd].sort_values(ascending=False)[:k] # Print out top `k` similar users\n"
     ]
    },
    {
     "name": "stdout",
     "output_type": "stream",
     "text": [
      "103\n"
     ]
    },
    {
     "name": "stderr",
     "output_type": "stream",
     "text": [
      "/var/folders/w6/yvwdncbx7qbgk26cz6r2f7s00000gn/T/ipykernel_1451/241414590.py:8: FutureWarning: The behavior of `series[i:j]` with an integer-dtype index is deprecated. In a future version, this will be treated as *label-based* indexing, consistent with e.g. `series[i]` lookups. To retain the old behavior, use `series.iloc[i:j]`. To get the future behavior, use `series.loc[i:j]`.\n",
      "  similar_users = user_similarity[user_similarity[idd] > user_similarity_threshold][idd].sort_values(ascending=False)[:k] # Print out top `k` similar users\n"
     ]
    },
    {
     "name": "stdout",
     "output_type": "stream",
     "text": [
      "104\n"
     ]
    },
    {
     "name": "stderr",
     "output_type": "stream",
     "text": [
      "/var/folders/w6/yvwdncbx7qbgk26cz6r2f7s00000gn/T/ipykernel_1451/241414590.py:8: FutureWarning: The behavior of `series[i:j]` with an integer-dtype index is deprecated. In a future version, this will be treated as *label-based* indexing, consistent with e.g. `series[i]` lookups. To retain the old behavior, use `series.iloc[i:j]`. To get the future behavior, use `series.loc[i:j]`.\n",
      "  similar_users = user_similarity[user_similarity[idd] > user_similarity_threshold][idd].sort_values(ascending=False)[:k] # Print out top `k` similar users\n"
     ]
    },
    {
     "name": "stdout",
     "output_type": "stream",
     "text": [
      "105\n"
     ]
    },
    {
     "name": "stderr",
     "output_type": "stream",
     "text": [
      "/var/folders/w6/yvwdncbx7qbgk26cz6r2f7s00000gn/T/ipykernel_1451/241414590.py:8: FutureWarning: The behavior of `series[i:j]` with an integer-dtype index is deprecated. In a future version, this will be treated as *label-based* indexing, consistent with e.g. `series[i]` lookups. To retain the old behavior, use `series.iloc[i:j]`. To get the future behavior, use `series.loc[i:j]`.\n",
      "  similar_users = user_similarity[user_similarity[idd] > user_similarity_threshold][idd].sort_values(ascending=False)[:k] # Print out top `k` similar users\n"
     ]
    },
    {
     "name": "stdout",
     "output_type": "stream",
     "text": [
      "106\n"
     ]
    },
    {
     "name": "stderr",
     "output_type": "stream",
     "text": [
      "/var/folders/w6/yvwdncbx7qbgk26cz6r2f7s00000gn/T/ipykernel_1451/241414590.py:8: FutureWarning: The behavior of `series[i:j]` with an integer-dtype index is deprecated. In a future version, this will be treated as *label-based* indexing, consistent with e.g. `series[i]` lookups. To retain the old behavior, use `series.iloc[i:j]`. To get the future behavior, use `series.loc[i:j]`.\n",
      "  similar_users = user_similarity[user_similarity[idd] > user_similarity_threshold][idd].sort_values(ascending=False)[:k] # Print out top `k` similar users\n"
     ]
    },
    {
     "name": "stdout",
     "output_type": "stream",
     "text": [
      "107\n"
     ]
    },
    {
     "name": "stderr",
     "output_type": "stream",
     "text": [
      "/var/folders/w6/yvwdncbx7qbgk26cz6r2f7s00000gn/T/ipykernel_1451/241414590.py:8: FutureWarning: The behavior of `series[i:j]` with an integer-dtype index is deprecated. In a future version, this will be treated as *label-based* indexing, consistent with e.g. `series[i]` lookups. To retain the old behavior, use `series.iloc[i:j]`. To get the future behavior, use `series.loc[i:j]`.\n",
      "  similar_users = user_similarity[user_similarity[idd] > user_similarity_threshold][idd].sort_values(ascending=False)[:k] # Print out top `k` similar users\n"
     ]
    },
    {
     "name": "stdout",
     "output_type": "stream",
     "text": [
      "108\n"
     ]
    },
    {
     "name": "stderr",
     "output_type": "stream",
     "text": [
      "/var/folders/w6/yvwdncbx7qbgk26cz6r2f7s00000gn/T/ipykernel_1451/241414590.py:8: FutureWarning: The behavior of `series[i:j]` with an integer-dtype index is deprecated. In a future version, this will be treated as *label-based* indexing, consistent with e.g. `series[i]` lookups. To retain the old behavior, use `series.iloc[i:j]`. To get the future behavior, use `series.loc[i:j]`.\n",
      "  similar_users = user_similarity[user_similarity[idd] > user_similarity_threshold][idd].sort_values(ascending=False)[:k] # Print out top `k` similar users\n"
     ]
    },
    {
     "name": "stdout",
     "output_type": "stream",
     "text": [
      "109\n"
     ]
    },
    {
     "name": "stderr",
     "output_type": "stream",
     "text": [
      "/var/folders/w6/yvwdncbx7qbgk26cz6r2f7s00000gn/T/ipykernel_1451/241414590.py:8: FutureWarning: The behavior of `series[i:j]` with an integer-dtype index is deprecated. In a future version, this will be treated as *label-based* indexing, consistent with e.g. `series[i]` lookups. To retain the old behavior, use `series.iloc[i:j]`. To get the future behavior, use `series.loc[i:j]`.\n",
      "  similar_users = user_similarity[user_similarity[idd] > user_similarity_threshold][idd].sort_values(ascending=False)[:k] # Print out top `k` similar users\n"
     ]
    },
    {
     "name": "stdout",
     "output_type": "stream",
     "text": [
      "110\n"
     ]
    },
    {
     "name": "stderr",
     "output_type": "stream",
     "text": [
      "/var/folders/w6/yvwdncbx7qbgk26cz6r2f7s00000gn/T/ipykernel_1451/241414590.py:8: FutureWarning: The behavior of `series[i:j]` with an integer-dtype index is deprecated. In a future version, this will be treated as *label-based* indexing, consistent with e.g. `series[i]` lookups. To retain the old behavior, use `series.iloc[i:j]`. To get the future behavior, use `series.loc[i:j]`.\n",
      "  similar_users = user_similarity[user_similarity[idd] > user_similarity_threshold][idd].sort_values(ascending=False)[:k] # Print out top `k` similar users\n"
     ]
    },
    {
     "name": "stdout",
     "output_type": "stream",
     "text": [
      "111\n"
     ]
    },
    {
     "name": "stderr",
     "output_type": "stream",
     "text": [
      "/var/folders/w6/yvwdncbx7qbgk26cz6r2f7s00000gn/T/ipykernel_1451/241414590.py:8: FutureWarning: The behavior of `series[i:j]` with an integer-dtype index is deprecated. In a future version, this will be treated as *label-based* indexing, consistent with e.g. `series[i]` lookups. To retain the old behavior, use `series.iloc[i:j]`. To get the future behavior, use `series.loc[i:j]`.\n",
      "  similar_users = user_similarity[user_similarity[idd] > user_similarity_threshold][idd].sort_values(ascending=False)[:k] # Print out top `k` similar users\n"
     ]
    },
    {
     "name": "stdout",
     "output_type": "stream",
     "text": [
      "112\n"
     ]
    },
    {
     "name": "stderr",
     "output_type": "stream",
     "text": [
      "/var/folders/w6/yvwdncbx7qbgk26cz6r2f7s00000gn/T/ipykernel_1451/241414590.py:8: FutureWarning: The behavior of `series[i:j]` with an integer-dtype index is deprecated. In a future version, this will be treated as *label-based* indexing, consistent with e.g. `series[i]` lookups. To retain the old behavior, use `series.iloc[i:j]`. To get the future behavior, use `series.loc[i:j]`.\n",
      "  similar_users = user_similarity[user_similarity[idd] > user_similarity_threshold][idd].sort_values(ascending=False)[:k] # Print out top `k` similar users\n"
     ]
    },
    {
     "name": "stdout",
     "output_type": "stream",
     "text": [
      "113\n"
     ]
    },
    {
     "name": "stderr",
     "output_type": "stream",
     "text": [
      "/var/folders/w6/yvwdncbx7qbgk26cz6r2f7s00000gn/T/ipykernel_1451/241414590.py:8: FutureWarning: The behavior of `series[i:j]` with an integer-dtype index is deprecated. In a future version, this will be treated as *label-based* indexing, consistent with e.g. `series[i]` lookups. To retain the old behavior, use `series.iloc[i:j]`. To get the future behavior, use `series.loc[i:j]`.\n",
      "  similar_users = user_similarity[user_similarity[idd] > user_similarity_threshold][idd].sort_values(ascending=False)[:k] # Print out top `k` similar users\n"
     ]
    },
    {
     "name": "stdout",
     "output_type": "stream",
     "text": [
      "114\n"
     ]
    },
    {
     "name": "stderr",
     "output_type": "stream",
     "text": [
      "/var/folders/w6/yvwdncbx7qbgk26cz6r2f7s00000gn/T/ipykernel_1451/241414590.py:8: FutureWarning: The behavior of `series[i:j]` with an integer-dtype index is deprecated. In a future version, this will be treated as *label-based* indexing, consistent with e.g. `series[i]` lookups. To retain the old behavior, use `series.iloc[i:j]`. To get the future behavior, use `series.loc[i:j]`.\n",
      "  similar_users = user_similarity[user_similarity[idd] > user_similarity_threshold][idd].sort_values(ascending=False)[:k] # Print out top `k` similar users\n"
     ]
    },
    {
     "name": "stdout",
     "output_type": "stream",
     "text": [
      "115\n"
     ]
    },
    {
     "name": "stderr",
     "output_type": "stream",
     "text": [
      "/var/folders/w6/yvwdncbx7qbgk26cz6r2f7s00000gn/T/ipykernel_1451/241414590.py:8: FutureWarning: The behavior of `series[i:j]` with an integer-dtype index is deprecated. In a future version, this will be treated as *label-based* indexing, consistent with e.g. `series[i]` lookups. To retain the old behavior, use `series.iloc[i:j]`. To get the future behavior, use `series.loc[i:j]`.\n",
      "  similar_users = user_similarity[user_similarity[idd] > user_similarity_threshold][idd].sort_values(ascending=False)[:k] # Print out top `k` similar users\n"
     ]
    },
    {
     "name": "stdout",
     "output_type": "stream",
     "text": [
      "116\n"
     ]
    },
    {
     "name": "stderr",
     "output_type": "stream",
     "text": [
      "/var/folders/w6/yvwdncbx7qbgk26cz6r2f7s00000gn/T/ipykernel_1451/241414590.py:8: FutureWarning: The behavior of `series[i:j]` with an integer-dtype index is deprecated. In a future version, this will be treated as *label-based* indexing, consistent with e.g. `series[i]` lookups. To retain the old behavior, use `series.iloc[i:j]`. To get the future behavior, use `series.loc[i:j]`.\n",
      "  similar_users = user_similarity[user_similarity[idd] > user_similarity_threshold][idd].sort_values(ascending=False)[:k] # Print out top `k` similar users\n"
     ]
    },
    {
     "name": "stdout",
     "output_type": "stream",
     "text": [
      "117\n"
     ]
    },
    {
     "name": "stderr",
     "output_type": "stream",
     "text": [
      "/var/folders/w6/yvwdncbx7qbgk26cz6r2f7s00000gn/T/ipykernel_1451/241414590.py:8: FutureWarning: The behavior of `series[i:j]` with an integer-dtype index is deprecated. In a future version, this will be treated as *label-based* indexing, consistent with e.g. `series[i]` lookups. To retain the old behavior, use `series.iloc[i:j]`. To get the future behavior, use `series.loc[i:j]`.\n",
      "  similar_users = user_similarity[user_similarity[idd] > user_similarity_threshold][idd].sort_values(ascending=False)[:k] # Print out top `k` similar users\n"
     ]
    },
    {
     "name": "stdout",
     "output_type": "stream",
     "text": [
      "118\n"
     ]
    },
    {
     "name": "stderr",
     "output_type": "stream",
     "text": [
      "/var/folders/w6/yvwdncbx7qbgk26cz6r2f7s00000gn/T/ipykernel_1451/241414590.py:8: FutureWarning: The behavior of `series[i:j]` with an integer-dtype index is deprecated. In a future version, this will be treated as *label-based* indexing, consistent with e.g. `series[i]` lookups. To retain the old behavior, use `series.iloc[i:j]`. To get the future behavior, use `series.loc[i:j]`.\n",
      "  similar_users = user_similarity[user_similarity[idd] > user_similarity_threshold][idd].sort_values(ascending=False)[:k] # Print out top `k` similar users\n"
     ]
    },
    {
     "name": "stdout",
     "output_type": "stream",
     "text": [
      "119\n"
     ]
    },
    {
     "name": "stderr",
     "output_type": "stream",
     "text": [
      "/var/folders/w6/yvwdncbx7qbgk26cz6r2f7s00000gn/T/ipykernel_1451/241414590.py:8: FutureWarning: The behavior of `series[i:j]` with an integer-dtype index is deprecated. In a future version, this will be treated as *label-based* indexing, consistent with e.g. `series[i]` lookups. To retain the old behavior, use `series.iloc[i:j]`. To get the future behavior, use `series.loc[i:j]`.\n",
      "  similar_users = user_similarity[user_similarity[idd] > user_similarity_threshold][idd].sort_values(ascending=False)[:k] # Print out top `k` similar users\n"
     ]
    },
    {
     "name": "stdout",
     "output_type": "stream",
     "text": [
      "120\n"
     ]
    },
    {
     "name": "stderr",
     "output_type": "stream",
     "text": [
      "/var/folders/w6/yvwdncbx7qbgk26cz6r2f7s00000gn/T/ipykernel_1451/241414590.py:8: FutureWarning: The behavior of `series[i:j]` with an integer-dtype index is deprecated. In a future version, this will be treated as *label-based* indexing, consistent with e.g. `series[i]` lookups. To retain the old behavior, use `series.iloc[i:j]`. To get the future behavior, use `series.loc[i:j]`.\n",
      "  similar_users = user_similarity[user_similarity[idd] > user_similarity_threshold][idd].sort_values(ascending=False)[:k] # Print out top `k` similar users\n"
     ]
    },
    {
     "name": "stdout",
     "output_type": "stream",
     "text": [
      "121\n"
     ]
    },
    {
     "name": "stderr",
     "output_type": "stream",
     "text": [
      "/var/folders/w6/yvwdncbx7qbgk26cz6r2f7s00000gn/T/ipykernel_1451/241414590.py:8: FutureWarning: The behavior of `series[i:j]` with an integer-dtype index is deprecated. In a future version, this will be treated as *label-based* indexing, consistent with e.g. `series[i]` lookups. To retain the old behavior, use `series.iloc[i:j]`. To get the future behavior, use `series.loc[i:j]`.\n",
      "  similar_users = user_similarity[user_similarity[idd] > user_similarity_threshold][idd].sort_values(ascending=False)[:k] # Print out top `k` similar users\n"
     ]
    },
    {
     "name": "stdout",
     "output_type": "stream",
     "text": [
      "122\n"
     ]
    },
    {
     "name": "stderr",
     "output_type": "stream",
     "text": [
      "/var/folders/w6/yvwdncbx7qbgk26cz6r2f7s00000gn/T/ipykernel_1451/241414590.py:8: FutureWarning: The behavior of `series[i:j]` with an integer-dtype index is deprecated. In a future version, this will be treated as *label-based* indexing, consistent with e.g. `series[i]` lookups. To retain the old behavior, use `series.iloc[i:j]`. To get the future behavior, use `series.loc[i:j]`.\n",
      "  similar_users = user_similarity[user_similarity[idd] > user_similarity_threshold][idd].sort_values(ascending=False)[:k] # Print out top `k` similar users\n"
     ]
    },
    {
     "name": "stdout",
     "output_type": "stream",
     "text": [
      "123\n"
     ]
    },
    {
     "name": "stderr",
     "output_type": "stream",
     "text": [
      "/var/folders/w6/yvwdncbx7qbgk26cz6r2f7s00000gn/T/ipykernel_1451/241414590.py:8: FutureWarning: The behavior of `series[i:j]` with an integer-dtype index is deprecated. In a future version, this will be treated as *label-based* indexing, consistent with e.g. `series[i]` lookups. To retain the old behavior, use `series.iloc[i:j]`. To get the future behavior, use `series.loc[i:j]`.\n",
      "  similar_users = user_similarity[user_similarity[idd] > user_similarity_threshold][idd].sort_values(ascending=False)[:k] # Print out top `k` similar users\n"
     ]
    },
    {
     "name": "stdout",
     "output_type": "stream",
     "text": [
      "124\n"
     ]
    },
    {
     "name": "stderr",
     "output_type": "stream",
     "text": [
      "/var/folders/w6/yvwdncbx7qbgk26cz6r2f7s00000gn/T/ipykernel_1451/241414590.py:8: FutureWarning: The behavior of `series[i:j]` with an integer-dtype index is deprecated. In a future version, this will be treated as *label-based* indexing, consistent with e.g. `series[i]` lookups. To retain the old behavior, use `series.iloc[i:j]`. To get the future behavior, use `series.loc[i:j]`.\n",
      "  similar_users = user_similarity[user_similarity[idd] > user_similarity_threshold][idd].sort_values(ascending=False)[:k] # Print out top `k` similar users\n"
     ]
    },
    {
     "name": "stdout",
     "output_type": "stream",
     "text": [
      "125\n"
     ]
    },
    {
     "name": "stderr",
     "output_type": "stream",
     "text": [
      "/var/folders/w6/yvwdncbx7qbgk26cz6r2f7s00000gn/T/ipykernel_1451/241414590.py:8: FutureWarning: The behavior of `series[i:j]` with an integer-dtype index is deprecated. In a future version, this will be treated as *label-based* indexing, consistent with e.g. `series[i]` lookups. To retain the old behavior, use `series.iloc[i:j]`. To get the future behavior, use `series.loc[i:j]`.\n",
      "  similar_users = user_similarity[user_similarity[idd] > user_similarity_threshold][idd].sort_values(ascending=False)[:k] # Print out top `k` similar users\n"
     ]
    },
    {
     "name": "stdout",
     "output_type": "stream",
     "text": [
      "126\n"
     ]
    },
    {
     "name": "stderr",
     "output_type": "stream",
     "text": [
      "/var/folders/w6/yvwdncbx7qbgk26cz6r2f7s00000gn/T/ipykernel_1451/241414590.py:8: FutureWarning: The behavior of `series[i:j]` with an integer-dtype index is deprecated. In a future version, this will be treated as *label-based* indexing, consistent with e.g. `series[i]` lookups. To retain the old behavior, use `series.iloc[i:j]`. To get the future behavior, use `series.loc[i:j]`.\n",
      "  similar_users = user_similarity[user_similarity[idd] > user_similarity_threshold][idd].sort_values(ascending=False)[:k] # Print out top `k` similar users\n"
     ]
    },
    {
     "name": "stdout",
     "output_type": "stream",
     "text": [
      "127\n"
     ]
    },
    {
     "name": "stderr",
     "output_type": "stream",
     "text": [
      "/var/folders/w6/yvwdncbx7qbgk26cz6r2f7s00000gn/T/ipykernel_1451/241414590.py:8: FutureWarning: The behavior of `series[i:j]` with an integer-dtype index is deprecated. In a future version, this will be treated as *label-based* indexing, consistent with e.g. `series[i]` lookups. To retain the old behavior, use `series.iloc[i:j]`. To get the future behavior, use `series.loc[i:j]`.\n",
      "  similar_users = user_similarity[user_similarity[idd] > user_similarity_threshold][idd].sort_values(ascending=False)[:k] # Print out top `k` similar users\n"
     ]
    },
    {
     "name": "stdout",
     "output_type": "stream",
     "text": [
      "128\n"
     ]
    },
    {
     "name": "stderr",
     "output_type": "stream",
     "text": [
      "/var/folders/w6/yvwdncbx7qbgk26cz6r2f7s00000gn/T/ipykernel_1451/241414590.py:8: FutureWarning: The behavior of `series[i:j]` with an integer-dtype index is deprecated. In a future version, this will be treated as *label-based* indexing, consistent with e.g. `series[i]` lookups. To retain the old behavior, use `series.iloc[i:j]`. To get the future behavior, use `series.loc[i:j]`.\n",
      "  similar_users = user_similarity[user_similarity[idd] > user_similarity_threshold][idd].sort_values(ascending=False)[:k] # Print out top `k` similar users\n"
     ]
    },
    {
     "name": "stdout",
     "output_type": "stream",
     "text": [
      "129\n"
     ]
    },
    {
     "name": "stderr",
     "output_type": "stream",
     "text": [
      "/var/folders/w6/yvwdncbx7qbgk26cz6r2f7s00000gn/T/ipykernel_1451/241414590.py:8: FutureWarning: The behavior of `series[i:j]` with an integer-dtype index is deprecated. In a future version, this will be treated as *label-based* indexing, consistent with e.g. `series[i]` lookups. To retain the old behavior, use `series.iloc[i:j]`. To get the future behavior, use `series.loc[i:j]`.\n",
      "  similar_users = user_similarity[user_similarity[idd] > user_similarity_threshold][idd].sort_values(ascending=False)[:k] # Print out top `k` similar users\n"
     ]
    },
    {
     "name": "stdout",
     "output_type": "stream",
     "text": [
      "130\n"
     ]
    },
    {
     "name": "stderr",
     "output_type": "stream",
     "text": [
      "/var/folders/w6/yvwdncbx7qbgk26cz6r2f7s00000gn/T/ipykernel_1451/241414590.py:8: FutureWarning: The behavior of `series[i:j]` with an integer-dtype index is deprecated. In a future version, this will be treated as *label-based* indexing, consistent with e.g. `series[i]` lookups. To retain the old behavior, use `series.iloc[i:j]`. To get the future behavior, use `series.loc[i:j]`.\n",
      "  similar_users = user_similarity[user_similarity[idd] > user_similarity_threshold][idd].sort_values(ascending=False)[:k] # Print out top `k` similar users\n"
     ]
    },
    {
     "name": "stdout",
     "output_type": "stream",
     "text": [
      "131\n"
     ]
    },
    {
     "name": "stderr",
     "output_type": "stream",
     "text": [
      "/var/folders/w6/yvwdncbx7qbgk26cz6r2f7s00000gn/T/ipykernel_1451/241414590.py:8: FutureWarning: The behavior of `series[i:j]` with an integer-dtype index is deprecated. In a future version, this will be treated as *label-based* indexing, consistent with e.g. `series[i]` lookups. To retain the old behavior, use `series.iloc[i:j]`. To get the future behavior, use `series.loc[i:j]`.\n",
      "  similar_users = user_similarity[user_similarity[idd] > user_similarity_threshold][idd].sort_values(ascending=False)[:k] # Print out top `k` similar users\n"
     ]
    },
    {
     "name": "stdout",
     "output_type": "stream",
     "text": [
      "132\n"
     ]
    },
    {
     "name": "stderr",
     "output_type": "stream",
     "text": [
      "/var/folders/w6/yvwdncbx7qbgk26cz6r2f7s00000gn/T/ipykernel_1451/241414590.py:8: FutureWarning: The behavior of `series[i:j]` with an integer-dtype index is deprecated. In a future version, this will be treated as *label-based* indexing, consistent with e.g. `series[i]` lookups. To retain the old behavior, use `series.iloc[i:j]`. To get the future behavior, use `series.loc[i:j]`.\n",
      "  similar_users = user_similarity[user_similarity[idd] > user_similarity_threshold][idd].sort_values(ascending=False)[:k] # Print out top `k` similar users\n"
     ]
    },
    {
     "name": "stdout",
     "output_type": "stream",
     "text": [
      "133\n"
     ]
    },
    {
     "name": "stderr",
     "output_type": "stream",
     "text": [
      "/var/folders/w6/yvwdncbx7qbgk26cz6r2f7s00000gn/T/ipykernel_1451/241414590.py:8: FutureWarning: The behavior of `series[i:j]` with an integer-dtype index is deprecated. In a future version, this will be treated as *label-based* indexing, consistent with e.g. `series[i]` lookups. To retain the old behavior, use `series.iloc[i:j]`. To get the future behavior, use `series.loc[i:j]`.\n",
      "  similar_users = user_similarity[user_similarity[idd] > user_similarity_threshold][idd].sort_values(ascending=False)[:k] # Print out top `k` similar users\n"
     ]
    },
    {
     "name": "stdout",
     "output_type": "stream",
     "text": [
      "134\n"
     ]
    },
    {
     "name": "stderr",
     "output_type": "stream",
     "text": [
      "/var/folders/w6/yvwdncbx7qbgk26cz6r2f7s00000gn/T/ipykernel_1451/241414590.py:8: FutureWarning: The behavior of `series[i:j]` with an integer-dtype index is deprecated. In a future version, this will be treated as *label-based* indexing, consistent with e.g. `series[i]` lookups. To retain the old behavior, use `series.iloc[i:j]`. To get the future behavior, use `series.loc[i:j]`.\n",
      "  similar_users = user_similarity[user_similarity[idd] > user_similarity_threshold][idd].sort_values(ascending=False)[:k] # Print out top `k` similar users\n"
     ]
    },
    {
     "name": "stdout",
     "output_type": "stream",
     "text": [
      "135\n"
     ]
    },
    {
     "name": "stderr",
     "output_type": "stream",
     "text": [
      "/var/folders/w6/yvwdncbx7qbgk26cz6r2f7s00000gn/T/ipykernel_1451/241414590.py:8: FutureWarning: The behavior of `series[i:j]` with an integer-dtype index is deprecated. In a future version, this will be treated as *label-based* indexing, consistent with e.g. `series[i]` lookups. To retain the old behavior, use `series.iloc[i:j]`. To get the future behavior, use `series.loc[i:j]`.\n",
      "  similar_users = user_similarity[user_similarity[idd] > user_similarity_threshold][idd].sort_values(ascending=False)[:k] # Print out top `k` similar users\n"
     ]
    },
    {
     "name": "stdout",
     "output_type": "stream",
     "text": [
      "136\n"
     ]
    },
    {
     "name": "stderr",
     "output_type": "stream",
     "text": [
      "/var/folders/w6/yvwdncbx7qbgk26cz6r2f7s00000gn/T/ipykernel_1451/241414590.py:8: FutureWarning: The behavior of `series[i:j]` with an integer-dtype index is deprecated. In a future version, this will be treated as *label-based* indexing, consistent with e.g. `series[i]` lookups. To retain the old behavior, use `series.iloc[i:j]`. To get the future behavior, use `series.loc[i:j]`.\n",
      "  similar_users = user_similarity[user_similarity[idd] > user_similarity_threshold][idd].sort_values(ascending=False)[:k] # Print out top `k` similar users\n"
     ]
    },
    {
     "name": "stdout",
     "output_type": "stream",
     "text": [
      "137\n"
     ]
    },
    {
     "name": "stderr",
     "output_type": "stream",
     "text": [
      "/var/folders/w6/yvwdncbx7qbgk26cz6r2f7s00000gn/T/ipykernel_1451/241414590.py:8: FutureWarning: The behavior of `series[i:j]` with an integer-dtype index is deprecated. In a future version, this will be treated as *label-based* indexing, consistent with e.g. `series[i]` lookups. To retain the old behavior, use `series.iloc[i:j]`. To get the future behavior, use `series.loc[i:j]`.\n",
      "  similar_users = user_similarity[user_similarity[idd] > user_similarity_threshold][idd].sort_values(ascending=False)[:k] # Print out top `k` similar users\n"
     ]
    },
    {
     "name": "stdout",
     "output_type": "stream",
     "text": [
      "138\n"
     ]
    },
    {
     "name": "stderr",
     "output_type": "stream",
     "text": [
      "/var/folders/w6/yvwdncbx7qbgk26cz6r2f7s00000gn/T/ipykernel_1451/241414590.py:8: FutureWarning: The behavior of `series[i:j]` with an integer-dtype index is deprecated. In a future version, this will be treated as *label-based* indexing, consistent with e.g. `series[i]` lookups. To retain the old behavior, use `series.iloc[i:j]`. To get the future behavior, use `series.loc[i:j]`.\n",
      "  similar_users = user_similarity[user_similarity[idd] > user_similarity_threshold][idd].sort_values(ascending=False)[:k] # Print out top `k` similar users\n"
     ]
    },
    {
     "name": "stdout",
     "output_type": "stream",
     "text": [
      "139\n"
     ]
    },
    {
     "name": "stderr",
     "output_type": "stream",
     "text": [
      "/var/folders/w6/yvwdncbx7qbgk26cz6r2f7s00000gn/T/ipykernel_1451/241414590.py:8: FutureWarning: The behavior of `series[i:j]` with an integer-dtype index is deprecated. In a future version, this will be treated as *label-based* indexing, consistent with e.g. `series[i]` lookups. To retain the old behavior, use `series.iloc[i:j]`. To get the future behavior, use `series.loc[i:j]`.\n",
      "  similar_users = user_similarity[user_similarity[idd] > user_similarity_threshold][idd].sort_values(ascending=False)[:k] # Print out top `k` similar users\n"
     ]
    },
    {
     "name": "stdout",
     "output_type": "stream",
     "text": [
      "140\n"
     ]
    },
    {
     "name": "stderr",
     "output_type": "stream",
     "text": [
      "/var/folders/w6/yvwdncbx7qbgk26cz6r2f7s00000gn/T/ipykernel_1451/241414590.py:8: FutureWarning: The behavior of `series[i:j]` with an integer-dtype index is deprecated. In a future version, this will be treated as *label-based* indexing, consistent with e.g. `series[i]` lookups. To retain the old behavior, use `series.iloc[i:j]`. To get the future behavior, use `series.loc[i:j]`.\n",
      "  similar_users = user_similarity[user_similarity[idd] > user_similarity_threshold][idd].sort_values(ascending=False)[:k] # Print out top `k` similar users\n"
     ]
    },
    {
     "name": "stdout",
     "output_type": "stream",
     "text": [
      "141\n"
     ]
    },
    {
     "name": "stderr",
     "output_type": "stream",
     "text": [
      "/var/folders/w6/yvwdncbx7qbgk26cz6r2f7s00000gn/T/ipykernel_1451/241414590.py:8: FutureWarning: The behavior of `series[i:j]` with an integer-dtype index is deprecated. In a future version, this will be treated as *label-based* indexing, consistent with e.g. `series[i]` lookups. To retain the old behavior, use `series.iloc[i:j]`. To get the future behavior, use `series.loc[i:j]`.\n",
      "  similar_users = user_similarity[user_similarity[idd] > user_similarity_threshold][idd].sort_values(ascending=False)[:k] # Print out top `k` similar users\n"
     ]
    },
    {
     "name": "stdout",
     "output_type": "stream",
     "text": [
      "142\n"
     ]
    },
    {
     "name": "stderr",
     "output_type": "stream",
     "text": [
      "/var/folders/w6/yvwdncbx7qbgk26cz6r2f7s00000gn/T/ipykernel_1451/241414590.py:8: FutureWarning: The behavior of `series[i:j]` with an integer-dtype index is deprecated. In a future version, this will be treated as *label-based* indexing, consistent with e.g. `series[i]` lookups. To retain the old behavior, use `series.iloc[i:j]`. To get the future behavior, use `series.loc[i:j]`.\n",
      "  similar_users = user_similarity[user_similarity[idd] > user_similarity_threshold][idd].sort_values(ascending=False)[:k] # Print out top `k` similar users\n"
     ]
    },
    {
     "name": "stdout",
     "output_type": "stream",
     "text": [
      "143\n"
     ]
    },
    {
     "name": "stderr",
     "output_type": "stream",
     "text": [
      "/var/folders/w6/yvwdncbx7qbgk26cz6r2f7s00000gn/T/ipykernel_1451/241414590.py:8: FutureWarning: The behavior of `series[i:j]` with an integer-dtype index is deprecated. In a future version, this will be treated as *label-based* indexing, consistent with e.g. `series[i]` lookups. To retain the old behavior, use `series.iloc[i:j]`. To get the future behavior, use `series.loc[i:j]`.\n",
      "  similar_users = user_similarity[user_similarity[idd] > user_similarity_threshold][idd].sort_values(ascending=False)[:k] # Print out top `k` similar users\n"
     ]
    },
    {
     "name": "stdout",
     "output_type": "stream",
     "text": [
      "144\n"
     ]
    },
    {
     "name": "stderr",
     "output_type": "stream",
     "text": [
      "/var/folders/w6/yvwdncbx7qbgk26cz6r2f7s00000gn/T/ipykernel_1451/241414590.py:8: FutureWarning: The behavior of `series[i:j]` with an integer-dtype index is deprecated. In a future version, this will be treated as *label-based* indexing, consistent with e.g. `series[i]` lookups. To retain the old behavior, use `series.iloc[i:j]`. To get the future behavior, use `series.loc[i:j]`.\n",
      "  similar_users = user_similarity[user_similarity[idd] > user_similarity_threshold][idd].sort_values(ascending=False)[:k] # Print out top `k` similar users\n"
     ]
    },
    {
     "name": "stdout",
     "output_type": "stream",
     "text": [
      "145\n"
     ]
    },
    {
     "name": "stderr",
     "output_type": "stream",
     "text": [
      "/var/folders/w6/yvwdncbx7qbgk26cz6r2f7s00000gn/T/ipykernel_1451/241414590.py:8: FutureWarning: The behavior of `series[i:j]` with an integer-dtype index is deprecated. In a future version, this will be treated as *label-based* indexing, consistent with e.g. `series[i]` lookups. To retain the old behavior, use `series.iloc[i:j]`. To get the future behavior, use `series.loc[i:j]`.\n",
      "  similar_users = user_similarity[user_similarity[idd] > user_similarity_threshold][idd].sort_values(ascending=False)[:k] # Print out top `k` similar users\n"
     ]
    },
    {
     "name": "stdout",
     "output_type": "stream",
     "text": [
      "146\n"
     ]
    },
    {
     "name": "stderr",
     "output_type": "stream",
     "text": [
      "/var/folders/w6/yvwdncbx7qbgk26cz6r2f7s00000gn/T/ipykernel_1451/241414590.py:8: FutureWarning: The behavior of `series[i:j]` with an integer-dtype index is deprecated. In a future version, this will be treated as *label-based* indexing, consistent with e.g. `series[i]` lookups. To retain the old behavior, use `series.iloc[i:j]`. To get the future behavior, use `series.loc[i:j]`.\n",
      "  similar_users = user_similarity[user_similarity[idd] > user_similarity_threshold][idd].sort_values(ascending=False)[:k] # Print out top `k` similar users\n"
     ]
    },
    {
     "name": "stdout",
     "output_type": "stream",
     "text": [
      "147\n"
     ]
    },
    {
     "name": "stderr",
     "output_type": "stream",
     "text": [
      "/var/folders/w6/yvwdncbx7qbgk26cz6r2f7s00000gn/T/ipykernel_1451/241414590.py:8: FutureWarning: The behavior of `series[i:j]` with an integer-dtype index is deprecated. In a future version, this will be treated as *label-based* indexing, consistent with e.g. `series[i]` lookups. To retain the old behavior, use `series.iloc[i:j]`. To get the future behavior, use `series.loc[i:j]`.\n",
      "  similar_users = user_similarity[user_similarity[idd] > user_similarity_threshold][idd].sort_values(ascending=False)[:k] # Print out top `k` similar users\n"
     ]
    },
    {
     "name": "stdout",
     "output_type": "stream",
     "text": [
      "148\n"
     ]
    },
    {
     "name": "stderr",
     "output_type": "stream",
     "text": [
      "/var/folders/w6/yvwdncbx7qbgk26cz6r2f7s00000gn/T/ipykernel_1451/241414590.py:8: FutureWarning: The behavior of `series[i:j]` with an integer-dtype index is deprecated. In a future version, this will be treated as *label-based* indexing, consistent with e.g. `series[i]` lookups. To retain the old behavior, use `series.iloc[i:j]`. To get the future behavior, use `series.loc[i:j]`.\n",
      "  similar_users = user_similarity[user_similarity[idd] > user_similarity_threshold][idd].sort_values(ascending=False)[:k] # Print out top `k` similar users\n"
     ]
    },
    {
     "name": "stdout",
     "output_type": "stream",
     "text": [
      "149\n"
     ]
    },
    {
     "name": "stderr",
     "output_type": "stream",
     "text": [
      "/var/folders/w6/yvwdncbx7qbgk26cz6r2f7s00000gn/T/ipykernel_1451/241414590.py:8: FutureWarning: The behavior of `series[i:j]` with an integer-dtype index is deprecated. In a future version, this will be treated as *label-based* indexing, consistent with e.g. `series[i]` lookups. To retain the old behavior, use `series.iloc[i:j]`. To get the future behavior, use `series.loc[i:j]`.\n",
      "  similar_users = user_similarity[user_similarity[idd] > user_similarity_threshold][idd].sort_values(ascending=False)[:k] # Print out top `k` similar users\n"
     ]
    },
    {
     "name": "stdout",
     "output_type": "stream",
     "text": [
      "150\n"
     ]
    },
    {
     "name": "stderr",
     "output_type": "stream",
     "text": [
      "/var/folders/w6/yvwdncbx7qbgk26cz6r2f7s00000gn/T/ipykernel_1451/241414590.py:8: FutureWarning: The behavior of `series[i:j]` with an integer-dtype index is deprecated. In a future version, this will be treated as *label-based* indexing, consistent with e.g. `series[i]` lookups. To retain the old behavior, use `series.iloc[i:j]`. To get the future behavior, use `series.loc[i:j]`.\n",
      "  similar_users = user_similarity[user_similarity[idd] > user_similarity_threshold][idd].sort_values(ascending=False)[:k] # Print out top `k` similar users\n"
     ]
    },
    {
     "name": "stdout",
     "output_type": "stream",
     "text": [
      "151\n"
     ]
    },
    {
     "name": "stderr",
     "output_type": "stream",
     "text": [
      "/var/folders/w6/yvwdncbx7qbgk26cz6r2f7s00000gn/T/ipykernel_1451/241414590.py:8: FutureWarning: The behavior of `series[i:j]` with an integer-dtype index is deprecated. In a future version, this will be treated as *label-based* indexing, consistent with e.g. `series[i]` lookups. To retain the old behavior, use `series.iloc[i:j]`. To get the future behavior, use `series.loc[i:j]`.\n",
      "  similar_users = user_similarity[user_similarity[idd] > user_similarity_threshold][idd].sort_values(ascending=False)[:k] # Print out top `k` similar users\n"
     ]
    },
    {
     "name": "stdout",
     "output_type": "stream",
     "text": [
      "152\n"
     ]
    },
    {
     "name": "stderr",
     "output_type": "stream",
     "text": [
      "/var/folders/w6/yvwdncbx7qbgk26cz6r2f7s00000gn/T/ipykernel_1451/241414590.py:8: FutureWarning: The behavior of `series[i:j]` with an integer-dtype index is deprecated. In a future version, this will be treated as *label-based* indexing, consistent with e.g. `series[i]` lookups. To retain the old behavior, use `series.iloc[i:j]`. To get the future behavior, use `series.loc[i:j]`.\n",
      "  similar_users = user_similarity[user_similarity[idd] > user_similarity_threshold][idd].sort_values(ascending=False)[:k] # Print out top `k` similar users\n"
     ]
    },
    {
     "name": "stdout",
     "output_type": "stream",
     "text": [
      "153\n"
     ]
    },
    {
     "name": "stderr",
     "output_type": "stream",
     "text": [
      "/var/folders/w6/yvwdncbx7qbgk26cz6r2f7s00000gn/T/ipykernel_1451/241414590.py:8: FutureWarning: The behavior of `series[i:j]` with an integer-dtype index is deprecated. In a future version, this will be treated as *label-based* indexing, consistent with e.g. `series[i]` lookups. To retain the old behavior, use `series.iloc[i:j]`. To get the future behavior, use `series.loc[i:j]`.\n",
      "  similar_users = user_similarity[user_similarity[idd] > user_similarity_threshold][idd].sort_values(ascending=False)[:k] # Print out top `k` similar users\n"
     ]
    },
    {
     "name": "stdout",
     "output_type": "stream",
     "text": [
      "154\n"
     ]
    },
    {
     "name": "stderr",
     "output_type": "stream",
     "text": [
      "/var/folders/w6/yvwdncbx7qbgk26cz6r2f7s00000gn/T/ipykernel_1451/241414590.py:8: FutureWarning: The behavior of `series[i:j]` with an integer-dtype index is deprecated. In a future version, this will be treated as *label-based* indexing, consistent with e.g. `series[i]` lookups. To retain the old behavior, use `series.iloc[i:j]`. To get the future behavior, use `series.loc[i:j]`.\n",
      "  similar_users = user_similarity[user_similarity[idd] > user_similarity_threshold][idd].sort_values(ascending=False)[:k] # Print out top `k` similar users\n"
     ]
    },
    {
     "name": "stdout",
     "output_type": "stream",
     "text": [
      "155\n"
     ]
    },
    {
     "name": "stderr",
     "output_type": "stream",
     "text": [
      "/var/folders/w6/yvwdncbx7qbgk26cz6r2f7s00000gn/T/ipykernel_1451/241414590.py:8: FutureWarning: The behavior of `series[i:j]` with an integer-dtype index is deprecated. In a future version, this will be treated as *label-based* indexing, consistent with e.g. `series[i]` lookups. To retain the old behavior, use `series.iloc[i:j]`. To get the future behavior, use `series.loc[i:j]`.\n",
      "  similar_users = user_similarity[user_similarity[idd] > user_similarity_threshold][idd].sort_values(ascending=False)[:k] # Print out top `k` similar users\n"
     ]
    },
    {
     "name": "stdout",
     "output_type": "stream",
     "text": [
      "156\n"
     ]
    },
    {
     "name": "stderr",
     "output_type": "stream",
     "text": [
      "/var/folders/w6/yvwdncbx7qbgk26cz6r2f7s00000gn/T/ipykernel_1451/241414590.py:8: FutureWarning: The behavior of `series[i:j]` with an integer-dtype index is deprecated. In a future version, this will be treated as *label-based* indexing, consistent with e.g. `series[i]` lookups. To retain the old behavior, use `series.iloc[i:j]`. To get the future behavior, use `series.loc[i:j]`.\n",
      "  similar_users = user_similarity[user_similarity[idd] > user_similarity_threshold][idd].sort_values(ascending=False)[:k] # Print out top `k` similar users\n"
     ]
    },
    {
     "name": "stdout",
     "output_type": "stream",
     "text": [
      "157\n"
     ]
    },
    {
     "name": "stderr",
     "output_type": "stream",
     "text": [
      "/var/folders/w6/yvwdncbx7qbgk26cz6r2f7s00000gn/T/ipykernel_1451/241414590.py:8: FutureWarning: The behavior of `series[i:j]` with an integer-dtype index is deprecated. In a future version, this will be treated as *label-based* indexing, consistent with e.g. `series[i]` lookups. To retain the old behavior, use `series.iloc[i:j]`. To get the future behavior, use `series.loc[i:j]`.\n",
      "  similar_users = user_similarity[user_similarity[idd] > user_similarity_threshold][idd].sort_values(ascending=False)[:k] # Print out top `k` similar users\n"
     ]
    },
    {
     "name": "stdout",
     "output_type": "stream",
     "text": [
      "158\n"
     ]
    },
    {
     "name": "stderr",
     "output_type": "stream",
     "text": [
      "/var/folders/w6/yvwdncbx7qbgk26cz6r2f7s00000gn/T/ipykernel_1451/241414590.py:8: FutureWarning: The behavior of `series[i:j]` with an integer-dtype index is deprecated. In a future version, this will be treated as *label-based* indexing, consistent with e.g. `series[i]` lookups. To retain the old behavior, use `series.iloc[i:j]`. To get the future behavior, use `series.loc[i:j]`.\n",
      "  similar_users = user_similarity[user_similarity[idd] > user_similarity_threshold][idd].sort_values(ascending=False)[:k] # Print out top `k` similar users\n"
     ]
    },
    {
     "name": "stdout",
     "output_type": "stream",
     "text": [
      "159\n"
     ]
    },
    {
     "name": "stderr",
     "output_type": "stream",
     "text": [
      "/var/folders/w6/yvwdncbx7qbgk26cz6r2f7s00000gn/T/ipykernel_1451/241414590.py:8: FutureWarning: The behavior of `series[i:j]` with an integer-dtype index is deprecated. In a future version, this will be treated as *label-based* indexing, consistent with e.g. `series[i]` lookups. To retain the old behavior, use `series.iloc[i:j]`. To get the future behavior, use `series.loc[i:j]`.\n",
      "  similar_users = user_similarity[user_similarity[idd] > user_similarity_threshold][idd].sort_values(ascending=False)[:k] # Print out top `k` similar users\n"
     ]
    },
    {
     "name": "stdout",
     "output_type": "stream",
     "text": [
      "160\n"
     ]
    },
    {
     "name": "stderr",
     "output_type": "stream",
     "text": [
      "/var/folders/w6/yvwdncbx7qbgk26cz6r2f7s00000gn/T/ipykernel_1451/241414590.py:8: FutureWarning: The behavior of `series[i:j]` with an integer-dtype index is deprecated. In a future version, this will be treated as *label-based* indexing, consistent with e.g. `series[i]` lookups. To retain the old behavior, use `series.iloc[i:j]`. To get the future behavior, use `series.loc[i:j]`.\n",
      "  similar_users = user_similarity[user_similarity[idd] > user_similarity_threshold][idd].sort_values(ascending=False)[:k] # Print out top `k` similar users\n"
     ]
    },
    {
     "name": "stdout",
     "output_type": "stream",
     "text": [
      "161\n"
     ]
    },
    {
     "name": "stderr",
     "output_type": "stream",
     "text": [
      "/var/folders/w6/yvwdncbx7qbgk26cz6r2f7s00000gn/T/ipykernel_1451/241414590.py:8: FutureWarning: The behavior of `series[i:j]` with an integer-dtype index is deprecated. In a future version, this will be treated as *label-based* indexing, consistent with e.g. `series[i]` lookups. To retain the old behavior, use `series.iloc[i:j]`. To get the future behavior, use `series.loc[i:j]`.\n",
      "  similar_users = user_similarity[user_similarity[idd] > user_similarity_threshold][idd].sort_values(ascending=False)[:k] # Print out top `k` similar users\n"
     ]
    },
    {
     "name": "stdout",
     "output_type": "stream",
     "text": [
      "162\n"
     ]
    },
    {
     "name": "stderr",
     "output_type": "stream",
     "text": [
      "/var/folders/w6/yvwdncbx7qbgk26cz6r2f7s00000gn/T/ipykernel_1451/241414590.py:8: FutureWarning: The behavior of `series[i:j]` with an integer-dtype index is deprecated. In a future version, this will be treated as *label-based* indexing, consistent with e.g. `series[i]` lookups. To retain the old behavior, use `series.iloc[i:j]`. To get the future behavior, use `series.loc[i:j]`.\n",
      "  similar_users = user_similarity[user_similarity[idd] > user_similarity_threshold][idd].sort_values(ascending=False)[:k] # Print out top `k` similar users\n"
     ]
    },
    {
     "name": "stdout",
     "output_type": "stream",
     "text": [
      "163\n"
     ]
    },
    {
     "name": "stderr",
     "output_type": "stream",
     "text": [
      "/var/folders/w6/yvwdncbx7qbgk26cz6r2f7s00000gn/T/ipykernel_1451/241414590.py:8: FutureWarning: The behavior of `series[i:j]` with an integer-dtype index is deprecated. In a future version, this will be treated as *label-based* indexing, consistent with e.g. `series[i]` lookups. To retain the old behavior, use `series.iloc[i:j]`. To get the future behavior, use `series.loc[i:j]`.\n",
      "  similar_users = user_similarity[user_similarity[idd] > user_similarity_threshold][idd].sort_values(ascending=False)[:k] # Print out top `k` similar users\n"
     ]
    },
    {
     "name": "stdout",
     "output_type": "stream",
     "text": [
      "164\n"
     ]
    },
    {
     "name": "stderr",
     "output_type": "stream",
     "text": [
      "/var/folders/w6/yvwdncbx7qbgk26cz6r2f7s00000gn/T/ipykernel_1451/241414590.py:8: FutureWarning: The behavior of `series[i:j]` with an integer-dtype index is deprecated. In a future version, this will be treated as *label-based* indexing, consistent with e.g. `series[i]` lookups. To retain the old behavior, use `series.iloc[i:j]`. To get the future behavior, use `series.loc[i:j]`.\n",
      "  similar_users = user_similarity[user_similarity[idd] > user_similarity_threshold][idd].sort_values(ascending=False)[:k] # Print out top `k` similar users\n"
     ]
    },
    {
     "name": "stdout",
     "output_type": "stream",
     "text": [
      "165\n"
     ]
    },
    {
     "name": "stderr",
     "output_type": "stream",
     "text": [
      "/var/folders/w6/yvwdncbx7qbgk26cz6r2f7s00000gn/T/ipykernel_1451/241414590.py:8: FutureWarning: The behavior of `series[i:j]` with an integer-dtype index is deprecated. In a future version, this will be treated as *label-based* indexing, consistent with e.g. `series[i]` lookups. To retain the old behavior, use `series.iloc[i:j]`. To get the future behavior, use `series.loc[i:j]`.\n",
      "  similar_users = user_similarity[user_similarity[idd] > user_similarity_threshold][idd].sort_values(ascending=False)[:k] # Print out top `k` similar users\n"
     ]
    },
    {
     "name": "stdout",
     "output_type": "stream",
     "text": [
      "166\n"
     ]
    },
    {
     "name": "stderr",
     "output_type": "stream",
     "text": [
      "/var/folders/w6/yvwdncbx7qbgk26cz6r2f7s00000gn/T/ipykernel_1451/241414590.py:8: FutureWarning: The behavior of `series[i:j]` with an integer-dtype index is deprecated. In a future version, this will be treated as *label-based* indexing, consistent with e.g. `series[i]` lookups. To retain the old behavior, use `series.iloc[i:j]`. To get the future behavior, use `series.loc[i:j]`.\n",
      "  similar_users = user_similarity[user_similarity[idd] > user_similarity_threshold][idd].sort_values(ascending=False)[:k] # Print out top `k` similar users\n"
     ]
    },
    {
     "name": "stdout",
     "output_type": "stream",
     "text": [
      "167\n"
     ]
    },
    {
     "name": "stderr",
     "output_type": "stream",
     "text": [
      "/var/folders/w6/yvwdncbx7qbgk26cz6r2f7s00000gn/T/ipykernel_1451/241414590.py:8: FutureWarning: The behavior of `series[i:j]` with an integer-dtype index is deprecated. In a future version, this will be treated as *label-based* indexing, consistent with e.g. `series[i]` lookups. To retain the old behavior, use `series.iloc[i:j]`. To get the future behavior, use `series.loc[i:j]`.\n",
      "  similar_users = user_similarity[user_similarity[idd] > user_similarity_threshold][idd].sort_values(ascending=False)[:k] # Print out top `k` similar users\n"
     ]
    },
    {
     "name": "stdout",
     "output_type": "stream",
     "text": [
      "168\n"
     ]
    },
    {
     "name": "stderr",
     "output_type": "stream",
     "text": [
      "/var/folders/w6/yvwdncbx7qbgk26cz6r2f7s00000gn/T/ipykernel_1451/241414590.py:8: FutureWarning: The behavior of `series[i:j]` with an integer-dtype index is deprecated. In a future version, this will be treated as *label-based* indexing, consistent with e.g. `series[i]` lookups. To retain the old behavior, use `series.iloc[i:j]`. To get the future behavior, use `series.loc[i:j]`.\n",
      "  similar_users = user_similarity[user_similarity[idd] > user_similarity_threshold][idd].sort_values(ascending=False)[:k] # Print out top `k` similar users\n"
     ]
    },
    {
     "name": "stdout",
     "output_type": "stream",
     "text": [
      "169\n"
     ]
    },
    {
     "name": "stderr",
     "output_type": "stream",
     "text": [
      "/var/folders/w6/yvwdncbx7qbgk26cz6r2f7s00000gn/T/ipykernel_1451/241414590.py:8: FutureWarning: The behavior of `series[i:j]` with an integer-dtype index is deprecated. In a future version, this will be treated as *label-based* indexing, consistent with e.g. `series[i]` lookups. To retain the old behavior, use `series.iloc[i:j]`. To get the future behavior, use `series.loc[i:j]`.\n",
      "  similar_users = user_similarity[user_similarity[idd] > user_similarity_threshold][idd].sort_values(ascending=False)[:k] # Print out top `k` similar users\n"
     ]
    },
    {
     "name": "stdout",
     "output_type": "stream",
     "text": [
      "170\n"
     ]
    },
    {
     "name": "stderr",
     "output_type": "stream",
     "text": [
      "/var/folders/w6/yvwdncbx7qbgk26cz6r2f7s00000gn/T/ipykernel_1451/241414590.py:8: FutureWarning: The behavior of `series[i:j]` with an integer-dtype index is deprecated. In a future version, this will be treated as *label-based* indexing, consistent with e.g. `series[i]` lookups. To retain the old behavior, use `series.iloc[i:j]`. To get the future behavior, use `series.loc[i:j]`.\n",
      "  similar_users = user_similarity[user_similarity[idd] > user_similarity_threshold][idd].sort_values(ascending=False)[:k] # Print out top `k` similar users\n"
     ]
    },
    {
     "name": "stdout",
     "output_type": "stream",
     "text": [
      "171\n"
     ]
    },
    {
     "name": "stderr",
     "output_type": "stream",
     "text": [
      "/var/folders/w6/yvwdncbx7qbgk26cz6r2f7s00000gn/T/ipykernel_1451/241414590.py:8: FutureWarning: The behavior of `series[i:j]` with an integer-dtype index is deprecated. In a future version, this will be treated as *label-based* indexing, consistent with e.g. `series[i]` lookups. To retain the old behavior, use `series.iloc[i:j]`. To get the future behavior, use `series.loc[i:j]`.\n",
      "  similar_users = user_similarity[user_similarity[idd] > user_similarity_threshold][idd].sort_values(ascending=False)[:k] # Print out top `k` similar users\n"
     ]
    },
    {
     "name": "stdout",
     "output_type": "stream",
     "text": [
      "172\n"
     ]
    },
    {
     "name": "stderr",
     "output_type": "stream",
     "text": [
      "/var/folders/w6/yvwdncbx7qbgk26cz6r2f7s00000gn/T/ipykernel_1451/241414590.py:8: FutureWarning: The behavior of `series[i:j]` with an integer-dtype index is deprecated. In a future version, this will be treated as *label-based* indexing, consistent with e.g. `series[i]` lookups. To retain the old behavior, use `series.iloc[i:j]`. To get the future behavior, use `series.loc[i:j]`.\n",
      "  similar_users = user_similarity[user_similarity[idd] > user_similarity_threshold][idd].sort_values(ascending=False)[:k] # Print out top `k` similar users\n"
     ]
    },
    {
     "name": "stdout",
     "output_type": "stream",
     "text": [
      "173\n"
     ]
    },
    {
     "name": "stderr",
     "output_type": "stream",
     "text": [
      "/var/folders/w6/yvwdncbx7qbgk26cz6r2f7s00000gn/T/ipykernel_1451/241414590.py:8: FutureWarning: The behavior of `series[i:j]` with an integer-dtype index is deprecated. In a future version, this will be treated as *label-based* indexing, consistent with e.g. `series[i]` lookups. To retain the old behavior, use `series.iloc[i:j]`. To get the future behavior, use `series.loc[i:j]`.\n",
      "  similar_users = user_similarity[user_similarity[idd] > user_similarity_threshold][idd].sort_values(ascending=False)[:k] # Print out top `k` similar users\n"
     ]
    },
    {
     "name": "stdout",
     "output_type": "stream",
     "text": [
      "174\n"
     ]
    },
    {
     "name": "stderr",
     "output_type": "stream",
     "text": [
      "/var/folders/w6/yvwdncbx7qbgk26cz6r2f7s00000gn/T/ipykernel_1451/241414590.py:8: FutureWarning: The behavior of `series[i:j]` with an integer-dtype index is deprecated. In a future version, this will be treated as *label-based* indexing, consistent with e.g. `series[i]` lookups. To retain the old behavior, use `series.iloc[i:j]`. To get the future behavior, use `series.loc[i:j]`.\n",
      "  similar_users = user_similarity[user_similarity[idd] > user_similarity_threshold][idd].sort_values(ascending=False)[:k] # Print out top `k` similar users\n"
     ]
    },
    {
     "name": "stdout",
     "output_type": "stream",
     "text": [
      "175\n"
     ]
    },
    {
     "name": "stderr",
     "output_type": "stream",
     "text": [
      "/var/folders/w6/yvwdncbx7qbgk26cz6r2f7s00000gn/T/ipykernel_1451/241414590.py:8: FutureWarning: The behavior of `series[i:j]` with an integer-dtype index is deprecated. In a future version, this will be treated as *label-based* indexing, consistent with e.g. `series[i]` lookups. To retain the old behavior, use `series.iloc[i:j]`. To get the future behavior, use `series.loc[i:j]`.\n",
      "  similar_users = user_similarity[user_similarity[idd] > user_similarity_threshold][idd].sort_values(ascending=False)[:k] # Print out top `k` similar users\n"
     ]
    },
    {
     "name": "stdout",
     "output_type": "stream",
     "text": [
      "176\n"
     ]
    },
    {
     "name": "stderr",
     "output_type": "stream",
     "text": [
      "/var/folders/w6/yvwdncbx7qbgk26cz6r2f7s00000gn/T/ipykernel_1451/241414590.py:8: FutureWarning: The behavior of `series[i:j]` with an integer-dtype index is deprecated. In a future version, this will be treated as *label-based* indexing, consistent with e.g. `series[i]` lookups. To retain the old behavior, use `series.iloc[i:j]`. To get the future behavior, use `series.loc[i:j]`.\n",
      "  similar_users = user_similarity[user_similarity[idd] > user_similarity_threshold][idd].sort_values(ascending=False)[:k] # Print out top `k` similar users\n"
     ]
    },
    {
     "name": "stdout",
     "output_type": "stream",
     "text": [
      "177\n"
     ]
    },
    {
     "name": "stderr",
     "output_type": "stream",
     "text": [
      "/var/folders/w6/yvwdncbx7qbgk26cz6r2f7s00000gn/T/ipykernel_1451/241414590.py:8: FutureWarning: The behavior of `series[i:j]` with an integer-dtype index is deprecated. In a future version, this will be treated as *label-based* indexing, consistent with e.g. `series[i]` lookups. To retain the old behavior, use `series.iloc[i:j]`. To get the future behavior, use `series.loc[i:j]`.\n",
      "  similar_users = user_similarity[user_similarity[idd] > user_similarity_threshold][idd].sort_values(ascending=False)[:k] # Print out top `k` similar users\n"
     ]
    },
    {
     "name": "stdout",
     "output_type": "stream",
     "text": [
      "178\n"
     ]
    },
    {
     "name": "stderr",
     "output_type": "stream",
     "text": [
      "/var/folders/w6/yvwdncbx7qbgk26cz6r2f7s00000gn/T/ipykernel_1451/241414590.py:8: FutureWarning: The behavior of `series[i:j]` with an integer-dtype index is deprecated. In a future version, this will be treated as *label-based* indexing, consistent with e.g. `series[i]` lookups. To retain the old behavior, use `series.iloc[i:j]`. To get the future behavior, use `series.loc[i:j]`.\n",
      "  similar_users = user_similarity[user_similarity[idd] > user_similarity_threshold][idd].sort_values(ascending=False)[:k] # Print out top `k` similar users\n"
     ]
    },
    {
     "name": "stdout",
     "output_type": "stream",
     "text": [
      "179\n"
     ]
    },
    {
     "name": "stderr",
     "output_type": "stream",
     "text": [
      "/var/folders/w6/yvwdncbx7qbgk26cz6r2f7s00000gn/T/ipykernel_1451/241414590.py:8: FutureWarning: The behavior of `series[i:j]` with an integer-dtype index is deprecated. In a future version, this will be treated as *label-based* indexing, consistent with e.g. `series[i]` lookups. To retain the old behavior, use `series.iloc[i:j]`. To get the future behavior, use `series.loc[i:j]`.\n",
      "  similar_users = user_similarity[user_similarity[idd] > user_similarity_threshold][idd].sort_values(ascending=False)[:k] # Print out top `k` similar users\n"
     ]
    },
    {
     "name": "stdout",
     "output_type": "stream",
     "text": [
      "180\n"
     ]
    },
    {
     "name": "stderr",
     "output_type": "stream",
     "text": [
      "/var/folders/w6/yvwdncbx7qbgk26cz6r2f7s00000gn/T/ipykernel_1451/241414590.py:8: FutureWarning: The behavior of `series[i:j]` with an integer-dtype index is deprecated. In a future version, this will be treated as *label-based* indexing, consistent with e.g. `series[i]` lookups. To retain the old behavior, use `series.iloc[i:j]`. To get the future behavior, use `series.loc[i:j]`.\n",
      "  similar_users = user_similarity[user_similarity[idd] > user_similarity_threshold][idd].sort_values(ascending=False)[:k] # Print out top `k` similar users\n"
     ]
    },
    {
     "name": "stdout",
     "output_type": "stream",
     "text": [
      "181\n"
     ]
    },
    {
     "name": "stderr",
     "output_type": "stream",
     "text": [
      "/var/folders/w6/yvwdncbx7qbgk26cz6r2f7s00000gn/T/ipykernel_1451/241414590.py:8: FutureWarning: The behavior of `series[i:j]` with an integer-dtype index is deprecated. In a future version, this will be treated as *label-based* indexing, consistent with e.g. `series[i]` lookups. To retain the old behavior, use `series.iloc[i:j]`. To get the future behavior, use `series.loc[i:j]`.\n",
      "  similar_users = user_similarity[user_similarity[idd] > user_similarity_threshold][idd].sort_values(ascending=False)[:k] # Print out top `k` similar users\n"
     ]
    },
    {
     "name": "stdout",
     "output_type": "stream",
     "text": [
      "182\n"
     ]
    },
    {
     "name": "stderr",
     "output_type": "stream",
     "text": [
      "/var/folders/w6/yvwdncbx7qbgk26cz6r2f7s00000gn/T/ipykernel_1451/241414590.py:8: FutureWarning: The behavior of `series[i:j]` with an integer-dtype index is deprecated. In a future version, this will be treated as *label-based* indexing, consistent with e.g. `series[i]` lookups. To retain the old behavior, use `series.iloc[i:j]`. To get the future behavior, use `series.loc[i:j]`.\n",
      "  similar_users = user_similarity[user_similarity[idd] > user_similarity_threshold][idd].sort_values(ascending=False)[:k] # Print out top `k` similar users\n"
     ]
    },
    {
     "name": "stdout",
     "output_type": "stream",
     "text": [
      "183\n"
     ]
    },
    {
     "name": "stderr",
     "output_type": "stream",
     "text": [
      "/var/folders/w6/yvwdncbx7qbgk26cz6r2f7s00000gn/T/ipykernel_1451/241414590.py:8: FutureWarning: The behavior of `series[i:j]` with an integer-dtype index is deprecated. In a future version, this will be treated as *label-based* indexing, consistent with e.g. `series[i]` lookups. To retain the old behavior, use `series.iloc[i:j]`. To get the future behavior, use `series.loc[i:j]`.\n",
      "  similar_users = user_similarity[user_similarity[idd] > user_similarity_threshold][idd].sort_values(ascending=False)[:k] # Print out top `k` similar users\n"
     ]
    },
    {
     "name": "stdout",
     "output_type": "stream",
     "text": [
      "184\n"
     ]
    },
    {
     "name": "stderr",
     "output_type": "stream",
     "text": [
      "/var/folders/w6/yvwdncbx7qbgk26cz6r2f7s00000gn/T/ipykernel_1451/241414590.py:8: FutureWarning: The behavior of `series[i:j]` with an integer-dtype index is deprecated. In a future version, this will be treated as *label-based* indexing, consistent with e.g. `series[i]` lookups. To retain the old behavior, use `series.iloc[i:j]`. To get the future behavior, use `series.loc[i:j]`.\n",
      "  similar_users = user_similarity[user_similarity[idd] > user_similarity_threshold][idd].sort_values(ascending=False)[:k] # Print out top `k` similar users\n"
     ]
    },
    {
     "name": "stdout",
     "output_type": "stream",
     "text": [
      "185\n"
     ]
    },
    {
     "name": "stderr",
     "output_type": "stream",
     "text": [
      "/var/folders/w6/yvwdncbx7qbgk26cz6r2f7s00000gn/T/ipykernel_1451/241414590.py:8: FutureWarning: The behavior of `series[i:j]` with an integer-dtype index is deprecated. In a future version, this will be treated as *label-based* indexing, consistent with e.g. `series[i]` lookups. To retain the old behavior, use `series.iloc[i:j]`. To get the future behavior, use `series.loc[i:j]`.\n",
      "  similar_users = user_similarity[user_similarity[idd] > user_similarity_threshold][idd].sort_values(ascending=False)[:k] # Print out top `k` similar users\n"
     ]
    },
    {
     "name": "stdout",
     "output_type": "stream",
     "text": [
      "186\n"
     ]
    },
    {
     "name": "stderr",
     "output_type": "stream",
     "text": [
      "/var/folders/w6/yvwdncbx7qbgk26cz6r2f7s00000gn/T/ipykernel_1451/241414590.py:8: FutureWarning: The behavior of `series[i:j]` with an integer-dtype index is deprecated. In a future version, this will be treated as *label-based* indexing, consistent with e.g. `series[i]` lookups. To retain the old behavior, use `series.iloc[i:j]`. To get the future behavior, use `series.loc[i:j]`.\n",
      "  similar_users = user_similarity[user_similarity[idd] > user_similarity_threshold][idd].sort_values(ascending=False)[:k] # Print out top `k` similar users\n"
     ]
    },
    {
     "name": "stdout",
     "output_type": "stream",
     "text": [
      "187\n"
     ]
    },
    {
     "name": "stderr",
     "output_type": "stream",
     "text": [
      "/var/folders/w6/yvwdncbx7qbgk26cz6r2f7s00000gn/T/ipykernel_1451/241414590.py:8: FutureWarning: The behavior of `series[i:j]` with an integer-dtype index is deprecated. In a future version, this will be treated as *label-based* indexing, consistent with e.g. `series[i]` lookups. To retain the old behavior, use `series.iloc[i:j]`. To get the future behavior, use `series.loc[i:j]`.\n",
      "  similar_users = user_similarity[user_similarity[idd] > user_similarity_threshold][idd].sort_values(ascending=False)[:k] # Print out top `k` similar users\n"
     ]
    },
    {
     "name": "stdout",
     "output_type": "stream",
     "text": [
      "188\n"
     ]
    },
    {
     "name": "stderr",
     "output_type": "stream",
     "text": [
      "/var/folders/w6/yvwdncbx7qbgk26cz6r2f7s00000gn/T/ipykernel_1451/241414590.py:8: FutureWarning: The behavior of `series[i:j]` with an integer-dtype index is deprecated. In a future version, this will be treated as *label-based* indexing, consistent with e.g. `series[i]` lookups. To retain the old behavior, use `series.iloc[i:j]`. To get the future behavior, use `series.loc[i:j]`.\n",
      "  similar_users = user_similarity[user_similarity[idd] > user_similarity_threshold][idd].sort_values(ascending=False)[:k] # Print out top `k` similar users\n"
     ]
    },
    {
     "name": "stdout",
     "output_type": "stream",
     "text": [
      "189\n"
     ]
    },
    {
     "name": "stderr",
     "output_type": "stream",
     "text": [
      "/var/folders/w6/yvwdncbx7qbgk26cz6r2f7s00000gn/T/ipykernel_1451/241414590.py:8: FutureWarning: The behavior of `series[i:j]` with an integer-dtype index is deprecated. In a future version, this will be treated as *label-based* indexing, consistent with e.g. `series[i]` lookups. To retain the old behavior, use `series.iloc[i:j]`. To get the future behavior, use `series.loc[i:j]`.\n",
      "  similar_users = user_similarity[user_similarity[idd] > user_similarity_threshold][idd].sort_values(ascending=False)[:k] # Print out top `k` similar users\n"
     ]
    },
    {
     "name": "stdout",
     "output_type": "stream",
     "text": [
      "190\n"
     ]
    },
    {
     "name": "stderr",
     "output_type": "stream",
     "text": [
      "/var/folders/w6/yvwdncbx7qbgk26cz6r2f7s00000gn/T/ipykernel_1451/241414590.py:8: FutureWarning: The behavior of `series[i:j]` with an integer-dtype index is deprecated. In a future version, this will be treated as *label-based* indexing, consistent with e.g. `series[i]` lookups. To retain the old behavior, use `series.iloc[i:j]`. To get the future behavior, use `series.loc[i:j]`.\n",
      "  similar_users = user_similarity[user_similarity[idd] > user_similarity_threshold][idd].sort_values(ascending=False)[:k] # Print out top `k` similar users\n"
     ]
    },
    {
     "name": "stdout",
     "output_type": "stream",
     "text": [
      "191\n"
     ]
    },
    {
     "name": "stderr",
     "output_type": "stream",
     "text": [
      "/var/folders/w6/yvwdncbx7qbgk26cz6r2f7s00000gn/T/ipykernel_1451/241414590.py:8: FutureWarning: The behavior of `series[i:j]` with an integer-dtype index is deprecated. In a future version, this will be treated as *label-based* indexing, consistent with e.g. `series[i]` lookups. To retain the old behavior, use `series.iloc[i:j]`. To get the future behavior, use `series.loc[i:j]`.\n",
      "  similar_users = user_similarity[user_similarity[idd] > user_similarity_threshold][idd].sort_values(ascending=False)[:k] # Print out top `k` similar users\n"
     ]
    },
    {
     "name": "stdout",
     "output_type": "stream",
     "text": [
      "192\n"
     ]
    },
    {
     "name": "stderr",
     "output_type": "stream",
     "text": [
      "/var/folders/w6/yvwdncbx7qbgk26cz6r2f7s00000gn/T/ipykernel_1451/241414590.py:8: FutureWarning: The behavior of `series[i:j]` with an integer-dtype index is deprecated. In a future version, this will be treated as *label-based* indexing, consistent with e.g. `series[i]` lookups. To retain the old behavior, use `series.iloc[i:j]`. To get the future behavior, use `series.loc[i:j]`.\n",
      "  similar_users = user_similarity[user_similarity[idd] > user_similarity_threshold][idd].sort_values(ascending=False)[:k] # Print out top `k` similar users\n"
     ]
    },
    {
     "name": "stdout",
     "output_type": "stream",
     "text": [
      "193\n"
     ]
    },
    {
     "name": "stderr",
     "output_type": "stream",
     "text": [
      "/var/folders/w6/yvwdncbx7qbgk26cz6r2f7s00000gn/T/ipykernel_1451/241414590.py:8: FutureWarning: The behavior of `series[i:j]` with an integer-dtype index is deprecated. In a future version, this will be treated as *label-based* indexing, consistent with e.g. `series[i]` lookups. To retain the old behavior, use `series.iloc[i:j]`. To get the future behavior, use `series.loc[i:j]`.\n",
      "  similar_users = user_similarity[user_similarity[idd] > user_similarity_threshold][idd].sort_values(ascending=False)[:k] # Print out top `k` similar users\n"
     ]
    },
    {
     "name": "stdout",
     "output_type": "stream",
     "text": [
      "194\n"
     ]
    },
    {
     "name": "stderr",
     "output_type": "stream",
     "text": [
      "/var/folders/w6/yvwdncbx7qbgk26cz6r2f7s00000gn/T/ipykernel_1451/241414590.py:8: FutureWarning: The behavior of `series[i:j]` with an integer-dtype index is deprecated. In a future version, this will be treated as *label-based* indexing, consistent with e.g. `series[i]` lookups. To retain the old behavior, use `series.iloc[i:j]`. To get the future behavior, use `series.loc[i:j]`.\n",
      "  similar_users = user_similarity[user_similarity[idd] > user_similarity_threshold][idd].sort_values(ascending=False)[:k] # Print out top `k` similar users\n"
     ]
    },
    {
     "name": "stdout",
     "output_type": "stream",
     "text": [
      "195\n"
     ]
    },
    {
     "name": "stderr",
     "output_type": "stream",
     "text": [
      "/var/folders/w6/yvwdncbx7qbgk26cz6r2f7s00000gn/T/ipykernel_1451/241414590.py:8: FutureWarning: The behavior of `series[i:j]` with an integer-dtype index is deprecated. In a future version, this will be treated as *label-based* indexing, consistent with e.g. `series[i]` lookups. To retain the old behavior, use `series.iloc[i:j]`. To get the future behavior, use `series.loc[i:j]`.\n",
      "  similar_users = user_similarity[user_similarity[idd] > user_similarity_threshold][idd].sort_values(ascending=False)[:k] # Print out top `k` similar users\n"
     ]
    },
    {
     "name": "stdout",
     "output_type": "stream",
     "text": [
      "196\n"
     ]
    },
    {
     "name": "stderr",
     "output_type": "stream",
     "text": [
      "/var/folders/w6/yvwdncbx7qbgk26cz6r2f7s00000gn/T/ipykernel_1451/241414590.py:8: FutureWarning: The behavior of `series[i:j]` with an integer-dtype index is deprecated. In a future version, this will be treated as *label-based* indexing, consistent with e.g. `series[i]` lookups. To retain the old behavior, use `series.iloc[i:j]`. To get the future behavior, use `series.loc[i:j]`.\n",
      "  similar_users = user_similarity[user_similarity[idd] > user_similarity_threshold][idd].sort_values(ascending=False)[:k] # Print out top `k` similar users\n"
     ]
    },
    {
     "name": "stdout",
     "output_type": "stream",
     "text": [
      "197\n"
     ]
    },
    {
     "name": "stderr",
     "output_type": "stream",
     "text": [
      "/var/folders/w6/yvwdncbx7qbgk26cz6r2f7s00000gn/T/ipykernel_1451/241414590.py:8: FutureWarning: The behavior of `series[i:j]` with an integer-dtype index is deprecated. In a future version, this will be treated as *label-based* indexing, consistent with e.g. `series[i]` lookups. To retain the old behavior, use `series.iloc[i:j]`. To get the future behavior, use `series.loc[i:j]`.\n",
      "  similar_users = user_similarity[user_similarity[idd] > user_similarity_threshold][idd].sort_values(ascending=False)[:k] # Print out top `k` similar users\n"
     ]
    },
    {
     "name": "stdout",
     "output_type": "stream",
     "text": [
      "198\n"
     ]
    },
    {
     "name": "stderr",
     "output_type": "stream",
     "text": [
      "/var/folders/w6/yvwdncbx7qbgk26cz6r2f7s00000gn/T/ipykernel_1451/241414590.py:8: FutureWarning: The behavior of `series[i:j]` with an integer-dtype index is deprecated. In a future version, this will be treated as *label-based* indexing, consistent with e.g. `series[i]` lookups. To retain the old behavior, use `series.iloc[i:j]`. To get the future behavior, use `series.loc[i:j]`.\n",
      "  similar_users = user_similarity[user_similarity[idd] > user_similarity_threshold][idd].sort_values(ascending=False)[:k] # Print out top `k` similar users\n"
     ]
    },
    {
     "name": "stdout",
     "output_type": "stream",
     "text": [
      "199\n"
     ]
    },
    {
     "name": "stderr",
     "output_type": "stream",
     "text": [
      "/var/folders/w6/yvwdncbx7qbgk26cz6r2f7s00000gn/T/ipykernel_1451/241414590.py:8: FutureWarning: The behavior of `series[i:j]` with an integer-dtype index is deprecated. In a future version, this will be treated as *label-based* indexing, consistent with e.g. `series[i]` lookups. To retain the old behavior, use `series.iloc[i:j]`. To get the future behavior, use `series.loc[i:j]`.\n",
      "  similar_users = user_similarity[user_similarity[idd] > user_similarity_threshold][idd].sort_values(ascending=False)[:k] # Print out top `k` similar users\n"
     ]
    },
    {
     "name": "stdout",
     "output_type": "stream",
     "text": [
      "200\n"
     ]
    },
    {
     "name": "stderr",
     "output_type": "stream",
     "text": [
      "/var/folders/w6/yvwdncbx7qbgk26cz6r2f7s00000gn/T/ipykernel_1451/241414590.py:8: FutureWarning: The behavior of `series[i:j]` with an integer-dtype index is deprecated. In a future version, this will be treated as *label-based* indexing, consistent with e.g. `series[i]` lookups. To retain the old behavior, use `series.iloc[i:j]`. To get the future behavior, use `series.loc[i:j]`.\n",
      "  similar_users = user_similarity[user_similarity[idd] > user_similarity_threshold][idd].sort_values(ascending=False)[:k] # Print out top `k` similar users\n"
     ]
    },
    {
     "name": "stdout",
     "output_type": "stream",
     "text": [
      "201\n"
     ]
    },
    {
     "name": "stderr",
     "output_type": "stream",
     "text": [
      "/var/folders/w6/yvwdncbx7qbgk26cz6r2f7s00000gn/T/ipykernel_1451/241414590.py:8: FutureWarning: The behavior of `series[i:j]` with an integer-dtype index is deprecated. In a future version, this will be treated as *label-based* indexing, consistent with e.g. `series[i]` lookups. To retain the old behavior, use `series.iloc[i:j]`. To get the future behavior, use `series.loc[i:j]`.\n",
      "  similar_users = user_similarity[user_similarity[idd] > user_similarity_threshold][idd].sort_values(ascending=False)[:k] # Print out top `k` similar users\n"
     ]
    },
    {
     "name": "stdout",
     "output_type": "stream",
     "text": [
      "202\n"
     ]
    },
    {
     "name": "stderr",
     "output_type": "stream",
     "text": [
      "/var/folders/w6/yvwdncbx7qbgk26cz6r2f7s00000gn/T/ipykernel_1451/241414590.py:8: FutureWarning: The behavior of `series[i:j]` with an integer-dtype index is deprecated. In a future version, this will be treated as *label-based* indexing, consistent with e.g. `series[i]` lookups. To retain the old behavior, use `series.iloc[i:j]`. To get the future behavior, use `series.loc[i:j]`.\n",
      "  similar_users = user_similarity[user_similarity[idd] > user_similarity_threshold][idd].sort_values(ascending=False)[:k] # Print out top `k` similar users\n"
     ]
    },
    {
     "name": "stdout",
     "output_type": "stream",
     "text": [
      "203\n"
     ]
    },
    {
     "name": "stderr",
     "output_type": "stream",
     "text": [
      "/var/folders/w6/yvwdncbx7qbgk26cz6r2f7s00000gn/T/ipykernel_1451/241414590.py:8: FutureWarning: The behavior of `series[i:j]` with an integer-dtype index is deprecated. In a future version, this will be treated as *label-based* indexing, consistent with e.g. `series[i]` lookups. To retain the old behavior, use `series.iloc[i:j]`. To get the future behavior, use `series.loc[i:j]`.\n",
      "  similar_users = user_similarity[user_similarity[idd] > user_similarity_threshold][idd].sort_values(ascending=False)[:k] # Print out top `k` similar users\n"
     ]
    },
    {
     "name": "stdout",
     "output_type": "stream",
     "text": [
      "204\n"
     ]
    },
    {
     "name": "stderr",
     "output_type": "stream",
     "text": [
      "/var/folders/w6/yvwdncbx7qbgk26cz6r2f7s00000gn/T/ipykernel_1451/241414590.py:8: FutureWarning: The behavior of `series[i:j]` with an integer-dtype index is deprecated. In a future version, this will be treated as *label-based* indexing, consistent with e.g. `series[i]` lookups. To retain the old behavior, use `series.iloc[i:j]`. To get the future behavior, use `series.loc[i:j]`.\n",
      "  similar_users = user_similarity[user_similarity[idd] > user_similarity_threshold][idd].sort_values(ascending=False)[:k] # Print out top `k` similar users\n"
     ]
    },
    {
     "name": "stdout",
     "output_type": "stream",
     "text": [
      "205\n"
     ]
    },
    {
     "name": "stderr",
     "output_type": "stream",
     "text": [
      "/var/folders/w6/yvwdncbx7qbgk26cz6r2f7s00000gn/T/ipykernel_1451/241414590.py:8: FutureWarning: The behavior of `series[i:j]` with an integer-dtype index is deprecated. In a future version, this will be treated as *label-based* indexing, consistent with e.g. `series[i]` lookups. To retain the old behavior, use `series.iloc[i:j]`. To get the future behavior, use `series.loc[i:j]`.\n",
      "  similar_users = user_similarity[user_similarity[idd] > user_similarity_threshold][idd].sort_values(ascending=False)[:k] # Print out top `k` similar users\n"
     ]
    },
    {
     "name": "stdout",
     "output_type": "stream",
     "text": [
      "206\n"
     ]
    },
    {
     "name": "stderr",
     "output_type": "stream",
     "text": [
      "/var/folders/w6/yvwdncbx7qbgk26cz6r2f7s00000gn/T/ipykernel_1451/241414590.py:8: FutureWarning: The behavior of `series[i:j]` with an integer-dtype index is deprecated. In a future version, this will be treated as *label-based* indexing, consistent with e.g. `series[i]` lookups. To retain the old behavior, use `series.iloc[i:j]`. To get the future behavior, use `series.loc[i:j]`.\n",
      "  similar_users = user_similarity[user_similarity[idd] > user_similarity_threshold][idd].sort_values(ascending=False)[:k] # Print out top `k` similar users\n"
     ]
    },
    {
     "name": "stdout",
     "output_type": "stream",
     "text": [
      "207\n"
     ]
    },
    {
     "name": "stderr",
     "output_type": "stream",
     "text": [
      "/var/folders/w6/yvwdncbx7qbgk26cz6r2f7s00000gn/T/ipykernel_1451/241414590.py:8: FutureWarning: The behavior of `series[i:j]` with an integer-dtype index is deprecated. In a future version, this will be treated as *label-based* indexing, consistent with e.g. `series[i]` lookups. To retain the old behavior, use `series.iloc[i:j]`. To get the future behavior, use `series.loc[i:j]`.\n",
      "  similar_users = user_similarity[user_similarity[idd] > user_similarity_threshold][idd].sort_values(ascending=False)[:k] # Print out top `k` similar users\n"
     ]
    },
    {
     "name": "stdout",
     "output_type": "stream",
     "text": [
      "208\n"
     ]
    },
    {
     "name": "stderr",
     "output_type": "stream",
     "text": [
      "/var/folders/w6/yvwdncbx7qbgk26cz6r2f7s00000gn/T/ipykernel_1451/241414590.py:8: FutureWarning: The behavior of `series[i:j]` with an integer-dtype index is deprecated. In a future version, this will be treated as *label-based* indexing, consistent with e.g. `series[i]` lookups. To retain the old behavior, use `series.iloc[i:j]`. To get the future behavior, use `series.loc[i:j]`.\n",
      "  similar_users = user_similarity[user_similarity[idd] > user_similarity_threshold][idd].sort_values(ascending=False)[:k] # Print out top `k` similar users\n"
     ]
    },
    {
     "name": "stdout",
     "output_type": "stream",
     "text": [
      "209\n"
     ]
    },
    {
     "name": "stderr",
     "output_type": "stream",
     "text": [
      "/var/folders/w6/yvwdncbx7qbgk26cz6r2f7s00000gn/T/ipykernel_1451/241414590.py:8: FutureWarning: The behavior of `series[i:j]` with an integer-dtype index is deprecated. In a future version, this will be treated as *label-based* indexing, consistent with e.g. `series[i]` lookups. To retain the old behavior, use `series.iloc[i:j]`. To get the future behavior, use `series.loc[i:j]`.\n",
      "  similar_users = user_similarity[user_similarity[idd] > user_similarity_threshold][idd].sort_values(ascending=False)[:k] # Print out top `k` similar users\n"
     ]
    },
    {
     "name": "stdout",
     "output_type": "stream",
     "text": [
      "210\n"
     ]
    },
    {
     "name": "stderr",
     "output_type": "stream",
     "text": [
      "/var/folders/w6/yvwdncbx7qbgk26cz6r2f7s00000gn/T/ipykernel_1451/241414590.py:8: FutureWarning: The behavior of `series[i:j]` with an integer-dtype index is deprecated. In a future version, this will be treated as *label-based* indexing, consistent with e.g. `series[i]` lookups. To retain the old behavior, use `series.iloc[i:j]`. To get the future behavior, use `series.loc[i:j]`.\n",
      "  similar_users = user_similarity[user_similarity[idd] > user_similarity_threshold][idd].sort_values(ascending=False)[:k] # Print out top `k` similar users\n"
     ]
    },
    {
     "name": "stdout",
     "output_type": "stream",
     "text": [
      "211\n"
     ]
    },
    {
     "name": "stderr",
     "output_type": "stream",
     "text": [
      "/var/folders/w6/yvwdncbx7qbgk26cz6r2f7s00000gn/T/ipykernel_1451/241414590.py:8: FutureWarning: The behavior of `series[i:j]` with an integer-dtype index is deprecated. In a future version, this will be treated as *label-based* indexing, consistent with e.g. `series[i]` lookups. To retain the old behavior, use `series.iloc[i:j]`. To get the future behavior, use `series.loc[i:j]`.\n",
      "  similar_users = user_similarity[user_similarity[idd] > user_similarity_threshold][idd].sort_values(ascending=False)[:k] # Print out top `k` similar users\n"
     ]
    },
    {
     "name": "stdout",
     "output_type": "stream",
     "text": [
      "212\n"
     ]
    },
    {
     "name": "stderr",
     "output_type": "stream",
     "text": [
      "/var/folders/w6/yvwdncbx7qbgk26cz6r2f7s00000gn/T/ipykernel_1451/241414590.py:8: FutureWarning: The behavior of `series[i:j]` with an integer-dtype index is deprecated. In a future version, this will be treated as *label-based* indexing, consistent with e.g. `series[i]` lookups. To retain the old behavior, use `series.iloc[i:j]`. To get the future behavior, use `series.loc[i:j]`.\n",
      "  similar_users = user_similarity[user_similarity[idd] > user_similarity_threshold][idd].sort_values(ascending=False)[:k] # Print out top `k` similar users\n"
     ]
    },
    {
     "name": "stdout",
     "output_type": "stream",
     "text": [
      "213\n"
     ]
    },
    {
     "name": "stderr",
     "output_type": "stream",
     "text": [
      "/var/folders/w6/yvwdncbx7qbgk26cz6r2f7s00000gn/T/ipykernel_1451/241414590.py:8: FutureWarning: The behavior of `series[i:j]` with an integer-dtype index is deprecated. In a future version, this will be treated as *label-based* indexing, consistent with e.g. `series[i]` lookups. To retain the old behavior, use `series.iloc[i:j]`. To get the future behavior, use `series.loc[i:j]`.\n",
      "  similar_users = user_similarity[user_similarity[idd] > user_similarity_threshold][idd].sort_values(ascending=False)[:k] # Print out top `k` similar users\n"
     ]
    },
    {
     "name": "stdout",
     "output_type": "stream",
     "text": [
      "214\n"
     ]
    },
    {
     "name": "stderr",
     "output_type": "stream",
     "text": [
      "/var/folders/w6/yvwdncbx7qbgk26cz6r2f7s00000gn/T/ipykernel_1451/241414590.py:8: FutureWarning: The behavior of `series[i:j]` with an integer-dtype index is deprecated. In a future version, this will be treated as *label-based* indexing, consistent with e.g. `series[i]` lookups. To retain the old behavior, use `series.iloc[i:j]`. To get the future behavior, use `series.loc[i:j]`.\n",
      "  similar_users = user_similarity[user_similarity[idd] > user_similarity_threshold][idd].sort_values(ascending=False)[:k] # Print out top `k` similar users\n"
     ]
    },
    {
     "name": "stdout",
     "output_type": "stream",
     "text": [
      "215\n"
     ]
    },
    {
     "name": "stderr",
     "output_type": "stream",
     "text": [
      "/var/folders/w6/yvwdncbx7qbgk26cz6r2f7s00000gn/T/ipykernel_1451/241414590.py:8: FutureWarning: The behavior of `series[i:j]` with an integer-dtype index is deprecated. In a future version, this will be treated as *label-based* indexing, consistent with e.g. `series[i]` lookups. To retain the old behavior, use `series.iloc[i:j]`. To get the future behavior, use `series.loc[i:j]`.\n",
      "  similar_users = user_similarity[user_similarity[idd] > user_similarity_threshold][idd].sort_values(ascending=False)[:k] # Print out top `k` similar users\n"
     ]
    },
    {
     "name": "stdout",
     "output_type": "stream",
     "text": [
      "216\n"
     ]
    },
    {
     "name": "stderr",
     "output_type": "stream",
     "text": [
      "/var/folders/w6/yvwdncbx7qbgk26cz6r2f7s00000gn/T/ipykernel_1451/241414590.py:8: FutureWarning: The behavior of `series[i:j]` with an integer-dtype index is deprecated. In a future version, this will be treated as *label-based* indexing, consistent with e.g. `series[i]` lookups. To retain the old behavior, use `series.iloc[i:j]`. To get the future behavior, use `series.loc[i:j]`.\n",
      "  similar_users = user_similarity[user_similarity[idd] > user_similarity_threshold][idd].sort_values(ascending=False)[:k] # Print out top `k` similar users\n"
     ]
    },
    {
     "name": "stdout",
     "output_type": "stream",
     "text": [
      "217\n"
     ]
    },
    {
     "name": "stderr",
     "output_type": "stream",
     "text": [
      "/var/folders/w6/yvwdncbx7qbgk26cz6r2f7s00000gn/T/ipykernel_1451/241414590.py:8: FutureWarning: The behavior of `series[i:j]` with an integer-dtype index is deprecated. In a future version, this will be treated as *label-based* indexing, consistent with e.g. `series[i]` lookups. To retain the old behavior, use `series.iloc[i:j]`. To get the future behavior, use `series.loc[i:j]`.\n",
      "  similar_users = user_similarity[user_similarity[idd] > user_similarity_threshold][idd].sort_values(ascending=False)[:k] # Print out top `k` similar users\n"
     ]
    },
    {
     "name": "stdout",
     "output_type": "stream",
     "text": [
      "218\n"
     ]
    },
    {
     "name": "stderr",
     "output_type": "stream",
     "text": [
      "/var/folders/w6/yvwdncbx7qbgk26cz6r2f7s00000gn/T/ipykernel_1451/241414590.py:8: FutureWarning: The behavior of `series[i:j]` with an integer-dtype index is deprecated. In a future version, this will be treated as *label-based* indexing, consistent with e.g. `series[i]` lookups. To retain the old behavior, use `series.iloc[i:j]`. To get the future behavior, use `series.loc[i:j]`.\n",
      "  similar_users = user_similarity[user_similarity[idd] > user_similarity_threshold][idd].sort_values(ascending=False)[:k] # Print out top `k` similar users\n"
     ]
    },
    {
     "name": "stdout",
     "output_type": "stream",
     "text": [
      "219\n"
     ]
    },
    {
     "name": "stderr",
     "output_type": "stream",
     "text": [
      "/var/folders/w6/yvwdncbx7qbgk26cz6r2f7s00000gn/T/ipykernel_1451/241414590.py:8: FutureWarning: The behavior of `series[i:j]` with an integer-dtype index is deprecated. In a future version, this will be treated as *label-based* indexing, consistent with e.g. `series[i]` lookups. To retain the old behavior, use `series.iloc[i:j]`. To get the future behavior, use `series.loc[i:j]`.\n",
      "  similar_users = user_similarity[user_similarity[idd] > user_similarity_threshold][idd].sort_values(ascending=False)[:k] # Print out top `k` similar users\n"
     ]
    },
    {
     "name": "stdout",
     "output_type": "stream",
     "text": [
      "220\n"
     ]
    },
    {
     "name": "stderr",
     "output_type": "stream",
     "text": [
      "/var/folders/w6/yvwdncbx7qbgk26cz6r2f7s00000gn/T/ipykernel_1451/241414590.py:8: FutureWarning: The behavior of `series[i:j]` with an integer-dtype index is deprecated. In a future version, this will be treated as *label-based* indexing, consistent with e.g. `series[i]` lookups. To retain the old behavior, use `series.iloc[i:j]`. To get the future behavior, use `series.loc[i:j]`.\n",
      "  similar_users = user_similarity[user_similarity[idd] > user_similarity_threshold][idd].sort_values(ascending=False)[:k] # Print out top `k` similar users\n"
     ]
    },
    {
     "name": "stdout",
     "output_type": "stream",
     "text": [
      "221\n"
     ]
    },
    {
     "name": "stderr",
     "output_type": "stream",
     "text": [
      "/var/folders/w6/yvwdncbx7qbgk26cz6r2f7s00000gn/T/ipykernel_1451/241414590.py:8: FutureWarning: The behavior of `series[i:j]` with an integer-dtype index is deprecated. In a future version, this will be treated as *label-based* indexing, consistent with e.g. `series[i]` lookups. To retain the old behavior, use `series.iloc[i:j]`. To get the future behavior, use `series.loc[i:j]`.\n",
      "  similar_users = user_similarity[user_similarity[idd] > user_similarity_threshold][idd].sort_values(ascending=False)[:k] # Print out top `k` similar users\n"
     ]
    },
    {
     "name": "stdout",
     "output_type": "stream",
     "text": [
      "222\n"
     ]
    },
    {
     "name": "stderr",
     "output_type": "stream",
     "text": [
      "/var/folders/w6/yvwdncbx7qbgk26cz6r2f7s00000gn/T/ipykernel_1451/241414590.py:8: FutureWarning: The behavior of `series[i:j]` with an integer-dtype index is deprecated. In a future version, this will be treated as *label-based* indexing, consistent with e.g. `series[i]` lookups. To retain the old behavior, use `series.iloc[i:j]`. To get the future behavior, use `series.loc[i:j]`.\n",
      "  similar_users = user_similarity[user_similarity[idd] > user_similarity_threshold][idd].sort_values(ascending=False)[:k] # Print out top `k` similar users\n"
     ]
    },
    {
     "name": "stdout",
     "output_type": "stream",
     "text": [
      "223\n"
     ]
    },
    {
     "name": "stderr",
     "output_type": "stream",
     "text": [
      "/var/folders/w6/yvwdncbx7qbgk26cz6r2f7s00000gn/T/ipykernel_1451/241414590.py:8: FutureWarning: The behavior of `series[i:j]` with an integer-dtype index is deprecated. In a future version, this will be treated as *label-based* indexing, consistent with e.g. `series[i]` lookups. To retain the old behavior, use `series.iloc[i:j]`. To get the future behavior, use `series.loc[i:j]`.\n",
      "  similar_users = user_similarity[user_similarity[idd] > user_similarity_threshold][idd].sort_values(ascending=False)[:k] # Print out top `k` similar users\n"
     ]
    },
    {
     "name": "stdout",
     "output_type": "stream",
     "text": [
      "224\n"
     ]
    },
    {
     "name": "stderr",
     "output_type": "stream",
     "text": [
      "/var/folders/w6/yvwdncbx7qbgk26cz6r2f7s00000gn/T/ipykernel_1451/241414590.py:8: FutureWarning: The behavior of `series[i:j]` with an integer-dtype index is deprecated. In a future version, this will be treated as *label-based* indexing, consistent with e.g. `series[i]` lookups. To retain the old behavior, use `series.iloc[i:j]`. To get the future behavior, use `series.loc[i:j]`.\n",
      "  similar_users = user_similarity[user_similarity[idd] > user_similarity_threshold][idd].sort_values(ascending=False)[:k] # Print out top `k` similar users\n"
     ]
    },
    {
     "name": "stdout",
     "output_type": "stream",
     "text": [
      "225\n"
     ]
    },
    {
     "name": "stderr",
     "output_type": "stream",
     "text": [
      "/var/folders/w6/yvwdncbx7qbgk26cz6r2f7s00000gn/T/ipykernel_1451/241414590.py:8: FutureWarning: The behavior of `series[i:j]` with an integer-dtype index is deprecated. In a future version, this will be treated as *label-based* indexing, consistent with e.g. `series[i]` lookups. To retain the old behavior, use `series.iloc[i:j]`. To get the future behavior, use `series.loc[i:j]`.\n",
      "  similar_users = user_similarity[user_similarity[idd] > user_similarity_threshold][idd].sort_values(ascending=False)[:k] # Print out top `k` similar users\n"
     ]
    },
    {
     "name": "stdout",
     "output_type": "stream",
     "text": [
      "226\n"
     ]
    },
    {
     "name": "stderr",
     "output_type": "stream",
     "text": [
      "/var/folders/w6/yvwdncbx7qbgk26cz6r2f7s00000gn/T/ipykernel_1451/241414590.py:8: FutureWarning: The behavior of `series[i:j]` with an integer-dtype index is deprecated. In a future version, this will be treated as *label-based* indexing, consistent with e.g. `series[i]` lookups. To retain the old behavior, use `series.iloc[i:j]`. To get the future behavior, use `series.loc[i:j]`.\n",
      "  similar_users = user_similarity[user_similarity[idd] > user_similarity_threshold][idd].sort_values(ascending=False)[:k] # Print out top `k` similar users\n"
     ]
    },
    {
     "name": "stdout",
     "output_type": "stream",
     "text": [
      "227\n"
     ]
    },
    {
     "name": "stderr",
     "output_type": "stream",
     "text": [
      "/var/folders/w6/yvwdncbx7qbgk26cz6r2f7s00000gn/T/ipykernel_1451/241414590.py:8: FutureWarning: The behavior of `series[i:j]` with an integer-dtype index is deprecated. In a future version, this will be treated as *label-based* indexing, consistent with e.g. `series[i]` lookups. To retain the old behavior, use `series.iloc[i:j]`. To get the future behavior, use `series.loc[i:j]`.\n",
      "  similar_users = user_similarity[user_similarity[idd] > user_similarity_threshold][idd].sort_values(ascending=False)[:k] # Print out top `k` similar users\n"
     ]
    },
    {
     "name": "stdout",
     "output_type": "stream",
     "text": [
      "228\n"
     ]
    },
    {
     "name": "stderr",
     "output_type": "stream",
     "text": [
      "/var/folders/w6/yvwdncbx7qbgk26cz6r2f7s00000gn/T/ipykernel_1451/241414590.py:8: FutureWarning: The behavior of `series[i:j]` with an integer-dtype index is deprecated. In a future version, this will be treated as *label-based* indexing, consistent with e.g. `series[i]` lookups. To retain the old behavior, use `series.iloc[i:j]`. To get the future behavior, use `series.loc[i:j]`.\n",
      "  similar_users = user_similarity[user_similarity[idd] > user_similarity_threshold][idd].sort_values(ascending=False)[:k] # Print out top `k` similar users\n"
     ]
    },
    {
     "name": "stdout",
     "output_type": "stream",
     "text": [
      "229\n"
     ]
    },
    {
     "name": "stderr",
     "output_type": "stream",
     "text": [
      "/var/folders/w6/yvwdncbx7qbgk26cz6r2f7s00000gn/T/ipykernel_1451/241414590.py:8: FutureWarning: The behavior of `series[i:j]` with an integer-dtype index is deprecated. In a future version, this will be treated as *label-based* indexing, consistent with e.g. `series[i]` lookups. To retain the old behavior, use `series.iloc[i:j]`. To get the future behavior, use `series.loc[i:j]`.\n",
      "  similar_users = user_similarity[user_similarity[idd] > user_similarity_threshold][idd].sort_values(ascending=False)[:k] # Print out top `k` similar users\n"
     ]
    },
    {
     "name": "stdout",
     "output_type": "stream",
     "text": [
      "230\n"
     ]
    },
    {
     "name": "stderr",
     "output_type": "stream",
     "text": [
      "/var/folders/w6/yvwdncbx7qbgk26cz6r2f7s00000gn/T/ipykernel_1451/241414590.py:8: FutureWarning: The behavior of `series[i:j]` with an integer-dtype index is deprecated. In a future version, this will be treated as *label-based* indexing, consistent with e.g. `series[i]` lookups. To retain the old behavior, use `series.iloc[i:j]`. To get the future behavior, use `series.loc[i:j]`.\n",
      "  similar_users = user_similarity[user_similarity[idd] > user_similarity_threshold][idd].sort_values(ascending=False)[:k] # Print out top `k` similar users\n"
     ]
    },
    {
     "name": "stdout",
     "output_type": "stream",
     "text": [
      "231\n"
     ]
    },
    {
     "name": "stderr",
     "output_type": "stream",
     "text": [
      "/var/folders/w6/yvwdncbx7qbgk26cz6r2f7s00000gn/T/ipykernel_1451/241414590.py:8: FutureWarning: The behavior of `series[i:j]` with an integer-dtype index is deprecated. In a future version, this will be treated as *label-based* indexing, consistent with e.g. `series[i]` lookups. To retain the old behavior, use `series.iloc[i:j]`. To get the future behavior, use `series.loc[i:j]`.\n",
      "  similar_users = user_similarity[user_similarity[idd] > user_similarity_threshold][idd].sort_values(ascending=False)[:k] # Print out top `k` similar users\n"
     ]
    },
    {
     "name": "stdout",
     "output_type": "stream",
     "text": [
      "232\n"
     ]
    },
    {
     "name": "stderr",
     "output_type": "stream",
     "text": [
      "/var/folders/w6/yvwdncbx7qbgk26cz6r2f7s00000gn/T/ipykernel_1451/241414590.py:8: FutureWarning: The behavior of `series[i:j]` with an integer-dtype index is deprecated. In a future version, this will be treated as *label-based* indexing, consistent with e.g. `series[i]` lookups. To retain the old behavior, use `series.iloc[i:j]`. To get the future behavior, use `series.loc[i:j]`.\n",
      "  similar_users = user_similarity[user_similarity[idd] > user_similarity_threshold][idd].sort_values(ascending=False)[:k] # Print out top `k` similar users\n"
     ]
    },
    {
     "name": "stdout",
     "output_type": "stream",
     "text": [
      "233\n"
     ]
    },
    {
     "name": "stderr",
     "output_type": "stream",
     "text": [
      "/var/folders/w6/yvwdncbx7qbgk26cz6r2f7s00000gn/T/ipykernel_1451/241414590.py:8: FutureWarning: The behavior of `series[i:j]` with an integer-dtype index is deprecated. In a future version, this will be treated as *label-based* indexing, consistent with e.g. `series[i]` lookups. To retain the old behavior, use `series.iloc[i:j]`. To get the future behavior, use `series.loc[i:j]`.\n",
      "  similar_users = user_similarity[user_similarity[idd] > user_similarity_threshold][idd].sort_values(ascending=False)[:k] # Print out top `k` similar users\n"
     ]
    },
    {
     "name": "stdout",
     "output_type": "stream",
     "text": [
      "234\n"
     ]
    },
    {
     "name": "stderr",
     "output_type": "stream",
     "text": [
      "/var/folders/w6/yvwdncbx7qbgk26cz6r2f7s00000gn/T/ipykernel_1451/241414590.py:8: FutureWarning: The behavior of `series[i:j]` with an integer-dtype index is deprecated. In a future version, this will be treated as *label-based* indexing, consistent with e.g. `series[i]` lookups. To retain the old behavior, use `series.iloc[i:j]`. To get the future behavior, use `series.loc[i:j]`.\n",
      "  similar_users = user_similarity[user_similarity[idd] > user_similarity_threshold][idd].sort_values(ascending=False)[:k] # Print out top `k` similar users\n"
     ]
    }
   ],
   "source": [
    "# Recommend Items to targetUser\n",
    "# weighted avg of user similarity score & movie rating\n",
    "# User w/ high similarity -> higher weights; in other words, similarity score weights the resuts\n",
    "\n",
    "for idd in range(1, unique_users + 1): # 1-indexes\n",
    "  item_score = {}\n",
    "  user_similarity_userId = user_similarity.drop(index=idd, inplace=False)\n",
    "  similar_users = user_similarity[user_similarity[idd] > user_similarity_threshold][idd].sort_values(ascending=False)[:k] # Print out top `k` similar users\n",
    "  picked_userid_watched = matrix_norm[matrix_norm.index == idd].dropna(axis=1, how='all')\n",
    "  similar_user_movies = matrix_norm[matrix_norm.index.isin(similar_users.index)].dropna(axis=1, how='all')\n",
    "  similar_user_movies.drop(picked_userid_watched.columns,axis=1, inplace=True, errors='ignore') # drop cols if exits without error msgs.\n",
    "\n",
    "  for movieId in similar_user_movies.columns:\n",
    "    movie_rating = similar_user_movies[movieId]\n",
    "    # Stores the score\n",
    "    total = 0\n",
    "    # Stores the number of scores\n",
    "    count = 0\n",
    "\n",
    "    for userId in similar_users.index:\n",
    "      if not pd.isna(movie_rating[userId]): #     # If the movie has rating\n",
    "        score = similar_users[userId] * movie_rating[userId]\n",
    "        total += score\n",
    "        count += 1\n",
    "    item_score[movieId] = total / count# Convert dictionary to pandas dataframe\n",
    "\n",
    "  item_score = pd.DataFrame(item_score.items(), columns=['movie', 'movie_score'])\n",
    "  item_score\n",
    "\n",
    "  # Sort the movies by score\n",
    "  # ranked_item_score = item_score.sort_values(by='movie_score', ascending=False)\n",
    "\n",
    "  # Select top `m` movies\n",
    "  m = unique_movies\n",
    "  avg_rating = matrix[matrix.index == idd].T.mean()[idd]\n",
    "  item_score['predicted_rating'] = item_score['movie_score'] + avg_rating # Take a look at the data\n",
    "  for (index, data_row) in item_score.iterrows():\n",
    "      movieId = (int) (data_row['movie'])\n",
    "      prediction = data_row['predicted_rating']\n",
    "      if prediction >= 5:\n",
    "        prediction = 5\n",
    "      elif prediction <= 1:\n",
    "        prediction = 1\n",
    "\n",
    "      if prediction - (int) (prediction) <= 0.5:\n",
    "          prediction = (int) (prediction)\n",
    "      else:\n",
    "          prediction = (int) (prediction) + 1\n",
    "\n",
    "      # print(prediction)\n",
    "      ans[idd][movieId] = prediction\n",
    "  print(idd)\n",
    "  # print(ranked_item_score.head(m))\n"
   ],
   "metadata": {
    "collapsed": false,
    "pycharm": {
     "is_executing": true
    }
   }
  },
  {
   "cell_type": "code",
   "execution_count": 101,
   "outputs": [
    {
     "name": "stdout",
     "output_type": "stream",
     "text": [
      "[[0 0 0 ... 0 0 0]\n",
      " [0 0 4 ... 6 6 4]\n",
      " [0 4 3 ... 2 3 3]\n",
      " ...\n",
      " [0 0 0 ... 0 0 0]\n",
      " [0 0 0 ... 0 0 0]\n",
      " [0 0 0 ... 0 0 0]]\n"
     ]
    }
   ],
   "source": [
    "# Test print\n",
    "print(ans)"
   ],
   "metadata": {
    "collapsed": false
   }
  },
  {
   "cell_type": "code",
   "execution_count": null,
   "outputs": [],
   "source": [
    "# Create submissions.csv\n",
    "submissions_colnames=['Id', 'Rating']\n",
    "submissions = pd.read_csv('cse2525-reccommender-systems-challenge/submission.csv', sep=',', names=submissions_colnames)\n",
    "ids = submissions['Id']\n",
    "\n",
    "for idx in ids:\n",
    "    idd = predictions.iloc[ids[idx - 1], 0]\n",
    "    movieId = predictions.iloc[ids[idx - 1], 1]\n",
    "    submissions.iloc[ids[idx - 1], ['Rating']] = ans[idd][movieId]\n",
    "\n",
    "submissions"
   ],
   "metadata": {
    "collapsed": false
   }
  },
  {
   "cell_type": "code",
   "execution_count": 43,
   "outputs": [
    {
     "name": "stdout",
     "output_type": "stream",
     "text": [
      "<class 'pandas.core.frame.DataFrame'>\n",
      "0          1\n",
      "1          2\n",
      "2          3\n",
      "3          4\n",
      "4          5\n",
      "        ... \n",
      "3701    3702\n",
      "3702    3703\n",
      "3703    3704\n",
      "3704    3705\n",
      "3705    3706\n",
      "Name: movieId, Length: 3706, dtype: int64\n",
      "<class 'pandas.core.series.Series'>\n",
      "<PandasArray>\n",
      "[ 499, 3374, 3259, 1881, 2072, 1616,  394, 1690, 1382, 3208,\n",
      " ...\n",
      " 3230, 3597, 1487, 2816, 1791, 2433, 2278, 2203,  117, 1110]\n",
      "Length: 1000, dtype: int64\n"
     ]
    },
    {
     "name": "stderr",
     "output_type": "stream",
     "text": [
      "/var/folders/w6/yvwdncbx7qbgk26cz6r2f7s00000gn/T/ipykernel_1451/3346833681.py:5: FutureWarning: The behavior of `series[i:j]` with an integer-dtype index is deprecated. In a future version, this will be treated as *label-based* indexing, consistent with e.g. `series[i]` lookups. To retain the old behavior, use `series.iloc[i:j]`. To get the future behavior, use `series.loc[i:j]`.\n",
      "  movieIds_indices = ranked_item_score['movie'][:m].array\n"
     ]
    },
    {
     "data": {
      "text/plain": "499         Radioland_Murders_(1994)\n3374       Honeymoon_in_Vegas_(1992)\n3259    Son_of_the_Sheik,_The_(1926)\n1881           Governess,_The_(1998)\n2072      About_Last_Night..._(1986)\n                    ...             \n2433       Mummy's_Curse,_The_(1944)\n2278      Crocodile_Dundee_II_(1988)\n2203      Shakespeare_in_Love_(1998)\n117                 Boomerang_(1992)\n1110                   Aliens_(1986)\nName: title, Length: 1000, dtype: object"
     },
     "execution_count": 43,
     "metadata": {},
     "output_type": "execute_result"
    }
   ],
   "source": [
    "# Test - Print titles of recommended movies\\\n",
    "print(type(ranked_item_score))\n",
    "print(movies['movieId'])\n",
    "print(type(ranked_item_score['movie']))\n",
    "movieIds_indices = ranked_item_score['movie'][:m].array\n",
    "print(movieIds_indices)\n",
    "movies.iloc[movieIds_indices]['title']\n",
    "# joined_indices = list(set(movies.movieId) & set(movieIds_indices))\n",
    "# print(len(joined_indices))\n",
    "# print(movies.iloc[joined_indices]['title'])"
   ],
   "metadata": {
    "collapsed": false
   }
  },
  {
   "cell_type": "code",
   "execution_count": 44,
   "outputs": [
    {
     "name": "stdout",
     "output_type": "stream",
     "text": [
      "The average movie rating for user 1 is 4.19\n",
      "1000\n"
     ]
    },
    {
     "data": {
      "text/plain": "      movie  movie_score  predicted_rating\n291     499     2.554455          6.745945\n1989   3374     2.144737          6.336226\n1915   3259     2.144737          6.336226\n1086   1881     2.144737          6.336226\n1199   2072     2.144737          6.336226\n...     ...          ...               ...\n1425   2433     0.002537          4.194027\n1333   2278     0.001970          4.193460\n1277   2203     0.000140          4.191630\n71      117     0.000000          4.191489\n591    1110    -0.000017          4.191472\n\n[1000 rows x 3 columns]",
      "text/html": "<div>\n<style scoped>\n    .dataframe tbody tr th:only-of-type {\n        vertical-align: middle;\n    }\n\n    .dataframe tbody tr th {\n        vertical-align: top;\n    }\n\n    .dataframe thead th {\n        text-align: right;\n    }\n</style>\n<table border=\"1\" class=\"dataframe\">\n  <thead>\n    <tr style=\"text-align: right;\">\n      <th></th>\n      <th>movie</th>\n      <th>movie_score</th>\n      <th>predicted_rating</th>\n    </tr>\n  </thead>\n  <tbody>\n    <tr>\n      <th>291</th>\n      <td>499</td>\n      <td>2.554455</td>\n      <td>6.745945</td>\n    </tr>\n    <tr>\n      <th>1989</th>\n      <td>3374</td>\n      <td>2.144737</td>\n      <td>6.336226</td>\n    </tr>\n    <tr>\n      <th>1915</th>\n      <td>3259</td>\n      <td>2.144737</td>\n      <td>6.336226</td>\n    </tr>\n    <tr>\n      <th>1086</th>\n      <td>1881</td>\n      <td>2.144737</td>\n      <td>6.336226</td>\n    </tr>\n    <tr>\n      <th>1199</th>\n      <td>2072</td>\n      <td>2.144737</td>\n      <td>6.336226</td>\n    </tr>\n    <tr>\n      <th>...</th>\n      <td>...</td>\n      <td>...</td>\n      <td>...</td>\n    </tr>\n    <tr>\n      <th>1425</th>\n      <td>2433</td>\n      <td>0.002537</td>\n      <td>4.194027</td>\n    </tr>\n    <tr>\n      <th>1333</th>\n      <td>2278</td>\n      <td>0.001970</td>\n      <td>4.193460</td>\n    </tr>\n    <tr>\n      <th>1277</th>\n      <td>2203</td>\n      <td>0.000140</td>\n      <td>4.191630</td>\n    </tr>\n    <tr>\n      <th>71</th>\n      <td>117</td>\n      <td>0.000000</td>\n      <td>4.191489</td>\n    </tr>\n    <tr>\n      <th>591</th>\n      <td>1110</td>\n      <td>-0.000017</td>\n      <td>4.191472</td>\n    </tr>\n  </tbody>\n</table>\n<p>1000 rows × 3 columns</p>\n</div>"
     },
     "execution_count": 44,
     "metadata": {},
     "output_type": "execute_result"
    }
   ],
   "source": [
    "# Predicts scores - user's ratings\n",
    "# get average user's w/ `userId` movie rating score\n",
    "\n",
    "avg_rating = matrix[matrix.index == picked_userid].T.mean()[picked_userid]\n",
    "print(f'The average movie rating for user {picked_userid} is {avg_rating:.2f}')\n",
    "\n",
    "# Calcuate the predicted rating\n",
    "ranked_item_score['predicted_rating'] = ranked_item_score['movie_score'] + avg_rating# Take a look at the data\n",
    "print(m)\n",
    "ranked_item_score.head(m)"
   ],
   "metadata": {
    "collapsed": false
   }
  },
  {
   "cell_type": "code",
   "execution_count": 51,
   "outputs": [
    {
     "name": "stdout",
     "output_type": "stream",
     "text": [
      "(6039, 6040)\n",
      "(6039, 6040)\n",
      "(6039, 6040)\n",
      "(6039, 6040)\n",
      "(6039, 6040)\n",
      "(6039, 6040)\n",
      "(6039, 6040)\n",
      "(6039, 6040)\n",
      "(6039, 6040)\n",
      "(6039, 6040)\n",
      "(6039, 6040)\n",
      "(6039, 6040)\n",
      "(6039, 6040)\n",
      "(6039, 6040)\n",
      "(6039, 6040)\n",
      "(6039, 6040)\n",
      "(6039, 6040)\n",
      "(6039, 6040)\n",
      "(6039, 6040)\n",
      "(6039, 6040)\n",
      "(6039, 6040)\n",
      "(6039, 6040)\n",
      "(6039, 6040)\n",
      "(6039, 6040)\n",
      "(6039, 6040)\n",
      "(6039, 6040)\n",
      "(6039, 6040)\n",
      "(6039, 6040)\n",
      "(6039, 6040)\n",
      "(6039, 6040)\n",
      "(6039, 6040)\n",
      "(6039, 6040)\n",
      "(6039, 6040)\n",
      "(6039, 6040)\n",
      "(6039, 6040)\n",
      "(6039, 6040)\n",
      "(6039, 6040)\n",
      "(6039, 6040)\n",
      "(6039, 6040)\n",
      "(6039, 6040)\n",
      "(6039, 6040)\n",
      "(6039, 6040)\n",
      "(6039, 6040)\n",
      "(6039, 6040)\n",
      "(6039, 6040)\n",
      "(6039, 6040)\n",
      "(6039, 6040)\n",
      "(6039, 6040)\n",
      "(6039, 6040)\n",
      "(6039, 6040)\n",
      "(6039, 6040)\n",
      "(6039, 6040)\n",
      "(6039, 6040)\n",
      "(6039, 6040)\n",
      "(6039, 6040)\n",
      "(6039, 6040)\n",
      "(6039, 6040)\n",
      "(6039, 6040)\n",
      "(6039, 6040)\n",
      "(6039, 6040)\n",
      "(6039, 6040)\n",
      "(6039, 6040)\n",
      "(6039, 6040)\n",
      "(6039, 6040)\n",
      "(6039, 6040)\n",
      "(6039, 6040)\n",
      "(6039, 6040)\n",
      "(6039, 6040)\n",
      "(6039, 6040)\n",
      "(6039, 6040)\n",
      "(6039, 6040)\n",
      "(6039, 6040)\n",
      "(6039, 6040)\n",
      "(6039, 6040)\n",
      "(6039, 6040)\n",
      "(6039, 6040)\n",
      "(6039, 6040)\n",
      "(6039, 6040)\n",
      "(6039, 6040)\n",
      "(6039, 6040)\n",
      "(6039, 6040)\n",
      "(6039, 6040)\n",
      "(6039, 6040)\n",
      "(6039, 6040)\n",
      "(6039, 6040)\n",
      "(6039, 6040)\n",
      "(6039, 6040)\n",
      "(6039, 6040)\n",
      "(6039, 6040)\n",
      "(6039, 6040)\n",
      "(6039, 6040)\n",
      "(6039, 6040)\n",
      "(6039, 6040)\n",
      "(6039, 6040)\n",
      "(6039, 6040)\n",
      "(6039, 6040)\n",
      "(6039, 6040)\n",
      "(6039, 6040)\n",
      "(6039, 6040)\n",
      "(6039, 6040)\n",
      "(6039, 6040)\n",
      "(6039, 6040)\n",
      "(6039, 6040)\n",
      "(6039, 6040)\n",
      "(6039, 6040)\n",
      "(6039, 6040)\n",
      "(6039, 6040)\n",
      "(6039, 6040)\n",
      "(6039, 6040)\n",
      "(6039, 6040)\n",
      "(6039, 6040)\n",
      "(6039, 6040)\n",
      "(6039, 6040)\n",
      "(6039, 6040)\n",
      "(6039, 6040)\n",
      "(6039, 6040)\n",
      "(6039, 6040)\n",
      "(6039, 6040)\n",
      "(6039, 6040)\n",
      "(6039, 6040)\n",
      "(6039, 6040)\n",
      "(6039, 6040)\n",
      "(6039, 6040)\n",
      "(6039, 6040)\n",
      "(6039, 6040)\n",
      "(6039, 6040)\n",
      "(6039, 6040)\n",
      "(6039, 6040)\n",
      "(6039, 6040)\n",
      "(6039, 6040)\n",
      "(6039, 6040)\n",
      "(6039, 6040)\n",
      "(6039, 6040)\n",
      "(6039, 6040)\n",
      "(6039, 6040)\n",
      "(6039, 6040)\n",
      "(6039, 6040)\n",
      "(6039, 6040)\n",
      "(6039, 6040)\n",
      "(6039, 6040)\n",
      "(6039, 6040)\n",
      "(6039, 6040)\n",
      "(6039, 6040)\n",
      "(6039, 6040)\n",
      "(6039, 6040)\n",
      "(6039, 6040)\n",
      "(6039, 6040)\n",
      "(6039, 6040)\n",
      "(6039, 6040)\n",
      "(6039, 6040)\n",
      "(6039, 6040)\n",
      "(6039, 6040)\n",
      "(6039, 6040)\n",
      "(6039, 6040)\n",
      "(6039, 6040)\n",
      "(6039, 6040)\n",
      "(6039, 6040)\n",
      "(6039, 6040)\n",
      "(6039, 6040)\n",
      "(6039, 6040)\n",
      "(6039, 6040)\n",
      "(6039, 6040)\n",
      "(6039, 6040)\n",
      "(6039, 6040)\n",
      "(6039, 6040)\n",
      "(6039, 6040)\n",
      "(6039, 6040)\n",
      "(6039, 6040)\n",
      "(6039, 6040)\n",
      "(6039, 6040)\n",
      "(6039, 6040)\n",
      "(6039, 6040)\n",
      "(6039, 6040)\n",
      "(6039, 6040)\n",
      "(6039, 6040)\n",
      "(6039, 6040)\n",
      "(6039, 6040)\n",
      "(6039, 6040)\n",
      "(6039, 6040)\n",
      "(6039, 6040)\n",
      "(6039, 6040)\n",
      "(6039, 6040)\n",
      "(6039, 6040)\n",
      "(6039, 6040)\n",
      "(6039, 6040)\n",
      "(6039, 6040)\n",
      "(6039, 6040)\n",
      "(6039, 6040)\n",
      "(6039, 6040)\n",
      "(6039, 6040)\n",
      "(6039, 6040)\n",
      "(6039, 6040)\n",
      "(6039, 6040)\n",
      "(6039, 6040)\n",
      "(6039, 6040)\n",
      "(6039, 6040)\n",
      "(6039, 6040)\n",
      "(6039, 6040)\n",
      "(6039, 6040)\n",
      "(6039, 6040)\n",
      "(6039, 6040)\n",
      "(6039, 6040)\n",
      "(6039, 6040)\n",
      "(6039, 6040)\n",
      "(6039, 6040)\n",
      "(6039, 6040)\n",
      "(6039, 6040)\n",
      "(6039, 6040)\n",
      "(6039, 6040)\n",
      "(6039, 6040)\n",
      "(6039, 6040)\n",
      "(6039, 6040)\n",
      "(6039, 6040)\n",
      "(6039, 6040)\n",
      "(6039, 6040)\n",
      "(6039, 6040)\n",
      "(6039, 6040)\n",
      "(6039, 6040)\n",
      "(6039, 6040)\n",
      "(6039, 6040)\n",
      "(6039, 6040)\n",
      "(6039, 6040)\n",
      "(6039, 6040)\n",
      "(6039, 6040)\n",
      "(6039, 6040)\n",
      "(6039, 6040)\n",
      "(6039, 6040)\n",
      "(6039, 6040)\n",
      "(6039, 6040)\n",
      "(6039, 6040)\n",
      "(6039, 6040)\n",
      "(6039, 6040)\n",
      "(6039, 6040)\n",
      "(6039, 6040)\n",
      "(6039, 6040)\n",
      "(6039, 6040)\n",
      "(6039, 6040)\n",
      "(6039, 6040)\n",
      "(6039, 6040)\n",
      "(6039, 6040)\n",
      "(6039, 6040)\n",
      "(6039, 6040)\n",
      "(6039, 6040)\n",
      "(6039, 6040)\n",
      "(6039, 6040)\n",
      "(6039, 6040)\n",
      "(6039, 6040)\n",
      "(6039, 6040)\n",
      "(6039, 6040)\n",
      "(6039, 6040)\n",
      "(6039, 6040)\n",
      "(6039, 6040)\n",
      "(6039, 6040)\n",
      "(6039, 6040)\n",
      "(6039, 6040)\n",
      "(6039, 6040)\n",
      "(6039, 6040)\n",
      "(6039, 6040)\n",
      "(6039, 6040)\n",
      "(6039, 6040)\n",
      "(6039, 6040)\n",
      "(6039, 6040)\n",
      "(6039, 6040)\n",
      "(6039, 6040)\n",
      "(6039, 6040)\n",
      "(6039, 6040)\n",
      "(6039, 6040)\n",
      "(6039, 6040)\n",
      "(6039, 6040)\n",
      "(6039, 6040)\n",
      "(6039, 6040)\n",
      "(6039, 6040)\n",
      "(6039, 6040)\n",
      "(6039, 6040)\n",
      "(6039, 6040)\n",
      "(6039, 6040)\n",
      "(6039, 6040)\n",
      "(6039, 6040)\n",
      "(6039, 6040)\n",
      "(6039, 6040)\n",
      "(6039, 6040)\n",
      "(6039, 6040)\n",
      "(6039, 6040)\n",
      "(6039, 6040)\n",
      "(6039, 6040)\n",
      "(6039, 6040)\n",
      "(6039, 6040)\n",
      "(6039, 6040)\n",
      "(6039, 6040)\n",
      "(6039, 6040)\n",
      "(6039, 6040)\n",
      "(6039, 6040)\n",
      "(6039, 6040)\n",
      "(6039, 6040)\n",
      "(6039, 6040)\n",
      "(6039, 6040)\n",
      "(6039, 6040)\n",
      "(6039, 6040)\n",
      "(6039, 6040)\n",
      "(6039, 6040)\n",
      "(6039, 6040)\n",
      "(6039, 6040)\n",
      "(6039, 6040)\n",
      "(6039, 6040)\n",
      "(6039, 6040)\n",
      "(6039, 6040)\n",
      "(6039, 6040)\n",
      "(6039, 6040)\n",
      "(6039, 6040)\n",
      "(6039, 6040)\n",
      "(6039, 6040)\n",
      "(6039, 6040)\n",
      "(6039, 6040)\n",
      "(6039, 6040)\n",
      "(6039, 6040)\n",
      "(6039, 6040)\n",
      "(6039, 6040)\n",
      "(6039, 6040)\n",
      "(6039, 6040)\n",
      "(6039, 6040)\n",
      "(6039, 6040)\n",
      "(6039, 6040)\n",
      "(6039, 6040)\n",
      "(6039, 6040)\n",
      "(6039, 6040)\n",
      "(6039, 6040)\n",
      "(6039, 6040)\n",
      "(6039, 6040)\n",
      "(6039, 6040)\n",
      "(6039, 6040)\n",
      "(6039, 6040)\n",
      "(6039, 6040)\n",
      "(6039, 6040)\n",
      "(6039, 6040)\n",
      "(6039, 6040)\n",
      "(6039, 6040)\n",
      "(6039, 6040)\n",
      "(6039, 6040)\n",
      "(6039, 6040)\n",
      "(6039, 6040)\n",
      "(6039, 6040)\n",
      "(6039, 6040)\n",
      "(6039, 6040)\n",
      "(6039, 6040)\n",
      "(6039, 6040)\n",
      "(6039, 6040)\n",
      "(6039, 6040)\n",
      "(6039, 6040)\n",
      "(6039, 6040)\n",
      "(6039, 6040)\n",
      "(6039, 6040)\n",
      "(6039, 6040)\n",
      "(6039, 6040)\n",
      "(6039, 6040)\n",
      "(6039, 6040)\n",
      "(6039, 6040)\n",
      "(6039, 6040)\n",
      "(6039, 6040)\n",
      "(6039, 6040)\n",
      "(6039, 6040)\n",
      "(6039, 6040)\n",
      "(6039, 6040)\n",
      "(6039, 6040)\n",
      "(6039, 6040)\n",
      "(6039, 6040)\n",
      "(6039, 6040)\n",
      "(6039, 6040)\n",
      "(6039, 6040)\n",
      "(6039, 6040)\n",
      "(6039, 6040)\n",
      "(6039, 6040)\n",
      "(6039, 6040)\n",
      "(6039, 6040)\n",
      "(6039, 6040)\n",
      "(6039, 6040)\n",
      "(6039, 6040)\n",
      "(6039, 6040)\n",
      "(6039, 6040)\n",
      "(6039, 6040)\n",
      "(6039, 6040)\n",
      "(6039, 6040)\n",
      "(6039, 6040)\n",
      "(6039, 6040)\n",
      "(6039, 6040)\n",
      "(6039, 6040)\n",
      "(6039, 6040)\n",
      "(6039, 6040)\n",
      "(6039, 6040)\n",
      "(6039, 6040)\n",
      "(6039, 6040)\n",
      "(6039, 6040)\n",
      "(6039, 6040)\n",
      "(6039, 6040)\n",
      "(6039, 6040)\n",
      "(6039, 6040)\n",
      "(6039, 6040)\n",
      "(6039, 6040)\n",
      "(6039, 6040)\n",
      "(6039, 6040)\n",
      "(6039, 6040)\n",
      "(6039, 6040)\n",
      "(6039, 6040)\n",
      "(6039, 6040)\n",
      "(6039, 6040)\n",
      "(6039, 6040)\n",
      "(6039, 6040)\n",
      "(6039, 6040)\n",
      "(6039, 6040)\n",
      "(6039, 6040)\n",
      "(6039, 6040)\n",
      "(6039, 6040)\n",
      "(6039, 6040)\n",
      "(6039, 6040)\n",
      "(6039, 6040)\n",
      "(6039, 6040)\n",
      "(6039, 6040)\n",
      "(6039, 6040)\n",
      "(6039, 6040)\n",
      "(6039, 6040)\n",
      "(6039, 6040)\n",
      "(6039, 6040)\n",
      "(6039, 6040)\n",
      "(6039, 6040)\n",
      "(6039, 6040)\n",
      "(6039, 6040)\n",
      "(6039, 6040)\n",
      "(6039, 6040)\n",
      "(6039, 6040)\n",
      "(6039, 6040)\n",
      "(6039, 6040)\n",
      "(6039, 6040)\n",
      "(6039, 6040)\n",
      "(6039, 6040)\n",
      "(6039, 6040)\n",
      "(6039, 6040)\n",
      "(6039, 6040)\n",
      "(6039, 6040)\n",
      "(6039, 6040)\n",
      "(6039, 6040)\n",
      "(6039, 6040)\n",
      "(6039, 6040)\n",
      "(6039, 6040)\n",
      "(6039, 6040)\n",
      "(6039, 6040)\n",
      "(6039, 6040)\n",
      "(6039, 6040)\n",
      "(6039, 6040)\n",
      "(6039, 6040)\n",
      "(6039, 6040)\n",
      "(6039, 6040)\n",
      "(6039, 6040)\n",
      "(6039, 6040)\n",
      "(6039, 6040)\n",
      "(6039, 6040)\n",
      "(6039, 6040)\n",
      "(6039, 6040)\n",
      "(6039, 6040)\n",
      "(6039, 6040)\n",
      "(6039, 6040)\n",
      "(6039, 6040)\n",
      "(6039, 6040)\n",
      "(6039, 6040)\n",
      "(6039, 6040)\n",
      "(6039, 6040)\n",
      "(6039, 6040)\n",
      "(6039, 6040)\n",
      "(6039, 6040)\n",
      "(6039, 6040)\n",
      "(6039, 6040)\n",
      "(6039, 6040)\n",
      "(6039, 6040)\n",
      "(6039, 6040)\n",
      "(6039, 6040)\n",
      "(6039, 6040)\n",
      "(6039, 6040)\n",
      "(6039, 6040)\n",
      "(6039, 6040)\n",
      "(6039, 6040)\n",
      "(6039, 6040)\n",
      "(6039, 6040)\n",
      "(6039, 6040)\n",
      "(6039, 6040)\n",
      "(6039, 6040)\n",
      "(6039, 6040)\n",
      "(6039, 6040)\n",
      "(6039, 6040)\n",
      "(6039, 6040)\n",
      "(6039, 6040)\n",
      "(6039, 6040)\n",
      "(6039, 6040)\n",
      "(6039, 6040)\n",
      "(6039, 6040)\n",
      "(6039, 6040)\n",
      "(6039, 6040)\n",
      "(6039, 6040)\n",
      "(6039, 6040)\n",
      "(6039, 6040)\n",
      "(6039, 6040)\n",
      "(6039, 6040)\n",
      "(6039, 6040)\n",
      "(6039, 6040)\n",
      "(6039, 6040)\n",
      "(6039, 6040)\n",
      "(6039, 6040)\n",
      "(6039, 6040)\n",
      "(6039, 6040)\n",
      "(6039, 6040)\n",
      "(6039, 6040)\n",
      "(6039, 6040)\n",
      "(6039, 6040)\n",
      "(6039, 6040)\n",
      "(6039, 6040)\n",
      "(6039, 6040)\n",
      "(6039, 6040)\n",
      "(6039, 6040)\n",
      "(6039, 6040)\n",
      "(6039, 6040)\n",
      "(6039, 6040)\n",
      "(6039, 6040)\n",
      "(6039, 6040)\n",
      "(6039, 6040)\n",
      "(6039, 6040)\n",
      "(6039, 6040)\n",
      "(6039, 6040)\n",
      "(6039, 6040)\n",
      "(6039, 6040)\n",
      "(6039, 6040)\n",
      "(6039, 6040)\n",
      "(6039, 6040)\n",
      "(6039, 6040)\n",
      "(6039, 6040)\n",
      "(6039, 6040)\n",
      "(6039, 6040)\n",
      "(6039, 6040)\n",
      "(6039, 6040)\n",
      "(6039, 6040)\n",
      "(6039, 6040)\n",
      "(6039, 6040)\n",
      "(6039, 6040)\n",
      "(6039, 6040)\n",
      "(6039, 6040)\n",
      "(6039, 6040)\n",
      "(6039, 6040)\n",
      "(6039, 6040)\n",
      "(6039, 6040)\n",
      "(6039, 6040)\n",
      "(6039, 6040)\n",
      "(6039, 6040)\n",
      "(6039, 6040)\n",
      "(6039, 6040)\n",
      "(6039, 6040)\n",
      "(6039, 6040)\n",
      "(6039, 6040)\n",
      "(6039, 6040)\n",
      "(6039, 6040)\n",
      "(6039, 6040)\n",
      "(6039, 6040)\n",
      "(6039, 6040)\n",
      "(6039, 6040)\n",
      "(6039, 6040)\n",
      "(6039, 6040)\n",
      "(6039, 6040)\n",
      "(6039, 6040)\n",
      "(6039, 6040)\n",
      "(6039, 6040)\n",
      "(6039, 6040)\n",
      "(6039, 6040)\n",
      "(6039, 6040)\n",
      "(6039, 6040)\n",
      "(6039, 6040)\n",
      "(6039, 6040)\n",
      "(6039, 6040)\n",
      "(6039, 6040)\n",
      "(6039, 6040)\n",
      "(6039, 6040)\n",
      "(6039, 6040)\n",
      "(6039, 6040)\n",
      "(6039, 6040)\n",
      "(6039, 6040)\n",
      "(6039, 6040)\n",
      "(6039, 6040)\n",
      "(6039, 6040)\n",
      "(6039, 6040)\n",
      "(6039, 6040)\n",
      "(6039, 6040)\n",
      "(6039, 6040)\n",
      "(6039, 6040)\n",
      "(6039, 6040)\n",
      "(6039, 6040)\n",
      "(6039, 6040)\n",
      "(6039, 6040)\n",
      "(6039, 6040)\n",
      "(6039, 6040)\n",
      "(6039, 6040)\n",
      "(6039, 6040)\n",
      "(6039, 6040)\n",
      "(6039, 6040)\n",
      "(6039, 6040)\n",
      "(6039, 6040)\n",
      "(6039, 6040)\n",
      "(6039, 6040)\n",
      "(6039, 6040)\n",
      "(6039, 6040)\n",
      "(6039, 6040)\n",
      "(6039, 6040)\n",
      "(6039, 6040)\n",
      "(6039, 6040)\n",
      "(6039, 6040)\n",
      "(6039, 6040)\n",
      "(6039, 6040)\n",
      "(6039, 6040)\n",
      "(6039, 6040)\n",
      "(6039, 6040)\n",
      "(6039, 6040)\n",
      "(6039, 6040)\n",
      "(6039, 6040)\n",
      "(6039, 6040)\n",
      "(6039, 6040)\n",
      "(6039, 6040)\n",
      "(6039, 6040)\n",
      "(6039, 6040)\n",
      "(6039, 6040)\n",
      "(6039, 6040)\n",
      "(6039, 6040)\n",
      "(6039, 6040)\n",
      "(6039, 6040)\n",
      "(6039, 6040)\n",
      "(6039, 6040)\n",
      "(6039, 6040)\n",
      "(6039, 6040)\n",
      "(6039, 6040)\n",
      "(6039, 6040)\n",
      "(6039, 6040)\n",
      "(6039, 6040)\n",
      "(6039, 6040)\n",
      "(6039, 6040)\n",
      "(6039, 6040)\n",
      "(6039, 6040)\n",
      "(6039, 6040)\n",
      "(6039, 6040)\n",
      "(6039, 6040)\n",
      "(6039, 6040)\n",
      "(6039, 6040)\n",
      "(6039, 6040)\n",
      "(6039, 6040)\n",
      "(6039, 6040)\n",
      "(6039, 6040)\n",
      "(6039, 6040)\n",
      "(6039, 6040)\n",
      "(6039, 6040)\n",
      "(6039, 6040)\n",
      "(6039, 6040)\n",
      "(6039, 6040)\n",
      "(6039, 6040)\n",
      "(6039, 6040)\n",
      "(6039, 6040)\n",
      "(6039, 6040)\n",
      "(6039, 6040)\n",
      "(6039, 6040)\n",
      "(6039, 6040)\n",
      "(6039, 6040)\n",
      "(6039, 6040)\n",
      "(6039, 6040)\n",
      "(6039, 6040)\n",
      "(6039, 6040)\n",
      "(6039, 6040)\n",
      "(6039, 6040)\n",
      "(6039, 6040)\n",
      "(6039, 6040)\n",
      "(6039, 6040)\n",
      "(6039, 6040)\n",
      "(6039, 6040)\n",
      "(6039, 6040)\n",
      "(6039, 6040)\n",
      "(6039, 6040)\n",
      "(6039, 6040)\n",
      "(6039, 6040)\n",
      "(6039, 6040)\n",
      "(6039, 6040)\n",
      "(6039, 6040)\n",
      "(6039, 6040)\n",
      "(6039, 6040)\n",
      "(6039, 6040)\n",
      "(6039, 6040)\n",
      "(6039, 6040)\n",
      "(6039, 6040)\n",
      "(6039, 6040)\n",
      "(6039, 6040)\n",
      "(6039, 6040)\n",
      "(6039, 6040)\n",
      "(6039, 6040)\n",
      "(6039, 6040)\n",
      "(6039, 6040)\n",
      "(6039, 6040)\n",
      "(6039, 6040)\n",
      "(6039, 6040)\n",
      "(6039, 6040)\n",
      "(6039, 6040)\n",
      "(6039, 6040)\n",
      "(6039, 6040)\n",
      "(6039, 6040)\n",
      "(6039, 6040)\n",
      "(6039, 6040)\n",
      "(6039, 6040)\n",
      "(6039, 6040)\n",
      "(6039, 6040)\n",
      "(6039, 6040)\n",
      "(6039, 6040)\n",
      "(6039, 6040)\n",
      "(6039, 6040)\n",
      "(6039, 6040)\n",
      "(6039, 6040)\n",
      "(6039, 6040)\n",
      "(6039, 6040)\n",
      "(6039, 6040)\n",
      "(6039, 6040)\n",
      "(6039, 6040)\n",
      "(6039, 6040)\n",
      "(6039, 6040)\n",
      "(6039, 6040)\n",
      "(6039, 6040)\n",
      "(6039, 6040)\n",
      "(6039, 6040)\n",
      "(6039, 6040)\n",
      "(6039, 6040)\n",
      "(6039, 6040)\n",
      "(6039, 6040)\n",
      "(6039, 6040)\n",
      "(6039, 6040)\n",
      "(6039, 6040)\n",
      "(6039, 6040)\n",
      "(6039, 6040)\n",
      "(6039, 6040)\n",
      "(6039, 6040)\n",
      "(6039, 6040)\n",
      "(6039, 6040)\n",
      "(6039, 6040)\n",
      "(6039, 6040)\n",
      "(6039, 6040)\n",
      "(6039, 6040)\n",
      "(6039, 6040)\n",
      "(6039, 6040)\n",
      "(6039, 6040)\n",
      "(6039, 6040)\n",
      "(6039, 6040)\n",
      "(6039, 6040)\n",
      "(6039, 6040)\n",
      "(6039, 6040)\n",
      "(6039, 6040)\n",
      "(6039, 6040)\n",
      "(6039, 6040)\n",
      "(6039, 6040)\n",
      "(6039, 6040)\n",
      "(6039, 6040)\n",
      "(6039, 6040)\n",
      "(6039, 6040)\n",
      "(6039, 6040)\n",
      "(6039, 6040)\n",
      "(6039, 6040)\n",
      "(6039, 6040)\n",
      "(6039, 6040)\n",
      "(6039, 6040)\n",
      "(6039, 6040)\n",
      "(6039, 6040)\n",
      "(6039, 6040)\n",
      "(6039, 6040)\n",
      "(6039, 6040)\n",
      "(6039, 6040)\n",
      "(6039, 6040)\n",
      "(6039, 6040)\n",
      "(6039, 6040)\n",
      "(6039, 6040)\n",
      "(6039, 6040)\n",
      "(6039, 6040)\n",
      "(6039, 6040)\n",
      "(6039, 6040)\n",
      "(6039, 6040)\n",
      "(6039, 6040)\n",
      "(6039, 6040)\n",
      "(6039, 6040)\n",
      "(6039, 6040)\n",
      "(6039, 6040)\n",
      "(6039, 6040)\n",
      "(6039, 6040)\n",
      "(6039, 6040)\n",
      "(6039, 6040)\n",
      "(6039, 6040)\n",
      "(6039, 6040)\n",
      "(6039, 6040)\n",
      "(6039, 6040)\n",
      "(6039, 6040)\n",
      "(6039, 6040)\n",
      "(6039, 6040)\n",
      "(6039, 6040)\n",
      "(6039, 6040)\n",
      "(6039, 6040)\n",
      "(6039, 6040)\n",
      "(6039, 6040)\n",
      "(6039, 6040)\n",
      "(6039, 6040)\n",
      "(6039, 6040)\n",
      "(6039, 6040)\n",
      "(6039, 6040)\n",
      "(6039, 6040)\n",
      "(6039, 6040)\n",
      "(6039, 6040)\n",
      "(6039, 6040)\n",
      "(6039, 6040)\n",
      "(6039, 6040)\n",
      "(6039, 6040)\n",
      "(6039, 6040)\n",
      "(6039, 6040)\n",
      "(6039, 6040)\n",
      "(6039, 6040)\n",
      "(6039, 6040)\n",
      "(6039, 6040)\n",
      "(6039, 6040)\n",
      "(6039, 6040)\n",
      "(6039, 6040)\n",
      "(6039, 6040)\n",
      "(6039, 6040)\n",
      "(6039, 6040)\n",
      "(6039, 6040)\n",
      "(6039, 6040)\n",
      "(6039, 6040)\n",
      "(6039, 6040)\n",
      "(6039, 6040)\n",
      "(6039, 6040)\n",
      "(6039, 6040)\n",
      "(6039, 6040)\n",
      "(6039, 6040)\n",
      "(6039, 6040)\n",
      "(6039, 6040)\n",
      "(6039, 6040)\n",
      "(6039, 6040)\n",
      "(6039, 6040)\n",
      "(6039, 6040)\n",
      "(6039, 6040)\n",
      "(6039, 6040)\n",
      "(6039, 6040)\n",
      "(6039, 6040)\n",
      "(6039, 6040)\n",
      "(6039, 6040)\n",
      "(6039, 6040)\n",
      "(6039, 6040)\n",
      "(6039, 6040)\n",
      "(6039, 6040)\n",
      "(6039, 6040)\n",
      "(6039, 6040)\n",
      "(6039, 6040)\n",
      "(6039, 6040)\n",
      "(6039, 6040)\n",
      "(6039, 6040)\n",
      "(6039, 6040)\n",
      "(6039, 6040)\n",
      "(6039, 6040)\n",
      "(6039, 6040)\n",
      "(6039, 6040)\n",
      "(6039, 6040)\n",
      "(6039, 6040)\n",
      "(6039, 6040)\n",
      "(6039, 6040)\n",
      "(6039, 6040)\n",
      "(6039, 6040)\n",
      "(6039, 6040)\n",
      "(6039, 6040)\n",
      "(6039, 6040)\n",
      "(6039, 6040)\n",
      "(6039, 6040)\n",
      "(6039, 6040)\n",
      "(6039, 6040)\n",
      "(6039, 6040)\n",
      "(6039, 6040)\n",
      "(6039, 6040)\n",
      "(6039, 6040)\n",
      "(6039, 6040)\n",
      "(6039, 6040)\n",
      "(6039, 6040)\n",
      "(6039, 6040)\n",
      "(6039, 6040)\n",
      "(6039, 6040)\n",
      "(6039, 6040)\n",
      "(6039, 6040)\n",
      "(6039, 6040)\n",
      "(6039, 6040)\n",
      "(6039, 6040)\n",
      "(6039, 6040)\n",
      "(6039, 6040)\n",
      "(6039, 6040)\n",
      "(6039, 6040)\n",
      "(6039, 6040)\n",
      "(6039, 6040)\n",
      "(6039, 6040)\n",
      "(6039, 6040)\n",
      "(6039, 6040)\n",
      "(6039, 6040)\n",
      "(6039, 6040)\n",
      "(6039, 6040)\n",
      "(6039, 6040)\n",
      "(6039, 6040)\n",
      "(6039, 6040)\n",
      "(6039, 6040)\n",
      "(6039, 6040)\n",
      "(6039, 6040)\n",
      "(6039, 6040)\n",
      "(6039, 6040)\n",
      "(6039, 6040)\n",
      "(6039, 6040)\n",
      "(6039, 6040)\n",
      "(6039, 6040)\n",
      "(6039, 6040)\n",
      "(6039, 6040)\n",
      "(6039, 6040)\n",
      "(6039, 6040)\n",
      "(6039, 6040)\n",
      "(6039, 6040)\n",
      "(6039, 6040)\n",
      "(6039, 6040)\n",
      "(6039, 6040)\n",
      "(6039, 6040)\n",
      "(6039, 6040)\n",
      "(6039, 6040)\n",
      "(6039, 6040)\n",
      "(6039, 6040)\n",
      "(6039, 6040)\n",
      "(6039, 6040)\n",
      "(6039, 6040)\n",
      "(6039, 6040)\n",
      "(6039, 6040)\n",
      "(6039, 6040)\n",
      "(6039, 6040)\n",
      "(6039, 6040)\n",
      "(6039, 6040)\n",
      "(6039, 6040)\n",
      "(6039, 6040)\n",
      "(6039, 6040)\n",
      "(6039, 6040)\n",
      "(6039, 6040)\n",
      "(6039, 6040)\n",
      "(6039, 6040)\n",
      "(6039, 6040)\n",
      "(6039, 6040)\n",
      "(6039, 6040)\n",
      "(6039, 6040)\n",
      "(6039, 6040)\n",
      "(6039, 6040)\n",
      "(6039, 6040)\n",
      "(6039, 6040)\n",
      "(6039, 6040)\n",
      "(6039, 6040)\n",
      "(6039, 6040)\n",
      "(6039, 6040)\n",
      "(6039, 6040)\n",
      "(6039, 6040)\n",
      "(6039, 6040)\n",
      "(6039, 6040)\n",
      "(6039, 6040)\n",
      "(6039, 6040)\n",
      "(6039, 6040)\n",
      "(6039, 6040)\n",
      "(6039, 6040)\n",
      "(6039, 6040)\n",
      "(6039, 6040)\n",
      "(6039, 6040)\n",
      "(6039, 6040)\n",
      "(6039, 6040)\n",
      "(6039, 6040)\n",
      "(6039, 6040)\n",
      "(6039, 6040)\n",
      "(6039, 6040)\n",
      "(6039, 6040)\n",
      "(6039, 6040)\n",
      "(6039, 6040)\n",
      "(6039, 6040)\n",
      "(6039, 6040)\n",
      "(6039, 6040)\n",
      "(6039, 6040)\n",
      "(6039, 6040)\n",
      "(6039, 6040)\n",
      "(6039, 6040)\n",
      "(6039, 6040)\n",
      "(6039, 6040)\n",
      "(6039, 6040)\n",
      "(6039, 6040)\n",
      "(6039, 6040)\n",
      "(6039, 6040)\n",
      "(6039, 6040)\n",
      "(6039, 6040)\n",
      "(6039, 6040)\n",
      "(6039, 6040)\n",
      "(6039, 6040)\n",
      "(6039, 6040)\n",
      "(6039, 6040)\n",
      "(6039, 6040)\n",
      "(6039, 6040)\n",
      "(6039, 6040)\n",
      "(6039, 6040)\n",
      "(6039, 6040)\n",
      "(6039, 6040)\n",
      "(6039, 6040)\n",
      "(6039, 6040)\n",
      "(6039, 6040)\n",
      "(6039, 6040)\n",
      "(6039, 6040)\n",
      "(6039, 6040)\n",
      "(6039, 6040)\n",
      "(6039, 6040)\n",
      "(6039, 6040)\n",
      "(6039, 6040)\n",
      "(6039, 6040)\n",
      "(6039, 6040)\n",
      "(6039, 6040)\n",
      "(6039, 6040)\n",
      "(6039, 6040)\n",
      "(6039, 6040)\n",
      "(6039, 6040)\n",
      "(6039, 6040)\n",
      "(6039, 6040)\n",
      "(6039, 6040)\n",
      "(6039, 6040)\n",
      "(6039, 6040)\n",
      "(6039, 6040)\n",
      "(6039, 6040)\n",
      "(6039, 6040)\n",
      "(6039, 6040)\n",
      "(6039, 6040)\n",
      "(6039, 6040)\n",
      "(6039, 6040)\n",
      "(6039, 6040)\n",
      "(6039, 6040)\n",
      "(6039, 6040)\n",
      "(6039, 6040)\n",
      "(6039, 6040)\n",
      "(6039, 6040)\n",
      "(6039, 6040)\n",
      "(6039, 6040)\n",
      "(6039, 6040)\n",
      "(6039, 6040)\n",
      "(6039, 6040)\n",
      "(6039, 6040)\n",
      "(6039, 6040)\n",
      "(6039, 6040)\n",
      "(6039, 6040)\n",
      "(6039, 6040)\n",
      "(6039, 6040)\n",
      "(6039, 6040)\n",
      "(6039, 6040)\n",
      "(6039, 6040)\n",
      "(6039, 6040)\n",
      "(6039, 6040)\n",
      "(6039, 6040)\n",
      "(6039, 6040)\n",
      "(6039, 6040)\n",
      "(6039, 6040)\n",
      "(6039, 6040)\n",
      "(6039, 6040)\n",
      "(6039, 6040)\n",
      "(6039, 6040)\n",
      "(6039, 6040)\n",
      "(6039, 6040)\n",
      "(6039, 6040)\n",
      "(6039, 6040)\n",
      "(6039, 6040)\n",
      "(6039, 6040)\n",
      "(6039, 6040)\n",
      "(6039, 6040)\n",
      "(6039, 6040)\n",
      "(6039, 6040)\n",
      "(6039, 6040)\n",
      "(6039, 6040)\n",
      "(6039, 6040)\n",
      "(6039, 6040)\n",
      "(6039, 6040)\n",
      "(6039, 6040)\n",
      "(6039, 6040)\n",
      "(6039, 6040)\n",
      "(6039, 6040)\n",
      "(6039, 6040)\n",
      "(6039, 6040)\n",
      "(6039, 6040)\n",
      "(6039, 6040)\n",
      "(6039, 6040)\n",
      "(6039, 6040)\n",
      "(6039, 6040)\n",
      "(6039, 6040)\n",
      "(6039, 6040)\n",
      "(6039, 6040)\n",
      "(6039, 6040)\n",
      "(6039, 6040)\n",
      "(6039, 6040)\n",
      "(6039, 6040)\n",
      "(6039, 6040)\n",
      "(6039, 6040)\n",
      "(6039, 6040)\n",
      "(6039, 6040)\n",
      "(6039, 6040)\n",
      "(6039, 6040)\n",
      "(6039, 6040)\n",
      "(6039, 6040)\n",
      "(6039, 6040)\n",
      "(6039, 6040)\n",
      "(6039, 6040)\n",
      "(6039, 6040)\n",
      "(6039, 6040)\n",
      "(6039, 6040)\n",
      "(6039, 6040)\n",
      "(6039, 6040)\n",
      "(6039, 6040)\n",
      "(6039, 6040)\n",
      "(6039, 6040)\n",
      "(6039, 6040)\n",
      "(6039, 6040)\n",
      "(6039, 6040)\n",
      "(6039, 6040)\n",
      "(6039, 6040)\n",
      "(6039, 6040)\n",
      "(6039, 6040)\n",
      "(6039, 6040)\n",
      "(6039, 6040)\n",
      "(6039, 6040)\n",
      "(6039, 6040)\n",
      "(6039, 6040)\n",
      "(6039, 6040)\n",
      "(6039, 6040)\n",
      "(6039, 6040)\n",
      "(6039, 6040)\n",
      "(6039, 6040)\n",
      "(6039, 6040)\n",
      "(6039, 6040)\n",
      "(6039, 6040)\n",
      "(6039, 6040)\n",
      "(6039, 6040)\n",
      "(6039, 6040)\n",
      "(6039, 6040)\n",
      "(6039, 6040)\n",
      "(6039, 6040)\n",
      "(6039, 6040)\n",
      "(6039, 6040)\n",
      "(6039, 6040)\n",
      "(6039, 6040)\n",
      "(6039, 6040)\n",
      "(6039, 6040)\n",
      "(6039, 6040)\n",
      "(6039, 6040)\n",
      "(6039, 6040)\n",
      "(6039, 6040)\n",
      "(6039, 6040)\n",
      "(6039, 6040)\n",
      "(6039, 6040)\n",
      "(6039, 6040)\n",
      "(6039, 6040)\n",
      "(6039, 6040)\n",
      "(6039, 6040)\n",
      "(6039, 6040)\n",
      "(6039, 6040)\n",
      "(6039, 6040)\n",
      "(6039, 6040)\n",
      "(6039, 6040)\n",
      "(6039, 6040)\n",
      "(6039, 6040)\n",
      "(6039, 6040)\n",
      "(6039, 6040)\n",
      "(6039, 6040)\n",
      "(6039, 6040)\n",
      "(6039, 6040)\n",
      "(6039, 6040)\n",
      "(6039, 6040)\n",
      "(6039, 6040)\n",
      "(6039, 6040)\n",
      "(6039, 6040)\n",
      "(6039, 6040)\n",
      "(6039, 6040)\n",
      "(6039, 6040)\n",
      "(6039, 6040)\n",
      "(6039, 6040)\n",
      "(6039, 6040)\n",
      "(6039, 6040)\n",
      "(6039, 6040)\n",
      "(6039, 6040)\n",
      "(6039, 6040)\n",
      "(6039, 6040)\n",
      "(6039, 6040)\n",
      "(6039, 6040)\n",
      "(6039, 6040)\n",
      "(6039, 6040)\n",
      "(6039, 6040)\n",
      "(6039, 6040)\n",
      "(6039, 6040)\n",
      "(6039, 6040)\n",
      "(6039, 6040)\n",
      "(6039, 6040)\n",
      "(6039, 6040)\n",
      "(6039, 6040)\n",
      "(6039, 6040)\n",
      "(6039, 6040)\n",
      "(6039, 6040)\n",
      "(6039, 6040)\n",
      "(6039, 6040)\n",
      "(6039, 6040)\n",
      "(6039, 6040)\n",
      "(6039, 6040)\n",
      "(6039, 6040)\n",
      "(6039, 6040)\n",
      "(6039, 6040)\n",
      "(6039, 6040)\n",
      "(6039, 6040)\n",
      "(6039, 6040)\n",
      "(6039, 6040)\n",
      "(6039, 6040)\n",
      "(6039, 6040)\n",
      "(6039, 6040)\n",
      "(6039, 6040)\n",
      "(6039, 6040)\n",
      "(6039, 6040)\n",
      "(6039, 6040)\n",
      "(6039, 6040)\n",
      "(6039, 6040)\n",
      "(6039, 6040)\n",
      "(6039, 6040)\n",
      "(6039, 6040)\n",
      "(6039, 6040)\n",
      "(6039, 6040)\n",
      "(6039, 6040)\n",
      "(6039, 6040)\n",
      "(6039, 6040)\n",
      "(6039, 6040)\n",
      "(6039, 6040)\n",
      "(6039, 6040)\n",
      "(6039, 6040)\n",
      "(6039, 6040)\n",
      "(6039, 6040)\n",
      "(6039, 6040)\n",
      "(6039, 6040)\n",
      "(6039, 6040)\n",
      "(6039, 6040)\n",
      "(6039, 6040)\n",
      "(6039, 6040)\n",
      "(6039, 6040)\n",
      "(6039, 6040)\n",
      "(6039, 6040)\n",
      "(6039, 6040)\n",
      "(6039, 6040)\n",
      "(6039, 6040)\n",
      "(6039, 6040)\n",
      "(6039, 6040)\n",
      "(6039, 6040)\n",
      "(6039, 6040)\n",
      "(6039, 6040)\n",
      "(6039, 6040)\n",
      "(6039, 6040)\n",
      "(6039, 6040)\n",
      "(6039, 6040)\n",
      "(6039, 6040)\n",
      "(6039, 6040)\n",
      "(6039, 6040)\n",
      "(6039, 6040)\n",
      "(6039, 6040)\n",
      "(6039, 6040)\n",
      "(6039, 6040)\n",
      "(6039, 6040)\n",
      "(6039, 6040)\n",
      "(6039, 6040)\n",
      "(6039, 6040)\n",
      "(6039, 6040)\n",
      "(6039, 6040)\n",
      "(6039, 6040)\n",
      "(6039, 6040)\n",
      "(6039, 6040)\n",
      "(6039, 6040)\n",
      "(6039, 6040)\n",
      "(6039, 6040)\n",
      "(6039, 6040)\n",
      "(6039, 6040)\n",
      "(6039, 6040)\n",
      "(6039, 6040)\n",
      "(6039, 6040)\n",
      "(6039, 6040)\n",
      "(6039, 6040)\n",
      "(6039, 6040)\n",
      "(6039, 6040)\n",
      "(6039, 6040)\n",
      "(6039, 6040)\n",
      "(6039, 6040)\n",
      "(6039, 6040)\n",
      "(6039, 6040)\n",
      "(6039, 6040)\n",
      "(6039, 6040)\n",
      "(6039, 6040)\n",
      "(6039, 6040)\n",
      "(6039, 6040)\n",
      "(6039, 6040)\n",
      "(6039, 6040)\n",
      "(6039, 6040)\n",
      "(6039, 6040)\n",
      "(6039, 6040)\n",
      "(6039, 6040)\n",
      "(6039, 6040)\n",
      "(6039, 6040)\n",
      "(6039, 6040)\n",
      "(6039, 6040)\n",
      "(6039, 6040)\n",
      "(6039, 6040)\n",
      "(6039, 6040)\n",
      "(6039, 6040)\n",
      "(6039, 6040)\n",
      "(6039, 6040)\n",
      "(6039, 6040)\n",
      "(6039, 6040)\n",
      "(6039, 6040)\n",
      "(6039, 6040)\n",
      "(6039, 6040)\n",
      "(6039, 6040)\n",
      "(6039, 6040)\n",
      "(6039, 6040)\n",
      "(6039, 6040)\n",
      "(6039, 6040)\n",
      "(6039, 6040)\n",
      "(6039, 6040)\n",
      "(6039, 6040)\n",
      "(6039, 6040)\n",
      "(6039, 6040)\n",
      "(6039, 6040)\n",
      "(6039, 6040)\n",
      "(6039, 6040)\n",
      "(6039, 6040)\n",
      "(6039, 6040)\n",
      "(6039, 6040)\n",
      "(6039, 6040)\n",
      "(6039, 6040)\n",
      "(6039, 6040)\n",
      "(6039, 6040)\n",
      "(6039, 6040)\n",
      "(6039, 6040)\n",
      "(6039, 6040)\n",
      "(6039, 6040)\n",
      "(6039, 6040)\n",
      "(6039, 6040)\n",
      "(6039, 6040)\n",
      "(6039, 6040)\n",
      "(6039, 6040)\n",
      "(6039, 6040)\n",
      "(6039, 6040)\n",
      "(6039, 6040)\n",
      "(6039, 6040)\n",
      "(6039, 6040)\n",
      "(6039, 6040)\n",
      "(6039, 6040)\n",
      "(6039, 6040)\n",
      "(6039, 6040)\n",
      "(6039, 6040)\n",
      "(6039, 6040)\n",
      "(6039, 6040)\n",
      "(6039, 6040)\n",
      "(6039, 6040)\n",
      "(6039, 6040)\n",
      "(6039, 6040)\n",
      "(6039, 6040)\n",
      "(6039, 6040)\n",
      "(6039, 6040)\n",
      "(6039, 6040)\n",
      "(6039, 6040)\n",
      "(6039, 6040)\n",
      "(6039, 6040)\n",
      "(6039, 6040)\n",
      "(6039, 6040)\n",
      "(6039, 6040)\n",
      "(6039, 6040)\n",
      "(6039, 6040)\n",
      "(6039, 6040)\n",
      "(6039, 6040)\n",
      "(6039, 6040)\n",
      "(6039, 6040)\n",
      "(6039, 6040)\n",
      "(6039, 6040)\n",
      "(6039, 6040)\n",
      "(6039, 6040)\n",
      "(6039, 6040)\n",
      "(6039, 6040)\n",
      "(6039, 6040)\n",
      "(6039, 6040)\n",
      "(6039, 6040)\n",
      "(6039, 6040)\n",
      "(6039, 6040)\n",
      "(6039, 6040)\n",
      "(6039, 6040)\n",
      "(6039, 6040)\n",
      "(6039, 6040)\n",
      "(6039, 6040)\n",
      "(6039, 6040)\n",
      "(6039, 6040)\n",
      "(6039, 6040)\n",
      "(6039, 6040)\n",
      "(6039, 6040)\n",
      "(6039, 6040)\n",
      "(6039, 6040)\n",
      "(6039, 6040)\n",
      "(6039, 6040)\n",
      "(6039, 6040)\n",
      "(6039, 6040)\n",
      "(6039, 6040)\n",
      "(6039, 6040)\n",
      "(6039, 6040)\n",
      "(6039, 6040)\n",
      "(6039, 6040)\n",
      "(6039, 6040)\n",
      "(6039, 6040)\n",
      "(6039, 6040)\n",
      "(6039, 6040)\n",
      "(6039, 6040)\n",
      "(6039, 6040)\n",
      "(6039, 6040)\n",
      "(6039, 6040)\n",
      "(6039, 6040)\n",
      "(6039, 6040)\n",
      "(6039, 6040)\n",
      "(6039, 6040)\n",
      "(6039, 6040)\n",
      "(6039, 6040)\n",
      "(6039, 6040)\n",
      "(6039, 6040)\n",
      "(6039, 6040)\n",
      "(6039, 6040)\n",
      "(6039, 6040)\n",
      "(6039, 6040)\n",
      "(6039, 6040)\n",
      "(6039, 6040)\n",
      "(6039, 6040)\n",
      "(6039, 6040)\n",
      "(6039, 6040)\n",
      "(6039, 6040)\n",
      "(6039, 6040)\n",
      "(6039, 6040)\n",
      "(6039, 6040)\n",
      "(6039, 6040)\n",
      "(6039, 6040)\n",
      "(6039, 6040)\n",
      "(6039, 6040)\n",
      "(6039, 6040)\n",
      "(6039, 6040)\n",
      "(6039, 6040)\n",
      "(6039, 6040)\n",
      "(6039, 6040)\n",
      "(6039, 6040)\n",
      "(6039, 6040)\n",
      "(6039, 6040)\n",
      "(6039, 6040)\n",
      "(6039, 6040)\n",
      "(6039, 6040)\n",
      "(6039, 6040)\n",
      "(6039, 6040)\n",
      "(6039, 6040)\n",
      "(6039, 6040)\n",
      "(6039, 6040)\n",
      "(6039, 6040)\n",
      "(6039, 6040)\n",
      "(6039, 6040)\n",
      "(6039, 6040)\n",
      "(6039, 6040)\n",
      "(6039, 6040)\n",
      "(6039, 6040)\n",
      "(6039, 6040)\n",
      "(6039, 6040)\n",
      "(6039, 6040)\n",
      "(6039, 6040)\n",
      "(6039, 6040)\n",
      "(6039, 6040)\n",
      "(6039, 6040)\n",
      "(6039, 6040)\n",
      "(6039, 6040)\n",
      "(6039, 6040)\n",
      "(6039, 6040)\n",
      "(6039, 6040)\n",
      "(6039, 6040)\n",
      "(6039, 6040)\n",
      "(6039, 6040)\n",
      "(6039, 6040)\n",
      "(6039, 6040)\n",
      "(6039, 6040)\n",
      "(6039, 6040)\n",
      "(6039, 6040)\n",
      "(6039, 6040)\n",
      "(6039, 6040)\n",
      "(6039, 6040)\n",
      "(6039, 6040)\n",
      "(6039, 6040)\n",
      "(6039, 6040)\n",
      "(6039, 6040)\n",
      "(6039, 6040)\n",
      "(6039, 6040)\n",
      "(6039, 6040)\n",
      "(6039, 6040)\n",
      "(6039, 6040)\n",
      "(6039, 6040)\n",
      "(6039, 6040)\n",
      "(6039, 6040)\n",
      "(6039, 6040)\n",
      "(6039, 6040)\n",
      "(6039, 6040)\n",
      "(6039, 6040)\n",
      "(6039, 6040)\n",
      "(6039, 6040)\n",
      "(6039, 6040)\n",
      "(6039, 6040)\n",
      "(6039, 6040)\n",
      "(6039, 6040)\n",
      "(6039, 6040)\n",
      "(6039, 6040)\n",
      "(6039, 6040)\n",
      "(6039, 6040)\n",
      "(6039, 6040)\n",
      "(6039, 6040)\n",
      "(6039, 6040)\n",
      "(6039, 6040)\n",
      "(6039, 6040)\n",
      "(6039, 6040)\n",
      "(6039, 6040)\n",
      "(6039, 6040)\n",
      "(6039, 6040)\n",
      "(6039, 6040)\n",
      "(6039, 6040)\n",
      "(6039, 6040)\n",
      "(6039, 6040)\n",
      "(6039, 6040)\n",
      "(6039, 6040)\n",
      "(6039, 6040)\n",
      "(6039, 6040)\n",
      "(6039, 6040)\n",
      "(6039, 6040)\n",
      "(6039, 6040)\n",
      "(6039, 6040)\n",
      "(6039, 6040)\n",
      "(6039, 6040)\n",
      "(6039, 6040)\n",
      "(6039, 6040)\n",
      "(6039, 6040)\n",
      "(6039, 6040)\n",
      "(6039, 6040)\n",
      "(6039, 6040)\n",
      "(6039, 6040)\n",
      "(6039, 6040)\n",
      "(6039, 6040)\n",
      "(6039, 6040)\n",
      "(6039, 6040)\n",
      "(6039, 6040)\n",
      "(6039, 6040)\n",
      "(6039, 6040)\n",
      "(6039, 6040)\n",
      "(6039, 6040)\n",
      "(6039, 6040)\n",
      "(6039, 6040)\n",
      "(6039, 6040)\n",
      "(6039, 6040)\n",
      "(6039, 6040)\n",
      "(6039, 6040)\n",
      "(6039, 6040)\n",
      "(6039, 6040)\n",
      "(6039, 6040)\n",
      "(6039, 6040)\n",
      "(6039, 6040)\n",
      "(6039, 6040)\n",
      "(6039, 6040)\n",
      "(6039, 6040)\n",
      "(6039, 6040)\n",
      "(6039, 6040)\n",
      "(6039, 6040)\n",
      "(6039, 6040)\n",
      "(6039, 6040)\n",
      "(6039, 6040)\n",
      "(6039, 6040)\n",
      "(6039, 6040)\n",
      "(6039, 6040)\n",
      "(6039, 6040)\n",
      "(6039, 6040)\n",
      "(6039, 6040)\n",
      "(6039, 6040)\n",
      "(6039, 6040)\n",
      "(6039, 6040)\n",
      "(6039, 6040)\n",
      "(6039, 6040)\n",
      "(6039, 6040)\n",
      "(6039, 6040)\n",
      "(6039, 6040)\n",
      "(6039, 6040)\n",
      "(6039, 6040)\n",
      "(6039, 6040)\n",
      "(6039, 6040)\n",
      "(6039, 6040)\n",
      "(6039, 6040)\n",
      "(6039, 6040)\n",
      "(6039, 6040)\n",
      "(6039, 6040)\n",
      "(6039, 6040)\n",
      "(6039, 6040)\n",
      "(6039, 6040)\n",
      "(6039, 6040)\n",
      "(6039, 6040)\n",
      "(6039, 6040)\n",
      "(6039, 6040)\n",
      "(6039, 6040)\n",
      "(6039, 6040)\n",
      "(6039, 6040)\n",
      "(6039, 6040)\n",
      "(6039, 6040)\n",
      "(6039, 6040)\n",
      "(6039, 6040)\n",
      "(6039, 6040)\n",
      "(6039, 6040)\n",
      "(6039, 6040)\n",
      "(6039, 6040)\n",
      "(6039, 6040)\n",
      "(6039, 6040)\n",
      "(6039, 6040)\n",
      "(6039, 6040)\n",
      "(6039, 6040)\n",
      "(6039, 6040)\n",
      "(6039, 6040)\n",
      "(6039, 6040)\n",
      "(6039, 6040)\n",
      "(6039, 6040)\n",
      "(6039, 6040)\n",
      "(6039, 6040)\n",
      "(6039, 6040)\n",
      "(6039, 6040)\n",
      "(6039, 6040)\n",
      "(6039, 6040)\n"
     ]
    },
    {
     "ename": "KeyboardInterrupt",
     "evalue": "",
     "output_type": "error",
     "traceback": [
      "\u001B[0;31m---------------------------------------------------------------------------\u001B[0m",
      "\u001B[0;31mKeyboardInterrupt\u001B[0m                         Traceback (most recent call last)",
      "Cell \u001B[0;32mIn[51], line 4\u001B[0m\n\u001B[1;32m      1\u001B[0m \u001B[38;5;66;03m#\u001B[39;00m\n\u001B[1;32m      3\u001B[0m \u001B[38;5;28;01mfor\u001B[39;00m userId \u001B[38;5;129;01min\u001B[39;00m \u001B[38;5;28mrange\u001B[39m(\u001B[38;5;241m1\u001B[39m, unique_users \u001B[38;5;241m+\u001B[39m \u001B[38;5;241m1\u001B[39m): \u001B[38;5;66;03m# 1-indexes\u001B[39;00m\n\u001B[0;32m----> 4\u001B[0m   user_similarity_userId \u001B[38;5;241m=\u001B[39m \u001B[43muser_similarity\u001B[49m\u001B[38;5;241;43m.\u001B[39;49m\u001B[43mdrop\u001B[49m\u001B[43m(\u001B[49m\u001B[43mindex\u001B[49m\u001B[38;5;241;43m=\u001B[39;49m\u001B[43muserId\u001B[49m\u001B[43m,\u001B[49m\u001B[43m \u001B[49m\u001B[43minplace\u001B[49m\u001B[38;5;241;43m=\u001B[39;49m\u001B[38;5;28;43;01mFalse\u001B[39;49;00m\u001B[43m)\u001B[49m\n\u001B[1;32m      5\u001B[0m   \u001B[38;5;28mprint\u001B[39m(user_similarity_userId\u001B[38;5;241m.\u001B[39mshape)\n",
      "File \u001B[0;32m~/Desktop/TUDelft/Year2/Q2/DataMining/Challenges/Ch2/venv/lib/python3.9/site-packages/pandas/util/_decorators.py:331\u001B[0m, in \u001B[0;36mdeprecate_nonkeyword_arguments.<locals>.decorate.<locals>.wrapper\u001B[0;34m(*args, **kwargs)\u001B[0m\n\u001B[1;32m    325\u001B[0m \u001B[38;5;28;01mif\u001B[39;00m \u001B[38;5;28mlen\u001B[39m(args) \u001B[38;5;241m>\u001B[39m num_allow_args:\n\u001B[1;32m    326\u001B[0m     warnings\u001B[38;5;241m.\u001B[39mwarn(\n\u001B[1;32m    327\u001B[0m         msg\u001B[38;5;241m.\u001B[39mformat(arguments\u001B[38;5;241m=\u001B[39m_format_argument_list(allow_args)),\n\u001B[1;32m    328\u001B[0m         \u001B[38;5;167;01mFutureWarning\u001B[39;00m,\n\u001B[1;32m    329\u001B[0m         stacklevel\u001B[38;5;241m=\u001B[39mfind_stack_level(),\n\u001B[1;32m    330\u001B[0m     )\n\u001B[0;32m--> 331\u001B[0m \u001B[38;5;28;01mreturn\u001B[39;00m \u001B[43mfunc\u001B[49m\u001B[43m(\u001B[49m\u001B[38;5;241;43m*\u001B[39;49m\u001B[43margs\u001B[49m\u001B[43m,\u001B[49m\u001B[43m \u001B[49m\u001B[38;5;241;43m*\u001B[39;49m\u001B[38;5;241;43m*\u001B[39;49m\u001B[43mkwargs\u001B[49m\u001B[43m)\u001B[49m\n",
      "File \u001B[0;32m~/Desktop/TUDelft/Year2/Q2/DataMining/Challenges/Ch2/venv/lib/python3.9/site-packages/pandas/core/frame.py:5396\u001B[0m, in \u001B[0;36mDataFrame.drop\u001B[0;34m(self, labels, axis, index, columns, level, inplace, errors)\u001B[0m\n\u001B[1;32m   5248\u001B[0m \u001B[38;5;129m@deprecate_nonkeyword_arguments\u001B[39m(version\u001B[38;5;241m=\u001B[39m\u001B[38;5;28;01mNone\u001B[39;00m, allowed_args\u001B[38;5;241m=\u001B[39m[\u001B[38;5;124m\"\u001B[39m\u001B[38;5;124mself\u001B[39m\u001B[38;5;124m\"\u001B[39m, \u001B[38;5;124m\"\u001B[39m\u001B[38;5;124mlabels\u001B[39m\u001B[38;5;124m\"\u001B[39m])\n\u001B[1;32m   5249\u001B[0m \u001B[38;5;28;01mdef\u001B[39;00m \u001B[38;5;21mdrop\u001B[39m(  \u001B[38;5;66;03m# type: ignore[override]\u001B[39;00m\n\u001B[1;32m   5250\u001B[0m     \u001B[38;5;28mself\u001B[39m,\n\u001B[0;32m   (...)\u001B[0m\n\u001B[1;32m   5257\u001B[0m     errors: IgnoreRaise \u001B[38;5;241m=\u001B[39m \u001B[38;5;124m\"\u001B[39m\u001B[38;5;124mraise\u001B[39m\u001B[38;5;124m\"\u001B[39m,\n\u001B[1;32m   5258\u001B[0m ) \u001B[38;5;241m-\u001B[39m\u001B[38;5;241m>\u001B[39m DataFrame \u001B[38;5;241m|\u001B[39m \u001B[38;5;28;01mNone\u001B[39;00m:\n\u001B[1;32m   5259\u001B[0m \u001B[38;5;250m    \u001B[39m\u001B[38;5;124;03m\"\"\"\u001B[39;00m\n\u001B[1;32m   5260\u001B[0m \u001B[38;5;124;03m    Drop specified labels from rows or columns.\u001B[39;00m\n\u001B[1;32m   5261\u001B[0m \n\u001B[0;32m   (...)\u001B[0m\n\u001B[1;32m   5394\u001B[0m \u001B[38;5;124;03m            weight  1.0     0.8\u001B[39;00m\n\u001B[1;32m   5395\u001B[0m \u001B[38;5;124;03m    \"\"\"\u001B[39;00m\n\u001B[0;32m-> 5396\u001B[0m     \u001B[38;5;28;01mreturn\u001B[39;00m \u001B[38;5;28;43msuper\u001B[39;49m\u001B[43m(\u001B[49m\u001B[43m)\u001B[49m\u001B[38;5;241;43m.\u001B[39;49m\u001B[43mdrop\u001B[49m\u001B[43m(\u001B[49m\n\u001B[1;32m   5397\u001B[0m \u001B[43m        \u001B[49m\u001B[43mlabels\u001B[49m\u001B[38;5;241;43m=\u001B[39;49m\u001B[43mlabels\u001B[49m\u001B[43m,\u001B[49m\n\u001B[1;32m   5398\u001B[0m \u001B[43m        \u001B[49m\u001B[43maxis\u001B[49m\u001B[38;5;241;43m=\u001B[39;49m\u001B[43maxis\u001B[49m\u001B[43m,\u001B[49m\n\u001B[1;32m   5399\u001B[0m \u001B[43m        \u001B[49m\u001B[43mindex\u001B[49m\u001B[38;5;241;43m=\u001B[39;49m\u001B[43mindex\u001B[49m\u001B[43m,\u001B[49m\n\u001B[1;32m   5400\u001B[0m \u001B[43m        \u001B[49m\u001B[43mcolumns\u001B[49m\u001B[38;5;241;43m=\u001B[39;49m\u001B[43mcolumns\u001B[49m\u001B[43m,\u001B[49m\n\u001B[1;32m   5401\u001B[0m \u001B[43m        \u001B[49m\u001B[43mlevel\u001B[49m\u001B[38;5;241;43m=\u001B[39;49m\u001B[43mlevel\u001B[49m\u001B[43m,\u001B[49m\n\u001B[1;32m   5402\u001B[0m \u001B[43m        \u001B[49m\u001B[43minplace\u001B[49m\u001B[38;5;241;43m=\u001B[39;49m\u001B[43minplace\u001B[49m\u001B[43m,\u001B[49m\n\u001B[1;32m   5403\u001B[0m \u001B[43m        \u001B[49m\u001B[43merrors\u001B[49m\u001B[38;5;241;43m=\u001B[39;49m\u001B[43merrors\u001B[49m\u001B[43m,\u001B[49m\n\u001B[1;32m   5404\u001B[0m \u001B[43m    \u001B[49m\u001B[43m)\u001B[49m\n",
      "File \u001B[0;32m~/Desktop/TUDelft/Year2/Q2/DataMining/Challenges/Ch2/venv/lib/python3.9/site-packages/pandas/util/_decorators.py:331\u001B[0m, in \u001B[0;36mdeprecate_nonkeyword_arguments.<locals>.decorate.<locals>.wrapper\u001B[0;34m(*args, **kwargs)\u001B[0m\n\u001B[1;32m    325\u001B[0m \u001B[38;5;28;01mif\u001B[39;00m \u001B[38;5;28mlen\u001B[39m(args) \u001B[38;5;241m>\u001B[39m num_allow_args:\n\u001B[1;32m    326\u001B[0m     warnings\u001B[38;5;241m.\u001B[39mwarn(\n\u001B[1;32m    327\u001B[0m         msg\u001B[38;5;241m.\u001B[39mformat(arguments\u001B[38;5;241m=\u001B[39m_format_argument_list(allow_args)),\n\u001B[1;32m    328\u001B[0m         \u001B[38;5;167;01mFutureWarning\u001B[39;00m,\n\u001B[1;32m    329\u001B[0m         stacklevel\u001B[38;5;241m=\u001B[39mfind_stack_level(),\n\u001B[1;32m    330\u001B[0m     )\n\u001B[0;32m--> 331\u001B[0m \u001B[38;5;28;01mreturn\u001B[39;00m \u001B[43mfunc\u001B[49m\u001B[43m(\u001B[49m\u001B[38;5;241;43m*\u001B[39;49m\u001B[43margs\u001B[49m\u001B[43m,\u001B[49m\u001B[43m \u001B[49m\u001B[38;5;241;43m*\u001B[39;49m\u001B[38;5;241;43m*\u001B[39;49m\u001B[43mkwargs\u001B[49m\u001B[43m)\u001B[49m\n",
      "File \u001B[0;32m~/Desktop/TUDelft/Year2/Q2/DataMining/Challenges/Ch2/venv/lib/python3.9/site-packages/pandas/core/generic.py:4505\u001B[0m, in \u001B[0;36mNDFrame.drop\u001B[0;34m(self, labels, axis, index, columns, level, inplace, errors)\u001B[0m\n\u001B[1;32m   4503\u001B[0m \u001B[38;5;28;01mfor\u001B[39;00m axis, labels \u001B[38;5;129;01min\u001B[39;00m axes\u001B[38;5;241m.\u001B[39mitems():\n\u001B[1;32m   4504\u001B[0m     \u001B[38;5;28;01mif\u001B[39;00m labels \u001B[38;5;129;01mis\u001B[39;00m \u001B[38;5;129;01mnot\u001B[39;00m \u001B[38;5;28;01mNone\u001B[39;00m:\n\u001B[0;32m-> 4505\u001B[0m         obj \u001B[38;5;241m=\u001B[39m \u001B[43mobj\u001B[49m\u001B[38;5;241;43m.\u001B[39;49m\u001B[43m_drop_axis\u001B[49m\u001B[43m(\u001B[49m\u001B[43mlabels\u001B[49m\u001B[43m,\u001B[49m\u001B[43m \u001B[49m\u001B[43maxis\u001B[49m\u001B[43m,\u001B[49m\u001B[43m \u001B[49m\u001B[43mlevel\u001B[49m\u001B[38;5;241;43m=\u001B[39;49m\u001B[43mlevel\u001B[49m\u001B[43m,\u001B[49m\u001B[43m \u001B[49m\u001B[43merrors\u001B[49m\u001B[38;5;241;43m=\u001B[39;49m\u001B[43merrors\u001B[49m\u001B[43m)\u001B[49m\n\u001B[1;32m   4507\u001B[0m \u001B[38;5;28;01mif\u001B[39;00m inplace:\n\u001B[1;32m   4508\u001B[0m     \u001B[38;5;28mself\u001B[39m\u001B[38;5;241m.\u001B[39m_update_inplace(obj)\n",
      "File \u001B[0;32m~/Desktop/TUDelft/Year2/Q2/DataMining/Challenges/Ch2/venv/lib/python3.9/site-packages/pandas/core/generic.py:4585\u001B[0m, in \u001B[0;36mNDFrame._drop_axis\u001B[0;34m(self, labels, axis, level, errors, only_slice)\u001B[0m\n\u001B[1;32m   4582\u001B[0m     new_axis \u001B[38;5;241m=\u001B[39m axis\u001B[38;5;241m.\u001B[39mtake(indexer)\n\u001B[1;32m   4584\u001B[0m bm_axis \u001B[38;5;241m=\u001B[39m \u001B[38;5;28mself\u001B[39m\u001B[38;5;241m.\u001B[39mndim \u001B[38;5;241m-\u001B[39m axis_num \u001B[38;5;241m-\u001B[39m \u001B[38;5;241m1\u001B[39m\n\u001B[0;32m-> 4585\u001B[0m new_mgr \u001B[38;5;241m=\u001B[39m \u001B[38;5;28;43mself\u001B[39;49m\u001B[38;5;241;43m.\u001B[39;49m\u001B[43m_mgr\u001B[49m\u001B[38;5;241;43m.\u001B[39;49m\u001B[43mreindex_indexer\u001B[49m\u001B[43m(\u001B[49m\n\u001B[1;32m   4586\u001B[0m \u001B[43m    \u001B[49m\u001B[43mnew_axis\u001B[49m\u001B[43m,\u001B[49m\n\u001B[1;32m   4587\u001B[0m \u001B[43m    \u001B[49m\u001B[43mindexer\u001B[49m\u001B[43m,\u001B[49m\n\u001B[1;32m   4588\u001B[0m \u001B[43m    \u001B[49m\u001B[43maxis\u001B[49m\u001B[38;5;241;43m=\u001B[39;49m\u001B[43mbm_axis\u001B[49m\u001B[43m,\u001B[49m\n\u001B[1;32m   4589\u001B[0m \u001B[43m    \u001B[49m\u001B[43mallow_dups\u001B[49m\u001B[38;5;241;43m=\u001B[39;49m\u001B[38;5;28;43;01mTrue\u001B[39;49;00m\u001B[43m,\u001B[49m\n\u001B[1;32m   4590\u001B[0m \u001B[43m    \u001B[49m\u001B[43monly_slice\u001B[49m\u001B[38;5;241;43m=\u001B[39;49m\u001B[43monly_slice\u001B[49m\u001B[43m,\u001B[49m\n\u001B[1;32m   4591\u001B[0m \u001B[43m\u001B[49m\u001B[43m)\u001B[49m\n\u001B[1;32m   4592\u001B[0m result \u001B[38;5;241m=\u001B[39m \u001B[38;5;28mself\u001B[39m\u001B[38;5;241m.\u001B[39m_constructor(new_mgr)\n\u001B[1;32m   4593\u001B[0m \u001B[38;5;28;01mif\u001B[39;00m \u001B[38;5;28mself\u001B[39m\u001B[38;5;241m.\u001B[39mndim \u001B[38;5;241m==\u001B[39m \u001B[38;5;241m1\u001B[39m:\n",
      "File \u001B[0;32m~/Desktop/TUDelft/Year2/Q2/DataMining/Challenges/Ch2/venv/lib/python3.9/site-packages/pandas/core/internals/managers.py:753\u001B[0m, in \u001B[0;36mBaseBlockManager.reindex_indexer\u001B[0;34m(self, new_axis, indexer, axis, fill_value, allow_dups, copy, only_slice, use_na_proxy)\u001B[0m\n\u001B[1;32m    751\u001B[0m     parent \u001B[38;5;241m=\u001B[39m \u001B[38;5;28;01mNone\u001B[39;00m \u001B[38;5;28;01mif\u001B[39;00m com\u001B[38;5;241m.\u001B[39mall_none(\u001B[38;5;241m*\u001B[39mnew_refs) \u001B[38;5;28;01melse\u001B[39;00m \u001B[38;5;28mself\u001B[39m\n\u001B[1;32m    752\u001B[0m \u001B[38;5;28;01melse\u001B[39;00m:\n\u001B[0;32m--> 753\u001B[0m     new_blocks \u001B[38;5;241m=\u001B[39m [\n\u001B[1;32m    754\u001B[0m         blk\u001B[38;5;241m.\u001B[39mtake_nd(\n\u001B[1;32m    755\u001B[0m             indexer,\n\u001B[1;32m    756\u001B[0m             axis\u001B[38;5;241m=\u001B[39m\u001B[38;5;241m1\u001B[39m,\n\u001B[1;32m    757\u001B[0m             fill_value\u001B[38;5;241m=\u001B[39m(\n\u001B[1;32m    758\u001B[0m                 fill_value \u001B[38;5;28;01mif\u001B[39;00m fill_value \u001B[38;5;129;01mis\u001B[39;00m \u001B[38;5;129;01mnot\u001B[39;00m \u001B[38;5;28;01mNone\u001B[39;00m \u001B[38;5;28;01melse\u001B[39;00m blk\u001B[38;5;241m.\u001B[39mfill_value\n\u001B[1;32m    759\u001B[0m             ),\n\u001B[1;32m    760\u001B[0m         )\n\u001B[1;32m    761\u001B[0m         \u001B[38;5;28;01mfor\u001B[39;00m blk \u001B[38;5;129;01min\u001B[39;00m \u001B[38;5;28mself\u001B[39m\u001B[38;5;241m.\u001B[39mblocks\n\u001B[1;32m    762\u001B[0m     ]\n\u001B[1;32m    763\u001B[0m     new_refs \u001B[38;5;241m=\u001B[39m \u001B[38;5;28;01mNone\u001B[39;00m\n\u001B[1;32m    764\u001B[0m     parent \u001B[38;5;241m=\u001B[39m \u001B[38;5;28;01mNone\u001B[39;00m\n",
      "File \u001B[0;32m~/Desktop/TUDelft/Year2/Q2/DataMining/Challenges/Ch2/venv/lib/python3.9/site-packages/pandas/core/internals/managers.py:754\u001B[0m, in \u001B[0;36m<listcomp>\u001B[0;34m(.0)\u001B[0m\n\u001B[1;32m    751\u001B[0m     parent \u001B[38;5;241m=\u001B[39m \u001B[38;5;28;01mNone\u001B[39;00m \u001B[38;5;28;01mif\u001B[39;00m com\u001B[38;5;241m.\u001B[39mall_none(\u001B[38;5;241m*\u001B[39mnew_refs) \u001B[38;5;28;01melse\u001B[39;00m \u001B[38;5;28mself\u001B[39m\n\u001B[1;32m    752\u001B[0m \u001B[38;5;28;01melse\u001B[39;00m:\n\u001B[1;32m    753\u001B[0m     new_blocks \u001B[38;5;241m=\u001B[39m [\n\u001B[0;32m--> 754\u001B[0m         \u001B[43mblk\u001B[49m\u001B[38;5;241;43m.\u001B[39;49m\u001B[43mtake_nd\u001B[49m\u001B[43m(\u001B[49m\n\u001B[1;32m    755\u001B[0m \u001B[43m            \u001B[49m\u001B[43mindexer\u001B[49m\u001B[43m,\u001B[49m\n\u001B[1;32m    756\u001B[0m \u001B[43m            \u001B[49m\u001B[43maxis\u001B[49m\u001B[38;5;241;43m=\u001B[39;49m\u001B[38;5;241;43m1\u001B[39;49m\u001B[43m,\u001B[49m\n\u001B[1;32m    757\u001B[0m \u001B[43m            \u001B[49m\u001B[43mfill_value\u001B[49m\u001B[38;5;241;43m=\u001B[39;49m\u001B[43m(\u001B[49m\n\u001B[1;32m    758\u001B[0m \u001B[43m                \u001B[49m\u001B[43mfill_value\u001B[49m\u001B[43m \u001B[49m\u001B[38;5;28;43;01mif\u001B[39;49;00m\u001B[43m \u001B[49m\u001B[43mfill_value\u001B[49m\u001B[43m \u001B[49m\u001B[38;5;129;43;01mis\u001B[39;49;00m\u001B[43m \u001B[49m\u001B[38;5;129;43;01mnot\u001B[39;49;00m\u001B[43m \u001B[49m\u001B[38;5;28;43;01mNone\u001B[39;49;00m\u001B[43m \u001B[49m\u001B[38;5;28;43;01melse\u001B[39;49;00m\u001B[43m \u001B[49m\u001B[43mblk\u001B[49m\u001B[38;5;241;43m.\u001B[39;49m\u001B[43mfill_value\u001B[49m\n\u001B[1;32m    759\u001B[0m \u001B[43m            \u001B[49m\u001B[43m)\u001B[49m\u001B[43m,\u001B[49m\n\u001B[1;32m    760\u001B[0m \u001B[43m        \u001B[49m\u001B[43m)\u001B[49m\n\u001B[1;32m    761\u001B[0m         \u001B[38;5;28;01mfor\u001B[39;00m blk \u001B[38;5;129;01min\u001B[39;00m \u001B[38;5;28mself\u001B[39m\u001B[38;5;241m.\u001B[39mblocks\n\u001B[1;32m    762\u001B[0m     ]\n\u001B[1;32m    763\u001B[0m     new_refs \u001B[38;5;241m=\u001B[39m \u001B[38;5;28;01mNone\u001B[39;00m\n\u001B[1;32m    764\u001B[0m     parent \u001B[38;5;241m=\u001B[39m \u001B[38;5;28;01mNone\u001B[39;00m\n",
      "File \u001B[0;32m~/Desktop/TUDelft/Year2/Q2/DataMining/Challenges/Ch2/venv/lib/python3.9/site-packages/pandas/core/internals/blocks.py:880\u001B[0m, in \u001B[0;36mBlock.take_nd\u001B[0;34m(self, indexer, axis, new_mgr_locs, fill_value)\u001B[0m\n\u001B[1;32m    877\u001B[0m     allow_fill \u001B[38;5;241m=\u001B[39m \u001B[38;5;28;01mTrue\u001B[39;00m\n\u001B[1;32m    879\u001B[0m \u001B[38;5;66;03m# Note: algos.take_nd has upcast logic similar to coerce_to_target_dtype\u001B[39;00m\n\u001B[0;32m--> 880\u001B[0m new_values \u001B[38;5;241m=\u001B[39m \u001B[43malgos\u001B[49m\u001B[38;5;241;43m.\u001B[39;49m\u001B[43mtake_nd\u001B[49m\u001B[43m(\u001B[49m\n\u001B[1;32m    881\u001B[0m \u001B[43m    \u001B[49m\u001B[43mvalues\u001B[49m\u001B[43m,\u001B[49m\u001B[43m \u001B[49m\u001B[43mindexer\u001B[49m\u001B[43m,\u001B[49m\u001B[43m \u001B[49m\u001B[43maxis\u001B[49m\u001B[38;5;241;43m=\u001B[39;49m\u001B[43maxis\u001B[49m\u001B[43m,\u001B[49m\u001B[43m \u001B[49m\u001B[43mallow_fill\u001B[49m\u001B[38;5;241;43m=\u001B[39;49m\u001B[43mallow_fill\u001B[49m\u001B[43m,\u001B[49m\u001B[43m \u001B[49m\u001B[43mfill_value\u001B[49m\u001B[38;5;241;43m=\u001B[39;49m\u001B[43mfill_value\u001B[49m\n\u001B[1;32m    882\u001B[0m \u001B[43m\u001B[49m\u001B[43m)\u001B[49m\n\u001B[1;32m    884\u001B[0m \u001B[38;5;66;03m# Called from three places in managers, all of which satisfy\u001B[39;00m\n\u001B[1;32m    885\u001B[0m \u001B[38;5;66;03m#  this assertion\u001B[39;00m\n\u001B[1;32m    886\u001B[0m \u001B[38;5;28;01massert\u001B[39;00m \u001B[38;5;129;01mnot\u001B[39;00m (axis \u001B[38;5;241m==\u001B[39m \u001B[38;5;241m0\u001B[39m \u001B[38;5;129;01mand\u001B[39;00m new_mgr_locs \u001B[38;5;129;01mis\u001B[39;00m \u001B[38;5;28;01mNone\u001B[39;00m)\n",
      "File \u001B[0;32m~/Desktop/TUDelft/Year2/Q2/DataMining/Challenges/Ch2/venv/lib/python3.9/site-packages/pandas/core/array_algos/take.py:117\u001B[0m, in \u001B[0;36mtake_nd\u001B[0;34m(arr, indexer, axis, fill_value, allow_fill)\u001B[0m\n\u001B[1;32m    114\u001B[0m     \u001B[38;5;28;01mreturn\u001B[39;00m arr\u001B[38;5;241m.\u001B[39mtake(indexer, fill_value\u001B[38;5;241m=\u001B[39mfill_value, allow_fill\u001B[38;5;241m=\u001B[39mallow_fill)\n\u001B[1;32m    116\u001B[0m arr \u001B[38;5;241m=\u001B[39m np\u001B[38;5;241m.\u001B[39masarray(arr)\n\u001B[0;32m--> 117\u001B[0m \u001B[38;5;28;01mreturn\u001B[39;00m \u001B[43m_take_nd_ndarray\u001B[49m\u001B[43m(\u001B[49m\u001B[43marr\u001B[49m\u001B[43m,\u001B[49m\u001B[43m \u001B[49m\u001B[43mindexer\u001B[49m\u001B[43m,\u001B[49m\u001B[43m \u001B[49m\u001B[43maxis\u001B[49m\u001B[43m,\u001B[49m\u001B[43m \u001B[49m\u001B[43mfill_value\u001B[49m\u001B[43m,\u001B[49m\u001B[43m \u001B[49m\u001B[43mallow_fill\u001B[49m\u001B[43m)\u001B[49m\n",
      "File \u001B[0;32m~/Desktop/TUDelft/Year2/Q2/DataMining/Challenges/Ch2/venv/lib/python3.9/site-packages/pandas/core/array_algos/take.py:163\u001B[0m, in \u001B[0;36m_take_nd_ndarray\u001B[0;34m(arr, indexer, axis, fill_value, allow_fill)\u001B[0m\n\u001B[1;32m    158\u001B[0m     out \u001B[38;5;241m=\u001B[39m np\u001B[38;5;241m.\u001B[39mempty(out_shape, dtype\u001B[38;5;241m=\u001B[39mdtype)\n\u001B[1;32m    160\u001B[0m func \u001B[38;5;241m=\u001B[39m _get_take_nd_function(\n\u001B[1;32m    161\u001B[0m     arr\u001B[38;5;241m.\u001B[39mndim, arr\u001B[38;5;241m.\u001B[39mdtype, out\u001B[38;5;241m.\u001B[39mdtype, axis\u001B[38;5;241m=\u001B[39maxis, mask_info\u001B[38;5;241m=\u001B[39mmask_info\n\u001B[1;32m    162\u001B[0m )\n\u001B[0;32m--> 163\u001B[0m \u001B[43mfunc\u001B[49m\u001B[43m(\u001B[49m\u001B[43marr\u001B[49m\u001B[43m,\u001B[49m\u001B[43m \u001B[49m\u001B[43mindexer\u001B[49m\u001B[43m,\u001B[49m\u001B[43m \u001B[49m\u001B[43mout\u001B[49m\u001B[43m,\u001B[49m\u001B[43m \u001B[49m\u001B[43mfill_value\u001B[49m\u001B[43m)\u001B[49m\n\u001B[1;32m    165\u001B[0m \u001B[38;5;28;01mif\u001B[39;00m flip_order:\n\u001B[1;32m    166\u001B[0m     out \u001B[38;5;241m=\u001B[39m out\u001B[38;5;241m.\u001B[39mT\n",
      "\u001B[0;31mKeyboardInterrupt\u001B[0m: "
     ]
    }
   ],
   "source": [
    "# Iterate through userIds\n",
    "\n",
    "for userId in range(1, unique_users + 1): # 1-indexes\n",
    "  user_similarity_userId = user_similarity.drop(index=userId, inplace=False)\n",
    "  print(user_similarity_userId.shape)\n"
   ],
   "metadata": {
    "collapsed": false
   }
  }
 ],
 "metadata": {
  "kernelspec": {
   "display_name": "Python 3",
   "language": "python",
   "name": "python3"
  },
  "language_info": {
   "codemirror_mode": {
    "name": "ipython",
    "version": 2
   },
   "file_extension": ".py",
   "mimetype": "text/x-python",
   "name": "python",
   "nbconvert_exporter": "python",
   "pygments_lexer": "ipython2",
   "version": "2.7.6"
  }
 },
 "nbformat": 4,
 "nbformat_minor": 0
}
