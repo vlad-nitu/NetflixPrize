{
 "cells": [
  {
   "cell_type": "code",
   "execution_count": 6,
   "outputs": [],
   "source": [
    "## Imports\n",
    "# Data processing\n",
    "import pandas as pd\n",
    "import numpy as np\n",
    "import scipy.stats\n",
    "from sklearn.metrics.pairwise import cosine_similarity"
   ],
   "metadata": {
    "collapsed": false
   }
  },
  {
   "cell_type": "code",
   "execution_count": 24,
   "outputs": [
    {
     "data": {
      "text/plain": "   movieId  year                               title\n0        1  1995                    Toy_Story_(1995)\n1        2  1995                      Jumanji_(1995)\n2        3  1995             Grumpier_Old_Men_(1995)\n3        4  1995            Waiting_to_Exhale_(1995)\n4        5  1995  Father_of_the_Bride_Part_II_(1995)",
      "text/html": "<div>\n<style scoped>\n    .dataframe tbody tr th:only-of-type {\n        vertical-align: middle;\n    }\n\n    .dataframe tbody tr th {\n        vertical-align: top;\n    }\n\n    .dataframe thead th {\n        text-align: right;\n    }\n</style>\n<table border=\"1\" class=\"dataframe\">\n  <thead>\n    <tr style=\"text-align: right;\">\n      <th></th>\n      <th>movieId</th>\n      <th>year</th>\n      <th>title</th>\n    </tr>\n  </thead>\n  <tbody>\n    <tr>\n      <th>0</th>\n      <td>1</td>\n      <td>1995</td>\n      <td>Toy_Story_(1995)</td>\n    </tr>\n    <tr>\n      <th>1</th>\n      <td>2</td>\n      <td>1995</td>\n      <td>Jumanji_(1995)</td>\n    </tr>\n    <tr>\n      <th>2</th>\n      <td>3</td>\n      <td>1995</td>\n      <td>Grumpier_Old_Men_(1995)</td>\n    </tr>\n    <tr>\n      <th>3</th>\n      <td>4</td>\n      <td>1995</td>\n      <td>Waiting_to_Exhale_(1995)</td>\n    </tr>\n    <tr>\n      <th>4</th>\n      <td>5</td>\n      <td>1995</td>\n      <td>Father_of_the_Bride_Part_II_(1995)</td>\n    </tr>\n  </tbody>\n</table>\n</div>"
     },
     "execution_count": 24,
     "metadata": {},
     "output_type": "execute_result"
    }
   ],
   "source": [
    "# Read datasets\n",
    "\n",
    "users_colnames=['userId', 'gender', 'age', 'profession']\n",
    "movies_colnames=['movieId', 'year', 'title']\n",
    "ratings_colnames=['userId', 'movieId', 'rating']\n",
    "\n",
    "users = pd.read_csv('cse2525-reccommender-systems-challenge/users.csv', sep=';', names=users_colnames)\n",
    "movies = pd.read_csv('cse2525-reccommender-systems-challenge/movies_v2.csv', sep=';', names=movies_colnames) # changed line 3601 from dataset : ';' -> '_'\n",
    "ratings = pd.read_csv('cse2525-reccommender-systems-challenge/ratings.csv', sep=';', names=ratings_colnames)\n",
    "\n",
    "# Check\n",
    "users.head()\n",
    "movies.head()\n",
    "ratings.head()\n"
   ],
   "metadata": {
    "collapsed": false
   }
  },
  {
   "cell_type": "code",
   "execution_count": 50,
   "outputs": [
    {
     "data": {
      "text/plain": "   movieId  counts\n0        1    1896\n1        2     635\n2        3     443\n3        4     155\n4        5     270",
      "text/html": "<div>\n<style scoped>\n    .dataframe tbody tr th:only-of-type {\n        vertical-align: middle;\n    }\n\n    .dataframe tbody tr th {\n        vertical-align: top;\n    }\n\n    .dataframe thead th {\n        text-align: right;\n    }\n</style>\n<table border=\"1\" class=\"dataframe\">\n  <thead>\n    <tr style=\"text-align: right;\">\n      <th></th>\n      <th>movieId</th>\n      <th>counts</th>\n    </tr>\n  </thead>\n  <tbody>\n    <tr>\n      <th>0</th>\n      <td>1</td>\n      <td>1896</td>\n    </tr>\n    <tr>\n      <th>1</th>\n      <td>2</td>\n      <td>635</td>\n    </tr>\n    <tr>\n      <th>2</th>\n      <td>3</td>\n      <td>443</td>\n    </tr>\n    <tr>\n      <th>3</th>\n      <td>4</td>\n      <td>155</td>\n    </tr>\n    <tr>\n      <th>4</th>\n      <td>5</td>\n      <td>270</td>\n    </tr>\n  </tbody>\n</table>\n</div>"
     },
     "execution_count": 50,
     "metadata": {},
     "output_type": "execute_result"
    }
   ],
   "source": [
    "# Count the # of ratings per movie\n",
    "ratings_by_movie_id = ratings.groupby(['movieId'])['movieId']\\\n",
    "    .count()\\\n",
    "    .reset_index(name='counts')\n",
    "\n",
    "ratings_by_movie_id.head()\n"
   ],
   "metadata": {
    "collapsed": false
   }
  },
  {
   "cell_type": "code",
   "execution_count": 53,
   "outputs": [
    {
     "data": {
      "text/plain": "1940"
     },
     "execution_count": 53,
     "metadata": {},
     "output_type": "execute_result"
    }
   ],
   "source": [
    "# Number of rows remaining after saving only the ones that have `>= threshold` ratings\n",
    "movies_threshold = 100\n",
    "len(ratings_by_movie_id[ratings_by_movie_id['counts'] >= movies_threshold])\n"
   ],
   "metadata": {
    "collapsed": false
   }
  },
  {
   "cell_type": "code",
   "execution_count": null,
   "outputs": [],
   "source": [],
   "metadata": {
    "collapsed": false
   }
  }
 ],
 "metadata": {
  "kernelspec": {
   "display_name": "Python 3",
   "language": "python",
   "name": "python3"
  },
  "language_info": {
   "codemirror_mode": {
    "name": "ipython",
    "version": 2
   },
   "file_extension": ".py",
   "mimetype": "text/x-python",
   "name": "python",
   "nbconvert_exporter": "python",
   "pygments_lexer": "ipython2",
   "version": "2.7.6"
  }
 },
 "nbformat": 4,
 "nbformat_minor": 0
}
