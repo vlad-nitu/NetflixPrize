{
 "cells": [
  {
   "cell_type": "code",
   "execution_count": 6,
   "outputs": [],
   "source": [
    "## Imports\n",
    "# Data processing\n",
    "import pandas as pd\n",
    "import numpy as np\n",
    "import scipy.stats\n",
    "from sklearn.metrics.pairwise import cosine_similarity"
   ],
   "metadata": {
    "collapsed": false
   }
  },
  {
   "cell_type": "code",
   "execution_count": 105,
   "outputs": [
    {
     "data": {
      "text/plain": "   userId gender  age  profession\n0       1      F    1          10\n1       2      M   56          16\n2       3      M   25          15\n3       4      M   45           7\n4       5      M   25          20",
      "text/html": "<div>\n<style scoped>\n    .dataframe tbody tr th:only-of-type {\n        vertical-align: middle;\n    }\n\n    .dataframe tbody tr th {\n        vertical-align: top;\n    }\n\n    .dataframe thead th {\n        text-align: right;\n    }\n</style>\n<table border=\"1\" class=\"dataframe\">\n  <thead>\n    <tr style=\"text-align: right;\">\n      <th></th>\n      <th>userId</th>\n      <th>gender</th>\n      <th>age</th>\n      <th>profession</th>\n    </tr>\n  </thead>\n  <tbody>\n    <tr>\n      <th>0</th>\n      <td>1</td>\n      <td>F</td>\n      <td>1</td>\n      <td>10</td>\n    </tr>\n    <tr>\n      <th>1</th>\n      <td>2</td>\n      <td>M</td>\n      <td>56</td>\n      <td>16</td>\n    </tr>\n    <tr>\n      <th>2</th>\n      <td>3</td>\n      <td>M</td>\n      <td>25</td>\n      <td>15</td>\n    </tr>\n    <tr>\n      <th>3</th>\n      <td>4</td>\n      <td>M</td>\n      <td>45</td>\n      <td>7</td>\n    </tr>\n    <tr>\n      <th>4</th>\n      <td>5</td>\n      <td>M</td>\n      <td>25</td>\n      <td>20</td>\n    </tr>\n  </tbody>\n</table>\n</div>"
     },
     "execution_count": 105,
     "metadata": {},
     "output_type": "execute_result"
    }
   ],
   "source": [
    "# Read datasets\n",
    "\n",
    "users_colnames=['userId', 'gender', 'age', 'profession']\n",
    "movies_colnames=['movieId', 'year', 'title']\n",
    "ratings_colnames=['userId', 'movieId', 'rating']\n",
    "\n",
    "users = pd.read_csv('cse2525-reccommender-systems-challenge/users.csv', sep=';', names=users_colnames)\n",
    "movies = pd.read_csv('cse2525-reccommender-systems-challenge/movies_v2.csv', sep=';', names=movies_colnames) # changed line 3601 from dataset : ';' -> '_'\n",
    "ratings = pd.read_csv('cse2525-reccommender-systems-challenge/ratings.csv', sep=';', names=ratings_colnames)\n",
    "\n",
    "# Check\n",
    "users.head()\n",
    "movies.head()\n",
    "ratings.head()\n"
   ],
   "metadata": {
    "collapsed": false
   }
  },
  {
   "cell_type": "code",
   "execution_count": 50,
   "outputs": [
    {
     "data": {
      "text/plain": "   movieId  counts\n0        1    1896\n1        2     635\n2        3     443\n3        4     155\n4        5     270",
      "text/html": "<div>\n<style scoped>\n    .dataframe tbody tr th:only-of-type {\n        vertical-align: middle;\n    }\n\n    .dataframe tbody tr th {\n        vertical-align: top;\n    }\n\n    .dataframe thead th {\n        text-align: right;\n    }\n</style>\n<table border=\"1\" class=\"dataframe\">\n  <thead>\n    <tr style=\"text-align: right;\">\n      <th></th>\n      <th>movieId</th>\n      <th>counts</th>\n    </tr>\n  </thead>\n  <tbody>\n    <tr>\n      <th>0</th>\n      <td>1</td>\n      <td>1896</td>\n    </tr>\n    <tr>\n      <th>1</th>\n      <td>2</td>\n      <td>635</td>\n    </tr>\n    <tr>\n      <th>2</th>\n      <td>3</td>\n      <td>443</td>\n    </tr>\n    <tr>\n      <th>3</th>\n      <td>4</td>\n      <td>155</td>\n    </tr>\n    <tr>\n      <th>4</th>\n      <td>5</td>\n      <td>270</td>\n    </tr>\n  </tbody>\n</table>\n</div>"
     },
     "execution_count": 50,
     "metadata": {},
     "output_type": "execute_result"
    }
   ],
   "source": [
    "# Count the # of ratings per movie\n",
    "ratings_by_movie_id = ratings.groupby(['movieId'])['movieId']\\\n",
    "    .count()\\\n",
    "    .reset_index(name='counts')\n",
    "\n",
    "ratings_by_movie_id.head()\n"
   ],
   "metadata": {
    "collapsed": false
   }
  },
  {
   "cell_type": "code",
   "execution_count": 97,
   "outputs": [
    {
     "data": {
      "text/plain": "1940"
     },
     "execution_count": 97,
     "metadata": {},
     "output_type": "execute_result"
    }
   ],
   "source": [
    "# Number of rows remaining after saving only the ones that have `>= threshold` ratings\n",
    "movies_threshold = 100\n",
    "ratings_by_movie_id_processed = ratings_by_movie_id[ratings_by_movie_id['counts'] >= movies_threshold] # drop in another variable\n",
    "len(ratings_by_movie_id_processed)\n"
   ],
   "metadata": {
    "collapsed": false
   }
  },
  {
   "cell_type": "code",
   "execution_count": 98,
   "outputs": [
    {
     "data": {
      "text/plain": "      movieId  year                               title\n0           1  1995                    Toy_Story_(1995)\n1           2  1995                      Jumanji_(1995)\n2           3  1995             Grumpier_Old_Men_(1995)\n3           4  1995            Waiting_to_Exhale_(1995)\n4           5  1995  Father_of_the_Bride_Part_II_(1995)\n...       ...   ...                                 ...\n3689     3690  1943    Phantom_of_the_Opera,_The_(1943)\n3690     3691  1984                      Runaway_(1984)\n3701     3702  2000             Meet_the_Parents_(2000)\n3702     3703  2000          Requiem_for_a_Dream_(2000)\n3705     3706  2000               Contender,_The_(2000)\n\n[1940 rows x 3 columns]",
      "text/html": "<div>\n<style scoped>\n    .dataframe tbody tr th:only-of-type {\n        vertical-align: middle;\n    }\n\n    .dataframe tbody tr th {\n        vertical-align: top;\n    }\n\n    .dataframe thead th {\n        text-align: right;\n    }\n</style>\n<table border=\"1\" class=\"dataframe\">\n  <thead>\n    <tr style=\"text-align: right;\">\n      <th></th>\n      <th>movieId</th>\n      <th>year</th>\n      <th>title</th>\n    </tr>\n  </thead>\n  <tbody>\n    <tr>\n      <th>0</th>\n      <td>1</td>\n      <td>1995</td>\n      <td>Toy_Story_(1995)</td>\n    </tr>\n    <tr>\n      <th>1</th>\n      <td>2</td>\n      <td>1995</td>\n      <td>Jumanji_(1995)</td>\n    </tr>\n    <tr>\n      <th>2</th>\n      <td>3</td>\n      <td>1995</td>\n      <td>Grumpier_Old_Men_(1995)</td>\n    </tr>\n    <tr>\n      <th>3</th>\n      <td>4</td>\n      <td>1995</td>\n      <td>Waiting_to_Exhale_(1995)</td>\n    </tr>\n    <tr>\n      <th>4</th>\n      <td>5</td>\n      <td>1995</td>\n      <td>Father_of_the_Bride_Part_II_(1995)</td>\n    </tr>\n    <tr>\n      <th>...</th>\n      <td>...</td>\n      <td>...</td>\n      <td>...</td>\n    </tr>\n    <tr>\n      <th>3689</th>\n      <td>3690</td>\n      <td>1943</td>\n      <td>Phantom_of_the_Opera,_The_(1943)</td>\n    </tr>\n    <tr>\n      <th>3690</th>\n      <td>3691</td>\n      <td>1984</td>\n      <td>Runaway_(1984)</td>\n    </tr>\n    <tr>\n      <th>3701</th>\n      <td>3702</td>\n      <td>2000</td>\n      <td>Meet_the_Parents_(2000)</td>\n    </tr>\n    <tr>\n      <th>3702</th>\n      <td>3703</td>\n      <td>2000</td>\n      <td>Requiem_for_a_Dream_(2000)</td>\n    </tr>\n    <tr>\n      <th>3705</th>\n      <td>3706</td>\n      <td>2000</td>\n      <td>Contender,_The_(2000)</td>\n    </tr>\n  </tbody>\n</table>\n<p>1940 rows × 3 columns</p>\n</div>"
     },
     "execution_count": 98,
     "metadata": {},
     "output_type": "execute_result"
    }
   ],
   "source": [
    "# Titles of the most popular (in # of ratings) movies\n",
    "relevant_movie_ids = ratings_by_movie_id.sort_values(by='counts', ascending=False)['movieId'].array\n",
    "# relevant_movie_ids.array\n",
    "# type(relevant_movie_ids.array)\n",
    "joined_ids = list(set(movies['movieId']) & set(relevant_movie_ids))\n",
    "joined_ids = [x - 1 for x in joined_ids] # 0-indexed\n",
    "movies.loc[joined_ids]"
   ],
   "metadata": {
    "collapsed": false
   }
  },
  {
   "cell_type": "code",
   "execution_count": 99,
   "outputs": [
    {
     "name": "stdout",
     "output_type": "stream",
     "text": [
      "<class 'pandas.core.frame.DataFrame'>\n"
     ]
    },
    {
     "data": {
      "text/plain": "movieId  1     2     3     4     5     6     7     8     9     10    ...  \\\nuserId                                                               ...   \n1         5.0   NaN   NaN   NaN   NaN   NaN   NaN   NaN   NaN   NaN  ...   \n2         NaN   NaN   NaN   NaN   NaN   NaN   NaN   NaN   NaN   NaN  ...   \n3         NaN   NaN   NaN   NaN   NaN   NaN   NaN   NaN   NaN   NaN  ...   \n4         NaN   NaN   NaN   NaN   NaN   NaN   NaN   NaN   NaN   NaN  ...   \n5         NaN   NaN   NaN   NaN   NaN   NaN   NaN   NaN   NaN   NaN  ...   \n\nmovieId  3697  3698  3699  3700  3701  3702  3703  3704  3705  3706  \nuserId                                                               \n1         NaN   NaN   NaN   NaN   NaN   NaN   NaN   NaN   NaN   NaN  \n2         NaN   NaN   NaN   NaN   NaN   NaN   NaN   NaN   NaN   NaN  \n3         NaN   NaN   NaN   NaN   NaN   NaN   NaN   NaN   NaN   NaN  \n4         NaN   NaN   NaN   NaN   NaN   NaN   NaN   NaN   NaN   NaN  \n5         NaN   NaN   NaN   NaN   NaN   NaN   NaN   NaN   NaN   NaN  \n\n[5 rows x 3695 columns]",
      "text/html": "<div>\n<style scoped>\n    .dataframe tbody tr th:only-of-type {\n        vertical-align: middle;\n    }\n\n    .dataframe tbody tr th {\n        vertical-align: top;\n    }\n\n    .dataframe thead th {\n        text-align: right;\n    }\n</style>\n<table border=\"1\" class=\"dataframe\">\n  <thead>\n    <tr style=\"text-align: right;\">\n      <th>movieId</th>\n      <th>1</th>\n      <th>2</th>\n      <th>3</th>\n      <th>4</th>\n      <th>5</th>\n      <th>6</th>\n      <th>7</th>\n      <th>8</th>\n      <th>9</th>\n      <th>10</th>\n      <th>...</th>\n      <th>3697</th>\n      <th>3698</th>\n      <th>3699</th>\n      <th>3700</th>\n      <th>3701</th>\n      <th>3702</th>\n      <th>3703</th>\n      <th>3704</th>\n      <th>3705</th>\n      <th>3706</th>\n    </tr>\n    <tr>\n      <th>userId</th>\n      <th></th>\n      <th></th>\n      <th></th>\n      <th></th>\n      <th></th>\n      <th></th>\n      <th></th>\n      <th></th>\n      <th></th>\n      <th></th>\n      <th></th>\n      <th></th>\n      <th></th>\n      <th></th>\n      <th></th>\n      <th></th>\n      <th></th>\n      <th></th>\n      <th></th>\n      <th></th>\n      <th></th>\n    </tr>\n  </thead>\n  <tbody>\n    <tr>\n      <th>1</th>\n      <td>5.0</td>\n      <td>NaN</td>\n      <td>NaN</td>\n      <td>NaN</td>\n      <td>NaN</td>\n      <td>NaN</td>\n      <td>NaN</td>\n      <td>NaN</td>\n      <td>NaN</td>\n      <td>NaN</td>\n      <td>...</td>\n      <td>NaN</td>\n      <td>NaN</td>\n      <td>NaN</td>\n      <td>NaN</td>\n      <td>NaN</td>\n      <td>NaN</td>\n      <td>NaN</td>\n      <td>NaN</td>\n      <td>NaN</td>\n      <td>NaN</td>\n    </tr>\n    <tr>\n      <th>2</th>\n      <td>NaN</td>\n      <td>NaN</td>\n      <td>NaN</td>\n      <td>NaN</td>\n      <td>NaN</td>\n      <td>NaN</td>\n      <td>NaN</td>\n      <td>NaN</td>\n      <td>NaN</td>\n      <td>NaN</td>\n      <td>...</td>\n      <td>NaN</td>\n      <td>NaN</td>\n      <td>NaN</td>\n      <td>NaN</td>\n      <td>NaN</td>\n      <td>NaN</td>\n      <td>NaN</td>\n      <td>NaN</td>\n      <td>NaN</td>\n      <td>NaN</td>\n    </tr>\n    <tr>\n      <th>3</th>\n      <td>NaN</td>\n      <td>NaN</td>\n      <td>NaN</td>\n      <td>NaN</td>\n      <td>NaN</td>\n      <td>NaN</td>\n      <td>NaN</td>\n      <td>NaN</td>\n      <td>NaN</td>\n      <td>NaN</td>\n      <td>...</td>\n      <td>NaN</td>\n      <td>NaN</td>\n      <td>NaN</td>\n      <td>NaN</td>\n      <td>NaN</td>\n      <td>NaN</td>\n      <td>NaN</td>\n      <td>NaN</td>\n      <td>NaN</td>\n      <td>NaN</td>\n    </tr>\n    <tr>\n      <th>4</th>\n      <td>NaN</td>\n      <td>NaN</td>\n      <td>NaN</td>\n      <td>NaN</td>\n      <td>NaN</td>\n      <td>NaN</td>\n      <td>NaN</td>\n      <td>NaN</td>\n      <td>NaN</td>\n      <td>NaN</td>\n      <td>...</td>\n      <td>NaN</td>\n      <td>NaN</td>\n      <td>NaN</td>\n      <td>NaN</td>\n      <td>NaN</td>\n      <td>NaN</td>\n      <td>NaN</td>\n      <td>NaN</td>\n      <td>NaN</td>\n      <td>NaN</td>\n    </tr>\n    <tr>\n      <th>5</th>\n      <td>NaN</td>\n      <td>NaN</td>\n      <td>NaN</td>\n      <td>NaN</td>\n      <td>NaN</td>\n      <td>NaN</td>\n      <td>NaN</td>\n      <td>NaN</td>\n      <td>NaN</td>\n      <td>NaN</td>\n      <td>...</td>\n      <td>NaN</td>\n      <td>NaN</td>\n      <td>NaN</td>\n      <td>NaN</td>\n      <td>NaN</td>\n      <td>NaN</td>\n      <td>NaN</td>\n      <td>NaN</td>\n      <td>NaN</td>\n      <td>NaN</td>\n    </tr>\n  </tbody>\n</table>\n<p>5 rows × 3695 columns</p>\n</div>"
     },
     "execution_count": 99,
     "metadata": {},
     "output_type": "execute_result"
    }
   ],
   "source": [
    "# Create utility (user-movie) matrix\n",
    "# rows - users, cols - movies\n",
    "matrix = ratings.pivot_table(index='userId', columns='movieId', values='rating')\n",
    "print(type(matrix))\n",
    "matrix.head()"
   ],
   "metadata": {
    "collapsed": false
   }
  },
  {
   "cell_type": "code",
   "execution_count": 96,
   "outputs": [
    {
     "name": "stdout",
     "output_type": "stream",
     "text": [
      "The ratings dataset has 6040 unique users\n",
      "The ratings dataset has 3695 unique movies\n",
      "The ratings dataset has 5 unique ratings\n",
      "The unique ratings are [1, 2, 3, 4, 5]\n"
     ]
    }
   ],
   "source": [
    "# Statistics on ratings values\n",
    "\n",
    "print('The ratings dataset has', ratings['userId'].nunique(), 'unique users')\n",
    "print('The ratings dataset has', ratings['movieId'].nunique(), 'unique movies')\n",
    "print('The ratings dataset has', ratings['rating'].nunique(), 'unique ratings')\n",
    "print('The unique ratings are', sorted(ratings['rating'].unique()))"
   ],
   "metadata": {
    "collapsed": false
   }
  },
  {
   "cell_type": "code",
   "execution_count": 107,
   "outputs": [
    {
     "name": "stdout",
     "output_type": "stream",
     "text": [
      "The users dataset has 6040 unique users\n",
      "The users dataset has 2 unique genders\n",
      "The users dataset has 7 unique age values\n",
      "The users dataset has 21 unique professions values\n"
     ]
    }
   ],
   "source": [
    "# Statistics on users values\n",
    "\n",
    "print('The users dataset has', users['userId'].nunique(), 'unique users')\n",
    "print('The users dataset has',users['gender'].nunique(), 'unique genders')\n",
    "print('The users dataset has', users['age'].nunique(), 'unique age values')\n",
    "print('The users dataset has', users['profession'].nunique(), 'unique professions values')"
   ],
   "metadata": {
    "collapsed": false
   }
  },
  {
   "cell_type": "code",
   "execution_count": 108,
   "outputs": [
    {
     "name": "stdout",
     "output_type": "stream",
     "text": [
      "The movies dataset has 3706 unique ids\n",
      "The movies dataset has 82 unique year values\n",
      "The movies dataset has 3688 unique titles\n",
      "The movies dataset has year values in range 0  -  2000\n"
     ]
    }
   ],
   "source": [
    "# Statistics on movies values\n",
    "\n",
    "print('The movies dataset has', movies['movieId'].nunique(), 'unique ids')\n",
    "print('The movies dataset has',movies['year'].nunique(), 'unique year values')\n",
    "print('The movies dataset has', movies['title'].nunique(), 'unique titles')\n",
    "print('The movies dataset has year values in range', movies['year'].min(), ' - ', movies['year'].max())"
   ],
   "metadata": {
    "collapsed": false
   }
  },
  {
   "cell_type": "code",
   "execution_count": 101,
   "outputs": [
    {
     "data": {
      "text/plain": "movieId      1     2     3     4     5     6     7     8     9     10    ...  \\\nuserId                                                                   ...   \n1        0.808511   NaN   NaN   NaN   NaN   NaN   NaN   NaN   NaN   NaN  ...   \n2             NaN   NaN   NaN   NaN   NaN   NaN   NaN   NaN   NaN   NaN  ...   \n3             NaN   NaN   NaN   NaN   NaN   NaN   NaN   NaN   NaN   NaN  ...   \n4             NaN   NaN   NaN   NaN   NaN   NaN   NaN   NaN   NaN   NaN  ...   \n5             NaN   NaN   NaN   NaN   NaN   NaN   NaN   NaN   NaN   NaN  ...   \n\nmovieId  3697  3698  3699  3700  3701  3702  3703  3704  3705  3706  \nuserId                                                               \n1         NaN   NaN   NaN   NaN   NaN   NaN   NaN   NaN   NaN   NaN  \n2         NaN   NaN   NaN   NaN   NaN   NaN   NaN   NaN   NaN   NaN  \n3         NaN   NaN   NaN   NaN   NaN   NaN   NaN   NaN   NaN   NaN  \n4         NaN   NaN   NaN   NaN   NaN   NaN   NaN   NaN   NaN   NaN  \n5         NaN   NaN   NaN   NaN   NaN   NaN   NaN   NaN   NaN   NaN  \n\n[5 rows x 3695 columns]",
      "text/html": "<div>\n<style scoped>\n    .dataframe tbody tr th:only-of-type {\n        vertical-align: middle;\n    }\n\n    .dataframe tbody tr th {\n        vertical-align: top;\n    }\n\n    .dataframe thead th {\n        text-align: right;\n    }\n</style>\n<table border=\"1\" class=\"dataframe\">\n  <thead>\n    <tr style=\"text-align: right;\">\n      <th>movieId</th>\n      <th>1</th>\n      <th>2</th>\n      <th>3</th>\n      <th>4</th>\n      <th>5</th>\n      <th>6</th>\n      <th>7</th>\n      <th>8</th>\n      <th>9</th>\n      <th>10</th>\n      <th>...</th>\n      <th>3697</th>\n      <th>3698</th>\n      <th>3699</th>\n      <th>3700</th>\n      <th>3701</th>\n      <th>3702</th>\n      <th>3703</th>\n      <th>3704</th>\n      <th>3705</th>\n      <th>3706</th>\n    </tr>\n    <tr>\n      <th>userId</th>\n      <th></th>\n      <th></th>\n      <th></th>\n      <th></th>\n      <th></th>\n      <th></th>\n      <th></th>\n      <th></th>\n      <th></th>\n      <th></th>\n      <th></th>\n      <th></th>\n      <th></th>\n      <th></th>\n      <th></th>\n      <th></th>\n      <th></th>\n      <th></th>\n      <th></th>\n      <th></th>\n      <th></th>\n    </tr>\n  </thead>\n  <tbody>\n    <tr>\n      <th>1</th>\n      <td>0.808511</td>\n      <td>NaN</td>\n      <td>NaN</td>\n      <td>NaN</td>\n      <td>NaN</td>\n      <td>NaN</td>\n      <td>NaN</td>\n      <td>NaN</td>\n      <td>NaN</td>\n      <td>NaN</td>\n      <td>...</td>\n      <td>NaN</td>\n      <td>NaN</td>\n      <td>NaN</td>\n      <td>NaN</td>\n      <td>NaN</td>\n      <td>NaN</td>\n      <td>NaN</td>\n      <td>NaN</td>\n      <td>NaN</td>\n      <td>NaN</td>\n    </tr>\n    <tr>\n      <th>2</th>\n      <td>NaN</td>\n      <td>NaN</td>\n      <td>NaN</td>\n      <td>NaN</td>\n      <td>NaN</td>\n      <td>NaN</td>\n      <td>NaN</td>\n      <td>NaN</td>\n      <td>NaN</td>\n      <td>NaN</td>\n      <td>...</td>\n      <td>NaN</td>\n      <td>NaN</td>\n      <td>NaN</td>\n      <td>NaN</td>\n      <td>NaN</td>\n      <td>NaN</td>\n      <td>NaN</td>\n      <td>NaN</td>\n      <td>NaN</td>\n      <td>NaN</td>\n    </tr>\n    <tr>\n      <th>3</th>\n      <td>NaN</td>\n      <td>NaN</td>\n      <td>NaN</td>\n      <td>NaN</td>\n      <td>NaN</td>\n      <td>NaN</td>\n      <td>NaN</td>\n      <td>NaN</td>\n      <td>NaN</td>\n      <td>NaN</td>\n      <td>...</td>\n      <td>NaN</td>\n      <td>NaN</td>\n      <td>NaN</td>\n      <td>NaN</td>\n      <td>NaN</td>\n      <td>NaN</td>\n      <td>NaN</td>\n      <td>NaN</td>\n      <td>NaN</td>\n      <td>NaN</td>\n    </tr>\n    <tr>\n      <th>4</th>\n      <td>NaN</td>\n      <td>NaN</td>\n      <td>NaN</td>\n      <td>NaN</td>\n      <td>NaN</td>\n      <td>NaN</td>\n      <td>NaN</td>\n      <td>NaN</td>\n      <td>NaN</td>\n      <td>NaN</td>\n      <td>...</td>\n      <td>NaN</td>\n      <td>NaN</td>\n      <td>NaN</td>\n      <td>NaN</td>\n      <td>NaN</td>\n      <td>NaN</td>\n      <td>NaN</td>\n      <td>NaN</td>\n      <td>NaN</td>\n      <td>NaN</td>\n    </tr>\n    <tr>\n      <th>5</th>\n      <td>NaN</td>\n      <td>NaN</td>\n      <td>NaN</td>\n      <td>NaN</td>\n      <td>NaN</td>\n      <td>NaN</td>\n      <td>NaN</td>\n      <td>NaN</td>\n      <td>NaN</td>\n      <td>NaN</td>\n      <td>...</td>\n      <td>NaN</td>\n      <td>NaN</td>\n      <td>NaN</td>\n      <td>NaN</td>\n      <td>NaN</td>\n      <td>NaN</td>\n      <td>NaN</td>\n      <td>NaN</td>\n      <td>NaN</td>\n      <td>NaN</td>\n    </tr>\n  </tbody>\n</table>\n<p>5 rows × 3695 columns</p>\n</div>"
     },
     "execution_count": 101,
     "metadata": {},
     "output_type": "execute_result"
    }
   ],
   "source": [
    "# Data normalization step\n",
    "# Rating > user_avg => positive value; otherwise negative value\n",
    "matrix_norm = matrix.subtract(matrix.mean(axis=1), axis = 'rows')\n",
    "matrix_norm.head()"
   ],
   "metadata": {
    "collapsed": false
   }
  },
  {
   "cell_type": "code",
   "execution_count": 161,
   "outputs": [
    {
     "data": {
      "text/plain": "userId      1         2         3         4         5             6     \\\nuserId                                                                   \n1       1.000000  0.642857 -0.562500  0.333333 -0.172516  1.139606e-01   \n2       0.642857  1.000000 -0.208013  0.220863 -0.102728  2.762638e-17   \n3      -0.562500 -0.208013  1.000000  0.774597 -0.437621 -3.492151e-01   \n4       0.333333  0.220863  0.774597  1.000000  0.000000           NaN   \n5      -0.172516 -0.102728 -0.437621  0.000000  1.000000 -7.211103e-01   \n\nuserId      7         8         9         10    ...      6031      6032  \\\nuserId                                          ...                       \n1            NaN -0.583333  0.644094  0.163446  ... -0.198030  0.852803   \n2       0.262600 -0.015445  0.135250 -0.105465  ... -0.750000  0.338062   \n3       0.790569 -0.528594  0.108465  0.016264  ... -0.500000 -0.342997   \n4      -0.207514  0.534522  0.866025 -0.371479  ... -0.645497       NaN   \n5      -0.216966  0.168732 -0.033128  0.021635  ...  0.073324  1.000000   \n\nuserId      6033  6034      6035      6036      6037  6038      6039  \\\nuserId                                                                 \n1       1.000000   NaN  0.381246 -0.150021 -0.394771   NaN  0.061199   \n2       0.326183   NaN  0.338558  0.381157  0.183019  -0.5  0.483046   \n3      -0.711556   NaN  0.559017  0.158237 -0.041345   1.0  0.315063   \n4      -0.038576   NaN -0.013558  0.489046  0.301511  -1.0  0.000000   \n5       0.116775   NaN  0.514356  0.142739 -0.074062  -1.0  1.000000   \n\nuserId          6040  \nuserId                \n1      -5.062003e-17  \n2       3.193962e-02  \n3      -4.678087e-01  \n4       5.358259e-01  \n5       3.254070e-01  \n\n[5 rows x 6040 columns]",
      "text/html": "<div>\n<style scoped>\n    .dataframe tbody tr th:only-of-type {\n        vertical-align: middle;\n    }\n\n    .dataframe tbody tr th {\n        vertical-align: top;\n    }\n\n    .dataframe thead th {\n        text-align: right;\n    }\n</style>\n<table border=\"1\" class=\"dataframe\">\n  <thead>\n    <tr style=\"text-align: right;\">\n      <th>userId</th>\n      <th>1</th>\n      <th>2</th>\n      <th>3</th>\n      <th>4</th>\n      <th>5</th>\n      <th>6</th>\n      <th>7</th>\n      <th>8</th>\n      <th>9</th>\n      <th>10</th>\n      <th>...</th>\n      <th>6031</th>\n      <th>6032</th>\n      <th>6033</th>\n      <th>6034</th>\n      <th>6035</th>\n      <th>6036</th>\n      <th>6037</th>\n      <th>6038</th>\n      <th>6039</th>\n      <th>6040</th>\n    </tr>\n    <tr>\n      <th>userId</th>\n      <th></th>\n      <th></th>\n      <th></th>\n      <th></th>\n      <th></th>\n      <th></th>\n      <th></th>\n      <th></th>\n      <th></th>\n      <th></th>\n      <th></th>\n      <th></th>\n      <th></th>\n      <th></th>\n      <th></th>\n      <th></th>\n      <th></th>\n      <th></th>\n      <th></th>\n      <th></th>\n      <th></th>\n    </tr>\n  </thead>\n  <tbody>\n    <tr>\n      <th>1</th>\n      <td>1.000000</td>\n      <td>0.642857</td>\n      <td>-0.562500</td>\n      <td>0.333333</td>\n      <td>-0.172516</td>\n      <td>1.139606e-01</td>\n      <td>NaN</td>\n      <td>-0.583333</td>\n      <td>0.644094</td>\n      <td>0.163446</td>\n      <td>...</td>\n      <td>-0.198030</td>\n      <td>0.852803</td>\n      <td>1.000000</td>\n      <td>NaN</td>\n      <td>0.381246</td>\n      <td>-0.150021</td>\n      <td>-0.394771</td>\n      <td>NaN</td>\n      <td>0.061199</td>\n      <td>-5.062003e-17</td>\n    </tr>\n    <tr>\n      <th>2</th>\n      <td>0.642857</td>\n      <td>1.000000</td>\n      <td>-0.208013</td>\n      <td>0.220863</td>\n      <td>-0.102728</td>\n      <td>2.762638e-17</td>\n      <td>0.262600</td>\n      <td>-0.015445</td>\n      <td>0.135250</td>\n      <td>-0.105465</td>\n      <td>...</td>\n      <td>-0.750000</td>\n      <td>0.338062</td>\n      <td>0.326183</td>\n      <td>NaN</td>\n      <td>0.338558</td>\n      <td>0.381157</td>\n      <td>0.183019</td>\n      <td>-0.5</td>\n      <td>0.483046</td>\n      <td>3.193962e-02</td>\n    </tr>\n    <tr>\n      <th>3</th>\n      <td>-0.562500</td>\n      <td>-0.208013</td>\n      <td>1.000000</td>\n      <td>0.774597</td>\n      <td>-0.437621</td>\n      <td>-3.492151e-01</td>\n      <td>0.790569</td>\n      <td>-0.528594</td>\n      <td>0.108465</td>\n      <td>0.016264</td>\n      <td>...</td>\n      <td>-0.500000</td>\n      <td>-0.342997</td>\n      <td>-0.711556</td>\n      <td>NaN</td>\n      <td>0.559017</td>\n      <td>0.158237</td>\n      <td>-0.041345</td>\n      <td>1.0</td>\n      <td>0.315063</td>\n      <td>-4.678087e-01</td>\n    </tr>\n    <tr>\n      <th>4</th>\n      <td>0.333333</td>\n      <td>0.220863</td>\n      <td>0.774597</td>\n      <td>1.000000</td>\n      <td>0.000000</td>\n      <td>NaN</td>\n      <td>-0.207514</td>\n      <td>0.534522</td>\n      <td>0.866025</td>\n      <td>-0.371479</td>\n      <td>...</td>\n      <td>-0.645497</td>\n      <td>NaN</td>\n      <td>-0.038576</td>\n      <td>NaN</td>\n      <td>-0.013558</td>\n      <td>0.489046</td>\n      <td>0.301511</td>\n      <td>-1.0</td>\n      <td>0.000000</td>\n      <td>5.358259e-01</td>\n    </tr>\n    <tr>\n      <th>5</th>\n      <td>-0.172516</td>\n      <td>-0.102728</td>\n      <td>-0.437621</td>\n      <td>0.000000</td>\n      <td>1.000000</td>\n      <td>-7.211103e-01</td>\n      <td>-0.216966</td>\n      <td>0.168732</td>\n      <td>-0.033128</td>\n      <td>0.021635</td>\n      <td>...</td>\n      <td>0.073324</td>\n      <td>1.000000</td>\n      <td>0.116775</td>\n      <td>NaN</td>\n      <td>0.514356</td>\n      <td>0.142739</td>\n      <td>-0.074062</td>\n      <td>-1.0</td>\n      <td>1.000000</td>\n      <td>3.254070e-01</td>\n    </tr>\n  </tbody>\n</table>\n<p>5 rows × 6040 columns</p>\n</div>"
     },
     "execution_count": 161,
     "metadata": {},
     "output_type": "execute_result"
    }
   ],
   "source": [
    "# User similarity matrix using alternative #1: Pearson correlation\n",
    "user_similarity = matrix_norm.T.corr()\n",
    "user_similarity.head()"
   ],
   "metadata": {
    "collapsed": false
   }
  },
  {
   "cell_type": "code",
   "execution_count": 156,
   "outputs": [
    {
     "name": "stdout",
     "output_type": "stream",
     "text": [
      "<class 'numpy.ndarray'>\n"
     ]
    },
    {
     "data": {
      "text/plain": "array([[ 1.        ,  0.03565432, -0.04347203, ...,  0.        ,\n         0.0138397 ,  0.00903407],\n       [ 0.03565432,  1.        , -0.01496278, ..., -0.01598902,\n         0.02835177, -0.00176974],\n       [-0.04347203, -0.01496278,  1.        , ...,  0.0414533 ,\n         0.05292534, -0.04647062],\n       ...,\n       [ 0.        , -0.01598902,  0.0414533 , ...,  1.        ,\n         0.04679397, -0.03514554],\n       [ 0.0138397 ,  0.02835177,  0.05292534, ...,  0.04679397,\n         1.        ,  0.05144363],\n       [ 0.00903407, -0.00176974, -0.04647062, ..., -0.03514554,\n         0.05144363,  1.        ]])"
     },
     "execution_count": 156,
     "metadata": {},
     "output_type": "execute_result"
    }
   ],
   "source": [
    "# User similarity matrix using alternative #2: cosine_similarity\n",
    "# values in [-1, 1]; -1 : opposite, 1: really close\n",
    "user_similarity_cosine = cosine_similarity(matrix_norm.fillna(0))\n",
    "print(type(user_similarity_cosine)) # ndarray\n",
    "user_similarity_cosine\n"
   ],
   "metadata": {
    "collapsed": false
   }
  },
  {
   "cell_type": "code",
   "execution_count": 157,
   "outputs": [
    {
     "name": "stdout",
     "output_type": "stream",
     "text": [
      "<class 'numpy.ndarray'>\n",
      "6039\n"
     ]
    },
    {
     "data": {
      "text/plain": "array([ 0.03565432, -0.01496278, -0.02398623, ..., -0.01598902,\n        0.02835177, -0.00176974])"
     },
     "execution_count": 157,
     "metadata": {},
     "output_type": "execute_result"
    }
   ],
   "source": [
    "# Try finding similar users to user w/ `userID`\n",
    "# Let's use `cosine_similarity` for this\n",
    "\n",
    "userId = 1\n",
    "print(type(user_similarity_cosine))\n",
    "user_similarity_cosine = user_similarity_cosine[:, userId]\n",
    "user_similarity_cosine = np.delete(user_similarity_cosine, userId, axis=0)\n",
    "print(len(user_similarity_cosine))\n",
    "user_similarity_cosine"
   ],
   "metadata": {
    "collapsed": false
   }
  },
  {
   "cell_type": "code",
   "execution_count": 162,
   "outputs": [
    {
     "data": {
      "text/plain": "userId      1             2         3         4         5             6     \\\nuserId                                                                       \n2       0.642857  1.000000e+00 -0.208013  0.220863 -0.102728  2.762638e-17   \n3      -0.562500 -2.080126e-01  1.000000  0.774597 -0.437621 -3.492151e-01   \n4       0.333333  2.208631e-01  0.774597  1.000000  0.000000           NaN   \n5      -0.172516 -1.027277e-01 -0.437621  0.000000  1.000000 -7.211103e-01   \n6       0.113961  2.762638e-17 -0.349215       NaN -0.721110  1.000000e+00   \n\nuserId      7         8         9         10    ...      6031      6032  \\\nuserId                                          ...                       \n2       0.262600 -0.015445  0.135250 -0.105465  ... -0.750000  0.338062   \n3       0.790569 -0.528594  0.108465  0.016264  ... -0.500000 -0.342997   \n4      -0.207514  0.534522  0.866025 -0.371479  ... -0.645497       NaN   \n5      -0.216966  0.168732 -0.033128  0.021635  ...  0.073324  1.000000   \n6       1.000000 -0.590932 -0.216007  0.333863  ... -1.000000  0.925820   \n\nuserId      6033  6034      6035      6036      6037      6038      6039  \\\nuserId                                                                     \n2       0.326183   NaN  0.338558  0.381157  0.183019 -0.500000  0.483046   \n3      -0.711556   NaN  0.559017  0.158237 -0.041345  1.000000  0.315063   \n4      -0.038576   NaN -0.013558  0.489046  0.301511 -1.000000  0.000000   \n5       0.116775   NaN  0.514356  0.142739 -0.074062 -1.000000  1.000000   \n6            NaN   NaN -0.419573 -0.165250 -0.272166 -0.866025 -0.693375   \n\nuserId      6040  \nuserId            \n2       0.031940  \n3      -0.467809  \n4       0.535826  \n5       0.325407  \n6       0.197545  \n\n[5 rows x 6040 columns]",
      "text/html": "<div>\n<style scoped>\n    .dataframe tbody tr th:only-of-type {\n        vertical-align: middle;\n    }\n\n    .dataframe tbody tr th {\n        vertical-align: top;\n    }\n\n    .dataframe thead th {\n        text-align: right;\n    }\n</style>\n<table border=\"1\" class=\"dataframe\">\n  <thead>\n    <tr style=\"text-align: right;\">\n      <th>userId</th>\n      <th>1</th>\n      <th>2</th>\n      <th>3</th>\n      <th>4</th>\n      <th>5</th>\n      <th>6</th>\n      <th>7</th>\n      <th>8</th>\n      <th>9</th>\n      <th>10</th>\n      <th>...</th>\n      <th>6031</th>\n      <th>6032</th>\n      <th>6033</th>\n      <th>6034</th>\n      <th>6035</th>\n      <th>6036</th>\n      <th>6037</th>\n      <th>6038</th>\n      <th>6039</th>\n      <th>6040</th>\n    </tr>\n    <tr>\n      <th>userId</th>\n      <th></th>\n      <th></th>\n      <th></th>\n      <th></th>\n      <th></th>\n      <th></th>\n      <th></th>\n      <th></th>\n      <th></th>\n      <th></th>\n      <th></th>\n      <th></th>\n      <th></th>\n      <th></th>\n      <th></th>\n      <th></th>\n      <th></th>\n      <th></th>\n      <th></th>\n      <th></th>\n      <th></th>\n    </tr>\n  </thead>\n  <tbody>\n    <tr>\n      <th>2</th>\n      <td>0.642857</td>\n      <td>1.000000e+00</td>\n      <td>-0.208013</td>\n      <td>0.220863</td>\n      <td>-0.102728</td>\n      <td>2.762638e-17</td>\n      <td>0.262600</td>\n      <td>-0.015445</td>\n      <td>0.135250</td>\n      <td>-0.105465</td>\n      <td>...</td>\n      <td>-0.750000</td>\n      <td>0.338062</td>\n      <td>0.326183</td>\n      <td>NaN</td>\n      <td>0.338558</td>\n      <td>0.381157</td>\n      <td>0.183019</td>\n      <td>-0.500000</td>\n      <td>0.483046</td>\n      <td>0.031940</td>\n    </tr>\n    <tr>\n      <th>3</th>\n      <td>-0.562500</td>\n      <td>-2.080126e-01</td>\n      <td>1.000000</td>\n      <td>0.774597</td>\n      <td>-0.437621</td>\n      <td>-3.492151e-01</td>\n      <td>0.790569</td>\n      <td>-0.528594</td>\n      <td>0.108465</td>\n      <td>0.016264</td>\n      <td>...</td>\n      <td>-0.500000</td>\n      <td>-0.342997</td>\n      <td>-0.711556</td>\n      <td>NaN</td>\n      <td>0.559017</td>\n      <td>0.158237</td>\n      <td>-0.041345</td>\n      <td>1.000000</td>\n      <td>0.315063</td>\n      <td>-0.467809</td>\n    </tr>\n    <tr>\n      <th>4</th>\n      <td>0.333333</td>\n      <td>2.208631e-01</td>\n      <td>0.774597</td>\n      <td>1.000000</td>\n      <td>0.000000</td>\n      <td>NaN</td>\n      <td>-0.207514</td>\n      <td>0.534522</td>\n      <td>0.866025</td>\n      <td>-0.371479</td>\n      <td>...</td>\n      <td>-0.645497</td>\n      <td>NaN</td>\n      <td>-0.038576</td>\n      <td>NaN</td>\n      <td>-0.013558</td>\n      <td>0.489046</td>\n      <td>0.301511</td>\n      <td>-1.000000</td>\n      <td>0.000000</td>\n      <td>0.535826</td>\n    </tr>\n    <tr>\n      <th>5</th>\n      <td>-0.172516</td>\n      <td>-1.027277e-01</td>\n      <td>-0.437621</td>\n      <td>0.000000</td>\n      <td>1.000000</td>\n      <td>-7.211103e-01</td>\n      <td>-0.216966</td>\n      <td>0.168732</td>\n      <td>-0.033128</td>\n      <td>0.021635</td>\n      <td>...</td>\n      <td>0.073324</td>\n      <td>1.000000</td>\n      <td>0.116775</td>\n      <td>NaN</td>\n      <td>0.514356</td>\n      <td>0.142739</td>\n      <td>-0.074062</td>\n      <td>-1.000000</td>\n      <td>1.000000</td>\n      <td>0.325407</td>\n    </tr>\n    <tr>\n      <th>6</th>\n      <td>0.113961</td>\n      <td>2.762638e-17</td>\n      <td>-0.349215</td>\n      <td>NaN</td>\n      <td>-0.721110</td>\n      <td>1.000000e+00</td>\n      <td>1.000000</td>\n      <td>-0.590932</td>\n      <td>-0.216007</td>\n      <td>0.333863</td>\n      <td>...</td>\n      <td>-1.000000</td>\n      <td>0.925820</td>\n      <td>NaN</td>\n      <td>NaN</td>\n      <td>-0.419573</td>\n      <td>-0.165250</td>\n      <td>-0.272166</td>\n      <td>-0.866025</td>\n      <td>-0.693375</td>\n      <td>0.197545</td>\n    </tr>\n  </tbody>\n</table>\n<p>5 rows × 6040 columns</p>\n</div>"
     },
     "execution_count": 162,
     "metadata": {},
     "output_type": "execute_result"
    }
   ],
   "source": [
    "# Try finding similar users to user w/ `userID`\n",
    "# Let's use `Pearson correlation` for this\n",
    "\n",
    "# Pick a user ID\n",
    "picked_userid = 1\n",
    "# Remove picked user ID from the candidate list\n",
    "user_similarity.drop(index=picked_userid, inplace=True)\n",
    "# Take a look at the data\n",
    "user_similarity.head()"
   ],
   "metadata": {
    "collapsed": false
   }
  },
  {
   "cell_type": "code",
   "execution_count": 188,
   "outputs": [
    {
     "name": "stdout",
     "output_type": "stream",
     "text": [
      "<class 'pandas.core.series.Series'>\n",
      "337\n",
      "337\n"
     ]
    }
   ],
   "source": [
    "# Tests to decide on tuning the parameters in next code cell `user_similarity_threshold` and `k`\n",
    "for_userId = user_similarity[user_similarity[userId] > user_similarity_threshold][userId]\n",
    "print(type(for_userId))\n",
    "print(len(for_userId))\n",
    "print(len(for_userId[for_userId >= .7]))\n"
   ],
   "metadata": {
    "collapsed": false
   }
  },
  {
   "cell_type": "code",
   "execution_count": 186,
   "outputs": [
    {
     "name": "stdout",
     "output_type": "stream",
     "text": [
      "(6039, 6040)\n",
      "The similar users for user 1 are userId\n",
      "3085    1.000000\n",
      "3107    1.000000\n",
      "3127    1.000000\n",
      "3176    1.000000\n",
      "3198    1.000000\n",
      "          ...   \n",
      "361     0.866025\n",
      "2146    0.866025\n",
      "2431    0.866025\n",
      "726     0.866025\n",
      "5498    0.866025\n",
      "Name: 1, Length: 200, dtype: float64\n"
     ]
    },
    {
     "name": "stderr",
     "output_type": "stream",
     "text": [
      "/var/folders/w6/yvwdncbx7qbgk26cz6r2f7s00000gn/T/ipykernel_3001/3692643781.py:12: FutureWarning: The behavior of `series[i:j]` with an integer-dtype index is deprecated. In a future version, this will be treated as *label-based* indexing, consistent with e.g. `series[i]` lookups. To retain the old behavior, use `series.iloc[i:j]`. To get the future behavior, use `series.loc[i:j]`.\n",
      "  similar_users = user_similarity[user_similarity[userId] > user_similarity_threshold][userId].sort_values(ascending=False)[:k] # Print out top `k` similar users\n"
     ]
    }
   ],
   "source": [
    "# Choose `k` most similar users based on the cosine_similarity distance\n",
    "# Parameters to be tuned:\n",
    "# k - # of similar users\n",
    "# user_similarity_threshold\n",
    "\n",
    "# Number of similar users - first 150 are 1.0, first 160 -> 0.94\n",
    "k = 200\n",
    "# User similarity threashold\n",
    "user_similarity_threshold = 0.7\n",
    "# Get top `k` similar users\n",
    "print(user_similarity.shape)\n",
    "similar_users = user_similarity[user_similarity[userId] > user_similarity_threshold][userId].sort_values(ascending=False)[:k] # Print out top `k` similar users\n",
    "print(f'The similar users for user {userId} are', similar_users)"
   ],
   "metadata": {
    "collapsed": false
   }
  },
  {
   "cell_type": "code",
   "execution_count": 189,
   "outputs": [
    {
     "data": {
      "text/plain": "movieId      1         48        145       254       514       518       575   \\\nuserId                                                                          \n1        0.808511  0.808511  0.808511 -0.191489  0.808511 -0.191489 -0.191489   \n\nmovieId      581       582       594   ...      2489      2558      2587  \\\nuserId                                 ...                                 \n1       -0.191489  0.808511 -0.191489  ... -0.191489 -0.191489 -0.191489   \n\nmovieId      2593      2600      2711      2890      2899      2970      3178  \nuserId                                                                         \n1       -0.191489  0.808511 -0.191489  0.808511 -0.191489 -0.191489 -0.191489  \n\n[1 rows x 47 columns]",
      "text/html": "<div>\n<style scoped>\n    .dataframe tbody tr th:only-of-type {\n        vertical-align: middle;\n    }\n\n    .dataframe tbody tr th {\n        vertical-align: top;\n    }\n\n    .dataframe thead th {\n        text-align: right;\n    }\n</style>\n<table border=\"1\" class=\"dataframe\">\n  <thead>\n    <tr style=\"text-align: right;\">\n      <th>movieId</th>\n      <th>1</th>\n      <th>48</th>\n      <th>145</th>\n      <th>254</th>\n      <th>514</th>\n      <th>518</th>\n      <th>575</th>\n      <th>581</th>\n      <th>582</th>\n      <th>594</th>\n      <th>...</th>\n      <th>2489</th>\n      <th>2558</th>\n      <th>2587</th>\n      <th>2593</th>\n      <th>2600</th>\n      <th>2711</th>\n      <th>2890</th>\n      <th>2899</th>\n      <th>2970</th>\n      <th>3178</th>\n    </tr>\n    <tr>\n      <th>userId</th>\n      <th></th>\n      <th></th>\n      <th></th>\n      <th></th>\n      <th></th>\n      <th></th>\n      <th></th>\n      <th></th>\n      <th></th>\n      <th></th>\n      <th></th>\n      <th></th>\n      <th></th>\n      <th></th>\n      <th></th>\n      <th></th>\n      <th></th>\n      <th></th>\n      <th></th>\n      <th></th>\n      <th></th>\n    </tr>\n  </thead>\n  <tbody>\n    <tr>\n      <th>1</th>\n      <td>0.808511</td>\n      <td>0.808511</td>\n      <td>0.808511</td>\n      <td>-0.191489</td>\n      <td>0.808511</td>\n      <td>-0.191489</td>\n      <td>-0.191489</td>\n      <td>-0.191489</td>\n      <td>0.808511</td>\n      <td>-0.191489</td>\n      <td>...</td>\n      <td>-0.191489</td>\n      <td>-0.191489</td>\n      <td>-0.191489</td>\n      <td>-0.191489</td>\n      <td>0.808511</td>\n      <td>-0.191489</td>\n      <td>0.808511</td>\n      <td>-0.191489</td>\n      <td>-0.191489</td>\n      <td>-0.191489</td>\n    </tr>\n  </tbody>\n</table>\n<p>1 rows × 47 columns</p>\n</div>"
     },
     "execution_count": 189,
     "metadata": {},
     "output_type": "execute_result"
    }
   ],
   "source": [
    "# Narrow item pool in 2 steps\n",
    "# Step 1. Remove movies already watched by targeted `userId`\n",
    "\n",
    "# Movies that the target user has watched\n",
    "picked_userid_watched = matrix_norm[matrix_norm.index == picked_userid].dropna(axis=1, how='all')\n",
    "picked_userid_watched"
   ],
   "metadata": {
    "collapsed": false
   }
  },
  {
   "cell_type": "code",
   "execution_count": 190,
   "outputs": [
    {
     "data": {
      "text/plain": "movieId  1         2     3     4     5     6     7     9     10        11    \\\nuserId                                                                        \n40        NaN  1.595506   NaN   NaN   NaN   NaN   NaN   NaN   NaN       NaN   \n66        NaN       NaN   NaN   NaN   NaN   NaN   NaN   NaN   NaN       NaN   \n72        NaN       NaN   NaN   NaN   NaN   NaN   NaN   NaN   NaN  1.333333   \n113       NaN       NaN   NaN   NaN   NaN   NaN   NaN   NaN   NaN       NaN   \n179       NaN       NaN   NaN   NaN   NaN   NaN   NaN   NaN   NaN       NaN   \n...       ...       ...   ...   ...   ...   ...   ...   ...   ...       ...   \n5882      NaN       NaN   NaN   NaN   NaN   NaN   NaN   NaN   NaN       NaN   \n5910      NaN       NaN   NaN   NaN   NaN   NaN   NaN   NaN   NaN       NaN   \n5919      NaN       NaN   NaN   NaN   NaN   NaN   NaN   NaN   NaN       NaN   \n5940      NaN       NaN   NaN   NaN   NaN   NaN   NaN   NaN   NaN       NaN   \n6033      NaN       NaN   NaN   NaN   NaN   NaN   NaN   NaN   NaN       NaN   \n\nmovieId  ...  3690  3691  3694  3697  3700  3702  3703  3704  3705      3706  \nuserId   ...                                                                  \n40       ...   NaN   NaN   NaN   NaN   NaN   NaN   NaN   NaN   NaN       NaN  \n66       ...   NaN   NaN   NaN   NaN   NaN   NaN   NaN   NaN   NaN       NaN  \n72       ...   NaN   NaN   NaN   NaN   NaN   NaN   NaN   NaN   NaN  1.333333  \n113      ...   NaN   NaN   NaN   NaN   NaN   NaN   NaN   NaN   NaN       NaN  \n179      ...   NaN   NaN   NaN   NaN   NaN   NaN   NaN   NaN   NaN       NaN  \n...      ...   ...   ...   ...   ...   ...   ...   ...   ...   ...       ...  \n5882     ...   NaN   NaN   NaN   NaN   NaN   NaN   NaN   NaN   NaN       NaN  \n5910     ...   NaN   NaN   NaN   NaN   NaN   NaN   NaN   NaN   NaN       NaN  \n5919     ...   NaN   NaN   NaN   NaN   NaN   NaN   NaN   NaN   NaN       NaN  \n5940     ...   NaN   NaN   NaN   NaN   NaN   NaN   NaN   NaN   NaN       NaN  \n6033     ...   NaN   NaN   NaN   NaN   NaN   NaN   NaN   NaN   NaN       NaN  \n\n[200 rows x 2257 columns]",
      "text/html": "<div>\n<style scoped>\n    .dataframe tbody tr th:only-of-type {\n        vertical-align: middle;\n    }\n\n    .dataframe tbody tr th {\n        vertical-align: top;\n    }\n\n    .dataframe thead th {\n        text-align: right;\n    }\n</style>\n<table border=\"1\" class=\"dataframe\">\n  <thead>\n    <tr style=\"text-align: right;\">\n      <th>movieId</th>\n      <th>1</th>\n      <th>2</th>\n      <th>3</th>\n      <th>4</th>\n      <th>5</th>\n      <th>6</th>\n      <th>7</th>\n      <th>9</th>\n      <th>10</th>\n      <th>11</th>\n      <th>...</th>\n      <th>3690</th>\n      <th>3691</th>\n      <th>3694</th>\n      <th>3697</th>\n      <th>3700</th>\n      <th>3702</th>\n      <th>3703</th>\n      <th>3704</th>\n      <th>3705</th>\n      <th>3706</th>\n    </tr>\n    <tr>\n      <th>userId</th>\n      <th></th>\n      <th></th>\n      <th></th>\n      <th></th>\n      <th></th>\n      <th></th>\n      <th></th>\n      <th></th>\n      <th></th>\n      <th></th>\n      <th></th>\n      <th></th>\n      <th></th>\n      <th></th>\n      <th></th>\n      <th></th>\n      <th></th>\n      <th></th>\n      <th></th>\n      <th></th>\n      <th></th>\n    </tr>\n  </thead>\n  <tbody>\n    <tr>\n      <th>40</th>\n      <td>NaN</td>\n      <td>1.595506</td>\n      <td>NaN</td>\n      <td>NaN</td>\n      <td>NaN</td>\n      <td>NaN</td>\n      <td>NaN</td>\n      <td>NaN</td>\n      <td>NaN</td>\n      <td>NaN</td>\n      <td>...</td>\n      <td>NaN</td>\n      <td>NaN</td>\n      <td>NaN</td>\n      <td>NaN</td>\n      <td>NaN</td>\n      <td>NaN</td>\n      <td>NaN</td>\n      <td>NaN</td>\n      <td>NaN</td>\n      <td>NaN</td>\n    </tr>\n    <tr>\n      <th>66</th>\n      <td>NaN</td>\n      <td>NaN</td>\n      <td>NaN</td>\n      <td>NaN</td>\n      <td>NaN</td>\n      <td>NaN</td>\n      <td>NaN</td>\n      <td>NaN</td>\n      <td>NaN</td>\n      <td>NaN</td>\n      <td>...</td>\n      <td>NaN</td>\n      <td>NaN</td>\n      <td>NaN</td>\n      <td>NaN</td>\n      <td>NaN</td>\n      <td>NaN</td>\n      <td>NaN</td>\n      <td>NaN</td>\n      <td>NaN</td>\n      <td>NaN</td>\n    </tr>\n    <tr>\n      <th>72</th>\n      <td>NaN</td>\n      <td>NaN</td>\n      <td>NaN</td>\n      <td>NaN</td>\n      <td>NaN</td>\n      <td>NaN</td>\n      <td>NaN</td>\n      <td>NaN</td>\n      <td>NaN</td>\n      <td>1.333333</td>\n      <td>...</td>\n      <td>NaN</td>\n      <td>NaN</td>\n      <td>NaN</td>\n      <td>NaN</td>\n      <td>NaN</td>\n      <td>NaN</td>\n      <td>NaN</td>\n      <td>NaN</td>\n      <td>NaN</td>\n      <td>1.333333</td>\n    </tr>\n    <tr>\n      <th>113</th>\n      <td>NaN</td>\n      <td>NaN</td>\n      <td>NaN</td>\n      <td>NaN</td>\n      <td>NaN</td>\n      <td>NaN</td>\n      <td>NaN</td>\n      <td>NaN</td>\n      <td>NaN</td>\n      <td>NaN</td>\n      <td>...</td>\n      <td>NaN</td>\n      <td>NaN</td>\n      <td>NaN</td>\n      <td>NaN</td>\n      <td>NaN</td>\n      <td>NaN</td>\n      <td>NaN</td>\n      <td>NaN</td>\n      <td>NaN</td>\n      <td>NaN</td>\n    </tr>\n    <tr>\n      <th>179</th>\n      <td>NaN</td>\n      <td>NaN</td>\n      <td>NaN</td>\n      <td>NaN</td>\n      <td>NaN</td>\n      <td>NaN</td>\n      <td>NaN</td>\n      <td>NaN</td>\n      <td>NaN</td>\n      <td>NaN</td>\n      <td>...</td>\n      <td>NaN</td>\n      <td>NaN</td>\n      <td>NaN</td>\n      <td>NaN</td>\n      <td>NaN</td>\n      <td>NaN</td>\n      <td>NaN</td>\n      <td>NaN</td>\n      <td>NaN</td>\n      <td>NaN</td>\n    </tr>\n    <tr>\n      <th>...</th>\n      <td>...</td>\n      <td>...</td>\n      <td>...</td>\n      <td>...</td>\n      <td>...</td>\n      <td>...</td>\n      <td>...</td>\n      <td>...</td>\n      <td>...</td>\n      <td>...</td>\n      <td>...</td>\n      <td>...</td>\n      <td>...</td>\n      <td>...</td>\n      <td>...</td>\n      <td>...</td>\n      <td>...</td>\n      <td>...</td>\n      <td>...</td>\n      <td>...</td>\n      <td>...</td>\n    </tr>\n    <tr>\n      <th>5882</th>\n      <td>NaN</td>\n      <td>NaN</td>\n      <td>NaN</td>\n      <td>NaN</td>\n      <td>NaN</td>\n      <td>NaN</td>\n      <td>NaN</td>\n      <td>NaN</td>\n      <td>NaN</td>\n      <td>NaN</td>\n      <td>...</td>\n      <td>NaN</td>\n      <td>NaN</td>\n      <td>NaN</td>\n      <td>NaN</td>\n      <td>NaN</td>\n      <td>NaN</td>\n      <td>NaN</td>\n      <td>NaN</td>\n      <td>NaN</td>\n      <td>NaN</td>\n    </tr>\n    <tr>\n      <th>5910</th>\n      <td>NaN</td>\n      <td>NaN</td>\n      <td>NaN</td>\n      <td>NaN</td>\n      <td>NaN</td>\n      <td>NaN</td>\n      <td>NaN</td>\n      <td>NaN</td>\n      <td>NaN</td>\n      <td>NaN</td>\n      <td>...</td>\n      <td>NaN</td>\n      <td>NaN</td>\n      <td>NaN</td>\n      <td>NaN</td>\n      <td>NaN</td>\n      <td>NaN</td>\n      <td>NaN</td>\n      <td>NaN</td>\n      <td>NaN</td>\n      <td>NaN</td>\n    </tr>\n    <tr>\n      <th>5919</th>\n      <td>NaN</td>\n      <td>NaN</td>\n      <td>NaN</td>\n      <td>NaN</td>\n      <td>NaN</td>\n      <td>NaN</td>\n      <td>NaN</td>\n      <td>NaN</td>\n      <td>NaN</td>\n      <td>NaN</td>\n      <td>...</td>\n      <td>NaN</td>\n      <td>NaN</td>\n      <td>NaN</td>\n      <td>NaN</td>\n      <td>NaN</td>\n      <td>NaN</td>\n      <td>NaN</td>\n      <td>NaN</td>\n      <td>NaN</td>\n      <td>NaN</td>\n    </tr>\n    <tr>\n      <th>5940</th>\n      <td>NaN</td>\n      <td>NaN</td>\n      <td>NaN</td>\n      <td>NaN</td>\n      <td>NaN</td>\n      <td>NaN</td>\n      <td>NaN</td>\n      <td>NaN</td>\n      <td>NaN</td>\n      <td>NaN</td>\n      <td>...</td>\n      <td>NaN</td>\n      <td>NaN</td>\n      <td>NaN</td>\n      <td>NaN</td>\n      <td>NaN</td>\n      <td>NaN</td>\n      <td>NaN</td>\n      <td>NaN</td>\n      <td>NaN</td>\n      <td>NaN</td>\n    </tr>\n    <tr>\n      <th>6033</th>\n      <td>NaN</td>\n      <td>NaN</td>\n      <td>NaN</td>\n      <td>NaN</td>\n      <td>NaN</td>\n      <td>NaN</td>\n      <td>NaN</td>\n      <td>NaN</td>\n      <td>NaN</td>\n      <td>NaN</td>\n      <td>...</td>\n      <td>NaN</td>\n      <td>NaN</td>\n      <td>NaN</td>\n      <td>NaN</td>\n      <td>NaN</td>\n      <td>NaN</td>\n      <td>NaN</td>\n      <td>NaN</td>\n      <td>NaN</td>\n      <td>NaN</td>\n    </tr>\n  </tbody>\n</table>\n<p>200 rows × 2257 columns</p>\n</div>"
     },
     "execution_count": 190,
     "metadata": {},
     "output_type": "execute_result"
    }
   ],
   "source": [
    "# Step 2. Keep only the movies that similar users have watched\n",
    "\n",
    "# Remove movies that none of the similar users have watched\n",
    "similar_user_movies = matrix_norm[matrix_norm.index.isin(similar_users.index)].dropna(axis=1, how='all')\n",
    "similar_user_movies"
   ],
   "metadata": {
    "collapsed": false
   }
  },
  {
   "cell_type": "code",
   "execution_count": 192,
   "outputs": [
    {
     "data": {
      "text/plain": "movieId      2     3     4     5     6     7     9     10        11    12    \\\nuserId                                                                        \n40       1.595506   NaN   NaN   NaN   NaN   NaN   NaN   NaN       NaN   NaN   \n66            NaN   NaN   NaN   NaN   NaN   NaN   NaN   NaN       NaN   NaN   \n72            NaN   NaN   NaN   NaN   NaN   NaN   NaN   NaN  1.333333   NaN   \n113           NaN   NaN   NaN   NaN   NaN   NaN   NaN   NaN       NaN   NaN   \n179           NaN   NaN   NaN   NaN   NaN   NaN   NaN   NaN       NaN   NaN   \n...           ...   ...   ...   ...   ...   ...   ...   ...       ...   ...   \n5882          NaN   NaN   NaN   NaN   NaN   NaN   NaN   NaN       NaN   NaN   \n5910          NaN   NaN   NaN   NaN   NaN   NaN   NaN   NaN       NaN   NaN   \n5919          NaN   NaN   NaN   NaN   NaN   NaN   NaN   NaN       NaN   NaN   \n5940          NaN   NaN   NaN   NaN   NaN   NaN   NaN   NaN       NaN   NaN   \n6033          NaN   NaN   NaN   NaN   NaN   NaN   NaN   NaN       NaN   NaN   \n\nmovieId  ...  3690  3691  3694  3697  3700  3702  3703  3704  3705      3706  \nuserId   ...                                                                  \n40       ...   NaN   NaN   NaN   NaN   NaN   NaN   NaN   NaN   NaN       NaN  \n66       ...   NaN   NaN   NaN   NaN   NaN   NaN   NaN   NaN   NaN       NaN  \n72       ...   NaN   NaN   NaN   NaN   NaN   NaN   NaN   NaN   NaN  1.333333  \n113      ...   NaN   NaN   NaN   NaN   NaN   NaN   NaN   NaN   NaN       NaN  \n179      ...   NaN   NaN   NaN   NaN   NaN   NaN   NaN   NaN   NaN       NaN  \n...      ...   ...   ...   ...   ...   ...   ...   ...   ...   ...       ...  \n5882     ...   NaN   NaN   NaN   NaN   NaN   NaN   NaN   NaN   NaN       NaN  \n5910     ...   NaN   NaN   NaN   NaN   NaN   NaN   NaN   NaN   NaN       NaN  \n5919     ...   NaN   NaN   NaN   NaN   NaN   NaN   NaN   NaN   NaN       NaN  \n5940     ...   NaN   NaN   NaN   NaN   NaN   NaN   NaN   NaN   NaN       NaN  \n6033     ...   NaN   NaN   NaN   NaN   NaN   NaN   NaN   NaN   NaN       NaN  \n\n[200 rows x 2214 columns]",
      "text/html": "<div>\n<style scoped>\n    .dataframe tbody tr th:only-of-type {\n        vertical-align: middle;\n    }\n\n    .dataframe tbody tr th {\n        vertical-align: top;\n    }\n\n    .dataframe thead th {\n        text-align: right;\n    }\n</style>\n<table border=\"1\" class=\"dataframe\">\n  <thead>\n    <tr style=\"text-align: right;\">\n      <th>movieId</th>\n      <th>2</th>\n      <th>3</th>\n      <th>4</th>\n      <th>5</th>\n      <th>6</th>\n      <th>7</th>\n      <th>9</th>\n      <th>10</th>\n      <th>11</th>\n      <th>12</th>\n      <th>...</th>\n      <th>3690</th>\n      <th>3691</th>\n      <th>3694</th>\n      <th>3697</th>\n      <th>3700</th>\n      <th>3702</th>\n      <th>3703</th>\n      <th>3704</th>\n      <th>3705</th>\n      <th>3706</th>\n    </tr>\n    <tr>\n      <th>userId</th>\n      <th></th>\n      <th></th>\n      <th></th>\n      <th></th>\n      <th></th>\n      <th></th>\n      <th></th>\n      <th></th>\n      <th></th>\n      <th></th>\n      <th></th>\n      <th></th>\n      <th></th>\n      <th></th>\n      <th></th>\n      <th></th>\n      <th></th>\n      <th></th>\n      <th></th>\n      <th></th>\n      <th></th>\n    </tr>\n  </thead>\n  <tbody>\n    <tr>\n      <th>40</th>\n      <td>1.595506</td>\n      <td>NaN</td>\n      <td>NaN</td>\n      <td>NaN</td>\n      <td>NaN</td>\n      <td>NaN</td>\n      <td>NaN</td>\n      <td>NaN</td>\n      <td>NaN</td>\n      <td>NaN</td>\n      <td>...</td>\n      <td>NaN</td>\n      <td>NaN</td>\n      <td>NaN</td>\n      <td>NaN</td>\n      <td>NaN</td>\n      <td>NaN</td>\n      <td>NaN</td>\n      <td>NaN</td>\n      <td>NaN</td>\n      <td>NaN</td>\n    </tr>\n    <tr>\n      <th>66</th>\n      <td>NaN</td>\n      <td>NaN</td>\n      <td>NaN</td>\n      <td>NaN</td>\n      <td>NaN</td>\n      <td>NaN</td>\n      <td>NaN</td>\n      <td>NaN</td>\n      <td>NaN</td>\n      <td>NaN</td>\n      <td>...</td>\n      <td>NaN</td>\n      <td>NaN</td>\n      <td>NaN</td>\n      <td>NaN</td>\n      <td>NaN</td>\n      <td>NaN</td>\n      <td>NaN</td>\n      <td>NaN</td>\n      <td>NaN</td>\n      <td>NaN</td>\n    </tr>\n    <tr>\n      <th>72</th>\n      <td>NaN</td>\n      <td>NaN</td>\n      <td>NaN</td>\n      <td>NaN</td>\n      <td>NaN</td>\n      <td>NaN</td>\n      <td>NaN</td>\n      <td>NaN</td>\n      <td>1.333333</td>\n      <td>NaN</td>\n      <td>...</td>\n      <td>NaN</td>\n      <td>NaN</td>\n      <td>NaN</td>\n      <td>NaN</td>\n      <td>NaN</td>\n      <td>NaN</td>\n      <td>NaN</td>\n      <td>NaN</td>\n      <td>NaN</td>\n      <td>1.333333</td>\n    </tr>\n    <tr>\n      <th>113</th>\n      <td>NaN</td>\n      <td>NaN</td>\n      <td>NaN</td>\n      <td>NaN</td>\n      <td>NaN</td>\n      <td>NaN</td>\n      <td>NaN</td>\n      <td>NaN</td>\n      <td>NaN</td>\n      <td>NaN</td>\n      <td>...</td>\n      <td>NaN</td>\n      <td>NaN</td>\n      <td>NaN</td>\n      <td>NaN</td>\n      <td>NaN</td>\n      <td>NaN</td>\n      <td>NaN</td>\n      <td>NaN</td>\n      <td>NaN</td>\n      <td>NaN</td>\n    </tr>\n    <tr>\n      <th>179</th>\n      <td>NaN</td>\n      <td>NaN</td>\n      <td>NaN</td>\n      <td>NaN</td>\n      <td>NaN</td>\n      <td>NaN</td>\n      <td>NaN</td>\n      <td>NaN</td>\n      <td>NaN</td>\n      <td>NaN</td>\n      <td>...</td>\n      <td>NaN</td>\n      <td>NaN</td>\n      <td>NaN</td>\n      <td>NaN</td>\n      <td>NaN</td>\n      <td>NaN</td>\n      <td>NaN</td>\n      <td>NaN</td>\n      <td>NaN</td>\n      <td>NaN</td>\n    </tr>\n    <tr>\n      <th>...</th>\n      <td>...</td>\n      <td>...</td>\n      <td>...</td>\n      <td>...</td>\n      <td>...</td>\n      <td>...</td>\n      <td>...</td>\n      <td>...</td>\n      <td>...</td>\n      <td>...</td>\n      <td>...</td>\n      <td>...</td>\n      <td>...</td>\n      <td>...</td>\n      <td>...</td>\n      <td>...</td>\n      <td>...</td>\n      <td>...</td>\n      <td>...</td>\n      <td>...</td>\n      <td>...</td>\n    </tr>\n    <tr>\n      <th>5882</th>\n      <td>NaN</td>\n      <td>NaN</td>\n      <td>NaN</td>\n      <td>NaN</td>\n      <td>NaN</td>\n      <td>NaN</td>\n      <td>NaN</td>\n      <td>NaN</td>\n      <td>NaN</td>\n      <td>NaN</td>\n      <td>...</td>\n      <td>NaN</td>\n      <td>NaN</td>\n      <td>NaN</td>\n      <td>NaN</td>\n      <td>NaN</td>\n      <td>NaN</td>\n      <td>NaN</td>\n      <td>NaN</td>\n      <td>NaN</td>\n      <td>NaN</td>\n    </tr>\n    <tr>\n      <th>5910</th>\n      <td>NaN</td>\n      <td>NaN</td>\n      <td>NaN</td>\n      <td>NaN</td>\n      <td>NaN</td>\n      <td>NaN</td>\n      <td>NaN</td>\n      <td>NaN</td>\n      <td>NaN</td>\n      <td>NaN</td>\n      <td>...</td>\n      <td>NaN</td>\n      <td>NaN</td>\n      <td>NaN</td>\n      <td>NaN</td>\n      <td>NaN</td>\n      <td>NaN</td>\n      <td>NaN</td>\n      <td>NaN</td>\n      <td>NaN</td>\n      <td>NaN</td>\n    </tr>\n    <tr>\n      <th>5919</th>\n      <td>NaN</td>\n      <td>NaN</td>\n      <td>NaN</td>\n      <td>NaN</td>\n      <td>NaN</td>\n      <td>NaN</td>\n      <td>NaN</td>\n      <td>NaN</td>\n      <td>NaN</td>\n      <td>NaN</td>\n      <td>...</td>\n      <td>NaN</td>\n      <td>NaN</td>\n      <td>NaN</td>\n      <td>NaN</td>\n      <td>NaN</td>\n      <td>NaN</td>\n      <td>NaN</td>\n      <td>NaN</td>\n      <td>NaN</td>\n      <td>NaN</td>\n    </tr>\n    <tr>\n      <th>5940</th>\n      <td>NaN</td>\n      <td>NaN</td>\n      <td>NaN</td>\n      <td>NaN</td>\n      <td>NaN</td>\n      <td>NaN</td>\n      <td>NaN</td>\n      <td>NaN</td>\n      <td>NaN</td>\n      <td>NaN</td>\n      <td>...</td>\n      <td>NaN</td>\n      <td>NaN</td>\n      <td>NaN</td>\n      <td>NaN</td>\n      <td>NaN</td>\n      <td>NaN</td>\n      <td>NaN</td>\n      <td>NaN</td>\n      <td>NaN</td>\n      <td>NaN</td>\n    </tr>\n    <tr>\n      <th>6033</th>\n      <td>NaN</td>\n      <td>NaN</td>\n      <td>NaN</td>\n      <td>NaN</td>\n      <td>NaN</td>\n      <td>NaN</td>\n      <td>NaN</td>\n      <td>NaN</td>\n      <td>NaN</td>\n      <td>NaN</td>\n      <td>...</td>\n      <td>NaN</td>\n      <td>NaN</td>\n      <td>NaN</td>\n      <td>NaN</td>\n      <td>NaN</td>\n      <td>NaN</td>\n      <td>NaN</td>\n      <td>NaN</td>\n      <td>NaN</td>\n      <td>NaN</td>\n    </tr>\n  </tbody>\n</table>\n<p>200 rows × 2214 columns</p>\n</div>"
     },
     "execution_count": 192,
     "metadata": {},
     "output_type": "execute_result"
    }
   ],
   "source": [
    "# Remove already watched movies\n",
    "similar_user_movies.drop(picked_userid_watched.columns,axis=1, inplace=True, errors='ignore') # drop cols if exits without error msgs.\n",
    "similar_user_movies"
   ],
   "metadata": {
    "collapsed": false
   }
  },
  {
   "cell_type": "code",
   "execution_count": 225,
   "outputs": [
    {
     "data": {
      "text/plain": "      movie  movie_score\n290     499     2.554455\n1194   2072     2.144737\n1081   1881     2.144737\n1983   3374     2.144737\n921    1616     2.144737\n1910   3259     2.144737\n230     394     2.020000\n1171   2016     1.871429\n952    1690     1.871429\n787    1382     1.871429",
      "text/html": "<div>\n<style scoped>\n    .dataframe tbody tr th:only-of-type {\n        vertical-align: middle;\n    }\n\n    .dataframe tbody tr th {\n        vertical-align: top;\n    }\n\n    .dataframe thead th {\n        text-align: right;\n    }\n</style>\n<table border=\"1\" class=\"dataframe\">\n  <thead>\n    <tr style=\"text-align: right;\">\n      <th></th>\n      <th>movie</th>\n      <th>movie_score</th>\n    </tr>\n  </thead>\n  <tbody>\n    <tr>\n      <th>290</th>\n      <td>499</td>\n      <td>2.554455</td>\n    </tr>\n    <tr>\n      <th>1194</th>\n      <td>2072</td>\n      <td>2.144737</td>\n    </tr>\n    <tr>\n      <th>1081</th>\n      <td>1881</td>\n      <td>2.144737</td>\n    </tr>\n    <tr>\n      <th>1983</th>\n      <td>3374</td>\n      <td>2.144737</td>\n    </tr>\n    <tr>\n      <th>921</th>\n      <td>1616</td>\n      <td>2.144737</td>\n    </tr>\n    <tr>\n      <th>1910</th>\n      <td>3259</td>\n      <td>2.144737</td>\n    </tr>\n    <tr>\n      <th>230</th>\n      <td>394</td>\n      <td>2.020000</td>\n    </tr>\n    <tr>\n      <th>1171</th>\n      <td>2016</td>\n      <td>1.871429</td>\n    </tr>\n    <tr>\n      <th>952</th>\n      <td>1690</td>\n      <td>1.871429</td>\n    </tr>\n    <tr>\n      <th>787</th>\n      <td>1382</td>\n      <td>1.871429</td>\n    </tr>\n  </tbody>\n</table>\n</div>"
     },
     "execution_count": 225,
     "metadata": {},
     "output_type": "execute_result"
    }
   ],
   "source": [
    "# Reccomend Items to targetUser\n",
    "# weighted avg of user similarity score & movie rating\n",
    "# User w/ high similarity -> higher weights; in other words, similarity score weights the resuts\n",
    "\n",
    "item_score = {}\n",
    "\n",
    "for movieId in similar_user_movies.columns:\n",
    "  movie_rating = similar_user_movies[movieId]\n",
    "  # Stores the score\n",
    "  total = 0\n",
    "  # Stores the number of scores\n",
    "  count = 0\n",
    "\n",
    "  for userId in similar_users.index:\n",
    "    if not pd.isna(movie_rating[userId]): #     # If the movie has rating\n",
    "      score = similar_users[userId] * movie_rating[userId]\n",
    "      total += score\n",
    "      count +=1\n",
    "  item_score[movieId] = total / count# Convert dictionary to pandas dataframe\n",
    "\n",
    "item_score = pd.DataFrame(item_score.items(), columns=['movie', 'movie_score'])\n",
    "\n",
    "# Sort the movies by score\n",
    "ranked_item_score = item_score.sort_values(by='movie_score', ascending=False)\n",
    "\n",
    "# Select top `m` movies\n",
    "m = 10\n",
    "ranked_item_score.head(m)\n"
   ],
   "metadata": {
    "collapsed": false
   }
  },
  {
   "cell_type": "code",
   "execution_count": 235,
   "outputs": [
    {
     "name": "stdout",
     "output_type": "stream",
     "text": [
      "<class 'pandas.core.frame.DataFrame'>\n",
      "0          1\n",
      "1          2\n",
      "2          3\n",
      "3          4\n",
      "4          5\n",
      "        ... \n",
      "3701    3702\n",
      "3702    3703\n",
      "3703    3704\n",
      "3704    3705\n",
      "3705    3706\n",
      "Name: movieId, Length: 3706, dtype: int64\n",
      "<class 'pandas.core.series.Series'>\n",
      "<PandasArray>\n",
      "[499, 2072, 1881, 3374, 1616, 3259, 394, 2016, 1690, 1382]\n",
      "Length: 10, dtype: int64\n"
     ]
    },
    {
     "name": "stderr",
     "output_type": "stream",
     "text": [
      "/var/folders/w6/yvwdncbx7qbgk26cz6r2f7s00000gn/T/ipykernel_3001/3346833681.py:5: FutureWarning: The behavior of `series[i:j]` with an integer-dtype index is deprecated. In a future version, this will be treated as *label-based* indexing, consistent with e.g. `series[i]` lookups. To retain the old behavior, use `series.iloc[i:j]`. To get the future behavior, use `series.loc[i:j]`.\n",
      "  movieIds_indices = ranked_item_score['movie'][:m].array\n"
     ]
    },
    {
     "data": {
      "text/plain": "499         Radioland_Murders_(1994)\n2072      About_Last_Night..._(1986)\n1881           Governess,_The_(1998)\n3374       Honeymoon_in_Vegas_(1992)\n1616              Little_City_(1998)\n3259    Son_of_the_Sheik,_The_(1926)\n394                 8_Seconds_(1994)\n2016                Firelight_(1997)\n1690    Dancer,_Texas_Pop._81_(1998)\n1382    Inventing_the_Abbotts_(1997)\nName: title, dtype: object"
     },
     "execution_count": 235,
     "metadata": {},
     "output_type": "execute_result"
    }
   ],
   "source": [
    "# Test - Print titles of recommended movies\\\n",
    "print(type(ranked_item_score))\n",
    "print(movies['movieId'])\n",
    "print(type(ranked_item_score['movie']))\n",
    "movieIds_indices = ranked_item_score['movie'][:m].array\n",
    "print(movieIds_indices)\n",
    "movies.iloc[movieIds_indices]['title']\n",
    "# joined_indices = list(set(movies.movieId) & set(movieIds_indices))\n",
    "# print(len(joined_indices))\n",
    "# print(movies.iloc[joined_indices]['title'])"
   ],
   "metadata": {
    "collapsed": false
   }
  },
  {
   "cell_type": "code",
   "execution_count": null,
   "outputs": [],
   "source": [],
   "metadata": {
    "collapsed": false,
    "pycharm": {
     "is_executing": true
    }
   }
  },
  {
   "cell_type": "code",
   "execution_count": 197,
   "outputs": [],
   "source": [],
   "metadata": {
    "collapsed": false
   }
  }
 ],
 "metadata": {
  "kernelspec": {
   "display_name": "Python 3",
   "language": "python",
   "name": "python3"
  },
  "language_info": {
   "codemirror_mode": {
    "name": "ipython",
    "version": 2
   },
   "file_extension": ".py",
   "mimetype": "text/x-python",
   "name": "python",
   "nbconvert_exporter": "python",
   "pygments_lexer": "ipython2",
   "version": "2.7.6"
  }
 },
 "nbformat": 4,
 "nbformat_minor": 0
}
