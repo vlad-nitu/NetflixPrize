{
 "cells": [
  {
   "cell_type": "code",
   "execution_count": 6,
   "outputs": [],
   "source": [
    "## Imports\n",
    "# Data processing\n",
    "import pandas as pd\n",
    "import numpy as np\n",
    "import scipy.stats\n",
    "from sklearn.metrics.pairwise import cosine_similarity"
   ],
   "metadata": {
    "collapsed": false
   }
  },
  {
   "cell_type": "code",
   "execution_count": 22,
   "outputs": [
    {
     "data": {
      "text/plain": "   userId  movieId  rating\n0    5494     2006       4\n1    3579     1143       3\n2    1251     2567       2\n3    5687      652       4\n4    3018     3440       4",
      "text/html": "<div>\n<style scoped>\n    .dataframe tbody tr th:only-of-type {\n        vertical-align: middle;\n    }\n\n    .dataframe tbody tr th {\n        vertical-align: top;\n    }\n\n    .dataframe thead th {\n        text-align: right;\n    }\n</style>\n<table border=\"1\" class=\"dataframe\">\n  <thead>\n    <tr style=\"text-align: right;\">\n      <th></th>\n      <th>userId</th>\n      <th>movieId</th>\n      <th>rating</th>\n    </tr>\n  </thead>\n  <tbody>\n    <tr>\n      <th>0</th>\n      <td>5494</td>\n      <td>2006</td>\n      <td>4</td>\n    </tr>\n    <tr>\n      <th>1</th>\n      <td>3579</td>\n      <td>1143</td>\n      <td>3</td>\n    </tr>\n    <tr>\n      <th>2</th>\n      <td>1251</td>\n      <td>2567</td>\n      <td>2</td>\n    </tr>\n    <tr>\n      <th>3</th>\n      <td>5687</td>\n      <td>652</td>\n      <td>4</td>\n    </tr>\n    <tr>\n      <th>4</th>\n      <td>3018</td>\n      <td>3440</td>\n      <td>4</td>\n    </tr>\n  </tbody>\n</table>\n</div>"
     },
     "execution_count": 22,
     "metadata": {},
     "output_type": "execute_result"
    }
   ],
   "source": [
    "# Read datasets\n",
    "\n",
    "users_colnames=['userId', 'gender', 'age', 'profession']\n",
    "movies_colnames=['movieId', 'year', 'title']\n",
    "ratings_colnames=['userId', 'movieId', 'rating']\n",
    "\n",
    "users = pd.read_csv('cse2525-reccommender-systems-challenge/users.csv', sep=';', names=users_colnames)\n",
    "# movies = pd.read_csv('cse2525-reccommender-systems-challenge/movies_v2.csv', sep=';', names=movies_colnames)\n",
    "ratings = pd.read_csv('cse2525-reccommender-systems-challenge/ratings.csv', sep=';', names=ratings_colnames)\n",
    "\n",
    "# Check\n",
    "users.head()\n",
    "# movies.head()\n",
    "ratings.head()\n"
   ],
   "metadata": {
    "collapsed": false
   }
  },
  {
   "cell_type": "code",
   "execution_count": null,
   "outputs": [],
   "source": [],
   "metadata": {
    "collapsed": false
   }
  }
 ],
 "metadata": {
  "kernelspec": {
   "display_name": "Python 3",
   "language": "python",
   "name": "python3"
  },
  "language_info": {
   "codemirror_mode": {
    "name": "ipython",
    "version": 2
   },
   "file_extension": ".py",
   "mimetype": "text/x-python",
   "name": "python",
   "nbconvert_exporter": "python",
   "pygments_lexer": "ipython2",
   "version": "2.7.6"
  }
 },
 "nbformat": 4,
 "nbformat_minor": 0
}
